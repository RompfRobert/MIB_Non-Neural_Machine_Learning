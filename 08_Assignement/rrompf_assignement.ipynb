{
 "cells": [
  {
   "cell_type": "markdown",
   "metadata": {},
   "source": [
    "# Home assignment - Non-Neural Machine Learning (ITLB358, MIB)\n",
    "---\n",
    "## Task description\n",
    "You will process real-life data which includes the prices of a digital currency.\n",
    "- The data represents historical daily time series for a digital currency (BTC) traded on the Saudi market (SAR/Sudi Riyal).\n",
    "- Prices and volumes are quoted in both SAR & USD.\n",
    "- Data date range: 11.05.2018 to 30.01.2021\n",
    "\n",
    "### Your task is as follows:\n",
    "- What are the steps if the dataset were \"big data\"?\n",
    "\t- Theoretical question!\n",
    "\t- Please create a code in a markdown cell, which represents a basic big data pipeline (with explicative steps).\n",
    "\t- If you want use pseudo code.\n",
    "- Download the Digital currency dataset from google drive\n",
    "\t- `!wget \"https://drive.google.com/uc?export=download&id=1ogo2n89jpuDPVoA4HXliB15oPF54Ewav\" -O \"dig_curr.csv\"`\n",
    "- Clean the data as necessary\n",
    "- Modelling:\n",
    "\t- Regression\n",
    "\t\t- Linear Regression (baseline)\n",
    "\t\t- Random forest regressor\n",
    "\t\t- Split data into inputs and outputs\n",
    "\t\t- Split data into train and test set\n",
    "\t\t- Input features:\n",
    "\t\t\t- year, open_SAR, open_USD, high_SAR, high_USD, low_SAR, low_USD, close_SAR, volume\n",
    "\t\t- Output feature(s):\n",
    "\t\t\t- close_USD\n",
    "\t\t\t- Try to predict 2 different periods (1 day / 2 days ahead) on the test set!\n",
    "- Reflection\n",
    "\t- Critically evaluate your work, including other approaches.\n",
    "\t- Answer in a markdown cell.\n"
   ]
  },
  {
   "cell_type": "code",
   "execution_count": null,
   "metadata": {},
   "outputs": [],
   "source": [
    "!wget \"https://drive.google.com/uc?export=download&id=1ogo2n89jpuDPVoA4HXliB15oPF54Ewav\" -O \"dig_curr.csv\""
   ]
  },
  {
   "cell_type": "code",
   "execution_count": null,
   "metadata": {},
   "outputs": [],
   "source": []
  },
  {
   "cell_type": "code",
   "execution_count": null,
   "metadata": {},
   "outputs": [],
   "source": []
  }
 ],
 "metadata": {
  "kernelspec": {
   "display_name": "Python 3.10.8 ('.venv': venv)",
   "language": "python",
   "name": "python3"
  },
  "language_info": {
   "name": "python",
   "version": "3.10.8"
  },
  "orig_nbformat": 4,
  "vscode": {
   "interpreter": {
    "hash": "89791ddec1184deb491cd589ad66a73c1a01a4134e9964d91212505dde408c65"
   }
  }
 },
 "nbformat": 4,
 "nbformat_minor": 2
}
