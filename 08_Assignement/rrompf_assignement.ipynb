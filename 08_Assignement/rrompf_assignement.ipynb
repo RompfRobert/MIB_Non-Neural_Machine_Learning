{
 "cells": [
  {
   "cell_type": "code",
   "execution_count": null,
   "metadata": {},
   "outputs": [],
   "source": []
  }
 ],
 "metadata": {
  "kernelspec": {
   "display_name": "Python 3.10.8 ('.venv': venv)",
   "language": "python",
   "name": "python3"
  },
  "language_info": {
   "name": "python",
   "version": "3.10.8"
  },
  "orig_nbformat": 4,
  "vscode": {
   "interpreter": {
    "hash": "89791ddec1184deb491cd589ad66a73c1a01a4134e9964d91212505dde408c65"
   }
  }
 },
 "nbformat": 4,
 "nbformat_minor": 2
}
