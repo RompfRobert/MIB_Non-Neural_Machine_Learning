{
  "nbformat": 4,
  "nbformat_minor": 0,
  "metadata": {
    "colab": {
      "provenance": []
    },
    "kernelspec": {
      "name": "python3",
      "display_name": "Python 3"
    },
    "language_info": {
      "name": "python"
    }
  },
  "cells": [
    {
      "cell_type": "markdown",
      "metadata": {
        "id": "GkkyZ31ao3h5"
      },
      "source": [
        "#Download"
      ]
    },
    {
      "cell_type": "code",
      "metadata": {
        "colab": {
          "base_uri": "https://localhost:8080/"
        },
        "id": "f_QDqlgqwP1C",
        "outputId": "6a1873f4-677d-4dcb-b45f-cd21a07039de"
      },
      "source": [
        "!wget \"https://raw.githubusercontent.com/solalatus/IBS_GF_kepzes/main/Big_Data_and_ML/04Hyperparameters/clr.py?token=AHL2UDKITYK3K27TYW4F7XLBDIE2M\" -O clr.py"
      ],
      "execution_count": null,
      "outputs": [
        {
          "output_type": "stream",
          "text": [
            "--2021-08-09 15:40:12--  https://raw.githubusercontent.com/solalatus/IBS_GF_kepzes/main/Big_Data_and_ML/04Hyperparameters/clr.py?token=AHL2UDKITYK3K27TYW4F7XLBDIE2M\n",
            "Resolving raw.githubusercontent.com (raw.githubusercontent.com)... 185.199.108.133, 185.199.109.133, 185.199.110.133, ...\n",
            "Connecting to raw.githubusercontent.com (raw.githubusercontent.com)|185.199.108.133|:443... connected.\n",
            "HTTP request sent, awaiting response... 200 OK\n",
            "Length: 23448 (23K) [text/plain]\n",
            "Saving to: ‘clr.py’\n",
            "\n",
            "clr.py              100%[===================>]  22.90K  --.-KB/s    in 0s      \n",
            "\n",
            "2021-08-09 15:40:12 (68.4 MB/s) - ‘clr.py’ saved [23448/23448]\n",
            "\n"
          ],
          "name": "stdout"
        }
      ]
    },
    {
      "cell_type": "markdown",
      "metadata": {
        "id": "-7mWWqL7pGwq"
      },
      "source": [
        "#Load"
      ]
    },
    {
      "cell_type": "code",
      "metadata": {
        "id": "H91tXiEwyfsX"
      },
      "source": [
        "import tensorflow as tf\n",
        "import numpy as np\n",
        "\n",
        "import matplotlib.pyplot as plt"
      ],
      "execution_count": null,
      "outputs": []
    },
    {
      "cell_type": "code",
      "metadata": {
        "id": "7e_Veih1yZYI"
      },
      "source": [
        "(x_train, y_train), (x_test, y_test) = tf.keras.datasets.mnist.load_data()"
      ],
      "execution_count": null,
      "outputs": []
    },
    {
      "cell_type": "code",
      "metadata": {
        "id": "sGA_ACwVz2Yp"
      },
      "source": [
        "# Flatten the images\n",
        "image_vector_size = 28*28\n",
        "x_train = x_train.reshape(x_train.shape[0], image_vector_size)\n",
        "x_test = x_test.reshape(x_test.shape[0], image_vector_size)"
      ],
      "execution_count": null,
      "outputs": []
    },
    {
      "cell_type": "markdown",
      "metadata": {
        "id": "pfKYFnlepQxs"
      },
      "source": [
        "#Modeling"
      ]
    },
    {
      "cell_type": "code",
      "metadata": {
        "id": "3qohqmkXk21a"
      },
      "source": [
        "from tensorflow.keras.models import Sequential\n",
        "from tensorflow.keras.layers import Dense, Flatten\n",
        "from tensorflow.keras import backend as K\n",
        "from tensorflow.keras.wrappers.scikit_learn import KerasClassifier\n",
        "from tensorflow.keras.optimizers import Adam, SGD"
      ],
      "execution_count": null,
      "outputs": []
    },
    {
      "cell_type": "code",
      "metadata": {
        "colab": {
          "base_uri": "https://localhost:8080/"
        },
        "id": "BItEdYs-cVN8",
        "outputId": "d37c365a-c157-480f-b6ae-6287dae2866d"
      },
      "source": [
        "# Hyperparameters\n",
        "learning_rate = 0.1 # The learning rate\n",
        "momentum = 0.0\n",
        "\n",
        "# create a model\n",
        "def create_model():\n",
        "      model = Sequential()\n",
        "      # Input layer\n",
        "      model.add(Dense(32, input_dim=image_vector_size, kernel_initializer='normal', activation='sigmoid'))\n",
        "      # Output layer\n",
        "      model.add(Dense(10, activation='softmax'))\n",
        "\n",
        "      # Compile a model\n",
        "      model.compile(loss='sparse_categorical_crossentropy', optimizer=SGD(learning_rate, momentum), metrics=['accuracy'])\n",
        "      return model\n",
        "model = create_model()\n",
        "model.summary()"
      ],
      "execution_count": null,
      "outputs": [
        {
          "output_type": "stream",
          "text": [
            "Model: \"sequential_2\"\n",
            "_________________________________________________________________\n",
            "Layer (type)                 Output Shape              Param #   \n",
            "=================================================================\n",
            "dense_4 (Dense)              (None, 32)                25120     \n",
            "_________________________________________________________________\n",
            "dense_5 (Dense)              (None, 10)                330       \n",
            "=================================================================\n",
            "Total params: 25,450\n",
            "Trainable params: 25,450\n",
            "Non-trainable params: 0\n",
            "_________________________________________________________________\n"
          ],
          "name": "stdout"
        }
      ]
    },
    {
      "cell_type": "code",
      "metadata": {
        "colab": {
          "base_uri": "https://localhost:8080/"
        },
        "id": "fVhzlB57lyjZ",
        "outputId": "d1d04f22-ee90-4396-a044-075c5e1095bc"
      },
      "source": [
        "results = model.fit(\n",
        " x_train, y_train,\n",
        " epochs= 15,\n",
        " batch_size = 128,\n",
        " validation_data = (x_test, y_test),\n",
        " verbose = 1 # We need 0, because Colab does not like if we print 1000 lines. So we disable keras status prints\n",
        ")"
      ],
      "execution_count": null,
      "outputs": [
        {
          "output_type": "stream",
          "text": [
            "Epoch 1/15\n",
            "469/469 [==============================] - 2s 3ms/step - loss: 1.0762 - accuracy: 0.7029 - val_loss: 0.6866 - val_accuracy: 0.8139\n",
            "Epoch 2/15\n",
            "469/469 [==============================] - 1s 3ms/step - loss: 0.6576 - accuracy: 0.8147 - val_loss: 0.5508 - val_accuracy: 0.8379\n",
            "Epoch 3/15\n",
            "469/469 [==============================] - 1s 3ms/step - loss: 0.5734 - accuracy: 0.8295 - val_loss: 0.5662 - val_accuracy: 0.8257\n",
            "Epoch 4/15\n",
            "469/469 [==============================] - 1s 3ms/step - loss: 0.5503 - accuracy: 0.8343 - val_loss: 0.5343 - val_accuracy: 0.8376\n",
            "Epoch 5/15\n",
            "469/469 [==============================] - 1s 3ms/step - loss: 0.5537 - accuracy: 0.8338 - val_loss: 0.5726 - val_accuracy: 0.8218\n",
            "Epoch 6/15\n",
            "469/469 [==============================] - 1s 3ms/step - loss: 0.5310 - accuracy: 0.8392 - val_loss: 0.4700 - val_accuracy: 0.8586\n",
            "Epoch 7/15\n",
            "469/469 [==============================] - 1s 3ms/step - loss: 0.5108 - accuracy: 0.8431 - val_loss: 0.5088 - val_accuracy: 0.8513\n",
            "Epoch 8/15\n",
            "469/469 [==============================] - 1s 3ms/step - loss: 0.5031 - accuracy: 0.8472 - val_loss: 0.4968 - val_accuracy: 0.8528\n",
            "Epoch 9/15\n",
            "469/469 [==============================] - 1s 3ms/step - loss: 0.5107 - accuracy: 0.8425 - val_loss: 0.4682 - val_accuracy: 0.8603\n",
            "Epoch 10/15\n",
            "469/469 [==============================] - 1s 3ms/step - loss: 0.5296 - accuracy: 0.8363 - val_loss: 0.5159 - val_accuracy: 0.8456\n",
            "Epoch 11/15\n",
            "469/469 [==============================] - 1s 3ms/step - loss: 0.5334 - accuracy: 0.8356 - val_loss: 0.5083 - val_accuracy: 0.8418\n",
            "Epoch 12/15\n",
            "469/469 [==============================] - 1s 3ms/step - loss: 0.5244 - accuracy: 0.8386 - val_loss: 0.4588 - val_accuracy: 0.8640\n",
            "Epoch 13/15\n",
            "469/469 [==============================] - 1s 3ms/step - loss: 0.4924 - accuracy: 0.8499 - val_loss: 0.4541 - val_accuracy: 0.8616\n",
            "Epoch 14/15\n",
            "469/469 [==============================] - 1s 3ms/step - loss: 0.4540 - accuracy: 0.8633 - val_loss: 0.4364 - val_accuracy: 0.8673\n",
            "Epoch 15/15\n",
            "469/469 [==============================] - 1s 3ms/step - loss: 0.4626 - accuracy: 0.8572 - val_loss: 0.4327 - val_accuracy: 0.8672\n"
          ],
          "name": "stdout"
        }
      ]
    },
    {
      "cell_type": "code",
      "metadata": {
        "colab": {
          "base_uri": "https://localhost:8080/"
        },
        "id": "9R3Zt4ubbZtt",
        "outputId": "4a242a46-e435-42b5-ea21-10c8c3989e5b"
      },
      "source": [
        "results.history.keys()"
      ],
      "execution_count": null,
      "outputs": [
        {
          "output_type": "execute_result",
          "data": {
            "text/plain": [
              "dict_keys(['loss', 'accuracy', 'val_loss', 'val_accuracy'])"
            ]
          },
          "metadata": {
            "tags": []
          },
          "execution_count": 8
        }
      ]
    },
    {
      "cell_type": "code",
      "metadata": {
        "colab": {
          "base_uri": "https://localhost:8080/",
          "height": 700
        },
        "id": "_ulJmnmptQCU",
        "outputId": "bdc0f43b-6545-4b5b-a6c8-6165d176a7f3"
      },
      "source": [
        "# summarize history for accuracy\n",
        "plt.figure(figsize = (12,5))\n",
        "plt.subplot(121)\n",
        "plt.plot(results.history['accuracy'])\n",
        "plt.plot(results.history['val_accuracy'])\n",
        "plt.title('model accuracy')\n",
        "plt.ylabel('accuracy')\n",
        "plt.xlabel('epoch')\n",
        "plt.legend(['train', 'val'], loc='down right')\n",
        "\n",
        "# summarize history for loss\n",
        "plt.subplot(122)\n",
        "plt.plot(results.history['loss'])\n",
        "plt.plot(results.history['val_loss'])\n",
        "plt.title('model loss')\n",
        "plt.ylabel('loss')\n",
        "plt.xlabel('epoch')\n",
        "plt.legend(['train', 'val'], loc='upper right')\n",
        "\n",
        "max_loss = np.max(results.history['loss'])\n",
        "min_loss = np.min(results.history['loss'])\n",
        "print(\"Maximum Loss : {:.4f}\".format(max_loss))\n",
        "print(\"\")\n",
        "print(\"Minimum Loss : {:.4f}\".format(min_loss))\n",
        "print(\"\")\n",
        "print(\"Loss difference : {:.4f}\".format((max_loss - min_loss)))"
      ],
      "execution_count": null,
      "outputs": [
        {
          "output_type": "stream",
          "text": [
            "/usr/local/lib/python3.7/dist-packages/ipykernel_launcher.py:9: MatplotlibDeprecationWarning: Unrecognized location 'down right'. Falling back on 'best'; valid locations are\n",
            "\tbest\n",
            "\tupper right\n",
            "\tupper left\n",
            "\tlower left\n",
            "\tlower right\n",
            "\tright\n",
            "\tcenter left\n",
            "\tcenter right\n",
            "\tlower center\n",
            "\tupper center\n",
            "\tcenter\n",
            "This will raise an exception in 3.3.\n",
            "  if __name__ == '__main__':\n"
          ],
          "name": "stderr"
        },
        {
          "output_type": "stream",
          "text": [
            "Maximum Loss : 1.0762\n",
            "\n",
            "Minimum Loss : 0.4540\n",
            "\n",
            "Loss difference : 0.6221\n"
          ],
          "name": "stdout"
        },
        {
          "output_type": "display_data",
          "data": {
            "image/png": "[encoded data removed]",
            "text/plain": [
              "<Figure size 864x360 with 2 Axes>"
            ]
          },
          "metadata": {
            "tags": [],
            "needs_background": "light"
          }
        }
      ]
    },
    {
      "cell_type": "markdown",
      "metadata": {
        "id": "YOciI7zwtFP2"
      },
      "source": [
        "#LR Scheduler"
      ]
    },
    {
      "cell_type": "code",
      "metadata": {
        "id": "Q2049XuNtJPk"
      },
      "source": [
        "from tensorflow.keras.callbacks import LearningRateScheduler"
      ],
      "execution_count": null,
      "outputs": []
    },
    {
      "cell_type": "code",
      "metadata": {
        "id": "we5xxW37tQMr"
      },
      "source": [
        "def scheduler(epoch, lr):\n",
        "  if epoch < 10:\n",
        "    return lr\n",
        "  else:\n",
        "    return lr * tf.math.exp(-0.1)"
      ],
      "execution_count": null,
      "outputs": []
    },
    {
      "cell_type": "code",
      "metadata": {
        "colab": {
          "base_uri": "https://localhost:8080/"
        },
        "id": "XRY3qyhhtpT-",
        "outputId": "b7df8868-2926-4390-a44b-11146b592fab"
      },
      "source": [
        "callback = tf.keras.callbacks.LearningRateScheduler(scheduler)\n",
        "#history = model.fit(train_scaled, y_train, epochs=10, callbacks=[callback], verbose=1)\n",
        "\n",
        "history = model.fit(\n",
        "          x_train, y_train,\n",
        "          epochs= 15,\n",
        "          batch_size = 100,\n",
        "          validation_data = (x_test, y_test),\n",
        "          verbose = 1, # We need this, because Colab does not like if we print 1000 lines. So we disable keras status prints\n",
        "          callbacks = callback\n",
        "          )"
      ],
      "execution_count": null,
      "outputs": [
        {
          "output_type": "stream",
          "text": [
            "Epoch 1/15\n",
            "600/600 [==============================] - 2s 3ms/step - loss: 0.4902 - accuracy: 0.8513 - val_loss: 0.4315 - val_accuracy: 0.8718\n",
            "Epoch 2/15\n",
            "600/600 [==============================] - 2s 3ms/step - loss: 0.4709 - accuracy: 0.8590 - val_loss: 0.4854 - val_accuracy: 0.8562\n",
            "Epoch 3/15\n",
            "600/600 [==============================] - 2s 3ms/step - loss: 0.4987 - accuracy: 0.8467 - val_loss: 0.5045 - val_accuracy: 0.8450\n",
            "Epoch 4/15\n",
            "600/600 [==============================] - 2s 3ms/step - loss: 0.4992 - accuracy: 0.8490 - val_loss: 0.4724 - val_accuracy: 0.8614\n",
            "Epoch 5/15\n",
            "600/600 [==============================] - 2s 3ms/step - loss: 0.4686 - accuracy: 0.8581 - val_loss: 0.4455 - val_accuracy: 0.8694\n",
            "Epoch 6/15\n",
            "600/600 [==============================] - 2s 3ms/step - loss: 0.4972 - accuracy: 0.8430 - val_loss: 0.4671 - val_accuracy: 0.8564\n",
            "Epoch 7/15\n",
            "600/600 [==============================] - 2s 3ms/step - loss: 0.4462 - accuracy: 0.8621 - val_loss: 0.4535 - val_accuracy: 0.8613\n",
            "Epoch 8/15\n",
            "600/600 [==============================] - 2s 3ms/step - loss: 0.4558 - accuracy: 0.8586 - val_loss: 0.4473 - val_accuracy: 0.8611\n",
            "Epoch 9/15\n",
            "600/600 [==============================] - 2s 3ms/step - loss: 0.4426 - accuracy: 0.8656 - val_loss: 0.4404 - val_accuracy: 0.8690\n",
            "Epoch 10/15\n",
            "600/600 [==============================] - 2s 3ms/step - loss: 0.4611 - accuracy: 0.8598 - val_loss: 0.4547 - val_accuracy: 0.8633\n",
            "Epoch 11/15\n",
            "600/600 [==============================] - 2s 3ms/step - loss: 0.4580 - accuracy: 0.8596 - val_loss: 0.4409 - val_accuracy: 0.8684\n",
            "Epoch 12/15\n",
            "600/600 [==============================] - 2s 3ms/step - loss: 0.4589 - accuracy: 0.8610 - val_loss: 0.4546 - val_accuracy: 0.8636\n",
            "Epoch 13/15\n",
            "600/600 [==============================] - 2s 3ms/step - loss: 0.4312 - accuracy: 0.8701 - val_loss: 0.3876 - val_accuracy: 0.8849\n",
            "Epoch 14/15\n",
            "600/600 [==============================] - 2s 3ms/step - loss: 0.4071 - accuracy: 0.8772 - val_loss: 0.3955 - val_accuracy: 0.8835\n",
            "Epoch 15/15\n",
            "600/600 [==============================] - 2s 3ms/step - loss: 0.4103 - accuracy: 0.8770 - val_loss: 0.3744 - val_accuracy: 0.8912\n"
          ],
          "name": "stdout"
        }
      ]
    },
    {
      "cell_type": "code",
      "metadata": {
        "colab": {
          "base_uri": "https://localhost:8080/"
        },
        "id": "UYVSY03juKS4",
        "outputId": "e0abd8a7-1770-4b04-bb44-ec65c1125c18"
      },
      "source": [
        "scheduled_lr = round(model.optimizer.lr.numpy(), 5)\n",
        "round(model.optimizer.lr.numpy(), 5)"
      ],
      "execution_count": null,
      "outputs": [
        {
          "output_type": "execute_result",
          "data": {
            "text/plain": [
              "0.06065"
            ]
          },
          "metadata": {
            "tags": []
          },
          "execution_count": 13
        }
      ]
    },
    {
      "cell_type": "code",
      "metadata": {
        "colab": {
          "base_uri": "https://localhost:8080/",
          "height": 700
        },
        "id": "NrkJ2qxR13BD",
        "outputId": "dad6ac13-4ecd-40b7-d754-5d0be153bfb0"
      },
      "source": [
        "# summarize history for accuracy\n",
        "plt.figure(figsize = (12,5))\n",
        "plt.subplot(121)\n",
        "plt.plot(history.history['accuracy'])\n",
        "plt.plot(history.history['val_accuracy'])\n",
        "plt.title('model accuracy')\n",
        "plt.ylabel('accuracy')\n",
        "plt.xlabel('epoch')\n",
        "plt.legend(['train', 'val'], loc='down right')\n",
        "\n",
        "# summarize history for loss\n",
        "plt.subplot(122)\n",
        "plt.plot(history.history['loss'])\n",
        "plt.plot(history.history['val_loss'])\n",
        "plt.title('model loss')\n",
        "plt.ylabel('loss')\n",
        "plt.xlabel('epoch')\n",
        "plt.legend(['train', 'val'], loc='upper right')\n",
        "\n",
        "max_loss = np.max(history.history['loss'])\n",
        "min_loss = np.min(history.history['loss'])\n",
        "print(\"Maximum Loss : {:.4f}\".format(max_loss))\n",
        "print(\"\")\n",
        "print(\"Minimum Loss : {:.4f}\".format(min_loss))\n",
        "print(\"\")\n",
        "print(\"Loss difference : {:.4f}\".format((max_loss - min_loss)))"
      ],
      "execution_count": null,
      "outputs": [
        {
          "output_type": "stream",
          "text": [
            "/usr/local/lib/python3.7/dist-packages/ipykernel_launcher.py:9: MatplotlibDeprecationWarning: Unrecognized location 'down right'. Falling back on 'best'; valid locations are\n",
            "\tbest\n",
            "\tupper right\n",
            "\tupper left\n",
            "\tlower left\n",
            "\tlower right\n",
            "\tright\n",
            "\tcenter left\n",
            "\tcenter right\n",
            "\tlower center\n",
            "\tupper center\n",
            "\tcenter\n",
            "This will raise an exception in 3.3.\n",
            "  if __name__ == '__main__':\n"
          ],
          "name": "stderr"
        },
        {
          "output_type": "stream",
          "text": [
            "Maximum Loss : 0.4992\n",
            "\n",
            "Minimum Loss : 0.4071\n",
            "\n",
            "Loss difference : 0.0921\n"
          ],
          "name": "stdout"
        },
        {
          "output_type": "display_data",
          "data": {
            "image/png": "[encoded data removed]",
            "text/plain": [
              "<Figure size 864x360 with 2 Axes>"
            ]
          },
          "metadata": {
            "tags": [],
            "needs_background": "light"
          }
        }
      ]
    },
    {
      "cell_type": "markdown",
      "metadata": {
        "id": "gAGAZa9fHF-j"
      },
      "source": [
        "# LRFinder"
      ]
    },
    {
      "cell_type": "code",
      "metadata": {
        "id": "N5-1MxNhHNGo"
      },
      "source": [
        "import os\n",
        "import numpy as np\n",
        "import warnings\n",
        "\n",
        "from tensorflow.keras.callbacks import Callback\n",
        "from keras import backend as K"
      ],
      "execution_count": null,
      "outputs": []
    },
    {
      "cell_type": "code",
      "metadata": {
        "id": "CKwrBY1kHFVj"
      },
      "source": [
        "from clr import LRFinder\n",
        "\n",
        "num_samples = 10000\n",
        "batch_size = 128\n",
        "minimum_lr = 1e-5\n",
        "maximum_lr = 10\n",
        "\n",
        "lr_callback = LRFinder(num_samples, batch_size,\n",
        "                       minimum_lr, maximum_lr,\n",
        "                       validation_data=(x_test, y_test),\n",
        "                       lr_scale='exp')"
      ],
      "execution_count": null,
      "outputs": []
    },
    {
      "cell_type": "code",
      "metadata": {
        "colab": {
          "base_uri": "https://localhost:8080/"
        },
        "id": "JUH-G0mnNXJN",
        "outputId": "6b1a2865-6ae6-465a-d729-ae146be8bb4b"
      },
      "source": [
        "results = model.fit(\n",
        " x_train, y_train,\n",
        " epochs= 15,\n",
        " batch_size = 128,\n",
        " validation_data = (x_test, y_test),\n",
        " verbose = 1 # We need this, because Colab does not like if we print 1000 lines. So we disable keras status prints\n",
        ")"
      ],
      "execution_count": null,
      "outputs": [
        {
          "output_type": "stream",
          "text": [
            "Epoch 1/15\n",
            "469/469 [==============================] - 2s 3ms/step - loss: 1.0916 - accuracy: 0.7140 - val_loss: 0.7105 - val_accuracy: 0.7938\n",
            "Epoch 2/15\n",
            "469/469 [==============================] - 1s 3ms/step - loss: 0.6844 - accuracy: 0.8004 - val_loss: 0.5728 - val_accuracy: 0.8436\n",
            "Epoch 3/15\n",
            "469/469 [==============================] - 1s 3ms/step - loss: 0.5875 - accuracy: 0.8259 - val_loss: 0.6551 - val_accuracy: 0.7873\n",
            "Epoch 4/15\n",
            "469/469 [==============================] - 1s 3ms/step - loss: 0.5792 - accuracy: 0.8249 - val_loss: 0.5557 - val_accuracy: 0.8368\n",
            "Epoch 5/15\n",
            "469/469 [==============================] - 1s 3ms/step - loss: 0.5472 - accuracy: 0.8354 - val_loss: 0.5364 - val_accuracy: 0.8377\n",
            "Epoch 6/15\n",
            "469/469 [==============================] - 1s 3ms/step - loss: 0.5332 - accuracy: 0.8395 - val_loss: 0.4997 - val_accuracy: 0.8511\n",
            "Epoch 7/15\n",
            "469/469 [==============================] - 1s 3ms/step - loss: 0.5201 - accuracy: 0.8416 - val_loss: 0.5017 - val_accuracy: 0.8484\n",
            "Epoch 8/15\n",
            "469/469 [==============================] - 1s 3ms/step - loss: 0.5027 - accuracy: 0.8493 - val_loss: 0.4543 - val_accuracy: 0.8656\n",
            "Epoch 9/15\n",
            "469/469 [==============================] - 1s 3ms/step - loss: 0.5277 - accuracy: 0.8395 - val_loss: 0.5104 - val_accuracy: 0.8464\n",
            "Epoch 10/15\n",
            "469/469 [==============================] - 1s 3ms/step - loss: 0.5151 - accuracy: 0.8448 - val_loss: 0.4999 - val_accuracy: 0.8494\n",
            "Epoch 11/15\n",
            "469/469 [==============================] - 1s 3ms/step - loss: 0.5114 - accuracy: 0.8442 - val_loss: 0.5287 - val_accuracy: 0.8292\n",
            "Epoch 12/15\n",
            "469/469 [==============================] - 1s 3ms/step - loss: 0.4962 - accuracy: 0.8481 - val_loss: 0.4689 - val_accuracy: 0.8555\n",
            "Epoch 13/15\n",
            "469/469 [==============================] - 1s 2ms/step - loss: 0.4707 - accuracy: 0.8586 - val_loss: 0.4649 - val_accuracy: 0.8536\n",
            "Epoch 14/15\n",
            "469/469 [==============================] - 1s 3ms/step - loss: 0.4748 - accuracy: 0.8558 - val_loss: 0.4529 - val_accuracy: 0.8644\n",
            "Epoch 15/15\n",
            "469/469 [==============================] - 1s 3ms/step - loss: 0.4478 - accuracy: 0.8664 - val_loss: 0.4340 - val_accuracy: 0.8657\n"
          ],
          "name": "stdout"
        }
      ]
    },
    {
      "cell_type": "code",
      "metadata": {
        "colab": {
          "base_uri": "https://localhost:8080/"
        },
        "id": "3zw9YNxlHrsB",
        "outputId": "5aac432a-70c3-465b-c595-80933157e953"
      },
      "source": [
        "# Ensure that number of epochs = 1 when calling fit()\n",
        "model.fit(x_train, y_train, epochs=1, batch_size=batch_size, callbacks=[lr_callback])"
      ],
      "execution_count": null,
      "outputs": [
        {
          "output_type": "stream",
          "text": [
            "  1/469 [..............................] - ETA: 1s - loss: 0.5119 - accuracy: 0.8359 - LRFinder: val_loss: 0.3997 - lr = 0.00001018 \n",
            "  2/469 [..............................] - ETA: 1:11 - loss: 0.4012 - accuracy: 0.8568 - LRFinder: val_loss: 0.3797 - lr = 0.00001036 \n",
            "  3/469 [..............................] - ETA: 1:40 - loss: 0.4030 - accuracy: 0.8815 - LRFinder: val_loss: 0.3908 - lr = 0.00001055 \n",
            "  4/469 [..............................] - ETA: 1:15 - loss: 0.3802 - accuracy: 0.8841 - LRFinder: val_loss: 0.4410 - lr = 0.00001073 \n",
            "  5/469 [..............................] - ETA: 1:02 - loss: 0.4419 - accuracy: 0.8555 - LRFinder: val_loss: 0.4261 - lr = 0.00001092 \n",
            "  6/469 [..............................] - ETA: 56s - loss: 0.4350 - accuracy: 0.8633  - LRFinder: val_loss: 0.4245 - lr = 0.00001112 \n",
            "WARNING:tensorflow:Callback method `on_train_batch_end` is slow compared to the batch time (batch time: 0.0030s vs `on_train_batch_end` time: 0.1088s). Check your callbacks.\n",
            "  7/469 [..............................] - ETA: 51s - loss: 0.4177 - accuracy: 0.8763 - LRFinder: val_loss: 0.4342 - lr = 0.00001132 \n",
            "  8/469 [..............................] - ETA: 49s - loss: 0.4153 - accuracy: 0.8789 - LRFinder: val_loss: 0.3941 - lr = 0.00001152 \n",
            "  9/469 [..............................] - ETA: 46s - loss: 0.4072 - accuracy: 0.8698 - LRFinder: val_loss: 0.4214 - lr = 0.00001173 \n",
            " 10/469 [..............................] - ETA: 44s - loss: 0.4175 - accuracy: 0.8711 - LRFinder: val_loss: 0.4488 - lr = 0.00001194 \n",
            " 11/469 [..............................] - ETA: 43s - loss: 0.4431 - accuracy: 0.8529 - LRFinder: val_loss: 0.4486 - lr = 0.00001215 \n",
            " 12/469 [..............................] - ETA: 41s - loss: 0.4365 - accuracy: 0.8659 - LRFinder: val_loss: 0.4276 - lr = 0.00001236 \n",
            " 13/469 [..............................] - ETA: 40s - loss: 0.4427 - accuracy: 0.8555 - LRFinder: val_loss: 0.4174 - lr = 0.00001259 \n",
            " 14/469 [..............................] - ETA: 39s - loss: 0.4245 - accuracy: 0.8633 - LRFinder: val_loss: 0.4546 - lr = 0.00001281 \n",
            " 15/469 [..............................] - ETA: 39s - loss: 0.4763 - accuracy: 0.8529 - LRFinder: val_loss: 0.4162 - lr = 0.00001304 \n",
            " 16/469 [>.............................] - ETA: 38s - loss: 0.4119 - accuracy: 0.8633 - LRFinder: val_loss: 0.4277 - lr = 0.00001327 \n",
            " 17/469 [>.............................] - ETA: 37s - loss: 0.4114 - accuracy: 0.8711 - LRFinder: val_loss: 0.4465 - lr = 0.00001351 \n",
            " 18/469 [>.............................] - ETA: 36s - loss: 0.4385 - accuracy: 0.8698 - LRFinder: val_loss: 0.4090 - lr = 0.00001375 \n",
            " 19/469 [>.............................] - ETA: 36s - loss: 0.4375 - accuracy: 0.8659 - LRFinder: val_loss: 0.3885 - lr = 0.00001399 \n",
            " 20/469 [>.............................] - ETA: 35s - loss: 0.4351 - accuracy: 0.8464 - LRFinder: val_loss: 0.4339 - lr = 0.00001424 \n",
            " 21/469 [>.............................] - ETA: 34s - loss: 0.4278 - accuracy: 0.8659 - LRFinder: val_loss: 0.3990 - lr = 0.00001450 \n",
            " 22/469 [>.............................] - ETA: 34s - loss: 0.4117 - accuracy: 0.8698 - LRFinder: val_loss: 0.3500 - lr = 0.00001476 \n",
            " 23/469 [>.............................] - ETA: 34s - loss: 0.3804 - accuracy: 0.8763 - LRFinder: val_loss: 0.5024 - lr = 0.00001502 \n",
            " 24/469 [>.............................] - ETA: 33s - loss: 0.4905 - accuracy: 0.8516 - LRFinder: val_loss: 0.4421 - lr = 0.00001529 \n",
            " 25/469 [>.............................] - ETA: 33s - loss: 0.4329 - accuracy: 0.8581 - LRFinder: val_loss: 0.3786 - lr = 0.00001556 \n",
            " 26/469 [>.............................] - ETA: 33s - loss: 0.3950 - accuracy: 0.8750 - LRFinder: val_loss: 0.4257 - lr = 0.00001584 \n",
            " 27/469 [>.............................] - ETA: 33s - loss: 0.4158 - accuracy: 0.8789 - LRFinder: val_loss: 0.4199 - lr = 0.00001612 \n",
            " 28/469 [>.............................] - ETA: 33s - loss: 0.4455 - accuracy: 0.8620 - LRFinder: val_loss: 0.4858 - lr = 0.00001641 \n",
            " 29/469 [>.............................] - ETA: 32s - loss: 0.4781 - accuracy: 0.8568 - LRFinder: val_loss: 0.4253 - lr = 0.00001670 \n",
            " 30/469 [>.............................] - ETA: 32s - loss: 0.4378 - accuracy: 0.8633 - LRFinder: val_loss: 0.4134 - lr = 0.00001700 \n",
            " 31/469 [>.............................] - ETA: 32s - loss: 0.4297 - accuracy: 0.8607 - LRFinder: val_loss: 0.3969 - lr = 0.00001730 \n",
            " 32/469 [=>............................] - ETA: 32s - loss: 0.4101 - accuracy: 0.8685 - LRFinder: val_loss: 0.3939 - lr = 0.00001761 \n",
            " 33/469 [=>............................] - ETA: 32s - loss: 0.4092 - accuracy: 0.8711 - LRFinder: val_loss: 0.3828 - lr = 0.00001793 \n",
            " 34/469 [=>............................] - ETA: 32s - loss: 0.4172 - accuracy: 0.8633 - LRFinder: val_loss: 0.3928 - lr = 0.00001825 \n",
            " 35/469 [=>............................] - ETA: 31s - loss: 0.3973 - accuracy: 0.8776 - LRFinder: val_loss: 0.3838 - lr = 0.00001857 \n",
            " 36/469 [=>............................] - ETA: 31s - loss: 0.3916 - accuracy: 0.8776 - LRFinder: val_loss: 0.4268 - lr = 0.00001890 \n",
            " 37/469 [=>............................] - ETA: 31s - loss: 0.4438 - accuracy: 0.8581 - LRFinder: val_loss: 0.4513 - lr = 0.00001924 \n",
            " 38/469 [=>............................] - ETA: 31s - loss: 0.4706 - accuracy: 0.8620 - LRFinder: val_loss: 0.4366 - lr = 0.00001959 \n",
            " 39/469 [=>............................] - ETA: 31s - loss: 0.4332 - accuracy: 0.8789 - LRFinder: val_loss: 0.4031 - lr = 0.00001993 \n",
            " 40/469 [=>............................] - ETA: 30s - loss: 0.4062 - accuracy: 0.8854 - LRFinder: val_loss: 0.4169 - lr = 0.00002029 \n",
            " 41/469 [=>............................] - ETA: 30s - loss: 0.4244 - accuracy: 0.8698 - LRFinder: val_loss: 0.4691 - lr = 0.00002065 \n",
            " 42/469 [=>............................] - ETA: 30s - loss: 0.4766 - accuracy: 0.8633 - LRFinder: val_loss: 0.4368 - lr = 0.00002102 \n",
            " 43/469 [=>............................] - ETA: 30s - loss: 0.4314 - accuracy: 0.8633 - LRFinder: val_loss: 0.4244 - lr = 0.00002140 \n",
            " 44/469 [=>............................] - ETA: 30s - loss: 0.4346 - accuracy: 0.8542 - LRFinder: val_loss: 0.4939 - lr = 0.00002178 \n",
            " 45/469 [=>............................] - ETA: 30s - loss: 0.4797 - accuracy: 0.8464 - LRFinder: val_loss: 0.4106 - lr = 0.00002217 \n",
            " 46/469 [=>............................] - ETA: 30s - loss: 0.4069 - accuracy: 0.8737 - LRFinder: val_loss: 0.4693 - lr = 0.00002256 \n",
            " 47/469 [==>...........................] - ETA: 29s - loss: 0.4983 - accuracy: 0.8620 - LRFinder: val_loss: 0.4587 - lr = 0.00002297 \n",
            " 48/469 [==>...........................] - ETA: 29s - loss: 0.4465 - accuracy: 0.8529 - LRFinder: val_loss: 0.4343 - lr = 0.00002338 \n",
            " 49/469 [==>...........................] - ETA: 29s - loss: 0.4410 - accuracy: 0.8659 - LRFinder: val_loss: 0.3944 - lr = 0.00002379 \n",
            " 50/469 [==>...........................] - ETA: 29s - loss: 0.4042 - accuracy: 0.8802 - LRFinder: val_loss: 0.4171 - lr = 0.00002422 \n",
            " 51/469 [==>...........................] - ETA: 29s - loss: 0.4026 - accuracy: 0.8776 - LRFinder: val_loss: 0.4407 - lr = 0.00002465 \n",
            " 52/469 [==>...........................] - ETA: 29s - loss: 0.4431 - accuracy: 0.8529 - LRFinder: val_loss: 0.3880 - lr = 0.00002509 \n",
            " 53/469 [==>...........................] - ETA: 29s - loss: 0.4082 - accuracy: 0.8568 - LRFinder: val_loss: 0.4584 - lr = 0.00002554 \n",
            " 54/469 [==>...........................] - ETA: 28s - loss: 0.4449 - accuracy: 0.8594 - LRFinder: val_loss: 0.4034 - lr = 0.00002599 \n",
            " 55/469 [==>...........................] - ETA: 28s - loss: 0.4043 - accuracy: 0.8672 - LRFinder: val_loss: 0.4512 - lr = 0.00002646 \n",
            " 56/469 [==>...........................] - ETA: 28s - loss: 0.4363 - accuracy: 0.8789 - LRFinder: val_loss: 0.4026 - lr = 0.00002693 \n",
            " 57/469 [==>...........................] - ETA: 28s - loss: 0.3946 - accuracy: 0.8867 - LRFinder: val_loss: 0.3697 - lr = 0.00002741 \n",
            " 58/469 [==>...........................] - ETA: 28s - loss: 0.3863 - accuracy: 0.8828 - LRFinder: val_loss: 0.4427 - lr = 0.00002790 \n",
            " 59/469 [==>...........................] - ETA: 28s - loss: 0.4631 - accuracy: 0.8646 - LRFinder: val_loss: 0.3515 - lr = 0.00002840 \n",
            " 60/469 [==>...........................] - ETA: 28s - loss: 0.3649 - accuracy: 0.8971 - LRFinder: val_loss: 0.4463 - lr = 0.00002890 \n",
            " 61/469 [==>...........................] - ETA: 28s - loss: 0.4482 - accuracy: 0.8620 - LRFinder: val_loss: 0.4288 - lr = 0.00002942 \n",
            " 62/469 [==>...........................] - ETA: 28s - loss: 0.4738 - accuracy: 0.8568 - LRFinder: val_loss: 0.4414 - lr = 0.00002994 \n",
            " 63/469 [===>..........................] - ETA: 28s - loss: 0.4695 - accuracy: 0.8438 - LRFinder: val_loss: 0.4725 - lr = 0.00003048 \n",
            " 64/469 [===>..........................] - ETA: 28s - loss: 0.4528 - accuracy: 0.8659 - LRFinder: val_loss: 0.4106 - lr = 0.00003102 \n",
            " 65/469 [===>..........................] - ETA: 28s - loss: 0.4203 - accuracy: 0.8672 - LRFinder: val_loss: 0.4579 - lr = 0.00003158 \n",
            " 66/469 [===>..........................] - ETA: 27s - loss: 0.4570 - accuracy: 0.8503 - LRFinder: val_loss: 0.4412 - lr = 0.00003214 \n",
            " 67/469 [===>..........................] - ETA: 27s - loss: 0.4307 - accuracy: 0.8711 - LRFinder: val_loss: 0.4072 - lr = 0.00003271 \n",
            " 68/469 [===>..........................] - ETA: 27s - loss: 0.4212 - accuracy: 0.8594 - LRFinder: val_loss: 0.3994 - lr = 0.00003330 \n",
            " 69/469 [===>..........................] - ETA: 27s - loss: 0.4171 - accuracy: 0.8776 - LRFinder: val_loss: 0.4183 - lr = 0.00003389 \n",
            " 70/469 [===>..........................] - ETA: 27s - loss: 0.3993 - accuracy: 0.8763 - LRFinder: val_loss: 0.3805 - lr = 0.00003450 \n",
            " 71/469 [===>..........................] - ETA: 27s - loss: 0.3887 - accuracy: 0.8841 - LRFinder: val_loss: 0.4594 - lr = 0.00003511 \n",
            " 72/469 [===>..........................] - ETA: 27s - loss: 0.4735 - accuracy: 0.8464 - LRFinder: val_loss: 0.4774 - lr = 0.00003574 \n",
            " 73/469 [===>..........................] - ETA: 27s - loss: 0.4736 - accuracy: 0.8607 - LRFinder: val_loss: 0.4248 - lr = 0.00003638 \n",
            " 74/469 [===>..........................] - ETA: 27s - loss: 0.4229 - accuracy: 0.8698 - LRFinder: val_loss: 0.4527 - lr = 0.00003703 \n",
            " 75/469 [===>..........................] - ETA: 27s - loss: 0.4412 - accuracy: 0.8633 - LRFinder: val_loss: 0.4751 - lr = 0.00003769 \n",
            " 76/469 [===>..........................] - ETA: 27s - loss: 0.4706 - accuracy: 0.8607 - LRFinder: val_loss: 0.3980 - lr = 0.00003836 \n",
            " 77/469 [===>..........................] - ETA: 26s - loss: 0.4197 - accuracy: 0.8698 - LRFinder: val_loss: 0.4112 - lr = 0.00003904 \n",
            " 78/469 [===>..........................] - ETA: 26s - loss: 0.4113 - accuracy: 0.8828 - LRFinder: val_loss: 0.4019 - lr = 0.00003974 \n",
            " 79/469 [====>.........................] - ETA: 26s - loss: 0.3903 - accuracy: 0.8802 - LRFinder: val_loss: 0.4343 - lr = 0.00004045 \n",
            " 80/469 [====>.........................] - ETA: 26s - loss: 0.4318 - accuracy: 0.8724 - LRFinder: val_loss: 0.4625 - lr = 0.00004117 \n",
            " 81/469 [====>.........................] - ETA: 26s - loss: 0.4436 - accuracy: 0.8659 - LRFinder: val_loss: 0.3834 - lr = 0.00004191 \n",
            " 82/469 [====>.........................] - ETA: 26s - loss: 0.3896 - accuracy: 0.8828 - LRFinder: val_loss: 0.4909 - lr = 0.00004265 \n",
            " 83/469 [====>.........................] - ETA: 26s - loss: 0.4799 - accuracy: 0.8529 - LRFinder: val_loss: 0.3773 - lr = 0.00004342 \n",
            " 84/469 [====>.........................] - ETA: 26s - loss: 0.3766 - accuracy: 0.8854 - LRFinder: val_loss: 0.4279 - lr = 0.00004419 \n",
            " 85/469 [====>.........................] - ETA: 26s - loss: 0.4126 - accuracy: 0.8750 - LRFinder: val_loss: 0.4067 - lr = 0.00004498 \n",
            " 86/469 [====>.........................] - ETA: 26s - loss: 0.4230 - accuracy: 0.8724 - LRFinder: val_loss: 0.3895 - lr = 0.00004578 \n",
            " 87/469 [====>.........................] - ETA: 26s - loss: 0.3834 - accuracy: 0.8776 - LRFinder: val_loss: 0.3916 - lr = 0.00004660 \n",
            " 88/469 [====>.........................] - ETA: 26s - loss: 0.4326 - accuracy: 0.8698 - LRFinder: val_loss: 0.3879 - lr = 0.00004743 \n",
            " 89/469 [====>.........................] - ETA: 25s - loss: 0.4157 - accuracy: 0.8620 - LRFinder: val_loss: 0.4218 - lr = 0.00004828 \n",
            " 90/469 [====>.........................] - ETA: 25s - loss: 0.4417 - accuracy: 0.8633 - LRFinder: val_loss: 0.4378 - lr = 0.00004914 \n",
            " 91/469 [====>.........................] - ETA: 25s - loss: 0.4519 - accuracy: 0.8633 - LRFinder: val_loss: 0.4107 - lr = 0.00005002 \n",
            " 92/469 [====>.........................] - ETA: 25s - loss: 0.4229 - accuracy: 0.8620 - LRFinder: val_loss: 0.4329 - lr = 0.00005091 \n",
            " 93/469 [====>.........................] - ETA: 25s - loss: 0.4486 - accuracy: 0.8568 - LRFinder: val_loss: 0.4387 - lr = 0.00005182 \n",
            " 94/469 [=====>........................] - ETA: 25s - loss: 0.4282 - accuracy: 0.8581 - LRFinder: val_loss: 0.4977 - lr = 0.00005274 \n",
            " 95/469 [=====>........................] - ETA: 25s - loss: 0.4700 - accuracy: 0.8620 - LRFinder: val_loss: 0.3988 - lr = 0.00005368 \n",
            " 96/469 [=====>........................] - ETA: 25s - loss: 0.4032 - accuracy: 0.8776 - LRFinder: val_loss: 0.4412 - lr = 0.00005464 \n",
            " 97/469 [=====>........................] - ETA: 25s - loss: 0.4132 - accuracy: 0.8724 - LRFinder: val_loss: 0.4071 - lr = 0.00005562 \n",
            " 98/469 [=====>........................] - ETA: 25s - loss: 0.4345 - accuracy: 0.8672 - LRFinder: val_loss: 0.3693 - lr = 0.00005661 \n",
            " 99/469 [=====>........................] - ETA: 25s - loss: 0.3825 - accuracy: 0.8932 - LRFinder: val_loss: 0.4309 - lr = 0.00005762 \n",
            "100/469 [=====>........................] - ETA: 24s - loss: 0.4263 - accuracy: 0.8633 - LRFinder: val_loss: 0.4140 - lr = 0.00005865 \n",
            "101/469 [=====>........................] - ETA: 24s - loss: 0.4316 - accuracy: 0.8672 - LRFinder: val_loss: 0.4669 - lr = 0.00005969 \n",
            "102/469 [=====>........................] - ETA: 24s - loss: 0.4720 - accuracy: 0.8464 - LRFinder: val_loss: 0.4114 - lr = 0.00006076 \n",
            "103/469 [=====>........................] - ETA: 24s - loss: 0.3969 - accuracy: 0.8750 - LRFinder: val_loss: 0.3750 - lr = 0.00006184 \n",
            "104/469 [=====>........................] - ETA: 24s - loss: 0.3746 - accuracy: 0.8776 - LRFinder: val_loss: 0.4651 - lr = 0.00006295 \n",
            "105/469 [=====>........................] - ETA: 24s - loss: 0.4853 - accuracy: 0.8516 - LRFinder: val_loss: 0.3789 - lr = 0.00006407 \n",
            "106/469 [=====>........................] - ETA: 24s - loss: 0.3951 - accuracy: 0.8724 - LRFinder: val_loss: 0.4149 - lr = 0.00006521 \n",
            "107/469 [=====>........................] - ETA: 24s - loss: 0.4408 - accuracy: 0.8594 - LRFinder: val_loss: 0.4397 - lr = 0.00006638 \n",
            "108/469 [=====>........................] - ETA: 24s - loss: 0.4527 - accuracy: 0.8672 - LRFinder: val_loss: 0.4794 - lr = 0.00006756 \n",
            "109/469 [=====>........................] - ETA: 24s - loss: 0.4523 - accuracy: 0.8711 - LRFinder: val_loss: 0.4219 - lr = 0.00006877 \n",
            "110/469 [======>.......................] - ETA: 24s - loss: 0.4188 - accuracy: 0.8659 - LRFinder: val_loss: 0.4724 - lr = 0.00007000 \n",
            "111/469 [======>.......................] - ETA: 24s - loss: 0.4724 - accuracy: 0.8633 - LRFinder: val_loss: 0.3703 - lr = 0.00007124 \n",
            "112/469 [======>.......................] - ETA: 23s - loss: 0.3930 - accuracy: 0.8802 - LRFinder: val_loss: 0.4335 - lr = 0.00007252 \n",
            "113/469 [======>.......................] - ETA: 23s - loss: 0.4486 - accuracy: 0.8516 - LRFinder: val_loss: 0.3883 - lr = 0.00007381 \n",
            "114/469 [======>.......................] - ETA: 23s - loss: 0.3838 - accuracy: 0.8776 - LRFinder: val_loss: 0.4559 - lr = 0.00007513 \n",
            "115/469 [======>.......................] - ETA: 23s - loss: 0.4539 - accuracy: 0.8451 - LRFinder: val_loss: 0.4636 - lr = 0.00007647 \n",
            "116/469 [======>.......................] - ETA: 23s - loss: 0.4352 - accuracy: 0.8529 - LRFinder: val_loss: 0.4218 - lr = 0.00007783 \n",
            "117/469 [======>.......................] - ETA: 23s - loss: 0.4415 - accuracy: 0.8581 - LRFinder: val_loss: 0.4007 - lr = 0.00007922 \n",
            "118/469 [======>.......................] - ETA: 23s - loss: 0.4327 - accuracy: 0.8750 - LRFinder: val_loss: 0.4506 - lr = 0.00008064 \n",
            "119/469 [======>.......................] - ETA: 23s - loss: 0.4527 - accuracy: 0.8555 - LRFinder: val_loss: 0.5004 - lr = 0.00008208 \n",
            "120/469 [======>.......................] - ETA: 23s - loss: 0.4974 - accuracy: 0.8542 - LRFinder: val_loss: 0.3703 - lr = 0.00008354 \n",
            "121/469 [======>.......................] - ETA: 23s - loss: 0.3718 - accuracy: 0.8828 - LRFinder: val_loss: 0.5097 - lr = 0.00008503 \n",
            "122/469 [======>.......................] - ETA: 23s - loss: 0.5140 - accuracy: 0.8424 - LRFinder: val_loss: 0.4281 - lr = 0.00008655 \n",
            "123/469 [======>.......................] - ETA: 23s - loss: 0.4255 - accuracy: 0.8672 - LRFinder: val_loss: 0.3942 - lr = 0.00008809 \n",
            "124/469 [======>.......................] - ETA: 22s - loss: 0.4373 - accuracy: 0.8659 - LRFinder: val_loss: 0.4338 - lr = 0.00008967 \n",
            "125/469 [======>.......................] - ETA: 22s - loss: 0.4443 - accuracy: 0.8581 - LRFinder: val_loss: 0.4384 - lr = 0.00009127 \n",
            "126/469 [=======>......................] - ETA: 22s - loss: 0.4627 - accuracy: 0.8711 - LRFinder: val_loss: 0.4162 - lr = 0.00009289 \n",
            "127/469 [=======>......................] - ETA: 22s - loss: 0.4307 - accuracy: 0.8672 - LRFinder: val_loss: 0.4251 - lr = 0.00009455 \n",
            "128/469 [=======>......................] - ETA: 22s - loss: 0.4219 - accuracy: 0.8737 - LRFinder: val_loss: 0.4454 - lr = 0.00009624 \n",
            "129/469 [=======>......................] - ETA: 22s - loss: 0.4586 - accuracy: 0.8516 - LRFinder: val_loss: 0.3831 - lr = 0.00009796 \n",
            "130/469 [=======>......................] - ETA: 22s - loss: 0.4502 - accuracy: 0.8542 - LRFinder: val_loss: 0.4630 - lr = 0.00009971 \n",
            "131/469 [=======>......................] - ETA: 22s - loss: 0.4539 - accuracy: 0.8529 - LRFinder: val_loss: 0.3682 - lr = 0.00010149 \n",
            "132/469 [=======>......................] - ETA: 22s - loss: 0.3762 - accuracy: 0.8906 - LRFinder: val_loss: 0.3798 - lr = 0.00010330 \n",
            "133/469 [=======>......................] - ETA: 22s - loss: 0.3896 - accuracy: 0.8854 - LRFinder: val_loss: 0.3768 - lr = 0.00010514 \n",
            "134/469 [=======>......................] - ETA: 22s - loss: 0.3926 - accuracy: 0.8880 - LRFinder: val_loss: 0.3504 - lr = 0.00010702 \n",
            "135/469 [=======>......................] - ETA: 22s - loss: 0.3556 - accuracy: 0.8984 - LRFinder: val_loss: 0.4287 - lr = 0.00010893 \n",
            "136/469 [=======>......................] - ETA: 22s - loss: 0.4472 - accuracy: 0.8672 - LRFinder: val_loss: 0.4423 - lr = 0.00011087 \n",
            "137/469 [=======>......................] - ETA: 21s - loss: 0.4521 - accuracy: 0.8477 - LRFinder: val_loss: 0.3920 - lr = 0.00011285 \n",
            "138/469 [=======>......................] - ETA: 21s - loss: 0.4239 - accuracy: 0.8594 - LRFinder: val_loss: 0.4166 - lr = 0.00011486 \n",
            "139/469 [=======>......................] - ETA: 21s - loss: 0.4047 - accuracy: 0.8633 - LRFinder: val_loss: 0.4695 - lr = 0.00011691 \n",
            "140/469 [=======>......................] - ETA: 21s - loss: 0.4383 - accuracy: 0.8594 - LRFinder: val_loss: 0.3596 - lr = 0.00011900 \n",
            "141/469 [========>.....................] - ETA: 21s - loss: 0.3775 - accuracy: 0.8828 - LRFinder: val_loss: 0.4803 - lr = 0.00012112 \n",
            "142/469 [========>.....................] - ETA: 21s - loss: 0.4739 - accuracy: 0.8490 - LRFinder: val_loss: 0.4592 - lr = 0.00012328 \n",
            "143/469 [========>.....................] - ETA: 21s - loss: 0.4480 - accuracy: 0.8542 - LRFinder: val_loss: 0.4013 - lr = 0.00012548 \n",
            "144/469 [========>.....................] - ETA: 21s - loss: 0.4266 - accuracy: 0.8737 - LRFinder: val_loss: 0.3741 - lr = 0.00012772 \n",
            "145/469 [========>.....................] - ETA: 21s - loss: 0.3811 - accuracy: 0.8802 - LRFinder: val_loss: 0.3700 - lr = 0.00013000 \n",
            "146/469 [========>.....................] - ETA: 21s - loss: 0.3975 - accuracy: 0.8802 - LRFinder: val_loss: 0.3923 - lr = 0.00013232 \n",
            "147/469 [========>.....................] - ETA: 21s - loss: 0.3936 - accuracy: 0.8841 - LRFinder: val_loss: 0.4125 - lr = 0.00013469 \n",
            "148/469 [========>.....................] - ETA: 21s - loss: 0.3988 - accuracy: 0.8698 - LRFinder: val_loss: 0.4726 - lr = 0.00013709 \n",
            "149/469 [========>.....................] - ETA: 21s - loss: 0.4822 - accuracy: 0.8438 - LRFinder: val_loss: 0.3951 - lr = 0.00013954 \n",
            "150/469 [========>.....................] - ETA: 21s - loss: 0.4121 - accuracy: 0.8789 - LRFinder: val_loss: 0.5079 - lr = 0.00014203 \n",
            "151/469 [========>.....................] - ETA: 20s - loss: 0.5005 - accuracy: 0.8438 - LRFinder: val_loss: 0.4593 - lr = 0.00014456 \n",
            "152/469 [========>.....................] - ETA: 20s - loss: 0.4472 - accuracy: 0.8776 - LRFinder: val_loss: 0.4738 - lr = 0.00014714 \n",
            "153/469 [========>.....................] - ETA: 20s - loss: 0.4600 - accuracy: 0.8581 - LRFinder: val_loss: 0.4705 - lr = 0.00014977 \n",
            "154/469 [========>.....................] - ETA: 20s - loss: 0.4470 - accuracy: 0.8737 - LRFinder: val_loss: 0.4131 - lr = 0.00015244 \n",
            "155/469 [========>.....................] - ETA: 20s - loss: 0.4350 - accuracy: 0.8646 - LRFinder: val_loss: 0.4320 - lr = 0.00015516 \n",
            "156/469 [========>.....................] - ETA: 20s - loss: 0.4295 - accuracy: 0.8516 - LRFinder: val_loss: 0.4022 - lr = 0.00015793 \n",
            "157/469 [=========>....................] - ETA: 20s - loss: 0.3986 - accuracy: 0.8802 - LRFinder: val_loss: 0.4598 - lr = 0.00016075 \n",
            "158/469 [=========>....................] - ETA: 20s - loss: 0.4569 - accuracy: 0.8633 - LRFinder: val_loss: 0.4117 - lr = 0.00016362 \n",
            "159/469 [=========>....................] - ETA: 20s - loss: 0.4317 - accuracy: 0.8659 - LRFinder: val_loss: 0.4146 - lr = 0.00016654 \n",
            "160/469 [=========>....................] - ETA: 20s - loss: 0.4204 - accuracy: 0.8789 - LRFinder: val_loss: 0.4519 - lr = 0.00016951 \n",
            "161/469 [=========>....................] - ETA: 20s - loss: 0.4375 - accuracy: 0.8633 - LRFinder: val_loss: 0.4014 - lr = 0.00017253 \n",
            "162/469 [=========>....................] - ETA: 20s - loss: 0.4139 - accuracy: 0.8789 - LRFinder: val_loss: 0.4569 - lr = 0.00017561 \n",
            "163/469 [=========>....................] - ETA: 20s - loss: 0.4434 - accuracy: 0.8646 - LRFinder: val_loss: 0.4527 - lr = 0.00017875 \n",
            "164/469 [=========>....................] - ETA: 20s - loss: 0.4677 - accuracy: 0.8503 - LRFinder: val_loss: 0.4037 - lr = 0.00018194 \n",
            "165/469 [=========>....................] - ETA: 19s - loss: 0.4344 - accuracy: 0.8633 - LRFinder: val_loss: 0.4476 - lr = 0.00018518 \n",
            "166/469 [=========>....................] - ETA: 19s - loss: 0.4542 - accuracy: 0.8659 - LRFinder: val_loss: 0.4354 - lr = 0.00018849 \n",
            "167/469 [=========>....................] - ETA: 19s - loss: 0.4520 - accuracy: 0.8529 - LRFinder: val_loss: 0.4925 - lr = 0.00019185 \n",
            "168/469 [=========>....................] - ETA: 19s - loss: 0.4907 - accuracy: 0.8503 - LRFinder: val_loss: 0.3946 - lr = 0.00019528 \n",
            "169/469 [=========>....................] - ETA: 19s - loss: 0.3967 - accuracy: 0.8659 - LRFinder: val_loss: 0.4653 - lr = 0.00019876 \n",
            "170/469 [=========>....................] - ETA: 19s - loss: 0.4543 - accuracy: 0.8659 - LRFinder: val_loss: 0.4211 - lr = 0.00020231 \n",
            "171/469 [=========>....................] - ETA: 19s - loss: 0.4271 - accuracy: 0.8776 - LRFinder: val_loss: 0.4741 - lr = 0.00020592 \n",
            "172/469 [==========>...................] - ETA: 19s - loss: 0.4760 - accuracy: 0.8607 - LRFinder: val_loss: 0.4303 - lr = 0.00020960 \n",
            "173/469 [==========>...................] - ETA: 19s - loss: 0.4177 - accuracy: 0.8763 - LRFinder: val_loss: 0.4444 - lr = 0.00021334 \n",
            "174/469 [==========>...................] - ETA: 19s - loss: 0.4507 - accuracy: 0.8724 - LRFinder: val_loss: 0.4325 - lr = 0.00021714 \n",
            "175/469 [==========>...................] - ETA: 19s - loss: 0.4165 - accuracy: 0.8685 - LRFinder: val_loss: 0.4508 - lr = 0.00022102 \n",
            "176/469 [==========>...................] - ETA: 19s - loss: 0.4493 - accuracy: 0.8464 - LRFinder: val_loss: 0.4265 - lr = 0.00022496 \n",
            "177/469 [==========>...................] - ETA: 19s - loss: 0.4442 - accuracy: 0.8685 - LRFinder: val_loss: 0.4040 - lr = 0.00022898 \n",
            "178/469 [==========>...................] - ETA: 19s - loss: 0.4276 - accuracy: 0.8633 - LRFinder: val_loss: 0.4452 - lr = 0.00023307 \n",
            "179/469 [==========>...................] - ETA: 18s - loss: 0.4637 - accuracy: 0.8516 - LRFinder: val_loss: 0.4362 - lr = 0.00023722 \n",
            "180/469 [==========>...................] - ETA: 18s - loss: 0.4635 - accuracy: 0.8607 - LRFinder: val_loss: 0.4383 - lr = 0.00024146 \n",
            "181/469 [==========>...................] - ETA: 18s - loss: 0.4172 - accuracy: 0.8711 - LRFinder: val_loss: 0.4156 - lr = 0.00024577 \n",
            "182/469 [==========>...................] - ETA: 18s - loss: 0.4414 - accuracy: 0.8646 - LRFinder: val_loss: 0.4027 - lr = 0.00025015 \n",
            "183/469 [==========>...................] - ETA: 18s - loss: 0.3987 - accuracy: 0.8724 - LRFinder: val_loss: 0.4613 - lr = 0.00025462 \n",
            "184/469 [==========>...................] - ETA: 18s - loss: 0.4633 - accuracy: 0.8438 - LRFinder: val_loss: 0.5004 - lr = 0.00025916 \n",
            "185/469 [==========>...................] - ETA: 18s - loss: 0.4951 - accuracy: 0.8568 - LRFinder: val_loss: 0.4387 - lr = 0.00026379 \n",
            "186/469 [==========>...................] - ETA: 18s - loss: 0.4341 - accuracy: 0.8737 - LRFinder: val_loss: 0.4255 - lr = 0.00026850 \n",
            "187/469 [==========>...................] - ETA: 18s - loss: 0.4202 - accuracy: 0.8685 - LRFinder: val_loss: 0.4264 - lr = 0.00027329 \n",
            "188/469 [===========>..................] - ETA: 18s - loss: 0.4293 - accuracy: 0.8568 - LRFinder: val_loss: 0.4036 - lr = 0.00027816 \n",
            "189/469 [===========>..................] - ETA: 18s - loss: 0.4113 - accuracy: 0.8685 - LRFinder: val_loss: 0.4627 - lr = 0.00028313 \n",
            "190/469 [===========>..................] - ETA: 18s - loss: 0.4535 - accuracy: 0.8698 - LRFinder: val_loss: 0.4372 - lr = 0.00028818 \n",
            "191/469 [===========>..................] - ETA: 18s - loss: 0.4492 - accuracy: 0.8672 - LRFinder: val_loss: 0.4610 - lr = 0.00029333 \n",
            "192/469 [===========>..................] - ETA: 18s - loss: 0.4592 - accuracy: 0.8620 - LRFinder: val_loss: 0.4264 - lr = 0.00029856 \n",
            "193/469 [===========>..................] - ETA: 17s - loss: 0.4341 - accuracy: 0.8633 - LRFinder: val_loss: 0.4787 - lr = 0.00030389 \n",
            "194/469 [===========>..................] - ETA: 17s - loss: 0.5054 - accuracy: 0.8398 - LRFinder: val_loss: 0.4127 - lr = 0.00030931 \n",
            "195/469 [===========>..................] - ETA: 17s - loss: 0.4093 - accuracy: 0.8776 - LRFinder: val_loss: 0.4476 - lr = 0.00031483 \n",
            "196/469 [===========>..................] - ETA: 17s - loss: 0.4523 - accuracy: 0.8568 - LRFinder: val_loss: 0.3963 - lr = 0.00032045 \n",
            "197/469 [===========>..................] - ETA: 17s - loss: 0.4086 - accuracy: 0.8685 - LRFinder: val_loss: 0.4642 - lr = 0.00032617 \n",
            "198/469 [===========>..................] - ETA: 17s - loss: 0.4683 - accuracy: 0.8529 - LRFinder: val_loss: 0.4145 - lr = 0.00033199 \n",
            "199/469 [===========>..................] - ETA: 17s - loss: 0.4351 - accuracy: 0.8620 - LRFinder: val_loss: 0.4571 - lr = 0.00033792 \n",
            "200/469 [===========>..................] - ETA: 17s - loss: 0.4566 - accuracy: 0.8620 - LRFinder: val_loss: 0.3947 - lr = 0.00034395 \n",
            "201/469 [===========>..................] - ETA: 17s - loss: 0.3840 - accuracy: 0.8789 - LRFinder: val_loss: 0.5622 - lr = 0.00035009 \n",
            "202/469 [===========>..................] - ETA: 17s - loss: 0.5336 - accuracy: 0.8372 - LRFinder: val_loss: 0.4860 - lr = 0.00035633 \n",
            "203/469 [===========>..................] - ETA: 17s - loss: 0.4815 - accuracy: 0.8451 - LRFinder: val_loss: 0.4015 - lr = 0.00036269 \n",
            "204/469 [============>.................] - ETA: 17s - loss: 0.4103 - accuracy: 0.8750 - LRFinder: val_loss: 0.5539 - lr = 0.00036917 \n",
            "205/469 [============>.................] - ETA: 17s - loss: 0.5296 - accuracy: 0.8294 - LRFinder: val_loss: 0.4248 - lr = 0.00037575 \n",
            "206/469 [============>.................] - ETA: 17s - loss: 0.4130 - accuracy: 0.8685 - LRFinder: val_loss: 0.4341 - lr = 0.00038246 \n",
            "207/469 [============>.................] - ETA: 17s - loss: 0.4153 - accuracy: 0.8724 - LRFinder: val_loss: 0.4230 - lr = 0.00038929 \n",
            "208/469 [============>.................] - ETA: 17s - loss: 0.4633 - accuracy: 0.8542 - LRFinder: val_loss: 0.4229 - lr = 0.00039623 \n",
            "209/469 [============>.................] - ETA: 16s - loss: 0.4247 - accuracy: 0.8516 - LRFinder: val_loss: 0.4430 - lr = 0.00040331 \n",
            "210/469 [============>.................] - ETA: 16s - loss: 0.4328 - accuracy: 0.8607 - LRFinder: val_loss: 0.4006 - lr = 0.00041050 \n",
            "211/469 [============>.................] - ETA: 16s - loss: 0.4095 - accuracy: 0.8737 - LRFinder: val_loss: 0.4332 - lr = 0.00041783 \n",
            "212/469 [============>.................] - ETA: 16s - loss: 0.4451 - accuracy: 0.8659 - LRFinder: val_loss: 0.3852 - lr = 0.00042529 \n",
            "213/469 [============>.................] - ETA: 16s - loss: 0.3786 - accuracy: 0.8867 - LRFinder: val_loss: 0.4177 - lr = 0.00043288 \n",
            "214/469 [============>.................] - ETA: 16s - loss: 0.4283 - accuracy: 0.8620 - LRFinder: val_loss: 0.4513 - lr = 0.00044060 \n",
            "215/469 [============>.................] - ETA: 16s - loss: 0.4766 - accuracy: 0.8516 - LRFinder: val_loss: 0.4822 - lr = 0.00044846 \n",
            "216/469 [============>.................] - ETA: 16s - loss: 0.4715 - accuracy: 0.8594 - LRFinder: val_loss: 0.4458 - lr = 0.00045647 \n",
            "217/469 [============>.................] - ETA: 16s - loss: 0.4508 - accuracy: 0.8646 - LRFinder: val_loss: 0.3983 - lr = 0.00046462 \n",
            "218/469 [============>.................] - ETA: 16s - loss: 0.4134 - accuracy: 0.8698 - LRFinder: val_loss: 0.4188 - lr = 0.00047291 \n",
            "219/469 [=============>................] - ETA: 16s - loss: 0.4522 - accuracy: 0.8503 - LRFinder: val_loss: 0.4079 - lr = 0.00048135 \n",
            "220/469 [=============>................] - ETA: 16s - loss: 0.4227 - accuracy: 0.8711 - LRFinder: val_loss: 0.5004 - lr = 0.00048994 \n",
            "221/469 [=============>................] - ETA: 16s - loss: 0.4959 - accuracy: 0.8464 - LRFinder: val_loss: 0.4137 - lr = 0.00049868 \n",
            "222/469 [=============>................] - ETA: 16s - loss: 0.3973 - accuracy: 0.8841 - LRFinder: val_loss: 0.3839 - lr = 0.00050758 \n",
            "223/469 [=============>................] - ETA: 16s - loss: 0.3865 - accuracy: 0.8776 - LRFinder: val_loss: 0.4514 - lr = 0.00051664 \n",
            "224/469 [=============>................] - ETA: 15s - loss: 0.4400 - accuracy: 0.8672 - LRFinder: val_loss: 0.4210 - lr = 0.00052586 \n",
            "225/469 [=============>................] - ETA: 15s - loss: 0.4345 - accuracy: 0.8633 - LRFinder: val_loss: 0.4813 - lr = 0.00053525 \n",
            "226/469 [=============>................] - ETA: 15s - loss: 0.5026 - accuracy: 0.8516 - LRFinder: val_loss: 0.4134 - lr = 0.00054480 \n",
            "227/469 [=============>................] - ETA: 15s - loss: 0.4268 - accuracy: 0.8672 - LRFinder: val_loss: 0.4222 - lr = 0.00055452 \n",
            "228/469 [=============>................] - ETA: 15s - loss: 0.4343 - accuracy: 0.8607 - LRFinder: val_loss: 0.4082 - lr = 0.00056442 \n",
            "229/469 [=============>................] - ETA: 15s - loss: 0.4070 - accuracy: 0.8594 - LRFinder: val_loss: 0.4343 - lr = 0.00057449 \n",
            "230/469 [=============>................] - ETA: 15s - loss: 0.4541 - accuracy: 0.8737 - LRFinder: val_loss: 0.4857 - lr = 0.00058474 \n",
            "231/469 [=============>................] - ETA: 15s - loss: 0.4835 - accuracy: 0.8490 - LRFinder: val_loss: 0.4411 - lr = 0.00059518 \n",
            "232/469 [=============>................] - ETA: 15s - loss: 0.4199 - accuracy: 0.8685 - LRFinder: val_loss: 0.3714 - lr = 0.00060580 \n",
            "233/469 [=============>................] - ETA: 15s - loss: 0.3817 - accuracy: 0.8763 - LRFinder: val_loss: 0.5259 - lr = 0.00061661 \n",
            "234/469 [=============>................] - ETA: 15s - loss: 0.4926 - accuracy: 0.8581 - LRFinder: val_loss: 0.4519 - lr = 0.00062762 \n",
            "235/469 [==============>...............] - ETA: 15s - loss: 0.4625 - accuracy: 0.8516 - LRFinder: val_loss: 0.4336 - lr = 0.00063882 \n",
            "236/469 [==============>...............] - ETA: 15s - loss: 0.4475 - accuracy: 0.8672 - LRFinder: val_loss: 0.3864 - lr = 0.00065022 \n",
            "237/469 [==============>...............] - ETA: 15s - loss: 0.4074 - accuracy: 0.8698 - LRFinder: val_loss: 0.4391 - lr = 0.00066182 \n",
            "238/469 [==============>...............] - ETA: 15s - loss: 0.4556 - accuracy: 0.8620 - LRFinder: val_loss: 0.3899 - lr = 0.00067364 \n",
            "239/469 [==============>...............] - ETA: 15s - loss: 0.4027 - accuracy: 0.8802 - LRFinder: val_loss: 0.4857 - lr = 0.00068566 \n",
            "240/469 [==============>...............] - ETA: 14s - loss: 0.4653 - accuracy: 0.8607 - LRFinder: val_loss: 0.4607 - lr = 0.00069789 \n",
            "241/469 [==============>...............] - ETA: 14s - loss: 0.4574 - accuracy: 0.8477 - LRFinder: val_loss: 0.4319 - lr = 0.00071035 \n",
            "242/469 [==============>...............] - ETA: 14s - loss: 0.4387 - accuracy: 0.8659 - LRFinder: val_loss: 0.4307 - lr = 0.00072303 \n",
            "243/469 [==============>...............] - ETA: 14s - loss: 0.4469 - accuracy: 0.8620 - LRFinder: val_loss: 0.4115 - lr = 0.00073593 \n",
            "244/469 [==============>...............] - ETA: 14s - loss: 0.4383 - accuracy: 0.8763 - LRFinder: val_loss: 0.3576 - lr = 0.00074907 \n",
            "245/469 [==============>...............] - ETA: 14s - loss: 0.4160 - accuracy: 0.8737 - LRFinder: val_loss: 0.4220 - lr = 0.00076243 \n",
            "246/469 [==============>...............] - ETA: 14s - loss: 0.4206 - accuracy: 0.8724 - LRFinder: val_loss: 0.3951 - lr = 0.00077604 \n",
            "247/469 [==============>...............] - ETA: 14s - loss: 0.3854 - accuracy: 0.8763 - LRFinder: val_loss: 0.4714 - lr = 0.00078989 \n",
            "248/469 [==============>...............] - ETA: 14s - loss: 0.4732 - accuracy: 0.8503 - LRFinder: val_loss: 0.3931 - lr = 0.00080399 \n",
            "249/469 [==============>...............] - ETA: 14s - loss: 0.3908 - accuracy: 0.8815 - LRFinder: val_loss: 0.4052 - lr = 0.00081834 \n",
            "250/469 [==============>...............] - ETA: 14s - loss: 0.4051 - accuracy: 0.8828 - LRFinder: val_loss: 0.4288 - lr = 0.00083294 \n",
            "251/469 [===============>..............] - ETA: 14s - loss: 0.4103 - accuracy: 0.8737 - LRFinder: val_loss: 0.4474 - lr = 0.00084781 \n",
            "252/469 [===============>..............] - ETA: 14s - loss: 0.4536 - accuracy: 0.8568 - LRFinder: val_loss: 0.4663 - lr = 0.00086294 \n",
            "253/469 [===============>..............] - ETA: 14s - loss: 0.4542 - accuracy: 0.8698 - LRFinder: val_loss: 0.4160 - lr = 0.00087834 \n",
            "254/469 [===============>..............] - ETA: 14s - loss: 0.4305 - accuracy: 0.8620 - LRFinder: val_loss: 0.4446 - lr = 0.00089401 \n",
            "255/469 [===============>..............] - ETA: 14s - loss: 0.4382 - accuracy: 0.8646 - LRFinder: val_loss: 0.4266 - lr = 0.00090997 \n",
            "256/469 [===============>..............] - ETA: 13s - loss: 0.4178 - accuracy: 0.8672 - LRFinder: val_loss: 0.4089 - lr = 0.00092621 \n",
            "257/469 [===============>..............] - ETA: 13s - loss: 0.3892 - accuracy: 0.8776 - LRFinder: val_loss: 0.4236 - lr = 0.00094274 \n",
            "258/469 [===============>..............] - ETA: 13s - loss: 0.4207 - accuracy: 0.8620 - LRFinder: val_loss: 0.4490 - lr = 0.00095956 \n",
            "259/469 [===============>..............] - ETA: 13s - loss: 0.4720 - accuracy: 0.8346 - LRFinder: val_loss: 0.4160 - lr = 0.00097669 \n",
            "260/469 [===============>..............] - ETA: 13s - loss: 0.4408 - accuracy: 0.8607 - LRFinder: val_loss: 0.4590 - lr = 0.00099412 \n",
            "261/469 [===============>..............] - ETA: 13s - loss: 0.4908 - accuracy: 0.8451 - LRFinder: val_loss: 0.4952 - lr = 0.00101186 \n",
            "262/469 [===============>..............] - ETA: 13s - loss: 0.4979 - accuracy: 0.8490 - LRFinder: val_loss: 0.4095 - lr = 0.00102992 \n",
            "263/469 [===============>..............] - ETA: 13s - loss: 0.4112 - accuracy: 0.8737 - LRFinder: val_loss: 0.4744 - lr = 0.00104830 \n",
            "264/469 [===============>..............] - ETA: 13s - loss: 0.4780 - accuracy: 0.8594 - LRFinder: val_loss: 0.4611 - lr = 0.00106701 \n",
            "265/469 [===============>..............] - ETA: 13s - loss: 0.4573 - accuracy: 0.8711 - LRFinder: val_loss: 0.4071 - lr = 0.00108605 \n",
            "266/469 [================>.............] - ETA: 13s - loss: 0.4085 - accuracy: 0.8763 - LRFinder: val_loss: 0.4497 - lr = 0.00110544 \n",
            "267/469 [================>.............] - ETA: 13s - loss: 0.4330 - accuracy: 0.8633 - LRFinder: val_loss: 0.4205 - lr = 0.00112517 \n",
            "268/469 [================>.............] - ETA: 13s - loss: 0.4311 - accuracy: 0.8685 - LRFinder: val_loss: 0.4442 - lr = 0.00114525 \n",
            "269/469 [================>.............] - ETA: 13s - loss: 0.4687 - accuracy: 0.8529 - LRFinder: val_loss: 0.3918 - lr = 0.00116569 \n",
            "270/469 [================>.............] - ETA: 12s - loss: 0.3923 - accuracy: 0.8789 - LRFinder: val_loss: 0.4372 - lr = 0.00118649 \n",
            "271/469 [================>.............] - ETA: 12s - loss: 0.4507 - accuracy: 0.8568 - LRFinder: val_loss: 0.4170 - lr = 0.00120766 \n",
            "272/469 [================>.............] - ETA: 12s - loss: 0.4042 - accuracy: 0.8815 - LRFinder: val_loss: 0.4981 - lr = 0.00122922 \n",
            "273/469 [================>.............] - ETA: 12s - loss: 0.5110 - accuracy: 0.8594 - LRFinder: val_loss: 0.4366 - lr = 0.00125115 \n",
            "274/469 [================>.............] - ETA: 12s - loss: 0.4316 - accuracy: 0.8685 - LRFinder: val_loss: 0.4465 - lr = 0.00127348 \n",
            "275/469 [================>.............] - ETA: 12s - loss: 0.4414 - accuracy: 0.8594 - LRFinder: val_loss: 0.4146 - lr = 0.00129621 \n",
            "276/469 [================>.............] - ETA: 12s - loss: 0.4086 - accuracy: 0.8685 - LRFinder: val_loss: 0.4241 - lr = 0.00131935 \n",
            "277/469 [================>.............] - ETA: 12s - loss: 0.4379 - accuracy: 0.8698 - LRFinder: val_loss: 0.4246 - lr = 0.00134289 \n",
            "278/469 [================>.............] - ETA: 12s - loss: 0.4070 - accuracy: 0.8789 - LRFinder: val_loss: 0.4215 - lr = 0.00136686 \n",
            "279/469 [================>.............] - ETA: 12s - loss: 0.4156 - accuracy: 0.8789 - LRFinder: val_loss: 0.4243 - lr = 0.00139125 \n",
            "280/469 [================>.............] - ETA: 12s - loss: 0.4190 - accuracy: 0.8529 - LRFinder: val_loss: 0.4639 - lr = 0.00141608 \n",
            "281/469 [================>.............] - ETA: 12s - loss: 0.4468 - accuracy: 0.8555 - LRFinder: val_loss: 0.4036 - lr = 0.00144135 \n",
            "282/469 [=================>............] - ETA: 12s - loss: 0.4072 - accuracy: 0.8633 - LRFinder: val_loss: 0.4332 - lr = 0.00146708 \n",
            "283/469 [=================>............] - ETA: 12s - loss: 0.4591 - accuracy: 0.8646 - LRFinder: val_loss: 0.4237 - lr = 0.00149326 \n",
            "284/469 [=================>............] - ETA: 12s - loss: 0.4081 - accuracy: 0.8685 - LRFinder: val_loss: 0.4534 - lr = 0.00151991 \n",
            "285/469 [=================>............] - ETA: 12s - loss: 0.4570 - accuracy: 0.8503 - LRFinder: val_loss: 0.4500 - lr = 0.00154704 \n",
            "286/469 [=================>............] - ETA: 11s - loss: 0.4415 - accuracy: 0.8659 - LRFinder: val_loss: 0.4514 - lr = 0.00157465 \n",
            "287/469 [=================>............] - ETA: 11s - loss: 0.4503 - accuracy: 0.8646 - LRFinder: val_loss: 0.4012 - lr = 0.00160275 \n",
            "288/469 [=================>............] - ETA: 11s - loss: 0.4442 - accuracy: 0.8724 - LRFinder: val_loss: 0.4754 - lr = 0.00163135 \n",
            "289/469 [=================>............] - ETA: 11s - loss: 0.4690 - accuracy: 0.8438 - LRFinder: val_loss: 0.4206 - lr = 0.00166047 \n",
            "290/469 [=================>............] - ETA: 11s - loss: 0.4076 - accuracy: 0.8659 - LRFinder: val_loss: 0.4301 - lr = 0.00169010 \n",
            "291/469 [=================>............] - ETA: 11s - loss: 0.4530 - accuracy: 0.8516 - LRFinder: val_loss: 0.3967 - lr = 0.00172026 \n",
            "292/469 [=================>............] - ETA: 11s - loss: 0.4122 - accuracy: 0.8841 - LRFinder: val_loss: 0.4302 - lr = 0.00175097 \n",
            "293/469 [=================>............] - ETA: 11s - loss: 0.4324 - accuracy: 0.8424 - LRFinder: val_loss: 0.4591 - lr = 0.00178222 \n",
            "294/469 [=================>............] - ETA: 11s - loss: 0.4676 - accuracy: 0.8516 - LRFinder: val_loss: 0.4461 - lr = 0.00181402 \n",
            "295/469 [=================>............] - ETA: 11s - loss: 0.4306 - accuracy: 0.8542 - LRFinder: val_loss: 0.4527 - lr = 0.00184640 \n",
            "296/469 [=================>............] - ETA: 11s - loss: 0.4359 - accuracy: 0.8646 - LRFinder: val_loss: 0.4047 - lr = 0.00187935 \n",
            "297/469 [=================>............] - ETA: 11s - loss: 0.4259 - accuracy: 0.8724 - LRFinder: val_loss: 0.4293 - lr = 0.00191289 \n",
            "298/469 [==================>...........] - ETA: 11s - loss: 0.4370 - accuracy: 0.8594 - LRFinder: val_loss: 0.3958 - lr = 0.00194703 \n",
            "299/469 [==================>...........] - ETA: 11s - loss: 0.4305 - accuracy: 0.8698 - LRFinder: val_loss: 0.4256 - lr = 0.00198178 \n",
            "300/469 [==================>...........] - ETA: 11s - loss: 0.4120 - accuracy: 0.8789 - LRFinder: val_loss: 0.4332 - lr = 0.00201715 \n",
            "301/469 [==================>...........] - ETA: 11s - loss: 0.4441 - accuracy: 0.8607 - LRFinder: val_loss: 0.4079 - lr = 0.00205315 \n",
            "302/469 [==================>...........] - ETA: 10s - loss: 0.4256 - accuracy: 0.8659 - LRFinder: val_loss: 0.4499 - lr = 0.00208979 \n",
            "303/469 [==================>...........] - ETA: 10s - loss: 0.4422 - accuracy: 0.8594 - LRFinder: val_loss: 0.3561 - lr = 0.00212708 \n",
            "304/469 [==================>...........] - ETA: 10s - loss: 0.3560 - accuracy: 0.8919 - LRFinder: val_loss: 0.4196 - lr = 0.00216505 \n",
            "305/469 [==================>...........] - ETA: 10s - loss: 0.4221 - accuracy: 0.8750 - LRFinder: val_loss: 0.4906 - lr = 0.00220369 \n",
            "306/469 [==================>...........] - ETA: 10s - loss: 0.5020 - accuracy: 0.8542 - LRFinder: val_loss: 0.4634 - lr = 0.00224301 \n",
            "307/469 [==================>...........] - ETA: 10s - loss: 0.4659 - accuracy: 0.8659 - LRFinder: val_loss: 0.4669 - lr = 0.00228305 \n",
            "308/469 [==================>...........] - ETA: 10s - loss: 0.4873 - accuracy: 0.8516 - LRFinder: val_loss: 0.3868 - lr = 0.00232379 \n",
            "309/469 [==================>...........] - ETA: 10s - loss: 0.4225 - accuracy: 0.8659 - LRFinder: val_loss: 0.4276 - lr = 0.00236526 \n",
            "310/469 [==================>...........] - ETA: 10s - loss: 0.4550 - accuracy: 0.8503 - LRFinder: val_loss: 0.3929 - lr = 0.00240748 \n",
            "311/469 [==================>...........] - ETA: 10s - loss: 0.3917 - accuracy: 0.8685 - LRFinder: val_loss: 0.3143 - lr = 0.00245044 \n",
            "312/469 [==================>...........] - ETA: 10s - loss: 0.3224 - accuracy: 0.8997 - LRFinder: val_loss: 0.4301 - lr = 0.00249417 \n",
            "313/469 [===================>..........] - ETA: 10s - loss: 0.4643 - accuracy: 0.8594 - LRFinder: val_loss: 0.4410 - lr = 0.00253869 \n",
            "314/469 [===================>..........] - ETA: 10s - loss: 0.4494 - accuracy: 0.8698 - LRFinder: val_loss: 0.4495 - lr = 0.00258400 \n",
            "315/469 [===================>..........] - ETA: 10s - loss: 0.4646 - accuracy: 0.8646 - LRFinder: val_loss: 0.4405 - lr = 0.00263011 \n",
            "316/469 [===================>..........] - ETA: 10s - loss: 0.4463 - accuracy: 0.8581 - LRFinder: val_loss: 0.4594 - lr = 0.00267705 \n",
            "317/469 [===================>..........] - ETA: 9s - loss: 0.4798 - accuracy: 0.8490  - LRFinder: val_loss: 0.4321 - lr = 0.00272483 \n",
            "318/469 [===================>..........] - ETA: 9s - loss: 0.4198 - accuracy: 0.8789 - LRFinder: val_loss: 0.4710 - lr = 0.00277346 \n",
            "319/469 [===================>..........] - ETA: 9s - loss: 0.4648 - accuracy: 0.8424 - LRFinder: val_loss: 0.4142 - lr = 0.00282296 \n",
            "320/469 [===================>..........] - ETA: 9s - loss: 0.4154 - accuracy: 0.8724 - LRFinder: val_loss: 0.3632 - lr = 0.00287334 \n",
            "321/469 [===================>..........] - ETA: 9s - loss: 0.3740 - accuracy: 0.8776 - LRFinder: val_loss: 0.4149 - lr = 0.00292462 \n",
            "322/469 [===================>..........] - ETA: 9s - loss: 0.4192 - accuracy: 0.8672 - LRFinder: val_loss: 0.4198 - lr = 0.00297681 \n",
            "323/469 [===================>..........] - ETA: 9s - loss: 0.4128 - accuracy: 0.8776 - LRFinder: val_loss: 0.4329 - lr = 0.00302994 \n",
            "324/469 [===================>..........] - ETA: 9s - loss: 0.4133 - accuracy: 0.8711 - LRFinder: val_loss: 0.4866 - lr = 0.00308401 \n",
            "325/469 [===================>..........] - ETA: 9s - loss: 0.4852 - accuracy: 0.8411 - LRFinder: val_loss: 0.4547 - lr = 0.00313905 \n",
            "326/469 [===================>..........] - ETA: 9s - loss: 0.4629 - accuracy: 0.8594 - LRFinder: val_loss: 0.4345 - lr = 0.00319508 \n",
            "327/469 [===================>..........] - ETA: 9s - loss: 0.4501 - accuracy: 0.8581 - LRFinder: val_loss: 0.4000 - lr = 0.00325210 \n",
            "328/469 [===================>..........] - ETA: 9s - loss: 0.4190 - accuracy: 0.8776 - LRFinder: val_loss: 0.4644 - lr = 0.00331014 \n",
            "329/469 [====================>.........] - ETA: 9s - loss: 0.4658 - accuracy: 0.8698 - LRFinder: val_loss: 0.4734 - lr = 0.00336921 \n",
            "330/469 [====================>.........] - ETA: 9s - loss: 0.4959 - accuracy: 0.8568 - LRFinder: val_loss: 0.4302 - lr = 0.00342934 \n",
            "331/469 [====================>.........] - ETA: 9s - loss: 0.4272 - accuracy: 0.8672 - LRFinder: val_loss: 0.5137 - lr = 0.00349055 \n",
            "332/469 [====================>.........] - ETA: 9s - loss: 0.4919 - accuracy: 0.8490 - LRFinder: val_loss: 0.4583 - lr = 0.00355284 \n",
            "333/469 [====================>.........] - ETA: 8s - loss: 0.4506 - accuracy: 0.8737 - LRFinder: val_loss: 0.3979 - lr = 0.00361625 \n",
            "334/469 [====================>.........] - ETA: 8s - loss: 0.4058 - accuracy: 0.8802 - LRFinder: val_loss: 0.4721 - lr = 0.00368079 \n",
            "335/469 [====================>.........] - ETA: 8s - loss: 0.4925 - accuracy: 0.8242 - LRFinder: val_loss: 0.4184 - lr = 0.00374648 \n",
            "336/469 [====================>.........] - ETA: 8s - loss: 0.3917 - accuracy: 0.8737 - LRFinder: val_loss: 0.4340 - lr = 0.00381334 \n",
            "337/469 [====================>.........] - ETA: 8s - loss: 0.4113 - accuracy: 0.8672 - LRFinder: val_loss: 0.4007 - lr = 0.00388140 \n",
            "338/469 [====================>.........] - ETA: 8s - loss: 0.4364 - accuracy: 0.8698 - LRFinder: val_loss: 0.4292 - lr = 0.00395067 \n",
            "339/469 [====================>.........] - ETA: 8s - loss: 0.4541 - accuracy: 0.8672 - LRFinder: val_loss: 0.4696 - lr = 0.00402118 \n",
            "340/469 [====================>.........] - ETA: 8s - loss: 0.4790 - accuracy: 0.8542 - LRFinder: val_loss: 0.4551 - lr = 0.00409294 \n",
            "341/469 [====================>.........] - ETA: 8s - loss: 0.4354 - accuracy: 0.8620 - LRFinder: val_loss: 0.4367 - lr = 0.00416599 \n",
            "342/469 [====================>.........] - ETA: 8s - loss: 0.4546 - accuracy: 0.8464 - LRFinder: val_loss: 0.4767 - lr = 0.00424034 \n",
            "343/469 [====================>.........] - ETA: 8s - loss: 0.4893 - accuracy: 0.8555 - LRFinder: val_loss: 0.4329 - lr = 0.00431602 \n",
            "344/469 [=====================>........] - ETA: 8s - loss: 0.4381 - accuracy: 0.8711 - LRFinder: val_loss: 0.3823 - lr = 0.00439304 \n",
            "345/469 [=====================>........] - ETA: 8s - loss: 0.3863 - accuracy: 0.8711 - LRFinder: val_loss: 0.3719 - lr = 0.00447145 \n",
            "346/469 [=====================>........] - ETA: 8s - loss: 0.3739 - accuracy: 0.8776 - LRFinder: val_loss: 0.4128 - lr = 0.00455125 \n",
            "347/469 [=====================>........] - ETA: 8s - loss: 0.4186 - accuracy: 0.8607 - LRFinder: val_loss: 0.3538 - lr = 0.00463247 \n",
            "348/469 [=====================>........] - ETA: 7s - loss: 0.3506 - accuracy: 0.8945 - LRFinder: val_loss: 0.4206 - lr = 0.00471515 \n",
            "349/469 [=====================>........] - ETA: 7s - loss: 0.4508 - accuracy: 0.8620 - LRFinder: val_loss: 0.3874 - lr = 0.00479930 \n",
            "350/469 [=====================>........] - ETA: 7s - loss: 0.3968 - accuracy: 0.8763 - LRFinder: val_loss: 0.4824 - lr = 0.00488495 \n",
            "351/469 [=====================>........] - ETA: 7s - loss: 0.4711 - accuracy: 0.8581 - LRFinder: val_loss: 0.4043 - lr = 0.00497213 \n",
            "352/469 [=====================>........] - ETA: 7s - loss: 0.4258 - accuracy: 0.8711 - LRFinder: val_loss: 0.3788 - lr = 0.00506087 \n",
            "353/469 [=====================>........] - ETA: 7s - loss: 0.3927 - accuracy: 0.8711 - LRFinder: val_loss: 0.4061 - lr = 0.00515119 \n",
            "354/469 [=====================>........] - ETA: 7s - loss: 0.4333 - accuracy: 0.8555 - LRFinder: val_loss: 0.4141 - lr = 0.00524312 \n",
            "355/469 [=====================>........] - ETA: 7s - loss: 0.4283 - accuracy: 0.8633 - LRFinder: val_loss: 0.3889 - lr = 0.00533670 \n",
            "356/469 [=====================>........] - ETA: 7s - loss: 0.3852 - accuracy: 0.8880 - LRFinder: val_loss: 0.5089 - lr = 0.00543194 \n",
            "357/469 [=====================>........] - ETA: 7s - loss: 0.4951 - accuracy: 0.8411 - LRFinder: val_loss: 0.4418 - lr = 0.00552888 \n",
            "358/469 [=====================>........] - ETA: 7s - loss: 0.4480 - accuracy: 0.8555 - LRFinder: val_loss: 0.4183 - lr = 0.00562756 \n",
            "359/469 [=====================>........] - ETA: 7s - loss: 0.4322 - accuracy: 0.8581 - LRFinder: val_loss: 0.3816 - lr = 0.00572799 \n",
            "360/469 [======================>.......] - ETA: 7s - loss: 0.3666 - accuracy: 0.8776 - LRFinder: val_loss: 0.4520 - lr = 0.00583022 \n",
            "361/469 [======================>.......] - ETA: 7s - loss: 0.4394 - accuracy: 0.8607 - LRFinder: val_loss: 0.4178 - lr = 0.00593427 \n",
            "362/469 [======================>.......] - ETA: 7s - loss: 0.4531 - accuracy: 0.8581 - LRFinder: val_loss: 0.4707 - lr = 0.00604018 \n",
            "363/469 [======================>.......] - ETA: 6s - loss: 0.4630 - accuracy: 0.8594 - LRFinder: val_loss: 0.4504 - lr = 0.00614798 \n",
            "364/469 [======================>.......] - ETA: 6s - loss: 0.4358 - accuracy: 0.8685 - LRFinder: val_loss: 0.3656 - lr = 0.00625770 \n",
            "365/469 [======================>.......] - ETA: 6s - loss: 0.3668 - accuracy: 0.8763 - LRFinder: val_loss: 0.4102 - lr = 0.00636938 \n",
            "366/469 [======================>.......] - ETA: 6s - loss: 0.4364 - accuracy: 0.8737 - LRFinder: val_loss: 0.3903 - lr = 0.00648305 \n",
            "367/469 [======================>.......] - ETA: 6s - loss: 0.4156 - accuracy: 0.8763 - LRFinder: val_loss: 0.4916 - lr = 0.00659876 \n",
            "368/469 [======================>.......] - ETA: 6s - loss: 0.4779 - accuracy: 0.8490 - LRFinder: val_loss: 0.4372 - lr = 0.00671652 \n",
            "369/469 [======================>.......] - ETA: 6s - loss: 0.4361 - accuracy: 0.8724 - LRFinder: val_loss: 0.5206 - lr = 0.00683639 \n",
            "370/469 [======================>.......] - ETA: 6s - loss: 0.4924 - accuracy: 0.8633 - LRFinder: val_loss: 0.4349 - lr = 0.00695840 \n",
            "371/469 [======================>.......] - ETA: 6s - loss: 0.4422 - accuracy: 0.8529 - LRFinder: val_loss: 0.4450 - lr = 0.00708259 \n",
            "372/469 [======================>.......] - ETA: 6s - loss: 0.4389 - accuracy: 0.8568 - LRFinder: val_loss: 0.4619 - lr = 0.00720899 \n",
            "373/469 [======================>.......] - ETA: 6s - loss: 0.4609 - accuracy: 0.8568 - LRFinder: val_loss: 0.4459 - lr = 0.00733765 \n",
            "374/469 [======================>.......] - ETA: 6s - loss: 0.4749 - accuracy: 0.8620 - LRFinder: val_loss: 0.4032 - lr = 0.00746860 \n",
            "375/469 [======================>.......] - ETA: 6s - loss: 0.4178 - accuracy: 0.8789 - LRFinder: val_loss: 0.3808 - lr = 0.00760189 \n",
            "376/469 [=======================>......] - ETA: 6s - loss: 0.3765 - accuracy: 0.8724 - LRFinder: val_loss: 0.4017 - lr = 0.00773756 \n",
            "377/469 [=======================>......] - ETA: 6s - loss: 0.4180 - accuracy: 0.8633 - LRFinder: val_loss: 0.4818 - lr = 0.00787565 \n",
            "378/469 [=======================>......] - ETA: 5s - loss: 0.4539 - accuracy: 0.8646 - LRFinder: val_loss: 0.4682 - lr = 0.00801621 \n",
            "379/469 [=======================>......] - ETA: 5s - loss: 0.4694 - accuracy: 0.8529 - LRFinder: val_loss: 0.4610 - lr = 0.00815927 \n",
            "380/469 [=======================>......] - ETA: 5s - loss: 0.4492 - accuracy: 0.8581 - LRFinder: val_loss: 0.3951 - lr = 0.00830489 \n",
            "381/469 [=======================>......] - ETA: 5s - loss: 0.3904 - accuracy: 0.8789 - LRFinder: val_loss: 0.3970 - lr = 0.00845311 \n",
            "382/469 [=======================>......] - ETA: 5s - loss: 0.4208 - accuracy: 0.8646 - LRFinder: val_loss: 0.4379 - lr = 0.00860397 \n",
            "383/469 [=======================>......] - ETA: 5s - loss: 0.4485 - accuracy: 0.8581 - LRFinder: val_loss: 0.4206 - lr = 0.00875752 \n",
            "384/469 [=======================>......] - ETA: 5s - loss: 0.4184 - accuracy: 0.8672 - LRFinder: val_loss: 0.5026 - lr = 0.00891382 \n",
            "385/469 [=======================>......] - ETA: 5s - loss: 0.5088 - accuracy: 0.8464 - LRFinder: val_loss: 0.5451 - lr = 0.00907290 \n",
            "386/469 [=======================>......] - ETA: 5s - loss: 0.5299 - accuracy: 0.8385 - LRFinder: val_loss: 0.4470 - lr = 0.00923483 \n",
            "387/469 [=======================>......] - ETA: 5s - loss: 0.4541 - accuracy: 0.8516 - LRFinder: val_loss: 0.4268 - lr = 0.00939964 \n",
            "388/469 [=======================>......] - ETA: 5s - loss: 0.4407 - accuracy: 0.8607 - LRFinder: val_loss: 0.4478 - lr = 0.00956739 \n",
            "389/469 [=======================>......] - ETA: 5s - loss: 0.4308 - accuracy: 0.8581 - LRFinder: val_loss: 0.4271 - lr = 0.00973814 \n",
            "390/469 [=======================>......] - ETA: 5s - loss: 0.4435 - accuracy: 0.8737 - LRFinder: val_loss: 0.4249 - lr = 0.00991194 \n",
            "391/469 [========================>.....] - ETA: 5s - loss: 0.4085 - accuracy: 0.8945 - LRFinder: val_loss: 0.4340 - lr = 0.01008884 \n",
            "392/469 [========================>.....] - ETA: 5s - loss: 0.4031 - accuracy: 0.8659 - LRFinder: val_loss: 0.4202 - lr = 0.01026889 \n",
            "393/469 [========================>.....] - ETA: 5s - loss: 0.4175 - accuracy: 0.8737 - LRFinder: val_loss: 0.4080 - lr = 0.01045216 \n",
            "394/469 [========================>.....] - ETA: 4s - loss: 0.4173 - accuracy: 0.8711 - LRFinder: val_loss: 0.4750 - lr = 0.01063870 \n",
            "395/469 [========================>.....] - ETA: 4s - loss: 0.4775 - accuracy: 0.8607 - LRFinder: val_loss: 0.4102 - lr = 0.01082856 \n",
            "396/469 [========================>.....] - ETA: 4s - loss: 0.4164 - accuracy: 0.8685 - LRFinder: val_loss: 0.4679 - lr = 0.01102182 \n",
            "397/469 [========================>.....] - ETA: 4s - loss: 0.4873 - accuracy: 0.8659 - LRFinder: val_loss: 0.4614 - lr = 0.01121853 \n",
            "398/469 [========================>.....] - ETA: 4s - loss: 0.4476 - accuracy: 0.8724 - LRFinder: val_loss: 0.4253 - lr = 0.01141874 \n",
            "399/469 [========================>.....] - ETA: 4s - loss: 0.4419 - accuracy: 0.8568 - LRFinder: val_loss: 0.3942 - lr = 0.01162253 \n",
            "400/469 [========================>.....] - ETA: 4s - loss: 0.3938 - accuracy: 0.8854 - LRFinder: val_loss: 0.3723 - lr = 0.01182996 \n",
            "401/469 [========================>.....] - ETA: 4s - loss: 0.3815 - accuracy: 0.8815 - LRFinder: val_loss: 0.4161 - lr = 0.01204109 \n",
            "402/469 [========================>.....] - ETA: 4s - loss: 0.4363 - accuracy: 0.8763 - LRFinder: val_loss: 0.4199 - lr = 0.01225598 \n",
            "403/469 [========================>.....] - ETA: 4s - loss: 0.4530 - accuracy: 0.8646 - LRFinder: val_loss: 0.4306 - lr = 0.01247471 \n",
            "404/469 [========================>.....] - ETA: 4s - loss: 0.4202 - accuracy: 0.8750 - LRFinder: val_loss: 0.4528 - lr = 0.01269735 \n",
            "405/469 [========================>.....] - ETA: 4s - loss: 0.4734 - accuracy: 0.8542 - LRFinder: val_loss: 0.4163 - lr = 0.01292396 \n",
            "406/469 [========================>.....] - ETA: 4s - loss: 0.3947 - accuracy: 0.8958 - LRFinder: val_loss: 0.3936 - lr = 0.01315461 \n",
            "407/469 [=========================>....] - ETA: 4s - loss: 0.3794 - accuracy: 0.8867 - LRFinder: val_loss: 0.3557 - lr = 0.01338938 \n",
            "408/469 [=========================>....] - ETA: 4s - loss: 0.3984 - accuracy: 0.8841 - LRFinder: val_loss: 0.4330 - lr = 0.01362834 \n",
            "409/469 [=========================>....] - ETA: 3s - loss: 0.4365 - accuracy: 0.8698 - LRFinder: val_loss: 0.4263 - lr = 0.01387156 \n",
            "410/469 [=========================>....] - ETA: 3s - loss: 0.4335 - accuracy: 0.8711 - LRFinder: val_loss: 0.4279 - lr = 0.01411912 \n",
            "411/469 [=========================>....] - ETA: 3s - loss: 0.4243 - accuracy: 0.8659 - LRFinder: val_loss: 0.4794 - lr = 0.01437111 \n",
            "412/469 [=========================>....] - ETA: 3s - loss: 0.4872 - accuracy: 0.8737 - LRFinder: val_loss: 0.4166 - lr = 0.01462759 \n",
            "413/469 [=========================>....] - ETA: 3s - loss: 0.4443 - accuracy: 0.8477 - LRFinder: val_loss: 0.4240 - lr = 0.01488864 \n",
            "414/469 [=========================>....] - ETA: 3s - loss: 0.4482 - accuracy: 0.8633 - LRFinder: val_loss: 0.3979 - lr = 0.01515436 \n",
            "415/469 [=========================>....] - ETA: 3s - loss: 0.3999 - accuracy: 0.8828 - LRFinder: val_loss: 0.4117 - lr = 0.01542482 \n",
            "416/469 [=========================>....] - ETA: 3s - loss: 0.4227 - accuracy: 0.8685 - LRFinder: val_loss: 0.3904 - lr = 0.01570010 \n",
            "417/469 [=========================>....] - ETA: 3s - loss: 0.4074 - accuracy: 0.8828 - LRFinder: val_loss: 0.4687 - lr = 0.01598030 \n",
            "418/469 [=========================>....] - ETA: 3s - loss: 0.4502 - accuracy: 0.8737 - LRFinder: val_loss: 0.3944 - lr = 0.01626550 \n",
            "419/469 [=========================>....] - ETA: 3s - loss: 0.4126 - accuracy: 0.8750 - LRFinder: val_loss: 0.3907 - lr = 0.01655579 \n",
            "420/469 [=========================>....] - ETA: 3s - loss: 0.3981 - accuracy: 0.8646 - LRFinder: val_loss: 0.4714 - lr = 0.01685126 \n",
            "421/469 [=========================>....] - ETA: 3s - loss: 0.4688 - accuracy: 0.8607 - LRFinder: val_loss: 0.4794 - lr = 0.01715200 \n",
            "422/469 [=========================>....] - ETA: 3s - loss: 0.4750 - accuracy: 0.8568 - LRFinder: val_loss: 0.4525 - lr = 0.01745811 \n",
            "423/469 [==========================>...] - ETA: 3s - loss: 0.4529 - accuracy: 0.8620 - LRFinder: val_loss: 0.3857 - lr = 0.01776968 \n",
            "424/469 [==========================>...] - ETA: 2s - loss: 0.3750 - accuracy: 0.8919 - LRFinder: val_loss: 0.4775 - lr = 0.01808682 \n",
            "425/469 [==========================>...] - ETA: 2s - loss: 0.4977 - accuracy: 0.8359 - LRFinder: val_loss: 0.3628 - lr = 0.01840961 \n",
            "426/469 [==========================>...] - ETA: 2s - loss: 0.3844 - accuracy: 0.8750 - LRFinder: val_loss: 0.4216 - lr = 0.01873817 \n",
            "427/469 [==========================>...] - ETA: 2s - loss: 0.4171 - accuracy: 0.8737 - LRFinder: val_loss: 0.5011 - lr = 0.01907259 \n",
            "428/469 [==========================>...] - ETA: 2s - loss: 0.4829 - accuracy: 0.8555 - LRFinder: val_loss: 0.3834 - lr = 0.01941297 \n",
            "429/469 [==========================>...] - ETA: 2s - loss: 0.3776 - accuracy: 0.8815 - LRFinder: val_loss: 0.4267 - lr = 0.01975943 \n",
            "430/469 [==========================>...] - ETA: 2s - loss: 0.4187 - accuracy: 0.8685 - LRFinder: val_loss: 0.4004 - lr = 0.02011208 \n",
            "431/469 [==========================>...] - ETA: 2s - loss: 0.4079 - accuracy: 0.8750 - LRFinder: val_loss: 0.4628 - lr = 0.02047102 \n",
            "432/469 [==========================>...] - ETA: 2s - loss: 0.4479 - accuracy: 0.8594 - LRFinder: val_loss: 0.4239 - lr = 0.02083636 \n",
            "433/469 [==========================>...] - ETA: 2s - loss: 0.4353 - accuracy: 0.8854 - LRFinder: val_loss: 0.3936 - lr = 0.02120823 \n",
            "434/469 [==========================>...] - ETA: 2s - loss: 0.3954 - accuracy: 0.8763 - LRFinder: val_loss: 0.4225 - lr = 0.02158673 \n",
            "435/469 [==========================>...] - ETA: 2s - loss: 0.4199 - accuracy: 0.8659 - LRFinder: val_loss: 0.4934 - lr = 0.02197198 \n",
            "436/469 [==========================>...] - ETA: 2s - loss: 0.5004 - accuracy: 0.8398 - LRFinder: val_loss: 0.4107 - lr = 0.02236412 \n",
            "437/469 [==========================>...] - ETA: 2s - loss: 0.4172 - accuracy: 0.8633 - LRFinder: val_loss: 0.4089 - lr = 0.02276325 \n",
            "438/469 [===========================>..] - ETA: 2s - loss: 0.4138 - accuracy: 0.8711 - LRFinder: val_loss: 0.3719 - lr = 0.02316950 \n",
            "439/469 [===========================>..] - ETA: 1s - loss: 0.3527 - accuracy: 0.8893 - LRFinder: val_loss: 0.3730 - lr = 0.02358300 \n",
            "440/469 [===========================>..] - ETA: 1s - loss: 0.3847 - accuracy: 0.8958 - LRFinder: val_loss: 0.3926 - lr = 0.02400389 \n",
            "441/469 [===========================>..] - ETA: 1s - loss: 0.4069 - accuracy: 0.8737 - LRFinder: val_loss: 0.3884 - lr = 0.02443228 \n",
            "442/469 [===========================>..] - ETA: 1s - loss: 0.4082 - accuracy: 0.8711 - LRFinder: val_loss: 0.4328 - lr = 0.02486832 \n",
            "443/469 [===========================>..] - ETA: 1s - loss: 0.4189 - accuracy: 0.8555 - LRFinder: val_loss: 0.4318 - lr = 0.02531214 \n",
            "444/469 [===========================>..] - ETA: 1s - loss: 0.4326 - accuracy: 0.8945 - LRFinder: val_loss: 0.4551 - lr = 0.02576389 \n",
            "445/469 [===========================>..] - ETA: 1s - loss: 0.4518 - accuracy: 0.8620 - LRFinder: val_loss: 0.3753 - lr = 0.02622369 \n",
            "446/469 [===========================>..] - ETA: 1s - loss: 0.3938 - accuracy: 0.8802 - LRFinder: val_loss: 0.3959 - lr = 0.02669170 \n",
            "447/469 [===========================>..] - ETA: 1s - loss: 0.3951 - accuracy: 0.8867 - LRFinder: val_loss: 0.4111 - lr = 0.02716807 \n",
            "448/469 [===========================>..] - ETA: 1s - loss: 0.4251 - accuracy: 0.8776 - LRFinder: val_loss: 0.4054 - lr = 0.02765293 \n",
            "449/469 [===========================>..] - ETA: 1s - loss: 0.4314 - accuracy: 0.8698 - LRFinder: val_loss: 0.4058 - lr = 0.02814645 \n",
            "450/469 [===========================>..] - ETA: 1s - loss: 0.4157 - accuracy: 0.8659 - LRFinder: val_loss: 0.3875 - lr = 0.02864878 \n",
            "451/469 [===========================>..] - ETA: 1s - loss: 0.3903 - accuracy: 0.8932 - LRFinder: val_loss: 0.4004 - lr = 0.02916007 \n",
            "452/469 [===========================>..] - ETA: 1s - loss: 0.4026 - accuracy: 0.8867 - LRFinder: val_loss: 0.4318 - lr = 0.02968049 \n",
            "453/469 [===========================>..] - ETA: 1s - loss: 0.4293 - accuracy: 0.8581 - LRFinder: val_loss: 0.4223 - lr = 0.03021019 \n",
            "454/469 [============================>.] - ETA: 0s - loss: 0.4374 - accuracy: 0.8659 - LRFinder: val_loss: 0.4637 - lr = 0.03074935 \n",
            "455/469 [============================>.] - ETA: 0s - loss: 0.4844 - accuracy: 0.8464 - LRFinder: val_loss: 0.3850 - lr = 0.03129813 \n",
            "456/469 [============================>.] - ETA: 0s - loss: 0.3853 - accuracy: 0.8763 - LRFinder: val_loss: 0.4262 - lr = 0.03185671 \n",
            "457/469 [============================>.] - ETA: 0s - loss: 0.4081 - accuracy: 0.8841 - LRFinder: val_loss: 0.3589 - lr = 0.03242525 \n",
            "458/469 [============================>.] - ETA: 0s - loss: 0.3416 - accuracy: 0.8971 - LRFinder: val_loss: 0.4837 - lr = 0.03300394 \n",
            "459/469 [============================>.] - ETA: 0s - loss: 0.4741 - accuracy: 0.8568 - LRFinder: val_loss: 0.4466 - lr = 0.03359296 \n",
            "460/469 [============================>.] - ETA: 0s - loss: 0.4428 - accuracy: 0.8776 - LRFinder: val_loss: 0.4321 - lr = 0.03419248 \n",
            "461/469 [============================>.] - ETA: 0s - loss: 0.4347 - accuracy: 0.8542 - LRFinder: val_loss: 0.3915 - lr = 0.03480271 \n",
            "462/469 [============================>.] - ETA: 0s - loss: 0.4085 - accuracy: 0.8841 - LRFinder: val_loss: 0.3851 - lr = 0.03542383 \n",
            "463/469 [============================>.] - ETA: 0s - loss: 0.3891 - accuracy: 0.8854 - LRFinder: val_loss: 0.4524 - lr = 0.03605604 \n",
            "464/469 [============================>.] - ETA: 0s - loss: 0.4531 - accuracy: 0.8698 - LRFinder: val_loss: 0.4702 - lr = 0.03669953 \n",
            "465/469 [============================>.] - ETA: 0s - loss: 0.4851 - accuracy: 0.8529 - LRFinder: val_loss: 0.4571 - lr = 0.03735450 \n",
            "466/469 [============================>.] - ETA: 0s - loss: 0.4637 - accuracy: 0.8542 - LRFinder: val_loss: 0.4521 - lr = 0.03802116 \n",
            "467/469 [============================>.] - ETA: 0s - loss: 0.4642 - accuracy: 0.8516 - LRFinder: val_loss: 0.3471 - lr = 0.03869972 \n",
            "468/469 [============================>.] - ETA: 0s - loss: 0.3390 - accuracy: 0.9023 - LRFinder: val_loss: 0.4225 - lr = 0.03939039 \n",
            "469/469 [==============================] - ETA: 0s - loss: 0.4127 - accuracy: 0.8709 - LRFinder: val_loss: 0.4448 - lr = 0.04009339 \n",
            "469/469 [==============================] - 31s 66ms/step - loss: 0.4127 - accuracy: 0.8709\n"
          ],
          "name": "stdout"
        },
        {
          "output_type": "execute_result",
          "data": {
            "text/plain": [
              "<tensorflow.python.keras.callbacks.History at 0x7fae234ee910>"
            ]
          },
          "metadata": {
            "tags": []
          },
          "execution_count": 32
        }
      ]
    },
    {
      "cell_type": "code",
      "metadata": {
        "colab": {
          "base_uri": "https://localhost:8080/",
          "height": 291
        },
        "id": "Luhq1XtZIFXr",
        "outputId": "3da0950a-ff0e-4a4c-8400-5da88c867d07"
      },
      "source": [
        "lr_callback.plot_schedule()"
      ],
      "execution_count": null,
      "outputs": [
        {
          "output_type": "display_data",
          "data": {
            "image/png": "[encoded data removed]",
            "text/plain": [
              "<Figure size 432x288 with 1 Axes>"
            ]
          },
          "metadata": {
            "tags": []
          }
        }
      ]
    },
    {
      "cell_type": "code",
      "metadata": {
        "colab": {
          "base_uri": "https://localhost:8080/"
        },
        "id": "gWtlXLw0OEXj",
        "outputId": "651fb37e-95d1-4801-95c0-a43dd0d930e6"
      },
      "source": [
        "model.optimizer.lr.numpy()"
      ],
      "execution_count": null,
      "outputs": [
        {
          "output_type": "execute_result",
          "data": {
            "text/plain": [
              "0.04009339"
            ]
          },
          "metadata": {
            "tags": []
          },
          "execution_count": 34
        }
      ]
    },
    {
      "cell_type": "code",
      "metadata": {
        "id": "pzGA5TjzM2SG"
      },
      "source": [
        "#Set the maximum of LR\n",
        "max_lr = model.optimizer.lr.numpy()"
      ],
      "execution_count": null,
      "outputs": []
    },
    {
      "cell_type": "markdown",
      "metadata": {
        "id": "Qkziq5V9pXMN"
      },
      "source": [
        "#One Cycle LR"
      ]
    },
    {
      "cell_type": "code",
      "metadata": {
        "id": "aTPethDPplW2"
      },
      "source": [
        "from clr import OneCycleLR"
      ],
      "execution_count": null,
      "outputs": []
    },
    {
      "cell_type": "code",
      "metadata": {
        "id": "vrI-Uu8K3y6d"
      },
      "source": [
        "num_samples = 1000\n",
        "batch_size = 128\n",
        "\n",
        "lr_manager = OneCycleLR(num_samples=num_samples,\n",
        "                        batch_size=batch_size,\n",
        "                        max_lr=max_lr,\n",
        "                        end_percentage=0.1,)"
      ],
      "execution_count": null,
      "outputs": []
    },
    {
      "cell_type": "code",
      "metadata": {
        "colab": {
          "base_uri": "https://localhost:8080/"
        },
        "id": "AdEdeDI435qM",
        "outputId": "3169d91f-83f3-4312-e4c7-503270221b18"
      },
      "source": [
        "model.fit(x_train, y_train, epochs=1, batch_size=batch_size, callbacks=[lr_manager])"
      ],
      "execution_count": null,
      "outputs": [
        {
          "output_type": "stream",
          "text": [
            "469/469 [==============================] - 2s 3ms/step - loss: 1.2537 - accuracy: 0.6773\n",
            " - lr: 0.00012 - momentum: 0.95 \n"
          ],
          "name": "stdout"
        },
        {
          "output_type": "execute_result",
          "data": {
            "text/plain": [
              "<tensorflow.python.keras.callbacks.History at 0x7fae2231f150>"
            ]
          },
          "metadata": {
            "tags": []
          },
          "execution_count": 39
        }
      ]
    },
    {
      "cell_type": "code",
      "metadata": {
        "id": "6fqF2nEF4cXD",
        "colab": {
          "base_uri": "https://localhost:8080/",
          "height": 600
        },
        "outputId": "571ac771-a7ad-478a-d5b3-15a912d60eba"
      },
      "source": [
        "print(\"LR Range : \", min(lr_manager.history['lr']), max(lr_manager.history['lr']))\n",
        "print(\"Momentum Range : \", min(lr_manager.history['momentum']), max(lr_manager.history['momentum']))\n",
        "\n",
        "\n",
        "plt.xlabel('Training Iterations')\n",
        "plt.ylabel('Learning Rate')\n",
        "plt.title(\"CLR\")\n",
        "plt.plot(lr_manager.history['lr'])\n",
        "plt.show()\n",
        "\n",
        "plt.xlabel('Training Iterations')\n",
        "plt.ylabel('Momentum')\n",
        "plt.title(\"CLR\")\n",
        "plt.plot(lr_manager.history['momentum'])\n",
        "plt.show()"
      ],
      "execution_count": null,
      "outputs": [
        {
          "output_type": "stream",
          "text": [
            "LR Range :  0.00012454542 0.04009339\n",
            "Momentum Range :  0.85 0.95\n"
          ],
          "name": "stdout"
        },
        {
          "output_type": "display_data",
          "data": {
            "image/png": "[encoded data removed]",
            "text/plain": [
              "<Figure size 432x288 with 1 Axes>"
            ]
          },
          "metadata": {
            "tags": []
          }
        },
        {
          "output_type": "display_data",
          "data": {
            "image/png": "[encoded data removed]",
            "text/plain": [
              "<Figure size 432x288 with 1 Axes>"
            ]
          },
          "metadata": {
            "tags": []
          }
        }
      ]
    }
  ]
}