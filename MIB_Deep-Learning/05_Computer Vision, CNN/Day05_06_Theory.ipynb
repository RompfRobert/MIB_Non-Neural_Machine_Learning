{
  "nbformat": 4,
  "nbformat_minor": 0,
  "metadata": {
    "kernelspec": {
      "display_name": "Python 3",
      "language": "python",
      "name": "python3"
    },
    "language_info": {
      "codemirror_mode": {
        "name": "ipython",
        "version": 3
      },
      "file_extension": ".py",
      "mimetype": "text/x-python",
      "name": "python",
      "nbconvert_exporter": "python",
      "pygments_lexer": "ipython3",
      "version": "3.7.7"
    },
    "toc": {
      "base_numbering": 1,
      "nav_menu": {},
      "number_sections": true,
      "sideBar": true,
      "skip_h1_title": false,
      "title_cell": "Table of Contents",
      "title_sidebar": "Contents",
      "toc_cell": false,
      "toc_position": {
        "height": "calc(100% - 180px)",
        "left": "10px",
        "top": "150px",
        "width": "165px"
      },
      "toc_section_display": true,
      "toc_window_display": false
    },
    "varInspector": {
      "cols": {
        "lenName": 16,
        "lenType": 16,
        "lenVar": 40
      },
      "kernels_config": {
        "python": {
          "delete_cmd_postfix": "",
          "delete_cmd_prefix": "del ",
          "library": "var_list.py",
          "varRefreshCmd": "print(var_dic_list())"
        },
        "r": {
          "delete_cmd_postfix": ") ",
          "delete_cmd_prefix": "rm(",
          "library": "var_list.r",
          "varRefreshCmd": "cat(var_dic_list()) "
        }
      },
      "types_to_exclude": [
        "module",
        "function",
        "builtin_function_or_method",
        "instance",
        "_Feature"
      ],
      "window_display": false
    },
    "colab": {
      "provenance": [],
      "toc_visible": true
    }
  },
  "cells": [
    {
      "cell_type": "markdown",
      "source": [
        "<a id=\"motivation\"></a>\n",
        "# Motivation: Problems of computer vision \n",
        "\n",
        "Computer vision (since the earliest perceptrons) has been traditionally a crucial field of AI research.\n",
        "One of the reasons is that the perceptual \"circuitry\" of vision in humans got considerable attention in many fields (like cognitive science) and is directly relevant for the \"biological inspiration\" of AI methods.\n",
        "On the other hand it is a challenging field, model performance was way lower than human baseline till most recently (think 2014-15), though it is a common ability of many animals.\n",
        "Finally the field is interesting, since we have a strong understanding of physical processes forming it's baseline and would \"expect it to be simple\". It is not."
      ],
      "metadata": {
        "id": "Pupc4iyGEt3x"
      }
    },
    {
      "cell_type": "markdown",
      "source": [
        "## Invariances in the field of vision\n",
        "\n",
        "\"Pictures come from objects, not random pixels\"\n",
        "\n",
        "<a href=\"https://cms-assets.tutsplus.com/uploads/users/108/posts/19997/image/color-fundamentals-value-1.png\"><img src=\"https://drive.google.com/uc?export=view&id=1dnawrdlFRXc-NF5pU0VdkEuYZ9wJKouv\" width=400 heigth=400></a>\n",
        "\n",
        "The basic mechanism of light reflection and absorption are responsible for the detected \"pixel distribution\" on a picture, so we can assume that the empirically observed distribution is coming from a directly not observed, but very well defined \"generative distribution\" of physical objects. While \"practicing\" vision, we reconstruct the domain of objects from the visible data of pixels. Our expectation would be the same for AI systems. \n",
        "\n",
        "<a href=\"http://www.mstworkbooks.co.za/natural-sciences/gr8/images/gr8ec04-gd-0052.png\"><img src=\"https://drive.google.com/uc?export=view&id=1S-KuCXHzkrJ3c1nxVEhcHvebdKZ9CnlB\" width=400 heigth=400></a>\n",
        "\n",
        "Colour vision, especially how the abstract categories of \"colour\" arise from the raw perceptions is non-trivial. (We perceive the same object as \"red\", even though the lighting conditions influence the perception strongly, and we categorise different things as pink or red according to culture, or even see things differently [based on our culture](https://en.wikipedia.org/wiki/Linguistic_relativity_and_the_color_naming_debate). More [here](https://books.google.hu/books?id=O9SIAgAAQBAJ&dq=Color+vision:+A+case+study+in+the+Foundations+of+Cognitive+Science))\n",
        "\n",
        "From these it follows, that there are many \"invariances\" in the visual field, like rotational, translation, lighting,... which the model should handle well. \n",
        "\n",
        "Another \"adjacent\" field in computer science concerns itself with the realistic generation of pictures (or sequences, as animations) from a known set of objects. This is how computer graphics and special effects are made with the inverse procedure, \"ray tracing\".\n",
        "<a href=\"https://upload.wikimedia.org/wikipedia/commons/thumb/8/83/Ray_trace_diagram.svg/600px-Ray_trace_diagram.svg.png\"><img src=\"https://drive.google.com/uc?export=view&id=1u1xs_R3i_W8wNBb82yoyJcDUY4r6xJq9\" width=400 heigth=400></a>\n",
        "\n",
        "It is important to note that the development of Graphics Processing Units was a direct result of the need for better computer graphics, thus it is by no chance, that the first applications of GPUs to deep learning came from the field of image recognition. The hardware was already somewhat specialized for the task. \n",
        "\n",
        "\n"
      ],
      "metadata": {
        "id": "0UWGCf_MEy_j"
      }
    },
    {
      "cell_type": "markdown",
      "source": [
        "## Compositionality\n",
        "\n",
        "\"Objects are made of parts, not just blobs\"\n",
        "\n",
        "<a href=\"https://kevinkaixu.net/projects/scores/teaser.jpg\"><img src=\"https://drive.google.com/uc?export=view&id=1hCBcAw0SgIJ4R12M3HqyBPOkKZPzCrKv\" width=600 heigth=600></a>\n",
        "\n",
        "It is also crucially important that \"objects\" themselves (though sometimes vaguely defined in themselves) are results of a compositional structure, that is they many times are composed of \"parts\" (themselves objects). This presupposes that a good model can handle a hierarchic composition of objects.\n",
        "\n",
        "(The recent advances of machine learning made a \"full circle\", and deep learning methods are aiding the composition of computer graphics, like in: [\"SCORES: Shape Composition with Recursive Substructure Priors\"](https://kevinkaixu.net/projects/scores.html).)\n",
        "\n",
        "Further complicating the problem, objects in the visual field can be described by edges, shapes, textures, so their description is non-trivial.\n",
        "\n",
        "<a href=\"http://drive.google.com/uc?export=view&id=1zgVDLXoJCPTIS1JAwbwlGR5MnxDsvNBt\"><img src=\"https://drive.google.com/uc?export=view&id=1ex4Bqp1TxtbiqEQ59bnKn16yMewSpa7D\"  width=600 heigth=600></a>\n",
        "\n"
      ],
      "metadata": {
        "id": "vpMWF13ME2Fk"
      }
    },
    {
      "cell_type": "markdown",
      "source": [
        "## Why traditional methods suffered?\n",
        "\n",
        "\"Could you please build up a list of cat parts with visual specification, please?\"\n",
        "\n",
        "Image input is notoriously high in dimensionality of measurements, though we annoyingly know that is is very well compressable data, just we don't know how.\n",
        "\n",
        "<a href=\"http://drive.google.com/uc?export=view&id=1VJZaGkHUVAZXpS-vRMRgEmzIQPia5JWV\"><img src=\"https://drive.google.com/uc?export=view&id=1A_Tzd1mMKNMy2YwdKoRFmtiIPbrWzeQ5\"  width=600 heigth=600></a>\n",
        "\n",
        "\n",
        "I can describe a scene as \"there are two cardinal red spheres of 1cm diameter in an empty white space\", and I have described the scene with a very good approximation, though it can have literally myriad instantiations under viewing angles, lighting conditions,...\n",
        "\n",
        "<a href=\"https://cdn8.bigcommerce.com/s-e2p82/images/stencil/500x659/products/2992/7729/Q010145__80365.1458131489.jpg?c=2\"><img src=\"https://drive.google.com/uc?export=view&id=1oQjfhv2ifX42zraCCWTllUYkGo3VPRzo\" width=400 height=400></a>\n",
        "\n",
        "As stated before: Compressability and \"understandability\", \"discernability\" has it's deep connections. "
      ],
      "metadata": {
        "id": "Lc7bZIDCE5An"
      }
    },
    {
      "cell_type": "markdown",
      "metadata": {
        "id": "kPY08-rco59K"
      },
      "source": [
        "\n",
        "## Crucial importance of end-to-end learning\n",
        "\n",
        "In the visual field it is all the more obvious that the historical progress did not come from the better or stronger classifiers - an SVM will do fine - but the elaboration of features, that is, the representation of the input, is essential. Years upon years of human engineering went into feature extractors (see some at [wikipedia](https://en.wikipedia.org/wiki/Feature_detection_(computer_vision)#Feature_extraction) though there are many many more), and the big breakthrough in 2012 for deep learning came from the fact, that a neural net with no engineered features, working on raw pixels (though with a clever architecture) significantly beat the state of the art.\n",
        "\n",
        "<a href=\"http://drive.google.com/uc?export=view&id=1v8yieDdObp74czCbGMg1J50xPYL20XhZ\"><img src=\"https://drive.google.com/uc?export=view&id=1D82DR5IvGIW0tGESnFCFcGuJvrPpx54D\"  width=600 heigth=600></a>\n",
        "\n",
        "[source](https://www.youtube.com/watch?v=o8otywnWwKc&t=301s)"
      ]
    },
    {
      "cell_type": "markdown",
      "source": [
        "# Aside: why not use feedforward NN?"
      ],
      "metadata": {
        "id": "wfv_shH5cG59"
      }
    },
    {
      "cell_type": "code",
      "source": [
        "import matplotlib.pyplot as plt\n",
        "import numpy as np\n",
        "import tensorflow as tf"
      ],
      "metadata": {
        "id": "hKuVMTbJcKrH"
      },
      "execution_count": null,
      "outputs": []
    },
    {
      "cell_type": "code",
      "source": [
        "## an MNIST example\n",
        "if True:\n",
        "  from keras.datasets import mnist\n",
        "  (x_train, y_train), (x_test, y_test) = mnist.load_data()\n",
        "  print(\"Image shape:\", x_train[0].shape)\n",
        "  \n",
        "  i = 4\n",
        "  img = x_train[i]\n",
        "  lab = str(y_train[i])\n",
        "\n",
        "  def show_grayscale_img(img, lab=None):\n",
        "    plt.imshow(255 - img, cmap=plt.get_cmap('gray'), vmin=0, vmax=255)\n",
        "    if lab:\n",
        "      plt.title(lab)\n",
        "    plt.show()\n",
        "\n",
        "  show_grayscale_img(img, lab=lab)\n",
        "\n",
        "  fl = img.flatten().reshape(1,-1)\n",
        "  fl = np.concatenate([fl]*10, axis=0)\n",
        "  plt.figure(figsize = (15,1))\n",
        "  show_grayscale_img(fl, lab=f\"{lab} flattened\")"
      ],
      "metadata": {
        "colab": {
          "base_uri": "https://localhost:8080/",
          "height": 357
        },
        "id": "YkwabhT8dwYK",
        "outputId": "fa7b6da3-7c5a-4135-cbb7-8967d4c7fe07"
      },
      "execution_count": null,
      "outputs": [
        {
          "output_type": "stream",
          "name": "stdout",
          "text": [
            "Image shape: (28, 28)\n"
          ]
        },
        {
          "output_type": "display_data",
          "data": {
            "text/plain": [
              "<Figure size 432x288 with 1 Axes>"
            ],
            "image/png": "[encoded data removed]"
          },
          "metadata": {
            "needs_background": "light"
          }
        },
        {
          "output_type": "display_data",
          "data": {
            "text/plain": [
              "<Figure size 1080x72 with 1 Axes>"
            ],
            "image/png": "[encoded data removed]"
          },
          "metadata": {
            "needs_background": "light"
          }
        }
      ]
    },
    {
      "cell_type": "code",
      "source": [
        "%%time\n",
        "(x_train, y_train), (x_test, y_test) = tf.keras.datasets.cifar10.load_data() \n",
        "\n",
        "label_str = [\"airplane\",\n",
        "\"automobile\",\n",
        "\"bird\",\n",
        "\"cat\",\n",
        "\"deer\",\n",
        "\"dog\",\n",
        "\"frog\",\n",
        "\"horse\",\n",
        "\"ship\",\n",
        "\"truck\",]"
      ],
      "metadata": {
        "colab": {
          "base_uri": "https://localhost:8080/"
        },
        "id": "RN8RR0bOcXeT",
        "outputId": "7d96c252-8c91-451b-92a5-bc619b8c3b7c"
      },
      "execution_count": null,
      "outputs": [
        {
          "output_type": "stream",
          "name": "stdout",
          "text": [
            "CPU times: user 664 ms, sys: 169 ms, total: 833 ms\n",
            "Wall time: 849 ms\n"
          ]
        }
      ]
    },
    {
      "cell_type": "markdown",
      "source": [
        "Flattening a greyscale image:\n",
        "\n",
        "<img src=\"https://peltarion.com/static/flatten_pa1.png\" width=400>"
      ],
      "metadata": {
        "id": "lismvko0f9t0"
      }
    },
    {
      "cell_type": "code",
      "source": [
        "i = 4\n",
        "img = x_train[i]\n",
        "lab = label_str[y_train[i][0]]\n",
        "\n",
        "def rgb2gray(rgb):\n",
        "    return np.dot(rgb[...,:3], [0.2989, 0.5870, 0.1140])\n",
        "\n",
        "def show_grayscale_img(img, lab=None):\n",
        "  plt.imshow(img, cmap=plt.get_cmap('gray'), vmin=0, vmax=255)\n",
        "  if lab:\n",
        "    plt.title(lab)\n",
        "  plt.show()\n",
        "\n",
        "img_gray = rgb2gray(img)\n",
        "\n",
        "print(\"Image shape:\", img_gray.shape)\n",
        "\n",
        "show_grayscale_img(img_gray, lab=lab)\n",
        "\n",
        "fl = img_gray.flatten().reshape(1,-1)\n",
        "fl = np.concatenate([fl]*25, axis=0)\n",
        "print(\"\\nFlattened image shape:\", (fl.shape[1],))\n",
        "plt.figure(figsize = (15,1))\n",
        "show_grayscale_img(fl, lab=f\"{lab} flattened\")"
      ],
      "metadata": {
        "colab": {
          "base_uri": "https://localhost:8080/",
          "height": 402
        },
        "id": "A7tlJyoDcg6b",
        "outputId": "e3778a73-0d5a-46d8-94b1-ea5f665a19ad"
      },
      "execution_count": null,
      "outputs": [
        {
          "output_type": "stream",
          "name": "stdout",
          "text": [
            "Image shape: (32, 32)\n"
          ]
        },
        {
          "output_type": "display_data",
          "data": {
            "text/plain": [
              "<Figure size 432x288 with 1 Axes>"
            ],
            "image/png": "[encoded data removed]"
          },
          "metadata": {
            "needs_background": "light"
          }
        },
        {
          "output_type": "stream",
          "name": "stdout",
          "text": [
            "\n",
            "Flattened image shape: (1024,)\n"
          ]
        },
        {
          "output_type": "display_data",
          "data": {
            "text/plain": [
              "<Figure size 1080x72 with 1 Axes>"
            ],
            "image/png": "[encoded data removed]"
          },
          "metadata": {
            "needs_background": "light"
          }
        }
      ]
    },
    {
      "cell_type": "markdown",
      "source": [
        "Flattening a colour image:\n",
        "\n",
        "<img src=\"https://encrypted-tbn0.gstatic.com/images?q=tbn:ANd9GcSXi0jUu7PCM3cPGW086GyMVLtNQ7QvywUFkg&usqp=CAU\" width=700>"
      ],
      "metadata": {
        "id": "EhT89SCWfqjJ"
      }
    },
    {
      "cell_type": "code",
      "source": [
        "print(\"Image shape:\", img.shape,)\n",
        "plt.imshow(img)\n",
        "plt.title(lab)\n",
        "plt.show()\n",
        "\n",
        "fl = img.flatten().reshape(1,-1)\n",
        "fl = np.concatenate([fl]*50, axis=0)\n",
        "print(\"\\nFlattened image shape:\", (fl.shape[1],))\n",
        "plt.figure(figsize = (15,1))\n",
        "plt.imshow(fl)\n",
        "plt.title(f\"{lab} flattened\")\n",
        "plt.show()"
      ],
      "metadata": {
        "colab": {
          "base_uri": "https://localhost:8080/",
          "height": 396
        },
        "id": "R990hWA6ed5b",
        "outputId": "cf1eabfb-9418-406f-cd1e-1a8bef9c948d"
      },
      "execution_count": null,
      "outputs": [
        {
          "output_type": "stream",
          "name": "stdout",
          "text": [
            "Image shape: (32, 32, 3)\n"
          ]
        },
        {
          "output_type": "display_data",
          "data": {
            "text/plain": [
              "<Figure size 432x288 with 1 Axes>"
            ],
            "image/png": "[encoded data removed]"
          },
          "metadata": {
            "needs_background": "light"
          }
        },
        {
          "output_type": "stream",
          "name": "stdout",
          "text": [
            "\n",
            "Flattened image shape: (3072,)\n"
          ]
        },
        {
          "output_type": "display_data",
          "data": {
            "text/plain": [
              "<Figure size 1080x72 with 1 Axes>"
            ],
            "image/png": "[encoded data removed]"
          },
          "metadata": {
            "needs_background": "light"
          }
        }
      ]
    },
    {
      "cell_type": "markdown",
      "source": [
        "Some important issues for feedfwd networks in the image domain:\n",
        "\n",
        "* At the very least, local information gets lost.\n",
        "* Extremely high dimensional input -> extremely large number of weights to train!"
      ],
      "metadata": {
        "id": "fBxtEUISgPBi"
      }
    },
    {
      "cell_type": "markdown",
      "source": [
        "<a id=\"architecture\"></a>\n",
        "# Convolutional Neural Network (CNN) architecture\n",
        "\n",
        "Breakthrough solution for image recognition the introduction of **Convolutional Neural Network** architecture: \n",
        "- De-facto standard now\n",
        "- Numerous applications outside of it\n",
        "\n"
      ],
      "metadata": {
        "id": "6PINFCbAFjCH"
      }
    },
    {
      "cell_type": "markdown",
      "source": [
        "## Some sung and unsung heroes \n"
      ],
      "metadata": {
        "id": "GTgKY5-9FkhF"
      }
    },
    {
      "cell_type": "markdown",
      "metadata": {
        "id": "uBNny4BQo59R"
      },
      "source": [
        "\n",
        "### Fukushima\n",
        "\n",
        "Worked on **neocognitron model** in the 1980s, which predates CNN-s.\n",
        "- Hierarchical, multilayered artificial neural network. \n",
        "- Used for handwritten character recognition and other pattern recognition tasks.\n",
        "- Served as inspiration for convolutional neural networks.\n",
        "\n",
        "<a href=\"http://personalpage.flsi.or.jp/fukushima/files/FukushimaImg.jpg\"><img src=\"https://drive.google.com/uc?export=view&id=1KlhW8c2YjNfalQFZd5pR_1ZtOytRgq1R\" width=300 heigth=300></a>\n",
        "\n",
        "\n",
        "\n",
        "Inspired by model proposed by Hubel & Wiesel in 1959. \n",
        "- Found two types of cells in the visual primary cortex:\n",
        "- Simple cell (S-cell) and complex cell (C-cell)\n",
        "- **Simple cell**: Takes input from complex cells. Responds primarily to **oriented edges and gratings** (bars of particular orientations) in small regions of the visual field\n",
        "- **Complex cell**: Responds (like simple cell) to **oriented edges and gratings**; however **has a degree of spatial invariance**. This means that its receptive field cannot be mapped into fixed excitatory and inhibitory zones. Rather, it will respond to patterns of light in a certain orientation within a large receptive field, regardless of the exact location. Some complex cells respond optimally only to movement in a certain direction. Insensitive to exact location of the edge in the field.\n",
        "- **Cascading model of these two types of cells** for use in pattern recognition tasks, one in a sense a *local edge detector* and one a more *global* one."
      ]
    },
    {
      "cell_type": "code",
      "metadata": {
        "ExecuteTime": {
          "end_time": "2019-10-11T13:19:57.958225Z",
          "start_time": "2019-10-11T13:19:57.926389Z"
        },
        "hideCode": true,
        "hidePrompt": true,
        "id": "6N2ENSEho59T",
        "outputId": "d0891cbe-9afc-410d-ca19-e31bac3eb66a"
      },
      "source": [
        "from IPython.display import HTML\n",
        "\n",
        "HTML('<iframe width=\"560\" height=\"315\" src=\"https://www.youtube.com/embed/Cw5PKV9Rj3o\" frameborder=\"0\" allow=\"accelerometer; autoplay; encrypted-media; gyroscope; picture-in-picture\" allowfullscreen></iframe>')\n"
      ],
      "execution_count": null,
      "outputs": [
        {
          "output_type": "execute_result",
          "data": {
            "text/html": [
              "<iframe width=\"560\" height=\"315\" src=\"https://www.youtube.com/embed/Cw5PKV9Rj3o\" frameborder=\"0\" allow=\"accelerometer; autoplay; encrypted-media; gyroscope; picture-in-picture\" allowfullscreen></iframe>"
            ],
            "text/plain": [
              "<IPython.core.display.HTML object>"
            ]
          },
          "metadata": {
            "tags": []
          },
          "execution_count": 1
        }
      ]
    },
    {
      "cell_type": "markdown",
      "source": [
        "Neocognitron is natural extension of cascading models. \n",
        "- Consists of multiple types of cells: S-cells, C-cells. \n",
        "- **Local features** are extracted by S-cells (convolutional layer), and these features' **deformation, such as local shifts**, are tolerated by C-cells (downsampling layer). \n",
        "- **Local features** in the input are **integrated gradually** and classified in the **higher layers**\" [Wikipedia](https://en.wikipedia.org/wiki/Neocognitron)\n",
        "\n",
        "<a href=\"https://ai2-s2-public.s3.amazonaws.com/figures/2017-08-08/581528b2215e017eba96ef4ee16d33a74645755f/3-Figure1-1.png\"><img src=\"https://drive.google.com/uc?export=view&id=1mOh77E9W3xjDSkgf3n9bUOvZj9ntUsIv\" width=400 heigth=400></a>\n",
        "\n",
        "Many of the features of later CNNs present in Fukushima's work, but ideas were based on learning rules of classical era, predating backprop.\n"
      ],
      "metadata": {
        "id": "XIEWueVRE-P_"
      }
    },
    {
      "cell_type": "markdown",
      "source": [
        "\n",
        "### Yann LeCun\n",
        "\n",
        "It is common to attribute the elaboration of Convolutional Neural Nets - as well as many advances till this day - to [Yann LeCun](https://en.wikipedia.org/wiki/Yann_LeCun), a student of Hinton, who worked extensively on image recognition tasks, especially in hadwritten digit recognition for numeric cheques. He is also the creator our \"workhorse\", the [MNIST](http://yann.lecun.com/exdb/mnist/) dataset.\n",
        "\n",
        "<a href=\"https://qph.fs.quoracdn.net/main-thumb-48611829-200-wjnraisajwlkqlmolpgmqnkfnxvuezwr.jpeg\"><img src=\"https://drive.google.com/uc?export=view&id=15YmSA67B0Ri2fE0uN5HaQcHofRO8eOgG\" width=400 heigth=400></a>\n",
        "\n",
        "Till this day he is one of the most inlfuential figureheads of the deep learning revolution, he's talks and publications are well worth following.\n"
      ],
      "metadata": {
        "id": "J7zXVUHKFgiI"
      }
    },
    {
      "cell_type": "markdown",
      "source": [
        "## Basic building blocks of CNNs\n",
        "\n",
        "Basic building blocks of a CNN:\n",
        "\n",
        "- **Convolutional layers** - _edge detectors_; analogous to simple cells\n",
        "- **Subsampling layers** (\"Pool\" or \"Pooling\") - _going beyond exact location_/ reducing information (analogous to complex cells),\n",
        "- **Fully connected layers** - combining the information.\n",
        "- A **convolutional layer** contains units whose receptive fields cover a patch of the previous layer. The weight vector (the set of adaptive parameters) of such a unit is often called a **filter**. Units can **share filters**. **Downsampling layers** contain units whose receptive fields **cover patches of previous convolutional layers**. Such a unit typically computes the average of the activations of the units in its patch. This downsampling helps to correctly classify objects in visual scenes **even when the objects are shifted**.\n",
        "\n",
        "<a href=\"http://drive.google.com/uc?export=view&id=1Yw1NECPVDmrO2a3JoPwJVvnsNU8BU1Ul\"><img src=\"https://drive.google.com/uc?export=view&id=1BS6SG7AuFU5kXQoMtYEAk4G1X2Dq65kP\" height=\"500\"></a>\n",
        "\n",
        "A good summary introduction of CNN elements can be found [here](https://www.wikiwand.com/en/Convolutional_neural_network) and [here](https://adeshpande3.github.io/A-Beginner%27s-Guide-To-Understanding-Convolutional-Neural-Networks-Part-2/).\n",
        "\n",
        "### Basic ideas\n",
        "\n",
        "Remember idea of _\"Embed and cut\"_ from representation learning? Convolutional and pooling layers essentially are building up **a pipeline for capturing a hierarchy of more and more abstract features of the image** until the \"embedding space\" provides enough information for final classifier - the fully connected layers. \n",
        "\n",
        "<a href=\"https://www.researchgate.net/profile/Siva_Chaitanya_Mynepalli/publication/281607765/figure/fig1/AS:284643598323714@1444875730488/Learning-hierarchy-of-visual-features-in-CNN-architecture.png\"><img src=\"https://drive.google.com/uc?export=view&id=1WypG0MbnF80Fy2t5gPZZVk8k1DBGbTaM\" width=600 heigth=600></a>\n",
        "\n",
        "[source](https://www.researchgate.net/publication/281607765_Hierarchical_Deep_Learning_Architecture_For_10K_Objects_Classification)\n",
        "\n",
        "<a href=\"https://devblogs.nvidia.com/wp-content/uploads/2015/11/hierarchical_features.png\"><img src=\"https://drive.google.com/uc?export=view&id=1-o9nsggls89UjPLPaF0-cQG1krYlMXYy\" width=600 heigth=600></a>\n",
        "\n",
        "We could not have defined these features so exactly by hand!\n"
      ],
      "metadata": {
        "id": "d9Oz2g-4GKrW"
      }
    },
    {
      "cell_type": "markdown",
      "source": [
        "#### Hierarchy of \"detectors\" or \"filters\"\n",
        "\n",
        "Alternatively think of architecture as hierarchy of \"filters\" that \"scans\" through input field and gives most \"signal\" when the input part is overlaid with specific pattern it is looking for.\n",
        "\n",
        "<a href=\"http://mathworld.wolfram.com/images/gifs/convgaus.gif\"><a href=\"https://drive.google.com/uc?export=view&id=1jBJQH4LnMEL3K91ETQo4JhJcuI2La-q7\"></a><a href=\"https://drive.google.com/uc?export=view&id=1jBJQH4LnMEL3K91ETQo4JhJcuI2La-q7\"></a><img src=\"https://drive.google.com/uc?export=view&id=1jBJQH4LnMEL3K91ETQo4JhJcuI2La-q7\" height=\"300\"></a>\n",
        "\n"
      ],
      "metadata": {
        "id": "0XV_GdS7NxR5"
      }
    },
    {
      "cell_type": "markdown",
      "source": [
        "#### Engineered prior for invariances\n",
        "\n",
        "Usage of filters and convolution (see below):\n",
        "- Realize a kind of invariance, since **the filters detect the appropriate pattern irrespective of its location in the picture**. \n",
        "- Combined with **successive abstraction of hierarchy** - can effectively solve problems of **location invariance**.\n"
      ],
      "metadata": {
        "id": "Hk6zdUIVN0oS"
      }
    },
    {
      "cell_type": "markdown",
      "source": [
        "#### Weight sharing and subsampling: parameter decrease\n",
        "\n",
        "Application of **\"subsampling\" layers** together with **weight sharing** in case of convolution allows for radical decrease of number of weights used for a model, making training time feasible for _huge_ neural networks and work on _high resolution_ (high dimensionality) input data. \n",
        "\n",
        "(By the way, as weight sharing **decreases the number of parameters** it can also be considered as an implicit \"regularization\".)\n"
      ],
      "metadata": {
        "id": "Pbz7l-A-N0fz"
      }
    },
    {
      "cell_type": "markdown",
      "source": [
        "### Convolution \n",
        "\n",
        "#### Mathematical definition\n",
        "General definition:\n",
        "\n",
        "$$y(t) = x(t) * h(t) = \\int_{-\\infty}^{\\infty}x(\\tau)h(t - \\tau)d\\tau$$\n",
        "\n",
        "- f and g are both functions which operate on the same domain of inputs\n",
        "- x(t) is the input, h(t) is the impulse response\n",
        "- In the context of probability, you might frame these as density functions; in audio processing, they might be waveforms; \n",
        "- When you convolve two functions together, the convolution itself acts as a function, insofar as we can calculate the value of the convolution at a particular point t, just as we can with a function.\n",
        "\n",
        "- To calculate a convolution between f and g, at point t, we take the integral over all values tau between negative and positive infinity, and, at each point, multiply the value of f(x) at position tau by the value of h(x) at t — tau, that is, the difference between the point for which the convolution is being calculated and the tau at a given point in the integral.\n",
        "\n",
        "- We have $h(t - \\tau)$, as one function is reversed and \"moves through the other\"\n",
        "\n",
        "<img src=\"http://mathworld.wolfram.com/images/gifs/convgaus.gif\" height=\"300\">\n",
        "\n"
      ],
      "metadata": {
        "id": "yRrUCxYnN-tR"
      }
    },
    {
      "cell_type": "markdown",
      "source": [
        "\n",
        "#### Convolution, cross correlation and auto-correlation\n",
        "Some features of convolution are similar to cross-correlation: for real-valued functions, of a continuous or discrete variable, it differs from cross-correlation only in that either f (x) or g(x) is reflected about the y-axis; thus it is a cross-correlation of f (x) and g(−x), or f (−x) and g(x)\n",
        "\n",
        "\n",
        "__Convolution:__\n",
        "\n",
        "Continuous function:\n",
        "$$y(t) = x(t) * h(t) = \\int_{-\\infty}^{\\infty}x(\\tau)h(t - \\tau)d\\tau$$\n",
        "\n",
        "Discrete function (1d):\n",
        "$${\\displaystyle (f*g)[n]=\\sum _{m=-\\infty }^{\\infty }f[m]g[n-m]}$$\n",
        "\n",
        "\n",
        "\n",
        "\n",
        "__Cross-correlation:__\n",
        "\n",
        "Continuous function:\n",
        "$${\\displaystyle (f\\star g)(\\tau )\\ \\triangleq \\int _{-\\infty }^{\\infty }{\\overline {f(t)}}g(t+\\tau )\\,dt}$$\t\n",
        "\n",
        "\n",
        "where ${\\displaystyle {\\overline {f(t)}}}$ denotes the complex conjugate of $f(t)$, and $\\tau$  is the displacement, also known as lag (a feature in $f$ at $t$ occurs in $g$ at $t+\\tau$.\n",
        "\n",
        "Discrete function (1d):\n",
        "\n",
        "$${\\displaystyle (f\\star g)[n]\\ \\triangleq \\sum _{m=-\\infty }^{\\infty }{\\overline {f[m]}}g[m+n]}$$\t\n",
        "\n",
        "\n",
        "<a href=\"http://drive.google.com/uc?export=view&id=1ScFaF4uPzOB80ibtFtV1GXAItG-xeStY\"><img src=\"https://drive.google.com/uc?export=view&id=1t0zHH0sA-Bh0pOTJuKuCNTArIXoKzZPP\" width=50%></a>\n",
        "\n",
        "\n",
        "Visual comparison of convolution, cross-correlation, and autocorrelation. For the operations involving function f, and assuming the height of f is 1.0, the value of the result at 5 different points is indicated by the shaded area below each point. Also, the symmetry of $f$ is the reason $ f*g$ and $f\\star g$ are identical in this example.\n",
        "\n",
        "\n",
        "If $X$ and $Y$ are two independent random variables with probability density functions $f$ and $g$, respectively, then the probability density of the difference $Y-X$ is formally given by the cross-correlation (in the signal-processing sense) $f\\star g$; however this terminology is not used in probability and statistics. In contrast, the convolution $f*g$ (equivalent to the cross-correlation of $f(t)$ and  $g(-t)$ gives the probability density function of the sum $X+Y$.\n",
        "\n",
        "Note that in statistics cross-correlation is always normalized\n",
        "\n"
      ],
      "metadata": {
        "id": "uKovhBxRODwt"
      }
    },
    {
      "cell_type": "markdown",
      "metadata": {
        "id": "KW9wxkfso59U"
      },
      "source": [
        "#### 2D example\n",
        "\n",
        "Generally the idea of convolution is as follows:\n",
        "\n",
        "<a href=\"https://qph.fs.quoracdn.net/main-qimg-578748437404fe6733bc7823755e813c-c\"><img src=\"https://drive.google.com/uc?export=view&id=1OyQ61_iIvOw648jyyHA_ShXahpRleXko\" width=600 heigth=600></a>\n",
        "\n",
        "**Or more in detail:**\n",
        "\n",
        "This is **the pixel intensity representation** of the input image:\n",
        "\n",
        "<a href=\"https://ujwlkarn.files.wordpress.com/2016/07/screen-shot-2016-07-24-at-11-25-13-pm.png?w=127&h=115\"><img src=\"https://drive.google.com/uc?export=view&id=1s_1b2OfApLRgOM5DAG2zI6VFwIIy8v4V\" height=\"200\"></a>\n",
        "\n",
        "This is **the weight matrix of the neuron, that is the \"filter\"**:\n",
        "<a href=\"https://ujwlkarn.files.wordpress.com/2016/07/screen-shot-2016-07-24-at-11-25-24-pm.png?w=74&h=64\"><img src=\"https://drive.google.com/uc?export=view&id=13H-YblvYFu7vk247tpltvuUKfYG78L-h\" height=\"100\"></a>\n",
        "\n",
        "**Convolution is the \"shifting\" of the \"filters\" throughout the input**: \n",
        "\n",
        "<a href=\"https://ujwlkarn.files.wordpress.com/2016/07/convolution_schematic.gif?w=268&h=196\"><img src=\"https://drive.google.com/uc?export=view&id=1T41iR_7bmAADcvR10t5nO4KSaOiXWfgy\" height=\"300\"></a>\n",
        "\n",
        "[source](https://ujjwalkarn.me/2016/08/11/intuitive-explanation-convnets/)\n",
        "\n",
        "The convolution of filters on an original image:\n",
        "\n",
        "<a href=\"https://ujwlkarn.files.wordpress.com/2016/08/giphy.gif?w=748\"><img src=\"https://drive.google.com/uc?export=view&id=1iw-zbgmqv2UietTjIUlsbtqQqg3x8sea\" height=\"300\"></a>"
      ]
    },
    {
      "cell_type": "markdown",
      "metadata": {
        "id": "a8S8LszBo59Y"
      },
      "source": [
        "#### Another intuition for convolutions (and cross-correlation): dot product\n",
        "\n",
        "Notice that in the cases we considered we actually calculate _dot products_ between our two inputs: one shifted around and one kept fix (in the 2d case between the shifted filter and the input) that is, we calculate $\\mathbf x \\cdot \\mathbf y$, which is nothing else than \n",
        "$$\\|\\mathbf x\\|  \\|\\mathbf y\\| \\cos\\alpha$$ where $\\alpha$ is the angle between $\\mathbf x$ and $\\mathbf y$."
      ]
    },
    {
      "cell_type": "markdown",
      "metadata": {
        "id": "j68w3PVXo59a"
      },
      "source": [
        "#### More detailed example of 1D convolutional neural network\n",
        "[\"Source\"](https://colah.github.io/posts/2014-07-Understanding-Convolutions/) \n",
        "\n",
        "So, how does convolution relate to convolutional neural networks?\n",
        "\n",
        "Consider a 1-dimensional convolutional layer with inputs $\\{x_n\\}$ and outputs $\\{y_n\\}$:\n",
        "\n",
        "\n",
        "<a href=\"https://colah.github.io/posts/2014-07-Understanding-Convolutions/img/Conv-9-Conv2-XY.png\"><img src=\"https://drive.google.com/uc?export=view&id=1APOXs74gq0GrD1bmcR8pizjCjVSrLFxX\" width=400 heigth=400></a>\n",
        "\n",
        "As we observed, we can describe the outputs in terms of the inputs:\n",
        "\n",
        "$$y_n = A(x_{n}, x_{n+1}, ...)$$\n",
        "\n",
        "Generally, $A$ would be multiple neurons. But suppose it is a single neuron for a moment.\n",
        "\n",
        "Recall that a typical neuron in a neural network is described by:\n",
        "\n",
        "$$\\sigma(w_0x_0 + w_1x_1 + w_2x_2 ~...~ + b)$$\n",
        "\n",
        "Where $x_0$, $x_1$,... are the inputs. The weights, $w_0$, $w_1$, ... describe how the neuron connets to its inputs. A negative weight means that an input inhibits the neuron from firing, while a positive weight encourages it to. The weights are the heart of the neuron, controlling its behavior. Saying that multiple neurons are identical is the same thing as saying that the weights are the same.\n",
        "\n",
        "It’s this wiring of neurons, describing all the weights and which ones are identical, that convolution will handle for us.\n",
        "\n",
        "Typically, we describe all the neurons in a layer at once, rather than individually. The trick is to have a weight matrix, $W$:\n",
        "\n",
        "$$y = \\sigma(Wx + b)$$\n",
        "\n",
        "For example, we get:\n",
        "\n",
        "$$y_0 = \\sigma(W_{0,0}x_0 + W_{0,1}x_1 + W_{0,2}x_2 ...)$$\n",
        "\n",
        "$$y_1 = \\sigma(W_{1,0}x_0 + W_{1,1}x_1 + W_{1,2}x_2 ...)$$\n",
        "\n",
        "Each row of the matrix describes the weights connecting a neuron to its inputs.\n",
        "\n",
        "Returning to the convolutional layer, though, because there are multiple copies of the same neuron, many weights appear in multiple positions.\n",
        "\n",
        "<a href=\"https://colah.github.io/posts/2014-07-Understanding-Convolutions/img/Conv-9-Conv2-XY-W.png\"><img src=\"https://drive.google.com/uc?export=view&id=1mewFQgdq4v_OTJGSYoo8H4kQylFwJ7ok\" width=400 heigth=400></a>\n",
        "\n",
        "Which corresponds to the equations:\n",
        "\n",
        "$$y_0 = \\sigma(W_0x_0 + W_1x_1 -b)$$\n",
        "$$y_1 = \\sigma(W_0x_1 + W_1x_2 -b)$$\n",
        "\n",
        "So while, normally, a weight matrix connects every input to every neuron with different weights:\n",
        "\n",
        "$$W = \\left[\\begin{array}{ccccc} \n",
        "W_{0,0} & W_{0,1} & W_{0,2} & W_{0,3} & ...\\\\\n",
        "W_{1,0} & W_{1,1} & W_{1,2} & W_{1,3} & ...\\\\\n",
        "W_{2,0} & W_{2,1} & W_{2,2} & W_{2,3} & ...\\\\\n",
        "W_{3,0} & W_{3,1} & W_{3,2} & W_{3,3} & ...\\\\\n",
        "...     &   ...   &   ...   &  ...    & ...\\\\\n",
        "\\end{array}\\right]$$\n",
        "\n",
        "The matrix for a convolutional layer like the one above looks quite different. The same weights appear in a bunch of positions. And because neurons don’t connect to many possible inputs, there’s lots of zeros.\n",
        "\n",
        "$$ W = \\left[\\begin{array}{ccccc} \n",
        "w_0 & w_1 &  0  &  0  & ...\\\\\n",
        " 0  & w_0 & w_1 &  0  & ...\\\\\n",
        " 0  &  0  & w_0 & w_1 & ...\\\\\n",
        " 0  &  0  &  0  & w_0 & ...\\\\\n",
        "... & ... & ... & ... & ...\\\\\n",
        "\\end{array}\\right]$$\n",
        "\n",
        "\n",
        "Multiplying by the above matrix is the same thing as convolving with $[...0, w_1, w_0, 0...]$ The function sliding to different positions corresponds to having neurons at those positions.\n",
        "\n",
        "What about two-dimensional convolutional layers?\n",
        "\n",
        "<a href=\"https://colah.github.io/posts/2014-07-Understanding-Convolutions/img/Conv2-5x5-Conv2-XY.png\"><img src=\"https://drive.google.com/uc?export=view&id=1XDZLeJwT5996Mdx2VKnEF6brjqQ_qn24\" width=400 heigth=400></a>\n",
        "\n",
        "The wiring of a two dimensional convolutional layer corresponds to a two-dimensional convolution.\n",
        "\n",
        "Consider our example of using a convolution to detect edges in an image, above, by sliding a kernel around and applying it to every patch. Just like this, a convolutional layer will apply a neuron to every patch of the image."
      ]
    },
    {
      "cell_type": "markdown",
      "source": [
        "#### Stride and padding\n",
        "\n",
        "\"Step size\" (number of pixels of picture, in our case) of filters, the so called _stride_ crucial parameter.\n",
        "\n",
        "- **Pixels at the edges** of the picture taking part in fewer convolutions: nothing to be convolved on one of their sides. \n",
        "- Effect can be **mitigated by _\"padding\"_ input with virtual pixels**. \n",
        "- Most widespread padding is **_zero-padding_**: fill up the space with zeros, but other solutions like \"warping\" \"clamping\" and \"mirroring\" also exist. (Further reading [here](https://www.cs.toronto.edu/~urtasun/courses/CV/lecture02.pdf))\n",
        "\n",
        "<a href=\"https://adeshpande3.github.io/assets/Pad.png\"><img src=\"https://drive.google.com/uc?export=view&id=1unDQ1OgVvKqo9GgFcBH5TiNJ7MYa5XSW\" height=\"300\"></a>\n",
        "\n",
        "With careful choice of padding and stride **we can make the successive layers of the network constant in width**:\n",
        "\n",
        "**The new representation, the _\"activation map\"_** calculated as follows:\n",
        "\n",
        "Let the picture be of size $W\\times W$, the size of the filter (_\"receptive field\"_) $F\\times F$, stride $S$ and padding $P$. The resulting activation map is then:\n",
        "$O=(W-F+2P)/S+1$. \n",
        "\n",
        "\n",
        "For example on a 7x7 picture we convolve a 3x3 filter with stride 1 and 0 padding, we get a $5\\times 5$- output. If the stride is 2 pixels, get $3\\times 3$ as output. "
      ],
      "metadata": {
        "id": "P9hzXsrgOM1S"
      }
    },
    {
      "cell_type": "markdown",
      "source": [
        "#### Weight sharing\n",
        "\n",
        "- Can also look at the weights in above example, as $5\\times 5$ neuron forming the new representation.\n",
        "- Major difference from fully connected layers, since in case of CNNs **all neurons have the same weights**. \n",
        "- Called _weight sharing_.\n",
        "- Different neurons receive inputs from different parts of the picture. \n"
      ],
      "metadata": {
        "id": "LKsAlPk_OPAs"
      }
    },
    {
      "cell_type": "markdown",
      "metadata": {
        "id": "tJsxgWTyo59b"
      },
      "source": [
        "#### Depth in the case of 2d convolutions: working with multiple channels\n",
        "\n",
        "- The 2d convolution operation can be extended to handle multiple two-dimensional channels.\n",
        "- At the end always get a scalar value. \n",
        "- Including the color channels (RGB), the picture can be described as a $W\\times W \\times D$ 3D tensor\n",
        "- **\"Depth\" equals number of channels**\n",
        "- If we follow reasoning, we can stack layers of activation maps on top of each-other\n",
        "- We again get multi-channel input at the next layer, like:\n",
        "\n",
        "\n",
        "<a href=\"http://deeplearning.net/tutorial/_images/cnn_explained.png\"><img src=\"https://drive.google.com/uc?export=view&id=1qAnq_tnXW6-J5Q8MIOqkT5608Uya_RL0\" height=\"300\"></a>"
      ]
    },
    {
      "cell_type": "markdown",
      "metadata": {
        "id": "A2oieymKo59b"
      },
      "source": [
        "#### 3 (and more) dimensional convolutions\n",
        "The convolution concept has natural extensions to 3 and more dimensions: in these cases the high-dimensional filters cover a small fraction of the (high-dimensional) input volume and are moved along all dimensions to provide (high-dimensional) feature maps. Similarly to the 2d case, the processing typically involves multi-channel inputs, and, consequently the typical inputs and outputs for $n$-dimensional convolutional layers are $n+1$-dimensional tensors.\n",
        "\n",
        "<a href=\"https://miro.medium.com/max/1610/1*wUVVgZnzBwYKgQyTBK_5sg.png\"><img src=\"https://drive.google.com/uc?export=view&id=1WrPjv-zUkiCjN_cRtOEcqYn_xH6l1zlH\" width=50%></a>\n",
        "\n",
        "3d convolutions can be used for\n",
        "+ video analysis (time is an additional dimension) (see e.g. [3D Convolutional Neural Networks for Human Action Recognition](http://citeseerx.ist.psu.edu/viewdoc/download?doi=10.1.1.442.8617&rep=rep1&type=pdf))\n",
        "+ 3d \"still image\" analysis (see e.g. [Convolutional Neural Network for 3D Object\n",
        "Recognition using Volumetric representation](http://www.mva-org.jp/Proceedings/2017USB/papers/04-22.pdf)), there is even a [\"3d MNIST\" data set](https://www.kaggle.com/daavoo/3d-mnist/data#full_dataset_vectors.h5).\n",
        "\n",
        "Finally, 4d convolutions can be used, e.g, for analyzing 3d videos (see e.g., [4D Spatio-Temporal ConvNets: Minkowski Convolutional Neural Networks](https://arxiv.org/pdf/1904.08755.pdf))."
      ]
    },
    {
      "cell_type": "markdown",
      "source": [
        "#### Connection between hyperparameters\n",
        "\n",
        "Input size: $W_1 \\times H_1 \\times D_1$  (width, length, depth - we were using rectangular inputs above, but that is not necessary)\n",
        "\n",
        "Hyperparameters:\n",
        " - Number of filters: K\n",
        " - Filter size: F\n",
        " - Stride: S\n",
        " - Padding: P\n",
        " \n",
        " Output: $W_2\\times H_2 \\times D_2$,\n",
        "  where \n",
        "  \n",
        "  - $W_2 = (W_1-F-2P)/S+1$\n",
        "  - $H_2 = (H_1-F-2P)/S+1$\n",
        "  - $D_2 = K$\n",
        "  \n",
        "  \n",
        "  Total parameters for a layer: $(F\\times F\\times D_1 +1)*K$, where 1 is representing the bias. \n",
        "  \n",
        "  (In case of fully connected layers it is $W_1 \\times H_1 \\times D_1 \\times W_2 \\times H_2$ parameters, which is by order of magnitude larger...)\n",
        "  \n",
        " \n",
        "#### Comparison to fully connected layer\n",
        "\n",
        "<html>\n",
        "<head>\n",
        "<style>\n",
        "table {\n",
        "    font-family: arial, sans-serif;\n",
        "    border-collapse: collapse;\n",
        "    width: 100%;\n",
        "}\n",
        "\n",
        "td, th {\n",
        "    border: 1px solid #dddddd;\n",
        "    text-align: left;\n",
        "    padding: 8px;\n",
        "}\n",
        "\n",
        "tr:nth-child(even) {\n",
        "    background-color: #dddddd;\n",
        "}\n",
        "</style>\n",
        "</head>\n",
        "<body>\n",
        "\n",
        "<h2>Connection between sub parts</h2>\n",
        "\n",
        "<table>\n",
        "  <tr>\n",
        "    <th>MLP</th>\n",
        "    <th>Convolutional network</th>\n",
        "  </tr>\n",
        "  <tr>\n",
        "    <td><a href=\"http://cs231n.github.io/assets/nn1/neural_net2.jpeg\"><img src=\"https://drive.google.com/uc?export=view&id=1kM0eYXqJMMeVPxe6IWWqZEnkMy7pTuTa\" height=\"300\"></a></td>\n",
        "    <td><a href=\"http://cs231n.github.io/assets/cnn/cnn.jpeg\"><img src=\"https://drive.google.com/uc?export=view&id=1YVFC030nMTmt5aj_ScIih7-iSnbAaRZH\" height=\"300\"></a></td>\n",
        "  </tr>\n",
        "</table>\n",
        "\n",
        "</body>\n",
        "</html>\n",
        "\n",
        "Left side: traditional 3 layer network. \n",
        "Right side: ConvNet, where we arrange inputs in 3 dimensions:\n",
        "- Output of filters for each part of picture single scalar, values form an activation map for the given filter over the whole image. \n",
        "- Maps stacked on top of each-other to get to 3D representation, forming the input for the next layers. \n",
        "- In case of pictures, RGB input can be considered 3D by default. [Source](http://cs231n.github.io/convolutional-networks/)\n"
      ],
      "metadata": {
        "id": "CfaS1SkjOUrb"
      }
    },
    {
      "cell_type": "markdown",
      "source": [
        "#### Convolution summary: filters, stride, padding and channels\n",
        "\n",
        "**Some typical choices** for filter, stride, padding:\n",
        "\n",
        "* Typical filter (kernel) sizes: 2x2, **3x3**, 5x5 (-> look for truly local relationships)\n",
        "  * Note: for RGB (3-channel) images, filter sizes are: ...x3\n",
        "* Typical stride: 1 (-> overlap)\n",
        "* Typical padding: 0-padding\n",
        "\n",
        "**Filters (kernels) and channels:**\n",
        "* Input image:\n",
        "  * grayscale image = WxH = 1 channel (2D)\n",
        "  * RGB image = WxHx3 = 3 channels (3D)\n",
        "* 1 filter -> 1 map = same WxH dimension as input image, but just 1 \"channel\".\n",
        "  * The filters are the weights! (3x3 filter -> 9 weights.)\n",
        "* $n$ filters (= $n$ \"features\" we look for) -> $n$ maps -> **$n$ new \"channels\" for next convolutional layer**.\n",
        "  * For CNN, this $n$ is the unit number to specify!\n",
        "  * One filter is \"copy-and-pasted\" multiple times over the image (with shared weights!!!) to emulate convolution (instead of a \"for\"-cycle). But we don't have to worry about that / specify it. <- Calculated from filter, stride, padding."
      ],
      "metadata": {
        "id": "rIa9aifkiYEz"
      }
    },
    {
      "cell_type": "markdown",
      "source": [
        "### Pooling\n",
        "\n",
        "- Follow logic of \"detectors\" in case of convolutional filters\n",
        "- Accept premise that there is a compositional hierarchy of object parts\n",
        "\n",
        "$\\Rightarrow$ Most relevant information **whether filter detected certain pattern somewhere in the region** of the input picture. \n",
        "\n",
        "**Exact location is not important**, only the fact that there is \"strong\" (confident) signal.\n",
        "\n",
        "Following this logic additional _pooling layer_ introduced in CNNs:\n",
        "- Downsampling strategy, **reducing the dimensionality of the inputs** for a next convolutional layer, \n",
        "- **Aiding the \"invariant behavior\"** of the network as well as a hierarchic form of compressing.\n",
        "\n",
        "Different pooling strategies exist (like \"average pooling\"), but most widespread form is **_max pooling_**:\n",
        "\n",
        "- The pooling layer does **no learning**, has no weights. \n",
        "- For each $k\\times k$  input a single value which is the $maximum$ of activation in that region.\n",
        "- In case of input with dimensions $N\\times N$ and $k$ stride it will  output a $ \\frac{N}k \\times\\frac{N}k$ layer, as each $k\\times k$ has an output of only a scalar because of the application of the $max$ function.\n",
        "\n",
        "<a href=\"https://adeshpande3.github.io/assets/MaxPool.png\"><img src=\"https://drive.google.com/uc?export=view&id=15jl2DTDmapH4wdng3CaiTTL0DJwdcFxS\" width=400 heigth=400></a>\n",
        "\n",
        "Some more justification for this procedure can be that in a certain local region the presence of a feature is unlikely be \"double\", unless the picture is somehow blurry, so we only need a decision of maximal presence.  Additional resources [here](http://yann.lecun.com/exdb/publis/pdf/boureau-icml-10.pdf).\n"
      ],
      "metadata": {
        "id": "Xj_sKMRQOg6g"
      }
    },
    {
      "cell_type": "markdown",
      "source": [
        "<img src=\"https://encrypted-tbn0.gstatic.com/images?q=tbn:ANd9GcQkjjsi0hvt8KfTaNyzeOnHJAe-B_D8cjJoQ6hHmEr7Gip686uToGLMr3fxbJoG6o4iWw&usqp=CAU\" width=700>"
      ],
      "metadata": {
        "id": "fvDGarSDgtS7"
      }
    },
    {
      "cell_type": "markdown",
      "source": [
        "### Fully-connected layers\n",
        "\n",
        "Remember: after the series of conv-pool modules, we still need fully-connected (\"FC\") layers, and the usual output layer!\n",
        "\n",
        "(Often these few FC layers require the most weights in the network to train!)\n",
        "\n",
        "(In modern networks, batchnorm and dropout layers are also included.)"
      ],
      "metadata": {
        "id": "Fn9TcjaDm5BD"
      }
    },
    {
      "cell_type": "markdown",
      "metadata": {
        "id": "egQH_Ihdo59c"
      },
      "source": [
        "### Sidenote: some disadvantages of CNN\n",
        "\n",
        "Recently the researchers at Uber's AI lab started to investigate the failings of ConvNets, especially their **inability to solve tasks requiring exact coordinates**, for example dealing with single pixel based tasks (like given a coordinate pair, the network should output a singel pixel of white at that coordinate). The basic convolutional architectures fail miserably, thus implying that **we laid too much emphasis on invariances**, and with it, crippled the ability of the networks to use accurate coordinates.\n",
        "\n",
        "<a href=\"https://eng.uber.com/wp-content/uploads/2018/07/image15.png\"><img src=\"https://drive.google.com/uc?export=view&id=1KskYAWOPHmfu8Y1aDS99MZz5yWdkmOXL\" width=300 heigth=300></a>\n",
        "\n",
        "The researchers propose a simple extension of connectivity, thus a new architecture they call [\"CoordConv\"](https://eng.uber.com/coordconv/) to solve this isssue.\n",
        "\n",
        "<a href=\"https://eng.uber.com/wp-content/uploads/2018/07/image8-768x321.jpg\"><img src=\"https://drive.google.com/uc?export=view&id=1jTSwprNTUqMbnbycAmkK1T1VY-L1KKM6\" width=400 heigth=400></a>"
      ]
    },
    {
      "cell_type": "markdown",
      "metadata": {
        "id": "iulmk1K8o59c"
      },
      "source": [
        "<a id=\"specarch\"></a>\n",
        "# Specific architecture examples\n",
        "\n",
        "After the initial success of ConvNet a _huge_ amount of development went into refining techniques and architectures that fueled the rapid development of the visual processing field, which surpassed (on certain tasks!!!) human performance.\n",
        "\n",
        "<a href=\"https://pbs.twimg.com/media/DDwtxn6U0AADbz0.jpg\"><img src=\"https://drive.google.com/uc?export=view&id=1AnIfao6NY3anOIoKwAPbEKGYnHBytwea\" heigth=400></a>\n",
        "\n",
        "One obvious source of development was, that with the \"tricks\" discussed before, as well as the increase of computation power the number of layers inside modern image recognition models also rises rapidly.\n",
        "\n",
        "<a href=\"https://www.researchgate.net/profile/Kien_Nguyen26/publication/321896881/figure/fig1/AS:573085821489153@1513645715549/The-evolution-of-the-winning-entries-on-the-ImageNet-Large-Scale-Visual-Recognition.png\"><img src=\"https://drive.google.com/uc?export=view&id=1Q4saXOkq7Q7kshqAwcVQ36aIlArzV2OW\" height=400></a>\n",
        "\n",
        "[Source](https://www.researchgate.net/figure/The-evolution-of-the-winning-entries-on-the-ImageNet-Large-Scale-Visual-Recognition_fig1_321896881)\n",
        "\n",
        "But some structural modifications were also necessary for these results to become achiveable."
      ]
    },
    {
      "cell_type": "markdown",
      "metadata": {
        "id": "i4qJAh_LzdcP"
      },
      "source": [
        "## LeNet\n",
        "\n",
        "[Original paper](http://yann.lecun.com/exdb/publis/pdf/lecun-98.pdf)\n",
        "\n",
        "This is the original ConvNet by LeCun et al. with the first implementation of the conv, pool and FC layers used for character recognition.\n",
        "\n",
        "<a href=\"http://drive.google.com/uc?export=view&id=1Yw1NECPVDmrO2a3JoPwJVvnsNU8BU1Ul\"><img src=\"https://drive.google.com/uc?export=view&id=1BS6SG7AuFU5kXQoMtYEAk4G1X2Dq65kP\" height=\"500\"></a>"
      ]
    },
    {
      "cell_type": "markdown",
      "metadata": {
        "id": "LMFPmvcGo59d"
      },
      "source": [
        "Some notable curiosities from today's perspective:\n",
        "\n",
        "+ Neurons were not always connected to all input channels\n",
        "+ The weights of the penultimate FC layer (F6) were initialized on the basis of manually created 7x12 images of \"ideal digits\", and the \"Gaussian connections\" actually measured the Eucledian distance between these images and the current activation..."
      ]
    },
    {
      "cell_type": "markdown",
      "metadata": {
        "id": "11d4hcgAtKNZ"
      },
      "source": [
        "---------------------------------\n",
        "## AlexNet\n",
        "\n",
        "Papers:\n",
        "\n",
        "- [Here](https://papers.nips.cc/paper/4824-imagenet-classification-with-deep-convolutional-neural-networks.pdf)\n",
        "- [and here](https://kratzert.github.io/2017/02/24/finetuning-alexnet-with-tensorflow.html)\n",
        "\n",
        "\n",
        "<a href=\"https://cdn-images-1.medium.com/max/1600/1*qyc21qM0oxWEuRaj-XJKcw.png\"><img src=\"https://drive.google.com/uc?export=view&id=1JVfFD1XnLzMZ3wTxgVhMCd0GzQwd6Vc4\" height=\"300\"></a>\n",
        "\n",
        "\n",
        "Winner of the \"ImageNet Large-Scale Visual Recognition Challenge (ILSVRC) 2012\", 37.5% top-1 and 17.0% top-5 error rate, 650000 neuron, 60 million parmeters.\n",
        "\n",
        "### Main ideas:\n",
        "- **RELU in all layers**\n",
        "\n",
        "<a href=\"http://drive.google.com/uc?export=view&id=14p7awodIcVsqEj-N2buGty74uz2doXuA\"><img src=\"https://drive.google.com/uc?export=view&id=1Q6PVEcGpdW0tpKov3fJnwA1qaCx564H3\" height=\"500\"></a>\n",
        "\n",
        "- **Parallel processing on two GPUs**\n",
        "\n",
        "The processing is done in two separate channels. This \"innovation\" came to be because of the fact that GPU memory was extremely limited back then, and the only way to train a bigger model was to \"divide it by half\". None the less a mechanic had to be implemented that ensured communication between the two channels at some layers.\n",
        "\n",
        "- **Local response normalization**\n",
        "\n",
        "As a linear form of \"inhibition\", we divide the activation of a neuron at a position with a scalar that depends on the activations of other neurons in the same position. It has some faint connections to batch norm, and resulted in 1.2-1.4% gain in accuracy. This is also called \"brightness normalization\" and fell out of favour recently.\n",
        "\n",
        "- **Overlapping pooling**\n",
        "\n",
        "Stride is smaller than the pooling filter. This caused 0.3-0.4% increase in accuracy.\n",
        "\n",
        "- **Techniques against overfitting**\n",
        "\n",
        "    - Data augmentation\n",
        "    - DropOut (only on the last FC layers - it doubled the number of training iterations none the less for convergence)"
      ]
    },
    {
      "cell_type": "markdown",
      "metadata": {
        "id": "-6R0L3U0tQqB"
      },
      "source": [
        "-----------------------------\n",
        "## VGG (Simonyan and Zisserman, Visual Geometry Group, University of Oxford)\n",
        "\n",
        "Sources:\n",
        "- https://arxiv.org/abs/1409.1556\n",
        "- http://www.robots.ox.ac.uk/~vgg/research/very_deep/\n",
        "- https://github.com/machrisaa/tensorflow-vgg\n",
        "- https://github.com/tensorflow/models/blob/master/research/slim/nets/vgg.py\n",
        "- https://gist.github.com/omoindrot/dedc857cdc0e680dfb1be99762990c9c\n",
        "\n",
        "<a href=\"http://www.hirokatsukataoka.net/research/cnnfeatureevaluation/cnnarchitecture.jpg\"><img src=\"https://drive.google.com/uc?export=view&id=18zYv9l6Kyd3HqirrZGPvnMfUZknLFCnp\" width=600 heigth=600></a>\n",
        "\n",
        "Second place in 2014 ImageNet. It had 16 convolutional and 3 FC layers 3x3 convolutional and 2x2 pooling filters. The model's appeal was its simplicity, though the FC layers at the end made it quite demanding in computational terms. Decreasing FC layers was later found to mitigate this problem without meaningful loss of performance.\n",
        "\n",
        "Main ideas:\n",
        "\n",
        "- more convolutional layers\n",
        "- only small, but overlapping filters (3x3, stride=1)\n",
        "- no local response normalization\n",
        "- Sampling from multi-scale pictures\n",
        "- usage of 1x1 convolutional layers\n",
        "- ensemble of multiple models (2 made a large improvement, no need for large ensembles)\n",
        "\n",
        "VGG is still a widely used architecture - especially in transfer learning."
      ]
    },
    {
      "cell_type": "markdown",
      "metadata": {
        "id": "9XK31BL7tNrD"
      },
      "source": [
        "---------------------------------------------\n",
        "## GoogLeNet-Inception models\n",
        "\n",
        "Winner of ILSVRC 2014 in detection and classification also, model of the Google team.\n",
        "\n",
        "**Sources:**\n",
        "- https://www.cs.unc.edu/~wliu/papers/GoogLeNet.pdf\n",
        "- https://leonardoaraujosantos.gitbooks.io/artificial-inteligence/content/googlenet.html\n",
        "\n",
        "\n",
        "**Design objective:**\n",
        "Lower level of energy and memory consumption\n",
        "\n",
        "**Problems:**\n",
        "1. More layers mean higher precision, but too many parameters (overfitting, training time, computational power,...)\n",
        "2. ConvNet libraries (as well as general numeric libraries and hardware) is designed to deal with dense matrices, but computer vision representations work with sparse distributions\n",
        "\n",
        "**Ideas:**\n",
        "\n",
        "1. idea, based on: M. Lin, Q. Chen, and S. Yan. Network in network. CoRR, abs/1312.4400, 2013. Using **1x1 convolutions, increasing depth but not increasing dimensions**. Concatenating this structure repeatedly resulted in GoogLeNet\n",
        "\n",
        "2. idea: Inspired by biology, trying to reach scalar-invariance by applying **variable size filters in parallel.** (This was also present in the classical model of Serre, HMAX just with non-learned filters.) Optimally we would work with many filters that are only sparsely active.\n",
        "\n",
        "Inception model combines the two ideas, it does not enforce sparsity explicitly, but approximates it instead.\n",
        "\n",
        "The building blocks, \"inception modules\" are composed of different size pooling and convolutional filters, their output is concatenated to become the input for the next layer. The ratio of different size filters changes as we get further from the original input, since we can expect to see lower and lower levels of spatial correlations in the higher levels of representation. The number of parameters is controlled by 1x1 dimension reduction convolutions:\n",
        "\n",
        "<a href=\"https://leonardoaraujosantos.gitbooks.io/artificial-inteligence/content/image_folder_5/inception_1x1.png\"><img src=\"https://drive.google.com/uc?export=view&id=1TlXaTrrr5B5sTspLUavQ1YExfJCH7pqm\" width=1000></a>\n",
        "\n",
        "The structure of GoogLeNet:\n",
        "\n",
        "<a href=\"https://leonardoaraujosantos.gitbooks.io/artificial-inteligence/content/image_folder_5/GoogleNet.png\"><img src=\"https://drive.google.com/uc?export=view&id=1PBbKbWtZus7RFqpZQvZ9gi3JCy6q77U-\" width=1000 ></a>\n",
        "\n",
        "Because of memory constraints, in the first two layers they used \"classical\" conv and pool layers, then multiple inception modules were chained after each-other. Finally they used _avg pooling_ (instead of FC layers), dropoutot and softmax. If we consider a module one \"layer\", the number of operators with parameters was 22, all in all the number of layers was 100\n",
        "\n",
        "3. idea: Put **external classifiers on some of the intermediate layers**, this contributes to the error minimized during training. This ensures that **strong gradient flow is maintained in bottom layers** also. (The motivation came from the fact that not so deep models work also, so there is a gradient signal that can be extracted from them.) During testing, the auxillary classifiers are not used.\n",
        "\n",
        "4. idea: The usage of **photometric distortion** help the model becoming invariant against the properties of the photos taking (camera, detector type,...) [soruce](https://arxiv.org/abs/1312.5402)\n",
        "\n",
        "5. idea: They taught 7 (6) identical models on subsets of the training data, and finally made an **ensemble** of them. (Ensembling always helps a bit. :-( )\n",
        "\n",
        "\n"
      ]
    },
    {
      "cell_type": "markdown",
      "metadata": {
        "id": "8btKTu-5CnGD"
      },
      "source": [
        "---------------------------------------------\n",
        "## Highway Networks\n",
        "\n",
        "**Soruces:**\n",
        "- https://arxiv.org/abs/1505.00387\n",
        "- https://web.archive.org/web/20190528021739/http://people.idsia.ch:80/~rupesh/very_deep_learning/\n",
        "- https://arxiv.org/abs/1507.06228\n",
        "- https://medium.com/jim-fleming/highway-networks-with-tensorflow-1e6dfa667daa\n",
        "- https://github.com/wujysh/highway-networks-tensorflow\n",
        "\n",
        "\n",
        "**Problem:**\n",
        "\n",
        "The teaching of very deep networks is difficult (unsurprisingly) \n",
        "\n",
        "**Idea:**\n",
        "\n",
        "The flow of information could be enhanced by passing through **the original as well as the transformed input**, thus the signal is essentially not weakened during the process. (And by the way, gradients can flow backwards more easily!). This general idea is also called a skip connection, although highway networks are just one particular way of implementing skip connections.\n",
        "\n",
        "$y=H(\\mathbf{x}, \\mathbf{W_H})\\cdot T(\\mathbf{x}, \\mathbf{W_T})+ \\mathbf{x}\\cdot C(\\mathbf{x}, \\mathbf{W_C})$, \n",
        "\n",
        "where T is the \"transform\" gate, C is the \"carry over\" gate. \n",
        "\n",
        "Most simple form is when \n",
        "\n",
        "$C()=1-T()$, \n",
        "\n",
        "thus \n",
        "\n",
        "$y=H(\\mathbf{x}, \\mathbf{W_H})\\cdot T(\\mathbf{x}, \\mathbf{W_T})+ \\mathbf{x}\\cdot (1-T(\\mathbf{x}, \\mathbf{W_T}))$\n",
        "\n",
        "\n",
        "<a href=\"http://drive.google.com/uc?export=view&id=17asvsfH4S6O2TVmE8dLQBF7uhJmalCNt\"><img src=\"https://drive.google.com/uc?export=view&id=1-N3GS0iZG4oBhIJUeoADgEsHXRuQtWe9\" width=500 height=500></a>\n",
        "\n",
        "<a href=\"http://drive.google.com/uc?export=view&id=1ab6Z6Sr8_tc30s6ZtvaBy-f4ycdyXWOI\"><img src=\"https://drive.google.com/uc?export=view&id=1z9JmaYDBPxEVkhaEyhFbhFR55l6ddxsc\" width=500 height=500></a>\n",
        "\n",
        "\n"
      ]
    },
    {
      "cell_type": "markdown",
      "metadata": {
        "id": "93JL4amjuX5W"
      },
      "source": [
        "------------------------------------------\n",
        "## ResNet, Wide ResNet, ResNeXt\n",
        "\n",
        "\n",
        "**Sources:**\n",
        "- https://github.com/ppwwyyxx/tensorpack/tree/master/examples/ResNet\n",
        "- https://github.com/tensorflow/tensorflow/blob/master/tensorflow/python/keras/applications/resnet.py\n",
        "- https://arxiv.org/abs/1512.03385\n",
        "- https://icml.cc/2016/tutorials/icml2016_tutorial_deep_residual_networks_kaiminghe.pdf\n",
        "- https://arxiv.org/pdf/1602.07261.pdf   combining Inception and ResNet leads to quicker training and higher accuracy\n",
        "- https://medium.com/@waya.ai/deep-residual-learning-9610bb62c355\n",
        "\n",
        "\n",
        "Originally a result of Microsoft Research Asia, the lead author, Professor He is now at Facebook AI...\n",
        "\n",
        "ResNets\t@\tILSVRC\t&\tCOCO\t2015\twinner in all categories!\n",
        "- ImageNet\tClassification:\t“Ultra-deep”\t152-layer nets\t\n",
        "- ImageNet\tDetection: 16% better\tthan\t2nd\n",
        "- ImageNet\tLocalization: 27% better\tthan\t2nd\n",
        "- COCO\tDetection: 11% better\tthan\t2nd\n",
        "- COCO\tSegmentation: 12% better\tthan\t2nd\n",
        "\n",
        "<a href=\"https://leonardoaraujosantos.gitbooks.io/artificial-inteligence/content/image_folder_5/ImagenetTable.png\"><img src=\"https://drive.google.com/uc?export=view&id=14ySyXWjsbWTKmOC5_8Lo6VX56XvZGkoh\" width=500></a>\n",
        "\n",
        "\n",
        "### ResNet vs Highway networks\n",
        "\n",
        "Motivation:\n",
        "\n",
        "Depth has a limit: \"degradation problem\"\n",
        "\n",
        "<a href=\"http://drive.google.com/uc?export=view&id=1g9laFRfDIdW0Bl9PC58et2z9DqyB5DNf\"><img src=\"https://drive.google.com/uc?export=view&id=16nhnu5Z-nfKzhx8WR_xWTyFQsSrDRr8I\" width=800 ></a>\n",
        "\n",
        "\n",
        "You need more and more tricks to keep up the gradient flow in case of deeper networks.\n",
        "\n",
        "<a href=\"http://drive.google.com/uc?export=view&id=141aDrpQAtXdN8HLKg3eopbO3RB7YSXeo\"><img src=\"https://drive.google.com/uc?export=view&id=1NUEvCVv3uJ8IRq_OEH6MjbjkNAXUKM3M\" width=600 ></a>\n",
        "\n",
        "\n",
        "ResNets and Highway networks time to realise the same goal, so similar concept, different realization:\n",
        "\n",
        "<a href=\"https://www.researchgate.net/publication/311842587/figure/fig1/AS:442294890438658@1482462727725/Illustrating-our-usage-of-blocks-and-stages-in-Highway-and-Residual-networks-Note-also.png\"><img src=\"https://drive.google.com/uc?export=view&id=1HWX0Jq4d9kMiPaz1ZyEiwx0iKTlkow49\" width=600 ></a>\n",
        "\n",
        "[Source](https://www.researchgate.net/publication/311842587_Highway_and_Residual_Networks_learn_Unrolled_Iterative_Estimation)\n",
        "\n",
        "Both solutions try to implement a \"shortcut\" in depth, though in case of Highway networks it is done through a \"gating function\". The gates are dependent on the input and other parameters. If the value of the gate converges to 0, it does not learn a residual mapping (so it is in essence a variable amount of \"residuality\"), while ResNet always operates on the basis of residuals. It is not clear that a Highway net can always capiatalize on the increased depth.\n",
        "\n",
        "The big idea of ResNets is to learn the simplest of \"transformations\", namely _identity mapping_, that is we introduce \"skip connections\", so that the old mapping is the \"residual\" part of the new mapping. (It had some precursors in [VLAD (Vector of Locally Aggregated Descriptors](http://www.vlfeat.org/api/vlad-fundamentals.html).)\n",
        "\n",
        "<a href=\"http://drive.google.com/uc?export=view&id=17vkfFKkbNBxtc4v_tqM9GFRonE-hbPNw\"><img src=\"https://drive.google.com/uc?export=view&id=12Aoxyj1PiCqoxcP48UH_jEe37SoMo9Ot\" width=600 ></a>\n",
        "\n",
        "Introduction of identity transformation helps optimization.\n",
        "\n",
        "<a href=\"http://drive.google.com/uc?export=view&id=1NWGv-2LtzBHZODghTTJsVlccye3CaEpT\"><img src=\"https://drive.google.com/uc?export=view&id=19bjWrVN3nK3L8W6Yuu0HkvRiVTeSGo8c\" width=600 ></a>\n",
        "\n",
        "\n",
        "<a href=\"http://drive.google.com/uc?export=view&id=1MLyeQ6fpeQbLn71jmuclDn0ECO5i2utC\"><img src=\"https://drive.google.com/uc?export=view&id=1ei1f6Ss85qKwvw8_Ww8MGF55G7DT_PCK\" width=600 ></a>\n",
        "\n",
        "\n",
        "Building blocks of original ResNet, \"improved\" and \"generalized to more layers\":\n",
        "\n",
        "<a href=\"http://drive.google.com/uc?export=view&id=1dWnfQSp0JBR1jLQ-iPXzBlB9V-vQ1FqU\"><img src=\"https://drive.google.com/uc?export=view&id=1-rDLrJnJuTAJCOWD_DTwiB3raEsBS79d\" width=800 ></a>\n",
        "\n",
        "The difference lies in the transformations used. In smaller networks they use non-linearities (ReLU or ReLU+Batchnorm), and in bigger networks identity.\n",
        "\n",
        "The whole network is made up of such units, but before the classification there are no FC layers, only average pooling.\n",
        "\n",
        "\n",
        "The bottleneck structure for reducing parameters is useful in big tasks:\n",
        "<a href=\"http://drive.google.com/uc?export=view&id=19W-y5pAJCNTPO0iRzb5tRfguUj3P1Jq_\"><img src=\"https://drive.google.com/uc?export=view&id=1NSD0G8n3FQpHa2KoSktXcdvwgXlVWAw0\" width=800 ></a>\n",
        "\n",
        "\n",
        "Two ResNet components are:\n",
        "- basic:two convolutional layers, 3x3 filters, batch normalization and ReLU\n",
        "- bottleneck: dimensionality reduction and 1x1 expanding convolutional layer and a 3x3 conv layer inbetween\n",
        "\n",
        "\n",
        "**Results:**\n",
        "\n",
        "<a href=\"http://drive.google.com/uc?export=view&id=1Wp9eO5k0KV8BPRhdqx89I2CtCkAlb6KM\"><img src=\"https://drive.google.com/uc?export=view&id=13NwIaUb2JHspoaMoMK4J_pFKggBm7RTk\" width=800 ></a>\n",
        "\n",
        "\n",
        "\n"
      ]
    },
    {
      "cell_type": "markdown",
      "metadata": {
        "id": "bupmpKsGG4AL"
      },
      "source": [
        "## Wide ResNet\n",
        "\n",
        "[**Source**](https://arxiv.org/abs/1605.07146)\n",
        "\n",
        "The introduction of identity mapping was the key in ResNets but with enough layers, the so called \"diminishing feature reuse\" problem arises, that is, the information is preferredly flowing through the skip connections and nothing is learned on the other branch.\n",
        "\n",
        "\n",
        "**Ideas:**\n",
        "- Changing the order of operators: BN->ReLU->conv, results in faster training\n",
        "- Since the bottleneck layer is \"narrow\", and the goal is to build wide nets, they have left it out\n",
        "- Increase of representation power\n",
        "    - more layers\n",
        "    - more conv layers in one ResNet module\n",
        "    - change of receptive fields of filters (smaller filters are generally better\n",
        "    - Widening: more filters inside the conv layer of the module\n",
        "- Widening (more filters) allowed for better GPU utilization, drastic speed increase in comparison to classic ResNet\n",
        "- Batch Norm instead of DropOut in convolutional layers\n",
        "\n",
        "\n",
        "<a href=\"http://drive.google.com/uc?export=view&id=1txjchc8PNT9_UGxNYMdAQaG39Pe7e3UO\"><img src=\"https://drive.google.com/uc?export=view&id=1mJ8SF3NxyTwIzZkK1awSu8wQKhyRLEkV\" width=500 height=500></a>\n",
        "\n"
      ]
    },
    {
      "cell_type": "markdown",
      "metadata": {
        "id": "-_EOtKEtuzXZ"
      },
      "source": [
        "------------------------------------------------------\n",
        "## DenseNet\n",
        "\n",
        "**Sources:** \n",
        "- https://arxiv.org/abs/1608.06993\n",
        "- https://github.com/liuzhuang13/DenseNet\n",
        "- https://github.com/YixuanLi/densenet-tensorflow\n",
        "\n",
        "**Problem:** \n",
        "- Many other models were experimenting with \"shortening the paths\", but there were many variants for it\n",
        "\n",
        "**Idea:**\n",
        "- What if we enable connection between all layers, the diverse filters together increase representation potential?\n",
        "- Few filters per layer, further compression between \"dense\" blocks\n",
        "\n",
        "\n",
        "<a href=\"https://cloud.githubusercontent.com/assets/8370623/17981494/f838717a-6ad1-11e6-9391-f0906c80bc1d.jpg\"><img src=\"https://drive.google.com/uc?export=view&id=1N8XaHD8JKjxsJsGByuKNMu-7K0anJnmM\" width=500 height=500></a>\n",
        "\n",
        "<a href=\"https://cloud.githubusercontent.com/assets/8370623/17981496/fa648b32-6ad1-11e6-9625-02fdd72fdcd3.jpg\"><img src=\"https://drive.google.com/uc?export=view&id=1cvhze7FOILIr3ZxOvBB89m18kwgZ1Y-o\" width=700 height=500></a>\n",
        "\n",
        "Access to earlier feature maps is implemented using concatenation:\n",
        "\n",
        "<a href=\"https://miro.medium.com/max/600/1*9ysRPSExk0KvXR0AhNnlAA.gif\"><img src=\"https://drive.google.com/uc?export=view&id=1bYdt8_ldmZaA15C4xZrFWxoNrTL6-YOj\"></a>\n",
        "\n",
        "(Image source: [Review: DenseNet — Dense Convolutional Network (Image Classification)](https://towardsdatascience.com/review-densenet-image-classification-b6631a8ef803))\n",
        "\n",
        "**Comparison with other models:**\n",
        "\n",
        "<a href=\"http://drive.google.com/uc?export=view&id=1av2mGDY1aH0GAq7bpyjwdA9sN7d2C09u\"><img src=\"https://drive.google.com/uc?export=view&id=1Hn-M7ZHk23Qwi-Ap616mmLxjA1frzEaU\" width=500 height=500></a>\n",
        "\n",
        "**Further reading**\n",
        "\n",
        "A nice, readable overview can be found here: [Review: DenseNet — Dense Convolutional Network (Image Classification)](https://towardsdatascience.com/review-densenet-image-classification-b6631a8ef803)"
      ]
    },
    {
      "cell_type": "markdown",
      "metadata": {
        "id": "2K17cXf-o59g"
      },
      "source": [
        "<a id=\"visualization\"></a>\n",
        "# CNN Visualization\n",
        "\n",
        "As the convolutional networks got deeper and deeper, it became an important question to investigate what these networks learn, how do the successive layers of representation look like in practice, or is there any point in adding layers after all.\n",
        "\n",
        "For this purpose it became a growing field of experimentation to try to visualize the inner workings of CNNs.\n"
      ]
    },
    {
      "cell_type": "markdown",
      "metadata": {
        "id": "aUWPK8OFhPoh"
      },
      "source": [
        "-----------------------------------------\n",
        "## ZFNet - the first tries\n",
        "\n",
        "[Source](https://arxiv.org/abs/1311.2901)\n",
        "\n",
        "Zeiler and Fergus created this winning model in 2013 by the in-depth analysis of AlexNet (and thus employing smaller filters and smaller strides in the first layers), but their most important contribution was the introduction of a \"deconvnet\" for visualization of intermediate representations (Zeiler, M., Taylor, G., and Fergus, R. Adaptive deconvolutional networks for mid and high level feature learning. In ICCV, 2011.)\n",
        "\n",
        "### The main idea: Deconvolution\n",
        "\n",
        "Deconvolution operator - or maybe better to say \"transposed convolution\" - operator is used to lossfully reconstruct the original representation before a convolutional layer.\n",
        "\n",
        "<a href=\"https://github.com/vdumoulin/conv_arithmetic/raw/master/gif/padding_strides_transposed.gif\"><img src=\"https://drive.google.com/uc?export=view&id=1ogWtuHi_PZqt4Tpcl8SgpmEPAN4zuE8m\" width=400 heigth=400></a>\n",
        "\n",
        "- **Unpooling:** In the convnet, the max pooling operation is non-invertible, however we can obtain an approximate inverse by recording the locations of the maxima within each pooling region in a set of switch variables. In the deconvnet, the unpooling operation uses these switches to place the reconstructions from the layer above into appropriate locations, preserving the structure of the stimulus. \n",
        "- **Rectification:** The convnet uses relu non-linearities, which rectify the feature maps thus ensuring the feature maps are always positive. To obtain valid feature reconstructions at each layer (which also should be positive), we pass the reconstructed signal through a relu non-linearity.\n",
        "- **Filtering**: The convnet uses learned filters to convolve the feature maps from the previous layer. To invert this, the deconvnet uses transposed versions of the same filters, but applied to the rectified maps, not the output of the layer beneath. In practice this means flipping each filter vertically and horizontally\n",
        "\n",
        "\n",
        "\n",
        "### Deconvnet structure for visualization:\n",
        "\n",
        "<a href=\"http://drive.google.com/uc?export=view&id=1BprM4pxtQHLABOjPiegMeZuucBhZGjEa\"><img src=\"https://drive.google.com/uc?export=view&id=12u2LJ4JXLadYv3mi8_Mpo0iof04Z89C6\" width=300 height=300></a>\n",
        "\n",
        "<a href=\"https://cdn-images-1.medium.com/max/1600/1*KyfQTpv1hYDg8ABXNt0FVg.jpeg\"><img src=\"https://drive.google.com/uc?export=view&id=1EzZ4b7NRmnGDuIhpq3L4rPbbKXn18tT4\" width=400 heigth=400></a>\n",
        "\n",
        "\n",
        "Projections of activations layer by layer into pixel space:\n",
        "\n",
        "<a href=\"http://drive.google.com/uc?export=view&id=1aB5vreWKi3eFekLywq9hZF8Zbgs_frtE\"><img src=\"https://drive.google.com/uc?export=view&id=13J1Di2offEFoTwClp4ND6uLUFvCL1Bc4\" width=700 height=700></a>\n",
        "\n",
        "The projections from each layer show the hierarchical nature of the features in the network. Layer 2 responds to corners and other edge/color conjunctions.Layer 3 has more complex invariances, capturing similar textures (e.g. mesh patterns (Row 1, Col 1); text(R2,C4)). Layer 4 shows significant variation, but is more class-specific: dog faces (R1,C1); bird’s legs (R4,C2). Layer 5 shows entire objects with significant pose variation, e.g. keyboards (R1,C11) and dogs (R4)\n",
        "\n",
        "A nice summary of the ZFnet paper can be found [here](https://medium.com/coinmonks/paper-review-of-zfnet-the-winner-of-ilsvlc-2013-image-classification-d1a5a0c45103)."
      ]
    },
    {
      "cell_type": "markdown",
      "metadata": {
        "id": "oLS9vX43o59g"
      },
      "source": [
        "\n",
        "## Methods for visualization\n",
        "\n",
        "Based on [\"Visualizing what ConvNets learn\"](https://cs231n.github.io/understanding-cnn/)\n",
        "\n",
        "### Visualization of activations in early layers\n",
        "**Layer Activations**. The most straight-forward visualization technique is to show the activations of the network during the forward pass. For ReLU networks, the activations usually start out looking relatively blobby and dense, but as the training progresses the activations usually become more sparse and localized. One dangerous pitfall that can be easily noticed with this visualization is that some activation maps may be all zero for many different inputs, which can indicate dead filters, and can be a symptom of high learning rates.\n",
        "\n",
        "\n",
        "<a href=\"https://cs231n.github.io/assets/cnnvis/act2.jpeg\"><img src=\"https://drive.google.com/uc?export=view&id=1645uvkMxnyAnW2vAEssurBpgkJ6aO1ws\" width=400 heigth=400></a>\n",
        "\n",
        "<a href=\"https://cs231n.github.io/assets/cnnvis/act1.jpeg\"><img src=\"https://drive.google.com/uc?export=view&id=1ri1CpB-U8t9sj4tD9n4A23OCZj9aACr0\" width=400 heigth=400></a>\n",
        "\n",
        "Typical-looking activations on the first CONV layer (left), and the 5th CONV layer (right) of a trained AlexNet looking at a picture of a cat. Every box shows an activation map corresponding to some filter. Notice that the activations are sparse (most values are zero, in this visualization shown in black) and mostly local.\n",
        "\n",
        "### Visualization of weights\n",
        "\n",
        "**Conv/FC Filters**. The second common strategy is to visualize the weights. These are usually most interpretable on the first CONV layer which is looking directly at the raw pixel data, but it is possible to also show the filter weights deeper in the network. The weights are useful to visualize because well-trained networks usually display nice and smooth filters without any noisy patterns. Noisy patterns can be an indicator of a network that hasn’t been trained for long enough, or possibly a very low regularization strength that may have led to overfitting.\n",
        "\n",
        "<a href=\"https://cs231n.github.io/assets/cnnvis/filt1.jpeg\"><img src=\"https://drive.google.com/uc?export=view&id=1rRiMyxsRf-YfTo86KddYWvLc-dfE4vsi\" width=400 heigth=400></a>\n",
        "\n",
        "### Using prototypical images\n",
        "\n",
        "We can scan through the training set, and choose for every unit the picture that activates it the most, thus getting a \"prototypical\" image. \n",
        "\n",
        "<a href=\"https://cs231n.github.io/assets/cnnvis/pool5max.jpeg\"><img src=\"https://drive.google.com/uc?export=view&id=1HzMgVbTAai6kBICV7r_tsdCNKsMi5iol\" width=600 heigth=600></a>\n",
        "\n",
        "\"Maximally activating images for some POOL5 (5th pool layer) neurons of an AlexNet. The activation values and the receptive field of the particular neuron are shown in white. (In particular, note that the POOL5 neurons are a function of a relatively large portion of the input image!) It can be seen that some neurons are responsive to upper bodies, text, or specular highlights.\"\n",
        "\n",
        "Interesting parallelism is, that in certain recurrrent nets (see next class) some tendency was captured, which utilizes one specific neuron to signal eg. the sentiment of a text. Thus the visualization of activations can be indeed quite insightful!\n",
        "\n",
        "<a href=\"https://openai.com/content/images/2017/04/low_res_maybe_faster.gif\"><img src=\"https://drive.google.com/uc?export=view&id=1gLByF5-cc9mC-sASJwzD9Pbsde3wviIl\" width=600 heigth=600></a>\n",
        "\n",
        "Source: [Unsupervised Sentiment Neuron](https://blog.openai.com/unsupervised-sentiment-neuron/)\n",
        "\n",
        "### Mapping the full space with the training images\n",
        "\n",
        "We can use the CNN's inner representation vectors and put them into a common space, do a dimensionality reduction (typically t-SNE), and then place the original images at the resulting locations, thus getting a feeling about how the inner space of the CNN is structured.\n",
        "\n",
        "<a href=\"https://cs231n.github.io/assets/cnnvis/tsne.jpeg\"><img src=\"https://drive.google.com/uc?export=view&id=1D3tm47hxMRiA3Q2N7tNt8bq2jSm_S0D-\" width=900 heigth=900></a>\n",
        "\n",
        "### Covering some parts of the input\n",
        "\n",
        "We can cover parts of the picture and \"convolve\" the covering area in such a way as to get a probaility value for a certain class (eg that if I cover this part, is this picture still classified as dog?).\n",
        "This can give insight about the key features used by the recognition of that given class.\n",
        "\n",
        "<a href=\"https://cs231n.github.io/assets/cnnvis/occlude.jpeg\"><img src=\"https://drive.google.com/uc?export=view&id=1c-3rX8pgPYGaq3aurwyklIuPErEb7hHL\" width=400 heigth=400></a>\n",
        "\n",
        "\n",
        "_It is this are of research that led to the development of adversarial examples._\n",
        "\n",
        "### Perturbing a single pixel (closely related to covering some parts of the input\n",
        "\n",
        "Up until their logical extreme, the [\"one pixel attack\"](https://arxiv.org/abs/1710.08864).\n",
        "\n",
        "<a href=\"http://drive.google.com/uc?export=view&id=1kpCiineXcyOwEUOHa1tCQT6WDzbDH8PS\"><img src=\"https://drive.google.com/uc?export=view&id=17AqrL8I2nO09GyX5LyGHqyL6ZwMNs85v\" width=55%></a>\n",
        "\n",
        "- Pixel pertubations optimized with differential evolution (DE)\n",
        "- Population based optimization algorithm for solving complex multi-modal optimization problems. DE belongs to the general class of evolutionary algorithms (EA). Moreover, it has mechanisms in the population selection phase that keep the diversity such that in practice it is expected to efficiently find higher quality solutions than gradient-based solutions or even other kindsof EAs. In specific, during each iteration another set of candidate solutions (children) is generated according to the current population (parents). Then the children are compared with their corresponding parents, surviving if they are more fitted (possess higher fitness value) than their parents. In such a way, only comparing the parent and his child, the goal of keeping diversity and improving fitness values can be simultaneously achieved. DE does not use the gradient information for optimizing and therefore does not require the objective function to be differentiable or previously known. Thus, it can be utilized on a wider range of optimization problems compared to gradient based methods (e.g., non-differentiable, dynamic, noisy, among others). The use of DE for generating adversarial images have the following main advantages:\n",
        "- Higher probability of Finding Global Optima - DE is a meta-heuristic which is relatively less subject to local minima than gradient descent or greedy search algorithms (this is in part due to diversity keeping mechanisms and the use of a set of candidate solutions). \n",
        "- Require Less Information from Target System - DE does not require the optimization problem to be differentiable as is required by classical optimization methods such as gradient descent and quasi-newton methods. This is critical in the case of generating adversarial images since 1) There are networks that are not differentiable. 2) Calculating gradient requires much more information about the target system which can be hardly realistic in many cases.\n",
        "- Simplicity - The approach proposed here is independent of the classifier used. For the attack to take place it is sufficient to know the probability labels. There are many DE variations/improvements such as selfadaptive, multi-objective, among others. The current work can be further improved by taking these variations/improvements into account.\n",
        "\n",
        "And the famous reprogramming paper: [ADVERSARIAL REPROGRAMMING OF\n",
        "NEURAL NETWORKS](https://arxiv.org/pdf/1806.11146.pdf)\n",
        "\n",
        "<a href=\"https://venturebeat.com/wp-content/uploads/2018/07/Capture-boring.png?fit=400%2C312&strip=all\"><img src=\"https://drive.google.com/uc?export=view&id=1kMbFFS_Qw5q_5zQu765UqBQ6opCom8jb\" width=60%></a>\n",
        "\n",
        "Some more interesting visualization methods can be found [here](https://distill.pub/2019/activation-atlas/)."
      ]
    },
    {
      "cell_type": "markdown",
      "metadata": {
        "id": "EicTa8Jlo59h"
      },
      "source": [
        "# Representation learning revisited\n",
        "\n",
        "The canonical example we gave for the effectiveness of deep networks is a hierarchical application of some \"kernels\", some folding of the input space that enables good separation.\n",
        "\n",
        "<a href=\"http://drive.google.com/uc?export=view&id=1tQu8JagtQKjd7xVbB5uDBA0CebjQcZ2B\"><img src=\"https://drive.google.com/uc?export=view&id=116xHphwqrSbyXpKX6Acz_Krvl5taLcE1\" width=50%></a>\n",
        "<a href=\"http://drive.google.com/uc?export=view&id=1q6TEXhcZ0hU9nv4CycGcNJyUb9RqC_Xy\"><img src=\"https://drive.google.com/uc?export=view&id=1Kxm5kL-d9OFYHHZqeguv_9pedUxRc6ps\" width=50%></a>\n",
        "<a href=\"http://drive.google.com/uc?export=view&id=1UFV35b84geZTymaTKQBpLXva8efafloW\"><img src=\"https://drive.google.com/uc?export=view&id=1nhHmfEy8z59jvuIOMw6gRjmWiwkfHh3b\" width=50%></a>\n",
        "<a href=\"http://drive.google.com/uc?export=view&id=1jAyFn9iKhjSADG-YViN73goVic1x8iu5\"><img src=\"https://drive.google.com/uc?export=view&id=1iP3yPJkH9hDUbM7OsXN3ta_pW5NTO1md\" width=50%></a>\n",
        "<a href=\"http://drive.google.com/uc?export=view&id=1XSrsBdnan08LVjcVjiJwRwn6_u3HyzvA\"><img src=\"https://drive.google.com/uc?export=view&id=1d2racDbobxx3T7eREAKBhU3ssmGUkPt8\" width=50%></a>\n",
        "<a href=\"http://drive.google.com/uc?export=view&id=1Aqx6qLy9pVt1-p2IG_CM0SKLnh7-Y2cI\"><img src=\"https://drive.google.com/uc?export=view&id=1evDeC6rJV8iyqpUOpD2E0o5N1G740L9q\" width=50%></a>\n",
        "\n",
        "\n",
        "But what does this mean in practice? \n",
        "\n",
        "\n",
        "## Connection with \"representation\" techniques\n",
        "\n",
        "<a href=\"https://sebastianraschka.com/images/blog/2014/linear-discriminant-analysis/lda_1.png\"><img src=\"https://drive.google.com/uc?export=view&id=1IwmD6DM9gmIW6rG5UTE0HvCvVfJ_EG9e\" width=75%></a>\n",
        "\n",
        "For classical \"representation learning\" techniques we have observed, that they try to investigate a transformation of the original data space, so that it becomes more \"informative\".\n",
        "\n",
        "The baseline approach is **principal components analysis**, during which the search for linear transformations (rotations) of the representation space is guided by the **variance pattern** of the data, coming up with \"axes\" that explain the most of the original variance of the data. The drawback of this method is, that it uses **linear transformations** and **does not utilize category information** of the classification problem.\n",
        "\n",
        "Going one step further **linear discriminant analysis** tries to mitigate this second drawback by coming up with transformations that are **explicitly useful for classification**, though the constraint - as name implies - of linear separation remains.\n",
        "\n",
        "On the other hand more recent **non-linear** embedding methods as [**t-SNE**](https://en.wikipedia.org/wiki/T-distributed_stochastic_neighbor_embedding) (t distributed Stochastic Neighborhood Embedding) and more recently [UMAP](https://arxiv.org/abs/1802.03426) successfully relax the constraint of linear embedding and try to preserve the neighborhood structure of complex manifolds after projecting them to lower dimensionality.  \n",
        "\n",
        "<a href=\"https://scikit-learn.org/stable/_images/sphx_glr_plot_t_sne_perplexity_001.png\"><img src=\"https://drive.google.com/uc?export=view&id=1EuZxQwCbRn04ze58HibQkaDhoRQpAP6d\" width=75%></a>\n",
        "\n",
        "(By the way, all the above visualizations of neural weights or activations were t-SNE projected to be visible in 2-3D, that is it's original use-case.)\n",
        "\n",
        "But amongs some other drawbacks (computational and generalization based) these techniques are not learning **target specific** representations of the data.\n",
        "\n",
        "\n",
        "We can state, that the best \"embedding\" of a set of data is through it's **salient features with respect to a given problem**.\n",
        "\n",
        "And we can demonstrate, that convnets are exactly doing this:\n",
        "\n",
        "## They DO learn features hierarchies!\n",
        "\n",
        "How do we know? - We, use the visualization techniques to track it!\n",
        "\n",
        "<a href=\"http://drive.google.com/uc?export=view&id=1kH7OYoulhmwPbGeIU_gpBNKKfBWn-s0Y\"><img src=\"https://drive.google.com/uc?export=view&id=18cTn5y-8q7mr3BQr0O9FbWVswGN4uGnh\"></a>\n",
        "\n",
        "\n",
        "## Generality of learned features\n",
        "\n",
        "If we examine more in detail the learned representations based on given tasks, we can see, that:\n",
        "\n",
        "1. There are distinct patterns learned in the case of separate classes\n",
        "2. The low level features are not that distinct\n",
        "3. If we learn on a broad set of classes, maybe our features will be more general?\n",
        "\n",
        "<a href=\"https://deliveryimages.acm.org/10.1145/2010000/2001295/figs/f4.jpg\"><img src=\"https://drive.google.com/uc?export=view&id=1i2KNeTYlvqr--HJNdoKVdsYverTOuBAa\" width=85%></a>\n",
        "\n"
      ]
    }
  ]
}