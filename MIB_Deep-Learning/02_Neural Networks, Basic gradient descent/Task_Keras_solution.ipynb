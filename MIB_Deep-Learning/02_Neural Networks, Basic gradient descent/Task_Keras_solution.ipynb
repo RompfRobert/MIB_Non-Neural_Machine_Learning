{
  "nbformat": 4,
  "nbformat_minor": 0,
  "metadata": {
    "colab": {
      "provenance": [],
      "toc_visible": true
    },
    "kernelspec": {
      "name": "python3",
      "display_name": "Python 3"
    },
    "language_info": {
      "name": "python"
    }
  },
  "cells": [
    {
      "cell_type": "markdown",
      "source": [
        "# Sample solution for Task: Using keras"
      ],
      "metadata": {
        "id": "qsO8KKzZbg3F"
      }
    },
    {
      "cell_type": "code",
      "execution_count": null,
      "metadata": {
        "id": "4G4IByu_bfNJ"
      },
      "outputs": [],
      "source": [
        "import numpy as np\n",
        "import pandas as pd"
      ]
    },
    {
      "cell_type": "markdown",
      "source": [
        "### Data\n",
        "\n",
        "From https://archive.ics.uci.edu/ml/datasets/heart+Disease\n",
        "\n",
        "> **target**: diagnosis of heart disease (angiographic disease status)\n",
        "-- Value 0: < 50% diameter narrowing\n",
        "-- Value 1: > 50% diameter narrowing\n",
        "\n",
        "> **sex**: sex (1 = male; 0 = female)\n",
        "\n",
        "> **cp**: chest pain type\n",
        "-- Value 1: typical angina\n",
        "-- Value 2: atypical angina\n",
        "-- Value 3: non-anginal pain\n",
        "-- Value 4: asymptomatic"
      ],
      "metadata": {
        "id": "a9Fr9dVmboWQ"
      }
    },
    {
      "cell_type": "code",
      "source": [
        "file_url = \"http://storage.googleapis.com/download.tensorflow.org/data/heart.csv\"\n",
        "df = pd.read_csv(file_url)"
      ],
      "metadata": {
        "id": "tVzF5F_xbgY7"
      },
      "execution_count": null,
      "outputs": []
    },
    {
      "cell_type": "code",
      "source": [
        "df"
      ],
      "metadata": {
        "colab": {
          "base_uri": "https://localhost:8080/",
          "height": 424
        },
        "id": "g2PYsuIMbmNV",
        "outputId": "752ef05f-26f6-4b5e-a7be-7c148eebfd13"
      },
      "execution_count": null,
      "outputs": [
        {
          "output_type": "execute_result",
          "data": {
            "text/plain": [
              "     age  sex  cp  trestbps  chol  fbs  restecg  thalach  exang  oldpeak  \\\n",
              "0     63    1   1       145   233    1        2      150      0      2.3   \n",
              "1     67    1   4       160   286    0        2      108      1      1.5   \n",
              "2     67    1   4       120   229    0        2      129      1      2.6   \n",
              "3     37    1   3       130   250    0        0      187      0      3.5   \n",
              "4     41    0   2       130   204    0        2      172      0      1.4   \n",
              "..   ...  ...  ..       ...   ...  ...      ...      ...    ...      ...   \n",
              "298   52    1   1       118   186    0        2      190      0      0.0   \n",
              "299   43    0   4       132   341    1        2      136      1      3.0   \n",
              "300   65    1   4       135   254    0        2      127      0      2.8   \n",
              "301   48    1   4       130   256    1        2      150      1      0.0   \n",
              "302   63    0   4       150   407    0        2      154      0      4.0   \n",
              "\n",
              "     slope  ca        thal  target  \n",
              "0        3   0       fixed       0  \n",
              "1        2   3      normal       1  \n",
              "2        2   2  reversible       0  \n",
              "3        3   0      normal       0  \n",
              "4        1   0      normal       0  \n",
              "..     ...  ..         ...     ...  \n",
              "298      2   0       fixed       0  \n",
              "299      2   0  reversible       1  \n",
              "300      2   1  reversible       1  \n",
              "301      1   2  reversible       1  \n",
              "302      2   3  reversible       1  \n",
              "\n",
              "[303 rows x 14 columns]"
            ],
            "text/html": [
              "\n",
              "  <div id=\"df-4dbb3654-499e-42e8-aefd-0b4cd1218190\">\n",
              "    <div class=\"colab-df-container\">\n",
              "      <div>\n",
              "<style scoped>\n",
              "    .dataframe tbody tr th:only-of-type {\n",
              "        vertical-align: middle;\n",
              "    }\n",
              "\n",
              "    .dataframe tbody tr th {\n",
              "        vertical-align: top;\n",
              "    }\n",
              "\n",
              "    .dataframe thead th {\n",
              "        text-align: right;\n",
              "    }\n",
              "</style>\n",
              "<table border=\"1\" class=\"dataframe\">\n",
              "  <thead>\n",
              "    <tr style=\"text-align: right;\">\n",
              "      <th></th>\n",
              "      <th>age</th>\n",
              "      <th>sex</th>\n",
              "      <th>cp</th>\n",
              "      <th>trestbps</th>\n",
              "      <th>chol</th>\n",
              "      <th>fbs</th>\n",
              "      <th>restecg</th>\n",
              "      <th>thalach</th>\n",
              "      <th>exang</th>\n",
              "      <th>oldpeak</th>\n",
              "      <th>slope</th>\n",
              "      <th>ca</th>\n",
              "      <th>thal</th>\n",
              "      <th>target</th>\n",
              "    </tr>\n",
              "  </thead>\n",
              "  <tbody>\n",
              "    <tr>\n",
              "      <th>0</th>\n",
              "      <td>63</td>\n",
              "      <td>1</td>\n",
              "      <td>1</td>\n",
              "      <td>145</td>\n",
              "      <td>233</td>\n",
              "      <td>1</td>\n",
              "      <td>2</td>\n",
              "      <td>150</td>\n",
              "      <td>0</td>\n",
              "      <td>2.3</td>\n",
              "      <td>3</td>\n",
              "      <td>0</td>\n",
              "      <td>fixed</td>\n",
              "      <td>0</td>\n",
              "    </tr>\n",
              "    <tr>\n",
              "      <th>1</th>\n",
              "      <td>67</td>\n",
              "      <td>1</td>\n",
              "      <td>4</td>\n",
              "      <td>160</td>\n",
              "      <td>286</td>\n",
              "      <td>0</td>\n",
              "      <td>2</td>\n",
              "      <td>108</td>\n",
              "      <td>1</td>\n",
              "      <td>1.5</td>\n",
              "      <td>2</td>\n",
              "      <td>3</td>\n",
              "      <td>normal</td>\n",
              "      <td>1</td>\n",
              "    </tr>\n",
              "    <tr>\n",
              "      <th>2</th>\n",
              "      <td>67</td>\n",
              "      <td>1</td>\n",
              "      <td>4</td>\n",
              "      <td>120</td>\n",
              "      <td>229</td>\n",
              "      <td>0</td>\n",
              "      <td>2</td>\n",
              "      <td>129</td>\n",
              "      <td>1</td>\n",
              "      <td>2.6</td>\n",
              "      <td>2</td>\n",
              "      <td>2</td>\n",
              "      <td>reversible</td>\n",
              "      <td>0</td>\n",
              "    </tr>\n",
              "    <tr>\n",
              "      <th>3</th>\n",
              "      <td>37</td>\n",
              "      <td>1</td>\n",
              "      <td>3</td>\n",
              "      <td>130</td>\n",
              "      <td>250</td>\n",
              "      <td>0</td>\n",
              "      <td>0</td>\n",
              "      <td>187</td>\n",
              "      <td>0</td>\n",
              "      <td>3.5</td>\n",
              "      <td>3</td>\n",
              "      <td>0</td>\n",
              "      <td>normal</td>\n",
              "      <td>0</td>\n",
              "    </tr>\n",
              "    <tr>\n",
              "      <th>4</th>\n",
              "      <td>41</td>\n",
              "      <td>0</td>\n",
              "      <td>2</td>\n",
              "      <td>130</td>\n",
              "      <td>204</td>\n",
              "      <td>0</td>\n",
              "      <td>2</td>\n",
              "      <td>172</td>\n",
              "      <td>0</td>\n",
              "      <td>1.4</td>\n",
              "      <td>1</td>\n",
              "      <td>0</td>\n",
              "      <td>normal</td>\n",
              "      <td>0</td>\n",
              "    </tr>\n",
              "    <tr>\n",
              "      <th>...</th>\n",
              "      <td>...</td>\n",
              "      <td>...</td>\n",
              "      <td>...</td>\n",
              "      <td>...</td>\n",
              "      <td>...</td>\n",
              "      <td>...</td>\n",
              "      <td>...</td>\n",
              "      <td>...</td>\n",
              "      <td>...</td>\n",
              "      <td>...</td>\n",
              "      <td>...</td>\n",
              "      <td>...</td>\n",
              "      <td>...</td>\n",
              "      <td>...</td>\n",
              "    </tr>\n",
              "    <tr>\n",
              "      <th>298</th>\n",
              "      <td>52</td>\n",
              "      <td>1</td>\n",
              "      <td>1</td>\n",
              "      <td>118</td>\n",
              "      <td>186</td>\n",
              "      <td>0</td>\n",
              "      <td>2</td>\n",
              "      <td>190</td>\n",
              "      <td>0</td>\n",
              "      <td>0.0</td>\n",
              "      <td>2</td>\n",
              "      <td>0</td>\n",
              "      <td>fixed</td>\n",
              "      <td>0</td>\n",
              "    </tr>\n",
              "    <tr>\n",
              "      <th>299</th>\n",
              "      <td>43</td>\n",
              "      <td>0</td>\n",
              "      <td>4</td>\n",
              "      <td>132</td>\n",
              "      <td>341</td>\n",
              "      <td>1</td>\n",
              "      <td>2</td>\n",
              "      <td>136</td>\n",
              "      <td>1</td>\n",
              "      <td>3.0</td>\n",
              "      <td>2</td>\n",
              "      <td>0</td>\n",
              "      <td>reversible</td>\n",
              "      <td>1</td>\n",
              "    </tr>\n",
              "    <tr>\n",
              "      <th>300</th>\n",
              "      <td>65</td>\n",
              "      <td>1</td>\n",
              "      <td>4</td>\n",
              "      <td>135</td>\n",
              "      <td>254</td>\n",
              "      <td>0</td>\n",
              "      <td>2</td>\n",
              "      <td>127</td>\n",
              "      <td>0</td>\n",
              "      <td>2.8</td>\n",
              "      <td>2</td>\n",
              "      <td>1</td>\n",
              "      <td>reversible</td>\n",
              "      <td>1</td>\n",
              "    </tr>\n",
              "    <tr>\n",
              "      <th>301</th>\n",
              "      <td>48</td>\n",
              "      <td>1</td>\n",
              "      <td>4</td>\n",
              "      <td>130</td>\n",
              "      <td>256</td>\n",
              "      <td>1</td>\n",
              "      <td>2</td>\n",
              "      <td>150</td>\n",
              "      <td>1</td>\n",
              "      <td>0.0</td>\n",
              "      <td>1</td>\n",
              "      <td>2</td>\n",
              "      <td>reversible</td>\n",
              "      <td>1</td>\n",
              "    </tr>\n",
              "    <tr>\n",
              "      <th>302</th>\n",
              "      <td>63</td>\n",
              "      <td>0</td>\n",
              "      <td>4</td>\n",
              "      <td>150</td>\n",
              "      <td>407</td>\n",
              "      <td>0</td>\n",
              "      <td>2</td>\n",
              "      <td>154</td>\n",
              "      <td>0</td>\n",
              "      <td>4.0</td>\n",
              "      <td>2</td>\n",
              "      <td>3</td>\n",
              "      <td>reversible</td>\n",
              "      <td>1</td>\n",
              "    </tr>\n",
              "  </tbody>\n",
              "</table>\n",
              "<p>303 rows × 14 columns</p>\n",
              "</div>\n",
              "      <button class=\"colab-df-convert\" onclick=\"convertToInteractive('df-4dbb3654-499e-42e8-aefd-0b4cd1218190')\"\n",
              "              title=\"Convert this dataframe to an interactive table.\"\n",
              "              style=\"display:none;\">\n",
              "        \n",
              "  <svg xmlns=\"http://www.w3.org/2000/svg\" height=\"24px\"viewBox=\"0 0 24 24\"\n",
              "       width=\"24px\">\n",
              "    <path d=\"M0 0h24v24H0V0z\" fill=\"none\"/>\n",
              "    <path d=\"M18.56 5.44l.94 2.06.94-2.06 2.06-.94-2.06-.94-.94-2.06-.94 2.06-2.06.94zm-11 1L8.5 8.5l.94-2.06 2.06-.94-2.06-.94L8.5 2.5l-.94 2.06-2.06.94zm10 10l.94 2.06.94-2.06 2.06-.94-2.06-.94-.94-2.06-.94 2.06-2.06.94z\"/><path d=\"M17.41 7.96l-1.37-1.37c-.4-.4-.92-.59-1.43-.59-.52 0-1.04.2-1.43.59L10.3 9.45l-7.72 7.72c-.78.78-.78 2.05 0 2.83L4 21.41c.39.39.9.59 1.41.59.51 0 1.02-.2 1.41-.59l7.78-7.78 2.81-2.81c.8-.78.8-2.07 0-2.86zM5.41 20L4 18.59l7.72-7.72 1.47 1.35L5.41 20z\"/>\n",
              "  </svg>\n",
              "      </button>\n",
              "      \n",
              "  <style>\n",
              "    .colab-df-container {\n",
              "      display:flex;\n",
              "      flex-wrap:wrap;\n",
              "      gap: 12px;\n",
              "    }\n",
              "\n",
              "    .colab-df-convert {\n",
              "      background-color: #E8F0FE;\n",
              "      border: none;\n",
              "      border-radius: 50%;\n",
              "      cursor: pointer;\n",
              "      display: none;\n",
              "      fill: #1967D2;\n",
              "      height: 32px;\n",
              "      padding: 0 0 0 0;\n",
              "      width: 32px;\n",
              "    }\n",
              "\n",
              "    .colab-df-convert:hover {\n",
              "      background-color: #E2EBFA;\n",
              "      box-shadow: 0px 1px 2px rgba(60, 64, 67, 0.3), 0px 1px 3px 1px rgba(60, 64, 67, 0.15);\n",
              "      fill: #174EA6;\n",
              "    }\n",
              "\n",
              "    [theme=dark] .colab-df-convert {\n",
              "      background-color: #3B4455;\n",
              "      fill: #D2E3FC;\n",
              "    }\n",
              "\n",
              "    [theme=dark] .colab-df-convert:hover {\n",
              "      background-color: #434B5C;\n",
              "      box-shadow: 0px 1px 3px 1px rgba(0, 0, 0, 0.15);\n",
              "      filter: drop-shadow(0px 1px 2px rgba(0, 0, 0, 0.3));\n",
              "      fill: #FFFFFF;\n",
              "    }\n",
              "  </style>\n",
              "\n",
              "      <script>\n",
              "        const buttonEl =\n",
              "          document.querySelector('#df-4dbb3654-499e-42e8-aefd-0b4cd1218190 button.colab-df-convert');\n",
              "        buttonEl.style.display =\n",
              "          google.colab.kernel.accessAllowed ? 'block' : 'none';\n",
              "\n",
              "        async function convertToInteractive(key) {\n",
              "          const element = document.querySelector('#df-4dbb3654-499e-42e8-aefd-0b4cd1218190');\n",
              "          const dataTable =\n",
              "            await google.colab.kernel.invokeFunction('convertToInteractive',\n",
              "                                                     [key], {});\n",
              "          if (!dataTable) return;\n",
              "\n",
              "          const docLinkHtml = 'Like what you see? Visit the ' +\n",
              "            '<a target=\"_blank\" href=https://colab.research.google.com/notebooks/data_table.ipynb>data table notebook</a>'\n",
              "            + ' to learn more about interactive tables.';\n",
              "          element.innerHTML = '';\n",
              "          dataTable['output_type'] = 'display_data';\n",
              "          await google.colab.output.renderOutput(dataTable, element);\n",
              "          const docLink = document.createElement('div');\n",
              "          docLink.innerHTML = docLinkHtml;\n",
              "          element.appendChild(docLink);\n",
              "        }\n",
              "      </script>\n",
              "    </div>\n",
              "  </div>\n",
              "  "
            ]
          },
          "metadata": {},
          "execution_count": 3
        }
      ]
    },
    {
      "cell_type": "code",
      "source": [
        "df.info()"
      ],
      "metadata": {
        "colab": {
          "base_uri": "https://localhost:8080/"
        },
        "id": "Ct4iANnmfMsB",
        "outputId": "3b87eb3b-2262-4949-f3f1-89aa75b28934"
      },
      "execution_count": null,
      "outputs": [
        {
          "output_type": "stream",
          "name": "stdout",
          "text": [
            "<class 'pandas.core.frame.DataFrame'>\n",
            "RangeIndex: 303 entries, 0 to 302\n",
            "Data columns (total 14 columns):\n",
            " #   Column    Non-Null Count  Dtype  \n",
            "---  ------    --------------  -----  \n",
            " 0   age       303 non-null    int64  \n",
            " 1   sex       303 non-null    int64  \n",
            " 2   cp        303 non-null    int64  \n",
            " 3   trestbps  303 non-null    int64  \n",
            " 4   chol      303 non-null    int64  \n",
            " 5   fbs       303 non-null    int64  \n",
            " 6   restecg   303 non-null    int64  \n",
            " 7   thalach   303 non-null    int64  \n",
            " 8   exang     303 non-null    int64  \n",
            " 9   oldpeak   303 non-null    float64\n",
            " 10  slope     303 non-null    int64  \n",
            " 11  ca        303 non-null    int64  \n",
            " 12  thal      303 non-null    object \n",
            " 13  target    303 non-null    int64  \n",
            "dtypes: float64(1), int64(12), object(1)\n",
            "memory usage: 33.3+ KB\n"
          ]
        }
      ]
    },
    {
      "cell_type": "code",
      "source": [
        "df_new = pd.get_dummies(df, columns=[\"sex\", \"cp\", \"thal\"])\n"
      ],
      "metadata": {
        "id": "ssKX-EnMgLhq"
      },
      "execution_count": null,
      "outputs": []
    },
    {
      "cell_type": "markdown",
      "source": [
        "Note: \n",
        "* We now would ideally drop one of the one-hot encoded columns to avoid perfect multicollinearity.\n",
        "* We wouldn't even have to dummy-encode \"sex\" column, since it only contains two values, so it's already boolean-encoded."
      ],
      "metadata": {
        "id": "gvhvVAwFRpOW"
      }
    },
    {
      "cell_type": "markdown",
      "source": [
        "### Train-valid-test split"
      ],
      "metadata": {
        "id": "-nOV_wS40YAQ"
      }
    },
    {
      "cell_type": "code",
      "source": [
        "from sklearn.preprocessing import StandardScaler\n",
        "from sklearn.model_selection import train_test_split"
      ],
      "metadata": {
        "id": "JawPXkuU0af9"
      },
      "execution_count": null,
      "outputs": []
    },
    {
      "cell_type": "code",
      "source": [
        "targetcol = \"target\"\n",
        "X = df_new.drop(targetcol, axis=1).values\n",
        "y = df_new[targetcol].values\n",
        "\n",
        "print(X.shape, y.shape)"
      ],
      "metadata": {
        "colab": {
          "base_uri": "https://localhost:8080/"
        },
        "id": "JSIc-ms9hw_W",
        "outputId": "3570d8ce-463b-4a71-a7b8-fcdac8d51afa"
      },
      "execution_count": null,
      "outputs": [
        {
          "output_type": "stream",
          "name": "stdout",
          "text": [
            "(303, 22) (303,)\n"
          ]
        }
      ]
    },
    {
      "cell_type": "code",
      "source": [
        "X_train, X_test, y_train, y_test = train_test_split(X, y, test_size=0.3, random_state=42)\n",
        "X_test, X_val, y_test, y_val = train_test_split(X_test, y_test, test_size=0.5, random_state=42)\n",
        "print(\"\", X_train.shape, \"\\n\", y_train.shape, \n",
        "      \"\\n\", X_val.shape, \"\\n\", y_val.shape,\n",
        "      \"\\n\", X_test.shape, \"\\n\", y_test.shape)"
      ],
      "metadata": {
        "colab": {
          "base_uri": "https://localhost:8080/"
        },
        "id": "wdqozoC-wCiG",
        "outputId": "5ba9a637-2d23-45a4-f178-9436bfe5a85e"
      },
      "execution_count": null,
      "outputs": [
        {
          "output_type": "stream",
          "name": "stdout",
          "text": [
            " (212, 22) \n",
            " (212,) \n",
            " (46, 22) \n",
            " (46,) \n",
            " (45, 22) \n",
            " (45,)\n"
          ]
        }
      ]
    },
    {
      "cell_type": "markdown",
      "source": [
        "Scaled data:"
      ],
      "metadata": {
        "id": "D4fj4Szl18jZ"
      }
    },
    {
      "cell_type": "code",
      "source": [
        "scaler = StandardScaler()\n",
        "scaler.fit(X_train)\n",
        "\n",
        "X_scaled = scaler.transform(X)\n",
        "X_train_scaled = scaler.transform(X_train)\n",
        "X_val_scaled = scaler.transform(X_val)\n",
        "X_test_scaled = scaler.transform(X_test)"
      ],
      "metadata": {
        "id": "a4Jc_SNI0jhb"
      },
      "execution_count": null,
      "outputs": []
    },
    {
      "cell_type": "code",
      "source": [
        "print(\"\", X_train_scaled.shape, \"\\n\", y_train.shape, \n",
        "      \"\\n\", X_val_scaled.shape, \"\\n\", y_val.shape,\n",
        "      \"\\n\", X_test_scaled.shape, \"\\n\", y_test.shape)"
      ],
      "metadata": {
        "colab": {
          "base_uri": "https://localhost:8080/"
        },
        "id": "oLwGGraC1Myj",
        "outputId": "d2b2285d-627d-422d-f138-2aedd04d8a5c"
      },
      "execution_count": null,
      "outputs": [
        {
          "output_type": "stream",
          "name": "stdout",
          "text": [
            " (212, 22) \n",
            " (212,) \n",
            " (46, 22) \n",
            " (46,) \n",
            " (45, 22) \n",
            " (45,)\n"
          ]
        }
      ]
    },
    {
      "cell_type": "code",
      "source": [
        "## a little extra: visualization after decomposition\n",
        "import seaborn as sns\n",
        "import matplotlib.pyplot as plt\n",
        "\n",
        "## dimred with PCA into 2D\n",
        "from sklearn.decomposition import PCA\n",
        "pca = PCA(2)\n",
        "X_transformed = pca.fit_transform(X_scaled)\n",
        "sns.scatterplot(data=pd.DataFrame(X_transformed, columns=[\"PC1\", \"PC2\"]),\n",
        "                x=\"PC1\", y=\"PC2\", hue=y);\n",
        "plt.title(\"PCA dim. red.\")\n",
        "plt.show()\n",
        "\n",
        "## dimred with PCA into 1D\n",
        "from sklearn.discriminant_analysis import LinearDiscriminantAnalysis\n",
        "lda = LinearDiscriminantAnalysis(n_components=1)\n",
        "X_transformed = lda.fit_transform(X=X_scaled, y=y)\n",
        "sns.scatterplot(x=X_transformed[:,0], y=y, hue=y)\n",
        "plt.xlabel(\"new_dim\")\n",
        "plt.ylabel(\"target\")\n",
        "plt.title(\"LDA dim. red.\")\n",
        "plt.show()"
      ],
      "metadata": {
        "colab": {
          "base_uri": "https://localhost:8080/",
          "height": 574
        },
        "id": "GpTYlaj1qhqj",
        "outputId": "6d8dac6f-c76d-4405-bfb2-2e97f24e284d"
      },
      "execution_count": null,
      "outputs": [
        {
          "output_type": "display_data",
          "data": {
            "text/plain": [
              "<Figure size 432x288 with 1 Axes>"
            ],
            "image/png": "[encoded data removed]"
          },
          "metadata": {
            "needs_background": "light"
          }
        },
        {
          "output_type": "display_data",
          "data": {
            "text/plain": [
              "<Figure size 432x288 with 1 Axes>"
            ],
            "image/png": "[encoded data removed]"
          },
          "metadata": {
            "needs_background": "light"
          }
        }
      ]
    },
    {
      "cell_type": "markdown",
      "source": [
        "### Keras model using sequential API"
      ],
      "metadata": {
        "id": "6w72auJijisW"
      }
    },
    {
      "cell_type": "code",
      "source": [
        "from tensorflow.keras.layers import Dense\n",
        "from tensorflow.keras.models import Sequential\n",
        "import tensorflow as tf"
      ],
      "metadata": {
        "id": "a0gbU8Ddkbtq"
      },
      "execution_count": null,
      "outputs": []
    },
    {
      "cell_type": "code",
      "source": [
        "def create_model():\n",
        "\n",
        "    tf.keras.backend.clear_session()\n",
        "\n",
        "    model = Sequential()\n",
        "\n",
        "    model.add(Dense(units=3, activation='sigmoid', input_shape=(X.shape[1],))) \n",
        "\n",
        "    model.add(Dense(units=1, activation='sigmoid'))\n",
        "\n",
        "    model.compile(loss='binary_crossentropy', optimizer='Adam', metrics=['accuracy'])\n",
        "\n",
        "    return model"
      ],
      "metadata": {
        "id": "2sBU2TE31bkV"
      },
      "execution_count": null,
      "outputs": []
    },
    {
      "cell_type": "code",
      "source": [
        "def create_and_fit_model(X_train, y_train, X_val, y_val, num_epochs, num_batchsize):\n",
        "    tf.keras.utils.set_random_seed(42)\n",
        "    model = create_model()\n",
        "    print(model.summary())\n",
        "\n",
        "    history = model.fit(X_train, y_train, epochs=num_epochs, batch_size=num_batchsize, \n",
        "                        validation_data=(X_val, y_val),\n",
        "                        )\n",
        "                        \n",
        "    historydf = pd.DataFrame(history.history)\n",
        "    historydf.plot(xlabel=\"epoch\", secondary_y=[c for c in historydf.columns if c.endswith(\"loss\")]);\n",
        "\n",
        "    return model, historydf"
      ],
      "metadata": {
        "id": "3QpOr3WH6oEE"
      },
      "execution_count": null,
      "outputs": []
    },
    {
      "cell_type": "markdown",
      "source": [
        "Model fit parameters"
      ],
      "metadata": {
        "id": "t_jNXdtm2Hj1"
      }
    },
    {
      "cell_type": "code",
      "source": [
        "num_epochs = 100\n",
        "num_batchsize = 32"
      ],
      "metadata": {
        "id": "cmjTvr-i2JIS"
      },
      "execution_count": null,
      "outputs": []
    },
    {
      "cell_type": "markdown",
      "source": [
        "#### Do fitting"
      ],
      "metadata": {
        "id": "ItsNsjdy7s5H"
      }
    },
    {
      "cell_type": "code",
      "source": [
        "model, historydf = create_and_fit_model(X_train, y_train, X_val, y_val, num_epochs, num_batchsize)"
      ],
      "metadata": {
        "colab": {
          "base_uri": "https://localhost:8080/",
          "height": 1000
        },
        "id": "sKuze-9x7Sqb",
        "outputId": "cffdeb14-f3a7-4b66-fc67-bd62563e9008"
      },
      "execution_count": null,
      "outputs": [
        {
          "output_type": "stream",
          "name": "stdout",
          "text": [
            "Model: \"sequential\"\n",
            "_________________________________________________________________\n",
            " Layer (type)                Output Shape              Param #   \n",
            "=================================================================\n",
            " dense (Dense)               (None, 3)                 69        \n",
            "                                                                 \n",
            " dense_1 (Dense)             (None, 1)                 4         \n",
            "                                                                 \n",
            "=================================================================\n",
            "Total params: 73\n",
            "Trainable params: 73\n",
            "Non-trainable params: 0\n",
            "_________________________________________________________________\n",
            "None\n",
            "Epoch 1/100\n",
            "7/7 [==============================] - 1s 38ms/step - loss: 0.8197 - accuracy: 0.2783 - val_loss: 0.8145 - val_accuracy: 0.2826\n",
            "Epoch 2/100\n",
            "7/7 [==============================] - 0s 6ms/step - loss: 0.8151 - accuracy: 0.2783 - val_loss: 0.8100 - val_accuracy: 0.2826\n",
            "Epoch 3/100\n",
            "7/7 [==============================] - 0s 6ms/step - loss: 0.8106 - accuracy: 0.2783 - val_loss: 0.8056 - val_accuracy: 0.2826\n",
            "Epoch 4/100\n",
            "7/7 [==============================] - 0s 8ms/step - loss: 0.8060 - accuracy: 0.2783 - val_loss: 0.8013 - val_accuracy: 0.2826\n",
            "Epoch 5/100\n",
            "7/7 [==============================] - 0s 6ms/step - loss: 0.8014 - accuracy: 0.2783 - val_loss: 0.7970 - val_accuracy: 0.2826\n",
            "Epoch 6/100\n",
            "7/7 [==============================] - 0s 6ms/step - loss: 0.7972 - accuracy: 0.2783 - val_loss: 0.7927 - val_accuracy: 0.2826\n",
            "Epoch 7/100\n",
            "7/7 [==============================] - 0s 6ms/step - loss: 0.7931 - accuracy: 0.2783 - val_loss: 0.7884 - val_accuracy: 0.2826\n",
            "Epoch 8/100\n",
            "7/7 [==============================] - 0s 6ms/step - loss: 0.7886 - accuracy: 0.2783 - val_loss: 0.7843 - val_accuracy: 0.2826\n",
            "Epoch 9/100\n",
            "7/7 [==============================] - 0s 6ms/step - loss: 0.7845 - accuracy: 0.2783 - val_loss: 0.7803 - val_accuracy: 0.2826\n",
            "Epoch 10/100\n",
            "7/7 [==============================] - 0s 6ms/step - loss: 0.7804 - accuracy: 0.2783 - val_loss: 0.7763 - val_accuracy: 0.2826\n",
            "Epoch 11/100\n",
            "7/7 [==============================] - 0s 6ms/step - loss: 0.7764 - accuracy: 0.2783 - val_loss: 0.7725 - val_accuracy: 0.2826\n",
            "Epoch 12/100\n",
            "7/7 [==============================] - 0s 6ms/step - loss: 0.7728 - accuracy: 0.2783 - val_loss: 0.7686 - val_accuracy: 0.2826\n",
            "Epoch 13/100\n",
            "7/7 [==============================] - 0s 6ms/step - loss: 0.7687 - accuracy: 0.2783 - val_loss: 0.7649 - val_accuracy: 0.2826\n",
            "Epoch 14/100\n",
            "7/7 [==============================] - 0s 7ms/step - loss: 0.7650 - accuracy: 0.2783 - val_loss: 0.7612 - val_accuracy: 0.2826\n",
            "Epoch 15/100\n",
            "7/7 [==============================] - 0s 6ms/step - loss: 0.7614 - accuracy: 0.2783 - val_loss: 0.7575 - val_accuracy: 0.2826\n",
            "Epoch 16/100\n",
            "7/7 [==============================] - 0s 7ms/step - loss: 0.7575 - accuracy: 0.2783 - val_loss: 0.7540 - val_accuracy: 0.2826\n",
            "Epoch 17/100\n",
            "7/7 [==============================] - 0s 6ms/step - loss: 0.7540 - accuracy: 0.2783 - val_loss: 0.7505 - val_accuracy: 0.2826\n",
            "Epoch 18/100\n",
            "7/7 [==============================] - 0s 6ms/step - loss: 0.7506 - accuracy: 0.2783 - val_loss: 0.7470 - val_accuracy: 0.2826\n",
            "Epoch 19/100\n",
            "7/7 [==============================] - 0s 7ms/step - loss: 0.7468 - accuracy: 0.2783 - val_loss: 0.7438 - val_accuracy: 0.2826\n",
            "Epoch 20/100\n",
            "7/7 [==============================] - 0s 6ms/step - loss: 0.7437 - accuracy: 0.2783 - val_loss: 0.7405 - val_accuracy: 0.2826\n",
            "Epoch 21/100\n",
            "7/7 [==============================] - 0s 7ms/step - loss: 0.7403 - accuracy: 0.2783 - val_loss: 0.7372 - val_accuracy: 0.2826\n",
            "Epoch 22/100\n",
            "7/7 [==============================] - 0s 6ms/step - loss: 0.7371 - accuracy: 0.2783 - val_loss: 0.7339 - val_accuracy: 0.2826\n",
            "Epoch 23/100\n",
            "7/7 [==============================] - 0s 6ms/step - loss: 0.7336 - accuracy: 0.2783 - val_loss: 0.7308 - val_accuracy: 0.2826\n",
            "Epoch 24/100\n",
            "7/7 [==============================] - 0s 6ms/step - loss: 0.7306 - accuracy: 0.2783 - val_loss: 0.7277 - val_accuracy: 0.2826\n",
            "Epoch 25/100\n",
            "7/7 [==============================] - 0s 6ms/step - loss: 0.7275 - accuracy: 0.2783 - val_loss: 0.7247 - val_accuracy: 0.2826\n",
            "Epoch 26/100\n",
            "7/7 [==============================] - 0s 7ms/step - loss: 0.7243 - accuracy: 0.2783 - val_loss: 0.7217 - val_accuracy: 0.2826\n",
            "Epoch 27/100\n",
            "7/7 [==============================] - 0s 9ms/step - loss: 0.7214 - accuracy: 0.2783 - val_loss: 0.7187 - val_accuracy: 0.2826\n",
            "Epoch 28/100\n",
            "7/7 [==============================] - 0s 6ms/step - loss: 0.7184 - accuracy: 0.2783 - val_loss: 0.7158 - val_accuracy: 0.2826\n",
            "Epoch 29/100\n",
            "7/7 [==============================] - 0s 8ms/step - loss: 0.7154 - accuracy: 0.2783 - val_loss: 0.7129 - val_accuracy: 0.2826\n",
            "Epoch 30/100\n",
            "7/7 [==============================] - 0s 6ms/step - loss: 0.7125 - accuracy: 0.2783 - val_loss: 0.7100 - val_accuracy: 0.2826\n",
            "Epoch 31/100\n",
            "7/7 [==============================] - 0s 7ms/step - loss: 0.7096 - accuracy: 0.2783 - val_loss: 0.7074 - val_accuracy: 0.2826\n",
            "Epoch 32/100\n",
            "7/7 [==============================] - 0s 6ms/step - loss: 0.7069 - accuracy: 0.2783 - val_loss: 0.7047 - val_accuracy: 0.2826\n",
            "Epoch 33/100\n",
            "7/7 [==============================] - 0s 9ms/step - loss: 0.7043 - accuracy: 0.2783 - val_loss: 0.7021 - val_accuracy: 0.2826\n",
            "Epoch 34/100\n",
            "7/7 [==============================] - 0s 6ms/step - loss: 0.7017 - accuracy: 0.2783 - val_loss: 0.6995 - val_accuracy: 0.3043\n",
            "Epoch 35/100\n",
            "7/7 [==============================] - 0s 6ms/step - loss: 0.6991 - accuracy: 0.2783 - val_loss: 0.6971 - val_accuracy: 0.3043\n",
            "Epoch 36/100\n",
            "7/7 [==============================] - 0s 7ms/step - loss: 0.6965 - accuracy: 0.2783 - val_loss: 0.6947 - val_accuracy: 0.3043\n",
            "Epoch 37/100\n",
            "7/7 [==============================] - 0s 6ms/step - loss: 0.6941 - accuracy: 0.3443 - val_loss: 0.6924 - val_accuracy: 0.7174\n",
            "Epoch 38/100\n",
            "7/7 [==============================] - 0s 6ms/step - loss: 0.6917 - accuracy: 0.7217 - val_loss: 0.6899 - val_accuracy: 0.7174\n",
            "Epoch 39/100\n",
            "7/7 [==============================] - 0s 7ms/step - loss: 0.6893 - accuracy: 0.7217 - val_loss: 0.6876 - val_accuracy: 0.7174\n",
            "Epoch 40/100\n",
            "7/7 [==============================] - 0s 7ms/step - loss: 0.6870 - accuracy: 0.7217 - val_loss: 0.6853 - val_accuracy: 0.7174\n",
            "Epoch 41/100\n",
            "7/7 [==============================] - 0s 7ms/step - loss: 0.6845 - accuracy: 0.7217 - val_loss: 0.6831 - val_accuracy: 0.7174\n",
            "Epoch 42/100\n",
            "7/7 [==============================] - 0s 6ms/step - loss: 0.6824 - accuracy: 0.7217 - val_loss: 0.6809 - val_accuracy: 0.7174\n",
            "Epoch 43/100\n",
            "7/7 [==============================] - 0s 6ms/step - loss: 0.6801 - accuracy: 0.7217 - val_loss: 0.6788 - val_accuracy: 0.7174\n",
            "Epoch 44/100\n",
            "7/7 [==============================] - 0s 6ms/step - loss: 0.6780 - accuracy: 0.7217 - val_loss: 0.6766 - val_accuracy: 0.7174\n",
            "Epoch 45/100\n",
            "7/7 [==============================] - 0s 6ms/step - loss: 0.6758 - accuracy: 0.7217 - val_loss: 0.6745 - val_accuracy: 0.7174\n",
            "Epoch 46/100\n",
            "7/7 [==============================] - 0s 6ms/step - loss: 0.6738 - accuracy: 0.7217 - val_loss: 0.6725 - val_accuracy: 0.7174\n",
            "Epoch 47/100\n",
            "7/7 [==============================] - 0s 7ms/step - loss: 0.6718 - accuracy: 0.7217 - val_loss: 0.6705 - val_accuracy: 0.7174\n",
            "Epoch 48/100\n",
            "7/7 [==============================] - 0s 6ms/step - loss: 0.6696 - accuracy: 0.7217 - val_loss: 0.6686 - val_accuracy: 0.7174\n",
            "Epoch 49/100\n",
            "7/7 [==============================] - 0s 6ms/step - loss: 0.6677 - accuracy: 0.7217 - val_loss: 0.6668 - val_accuracy: 0.7174\n",
            "Epoch 50/100\n",
            "7/7 [==============================] - 0s 6ms/step - loss: 0.6659 - accuracy: 0.7217 - val_loss: 0.6649 - val_accuracy: 0.7174\n",
            "Epoch 51/100\n",
            "7/7 [==============================] - 0s 8ms/step - loss: 0.6639 - accuracy: 0.7217 - val_loss: 0.6632 - val_accuracy: 0.7174\n",
            "Epoch 52/100\n",
            "7/7 [==============================] - 0s 6ms/step - loss: 0.6621 - accuracy: 0.7217 - val_loss: 0.6615 - val_accuracy: 0.7174\n",
            "Epoch 53/100\n",
            "7/7 [==============================] - 0s 6ms/step - loss: 0.6604 - accuracy: 0.7217 - val_loss: 0.6598 - val_accuracy: 0.7174\n",
            "Epoch 54/100\n",
            "7/7 [==============================] - 0s 10ms/step - loss: 0.6587 - accuracy: 0.7217 - val_loss: 0.6582 - val_accuracy: 0.7174\n",
            "Epoch 55/100\n",
            "7/7 [==============================] - 0s 6ms/step - loss: 0.6569 - accuracy: 0.7217 - val_loss: 0.6565 - val_accuracy: 0.7174\n",
            "Epoch 56/100\n",
            "7/7 [==============================] - 0s 7ms/step - loss: 0.6553 - accuracy: 0.7217 - val_loss: 0.6549 - val_accuracy: 0.7174\n",
            "Epoch 57/100\n",
            "7/7 [==============================] - 0s 9ms/step - loss: 0.6538 - accuracy: 0.7217 - val_loss: 0.6532 - val_accuracy: 0.7174\n",
            "Epoch 58/100\n",
            "7/7 [==============================] - 0s 6ms/step - loss: 0.6520 - accuracy: 0.7217 - val_loss: 0.6517 - val_accuracy: 0.7174\n",
            "Epoch 59/100\n",
            "7/7 [==============================] - 0s 6ms/step - loss: 0.6505 - accuracy: 0.7217 - val_loss: 0.6502 - val_accuracy: 0.7174\n",
            "Epoch 60/100\n",
            "7/7 [==============================] - 0s 10ms/step - loss: 0.6489 - accuracy: 0.7217 - val_loss: 0.6488 - val_accuracy: 0.7174\n",
            "Epoch 61/100\n",
            "7/7 [==============================] - 0s 8ms/step - loss: 0.6474 - accuracy: 0.7217 - val_loss: 0.6473 - val_accuracy: 0.7174\n",
            "Epoch 62/100\n",
            "7/7 [==============================] - 0s 6ms/step - loss: 0.6460 - accuracy: 0.7217 - val_loss: 0.6459 - val_accuracy: 0.7174\n",
            "Epoch 63/100\n",
            "7/7 [==============================] - 0s 8ms/step - loss: 0.6445 - accuracy: 0.7217 - val_loss: 0.6445 - val_accuracy: 0.7174\n",
            "Epoch 64/100\n",
            "7/7 [==============================] - 0s 7ms/step - loss: 0.6431 - accuracy: 0.7217 - val_loss: 0.6432 - val_accuracy: 0.7174\n",
            "Epoch 65/100\n",
            "7/7 [==============================] - 0s 6ms/step - loss: 0.6418 - accuracy: 0.7217 - val_loss: 0.6419 - val_accuracy: 0.7174\n",
            "Epoch 66/100\n",
            "7/7 [==============================] - 0s 7ms/step - loss: 0.6404 - accuracy: 0.7217 - val_loss: 0.6407 - val_accuracy: 0.7174\n",
            "Epoch 67/100\n",
            "7/7 [==============================] - 0s 6ms/step - loss: 0.6392 - accuracy: 0.7217 - val_loss: 0.6394 - val_accuracy: 0.7174\n",
            "Epoch 68/100\n",
            "7/7 [==============================] - 0s 6ms/step - loss: 0.6380 - accuracy: 0.7217 - val_loss: 0.6381 - val_accuracy: 0.7174\n",
            "Epoch 69/100\n",
            "7/7 [==============================] - 0s 6ms/step - loss: 0.6366 - accuracy: 0.7217 - val_loss: 0.6370 - val_accuracy: 0.7174\n",
            "Epoch 70/100\n",
            "7/7 [==============================] - 0s 6ms/step - loss: 0.6354 - accuracy: 0.7217 - val_loss: 0.6359 - val_accuracy: 0.7174\n",
            "Epoch 71/100\n",
            "7/7 [==============================] - 0s 6ms/step - loss: 0.6342 - accuracy: 0.7217 - val_loss: 0.6348 - val_accuracy: 0.7174\n",
            "Epoch 72/100\n",
            "7/7 [==============================] - 0s 6ms/step - loss: 0.6331 - accuracy: 0.7217 - val_loss: 0.6337 - val_accuracy: 0.7174\n",
            "Epoch 73/100\n",
            "7/7 [==============================] - 0s 7ms/step - loss: 0.6320 - accuracy: 0.7217 - val_loss: 0.6326 - val_accuracy: 0.7174\n",
            "Epoch 74/100\n",
            "7/7 [==============================] - 0s 6ms/step - loss: 0.6309 - accuracy: 0.7217 - val_loss: 0.6316 - val_accuracy: 0.7174\n",
            "Epoch 75/100\n",
            "7/7 [==============================] - 0s 6ms/step - loss: 0.6297 - accuracy: 0.7217 - val_loss: 0.6306 - val_accuracy: 0.7174\n",
            "Epoch 76/100\n",
            "7/7 [==============================] - 0s 6ms/step - loss: 0.6287 - accuracy: 0.7217 - val_loss: 0.6295 - val_accuracy: 0.7174\n",
            "Epoch 77/100\n",
            "7/7 [==============================] - 0s 6ms/step - loss: 0.6276 - accuracy: 0.7217 - val_loss: 0.6286 - val_accuracy: 0.7174\n",
            "Epoch 78/100\n",
            "7/7 [==============================] - 0s 6ms/step - loss: 0.6267 - accuracy: 0.7217 - val_loss: 0.6275 - val_accuracy: 0.7174\n",
            "Epoch 79/100\n",
            "7/7 [==============================] - 0s 6ms/step - loss: 0.6256 - accuracy: 0.7217 - val_loss: 0.6266 - val_accuracy: 0.7174\n",
            "Epoch 80/100\n",
            "7/7 [==============================] - 0s 7ms/step - loss: 0.6246 - accuracy: 0.7217 - val_loss: 0.6257 - val_accuracy: 0.7174\n",
            "Epoch 81/100\n",
            "7/7 [==============================] - 0s 6ms/step - loss: 0.6237 - accuracy: 0.7217 - val_loss: 0.6248 - val_accuracy: 0.7174\n",
            "Epoch 82/100\n",
            "7/7 [==============================] - 0s 6ms/step - loss: 0.6227 - accuracy: 0.7217 - val_loss: 0.6240 - val_accuracy: 0.7174\n",
            "Epoch 83/100\n",
            "7/7 [==============================] - 0s 6ms/step - loss: 0.6220 - accuracy: 0.7217 - val_loss: 0.6231 - val_accuracy: 0.7174\n",
            "Epoch 84/100\n",
            "7/7 [==============================] - 0s 6ms/step - loss: 0.6210 - accuracy: 0.7217 - val_loss: 0.6222 - val_accuracy: 0.7174\n",
            "Epoch 85/100\n",
            "7/7 [==============================] - 0s 6ms/step - loss: 0.6201 - accuracy: 0.7217 - val_loss: 0.6215 - val_accuracy: 0.7174\n",
            "Epoch 86/100\n",
            "7/7 [==============================] - 0s 6ms/step - loss: 0.6193 - accuracy: 0.7217 - val_loss: 0.6207 - val_accuracy: 0.7174\n",
            "Epoch 87/100\n",
            "7/7 [==============================] - 0s 7ms/step - loss: 0.6185 - accuracy: 0.7217 - val_loss: 0.6199 - val_accuracy: 0.7174\n",
            "Epoch 88/100\n",
            "7/7 [==============================] - 0s 6ms/step - loss: 0.6176 - accuracy: 0.7217 - val_loss: 0.6192 - val_accuracy: 0.7174\n",
            "Epoch 89/100\n",
            "7/7 [==============================] - 0s 6ms/step - loss: 0.6170 - accuracy: 0.7217 - val_loss: 0.6184 - val_accuracy: 0.7174\n",
            "Epoch 90/100\n",
            "7/7 [==============================] - 0s 6ms/step - loss: 0.6162 - accuracy: 0.7217 - val_loss: 0.6177 - val_accuracy: 0.7174\n",
            "Epoch 91/100\n",
            "7/7 [==============================] - 0s 6ms/step - loss: 0.6154 - accuracy: 0.7217 - val_loss: 0.6171 - val_accuracy: 0.7174\n",
            "Epoch 92/100\n",
            "7/7 [==============================] - 0s 6ms/step - loss: 0.6147 - accuracy: 0.7217 - val_loss: 0.6165 - val_accuracy: 0.7174\n",
            "Epoch 93/100\n",
            "7/7 [==============================] - 0s 7ms/step - loss: 0.6141 - accuracy: 0.7217 - val_loss: 0.6158 - val_accuracy: 0.7174\n",
            "Epoch 94/100\n",
            "7/7 [==============================] - 0s 7ms/step - loss: 0.6133 - accuracy: 0.7217 - val_loss: 0.6152 - val_accuracy: 0.7174\n",
            "Epoch 95/100\n",
            "7/7 [==============================] - 0s 7ms/step - loss: 0.6128 - accuracy: 0.7217 - val_loss: 0.6145 - val_accuracy: 0.7174\n",
            "Epoch 96/100\n",
            "7/7 [==============================] - 0s 6ms/step - loss: 0.6120 - accuracy: 0.7217 - val_loss: 0.6140 - val_accuracy: 0.7174\n",
            "Epoch 97/100\n",
            "7/7 [==============================] - 0s 6ms/step - loss: 0.6115 - accuracy: 0.7217 - val_loss: 0.6134 - val_accuracy: 0.7174\n",
            "Epoch 98/100\n",
            "7/7 [==============================] - 0s 6ms/step - loss: 0.6109 - accuracy: 0.7217 - val_loss: 0.6129 - val_accuracy: 0.7174\n",
            "Epoch 99/100\n",
            "7/7 [==============================] - 0s 7ms/step - loss: 0.6103 - accuracy: 0.7217 - val_loss: 0.6124 - val_accuracy: 0.7174\n",
            "Epoch 100/100\n",
            "7/7 [==============================] - 0s 8ms/step - loss: 0.6098 - accuracy: 0.7217 - val_loss: 0.6119 - val_accuracy: 0.7174\n"
          ]
        },
        {
          "output_type": "display_data",
          "data": {
            "text/plain": [
              "<Figure size 432x288 with 2 Axes>"
            ],
            "image/png": "[encoded data removed]"
          },
          "metadata": {
            "needs_background": "light"
          }
        }
      ]
    },
    {
      "cell_type": "markdown",
      "source": [
        "Create a model and fit on scaled data"
      ],
      "metadata": {
        "id": "IfBu01Zf1-en"
      }
    },
    {
      "cell_type": "code",
      "source": [
        "model_scaled, historydf_scaled = create_and_fit_model(X_train_scaled, y_train, X_val_scaled, y_val, num_epochs, num_batchsize)"
      ],
      "metadata": {
        "colab": {
          "base_uri": "https://localhost:8080/",
          "height": 1000
        },
        "outputId": "004629bd-a500-4174-aef1-56e64b7a022e",
        "id": "mtR1h4Ou1tio"
      },
      "execution_count": null,
      "outputs": [
        {
          "output_type": "stream",
          "name": "stdout",
          "text": [
            "Model: \"sequential\"\n",
            "_________________________________________________________________\n",
            " Layer (type)                Output Shape              Param #   \n",
            "=================================================================\n",
            " dense (Dense)               (None, 3)                 69        \n",
            "                                                                 \n",
            " dense_1 (Dense)             (None, 1)                 4         \n",
            "                                                                 \n",
            "=================================================================\n",
            "Total params: 73\n",
            "Trainable params: 73\n",
            "Non-trainable params: 0\n",
            "_________________________________________________________________\n",
            "None\n",
            "Epoch 1/100\n",
            "7/7 [==============================] - 1s 34ms/step - loss: 0.9475 - accuracy: 0.2783 - val_loss: 0.9106 - val_accuracy: 0.2826\n",
            "Epoch 2/100\n",
            "7/7 [==============================] - 0s 10ms/step - loss: 0.9350 - accuracy: 0.2783 - val_loss: 0.8984 - val_accuracy: 0.2826\n",
            "Epoch 3/100\n",
            "7/7 [==============================] - 0s 5ms/step - loss: 0.9232 - accuracy: 0.2783 - val_loss: 0.8864 - val_accuracy: 0.2826\n",
            "Epoch 4/100\n",
            "7/7 [==============================] - 0s 6ms/step - loss: 0.9111 - accuracy: 0.2783 - val_loss: 0.8748 - val_accuracy: 0.2826\n",
            "Epoch 5/100\n",
            "7/7 [==============================] - 0s 6ms/step - loss: 0.8992 - accuracy: 0.2783 - val_loss: 0.8636 - val_accuracy: 0.2826\n",
            "Epoch 6/100\n",
            "7/7 [==============================] - 0s 6ms/step - loss: 0.8879 - accuracy: 0.2783 - val_loss: 0.8525 - val_accuracy: 0.2826\n",
            "Epoch 7/100\n",
            "7/7 [==============================] - 0s 7ms/step - loss: 0.8771 - accuracy: 0.2783 - val_loss: 0.8414 - val_accuracy: 0.2826\n",
            "Epoch 8/100\n",
            "7/7 [==============================] - 0s 6ms/step - loss: 0.8658 - accuracy: 0.2783 - val_loss: 0.8307 - val_accuracy: 0.2826\n",
            "Epoch 9/100\n",
            "7/7 [==============================] - 0s 8ms/step - loss: 0.8548 - accuracy: 0.2783 - val_loss: 0.8204 - val_accuracy: 0.2826\n",
            "Epoch 10/100\n",
            "7/7 [==============================] - 0s 7ms/step - loss: 0.8441 - accuracy: 0.2783 - val_loss: 0.8103 - val_accuracy: 0.2826\n",
            "Epoch 11/100\n",
            "7/7 [==============================] - 0s 7ms/step - loss: 0.8340 - accuracy: 0.2783 - val_loss: 0.8003 - val_accuracy: 0.2826\n",
            "Epoch 12/100\n",
            "7/7 [==============================] - 0s 6ms/step - loss: 0.8245 - accuracy: 0.2783 - val_loss: 0.7904 - val_accuracy: 0.2826\n",
            "Epoch 13/100\n",
            "7/7 [==============================] - 0s 7ms/step - loss: 0.8141 - accuracy: 0.2783 - val_loss: 0.7811 - val_accuracy: 0.2826\n",
            "Epoch 14/100\n",
            "7/7 [==============================] - 0s 6ms/step - loss: 0.8047 - accuracy: 0.2925 - val_loss: 0.7720 - val_accuracy: 0.2826\n",
            "Epoch 15/100\n",
            "7/7 [==============================] - 0s 7ms/step - loss: 0.7955 - accuracy: 0.2972 - val_loss: 0.7629 - val_accuracy: 0.3043\n",
            "Epoch 16/100\n",
            "7/7 [==============================] - 0s 8ms/step - loss: 0.7863 - accuracy: 0.3160 - val_loss: 0.7542 - val_accuracy: 0.3043\n",
            "Epoch 17/100\n",
            "7/7 [==============================] - 0s 8ms/step - loss: 0.7776 - accuracy: 0.3208 - val_loss: 0.7457 - val_accuracy: 0.3261\n",
            "Epoch 18/100\n",
            "7/7 [==============================] - 0s 8ms/step - loss: 0.7688 - accuracy: 0.3255 - val_loss: 0.7375 - val_accuracy: 0.3478\n",
            "Epoch 19/100\n",
            "7/7 [==============================] - 0s 6ms/step - loss: 0.7602 - accuracy: 0.3302 - val_loss: 0.7297 - val_accuracy: 0.3478\n",
            "Epoch 20/100\n",
            "7/7 [==============================] - 0s 6ms/step - loss: 0.7524 - accuracy: 0.3491 - val_loss: 0.7218 - val_accuracy: 0.3478\n",
            "Epoch 21/100\n",
            "7/7 [==============================] - 0s 7ms/step - loss: 0.7444 - accuracy: 0.3632 - val_loss: 0.7142 - val_accuracy: 0.3696\n",
            "Epoch 22/100\n",
            "7/7 [==============================] - 0s 5ms/step - loss: 0.7367 - accuracy: 0.3726 - val_loss: 0.7069 - val_accuracy: 0.3913\n",
            "Epoch 23/100\n",
            "7/7 [==============================] - 0s 6ms/step - loss: 0.7288 - accuracy: 0.4009 - val_loss: 0.6999 - val_accuracy: 0.3913\n",
            "Epoch 24/100\n",
            "7/7 [==============================] - 0s 6ms/step - loss: 0.7216 - accuracy: 0.4292 - val_loss: 0.6929 - val_accuracy: 0.4348\n",
            "Epoch 25/100\n",
            "7/7 [==============================] - 0s 6ms/step - loss: 0.7146 - accuracy: 0.4717 - val_loss: 0.6861 - val_accuracy: 0.4565\n",
            "Epoch 26/100\n",
            "7/7 [==============================] - 0s 6ms/step - loss: 0.7077 - accuracy: 0.5000 - val_loss: 0.6795 - val_accuracy: 0.5435\n",
            "Epoch 27/100\n",
            "7/7 [==============================] - 0s 7ms/step - loss: 0.7007 - accuracy: 0.5142 - val_loss: 0.6732 - val_accuracy: 0.5870\n",
            "Epoch 28/100\n",
            "7/7 [==============================] - 0s 6ms/step - loss: 0.6942 - accuracy: 0.5377 - val_loss: 0.6669 - val_accuracy: 0.6304\n",
            "Epoch 29/100\n",
            "7/7 [==============================] - 0s 6ms/step - loss: 0.6878 - accuracy: 0.5519 - val_loss: 0.6608 - val_accuracy: 0.6304\n",
            "Epoch 30/100\n",
            "7/7 [==============================] - 0s 9ms/step - loss: 0.6815 - accuracy: 0.5708 - val_loss: 0.6548 - val_accuracy: 0.6522\n",
            "Epoch 31/100\n",
            "7/7 [==============================] - 0s 6ms/step - loss: 0.6753 - accuracy: 0.5849 - val_loss: 0.6491 - val_accuracy: 0.6522\n",
            "Epoch 32/100\n",
            "7/7 [==============================] - 0s 7ms/step - loss: 0.6694 - accuracy: 0.6038 - val_loss: 0.6435 - val_accuracy: 0.6957\n",
            "Epoch 33/100\n",
            "7/7 [==============================] - 0s 6ms/step - loss: 0.6638 - accuracy: 0.6179 - val_loss: 0.6381 - val_accuracy: 0.7174\n",
            "Epoch 34/100\n",
            "7/7 [==============================] - 0s 8ms/step - loss: 0.6581 - accuracy: 0.6509 - val_loss: 0.6328 - val_accuracy: 0.7391\n",
            "Epoch 35/100\n",
            "7/7 [==============================] - 0s 9ms/step - loss: 0.6526 - accuracy: 0.6604 - val_loss: 0.6278 - val_accuracy: 0.7391\n",
            "Epoch 36/100\n",
            "7/7 [==============================] - 0s 6ms/step - loss: 0.6473 - accuracy: 0.6887 - val_loss: 0.6228 - val_accuracy: 0.7609\n",
            "Epoch 37/100\n",
            "7/7 [==============================] - 0s 6ms/step - loss: 0.6422 - accuracy: 0.7170 - val_loss: 0.6180 - val_accuracy: 0.7609\n",
            "Epoch 38/100\n",
            "7/7 [==============================] - 0s 8ms/step - loss: 0.6372 - accuracy: 0.7406 - val_loss: 0.6132 - val_accuracy: 0.7609\n",
            "Epoch 39/100\n",
            "7/7 [==============================] - 0s 6ms/step - loss: 0.6323 - accuracy: 0.7453 - val_loss: 0.6086 - val_accuracy: 0.7826\n",
            "Epoch 40/100\n",
            "7/7 [==============================] - 0s 7ms/step - loss: 0.6276 - accuracy: 0.7547 - val_loss: 0.6040 - val_accuracy: 0.7826\n",
            "Epoch 41/100\n",
            "7/7 [==============================] - 0s 6ms/step - loss: 0.6227 - accuracy: 0.7547 - val_loss: 0.5997 - val_accuracy: 0.7826\n",
            "Epoch 42/100\n",
            "7/7 [==============================] - 0s 8ms/step - loss: 0.6183 - accuracy: 0.7547 - val_loss: 0.5954 - val_accuracy: 0.8261\n",
            "Epoch 43/100\n",
            "7/7 [==============================] - 0s 6ms/step - loss: 0.6139 - accuracy: 0.7594 - val_loss: 0.5913 - val_accuracy: 0.8261\n",
            "Epoch 44/100\n",
            "7/7 [==============================] - 0s 6ms/step - loss: 0.6096 - accuracy: 0.7500 - val_loss: 0.5871 - val_accuracy: 0.8261\n",
            "Epoch 45/100\n",
            "7/7 [==============================] - 0s 6ms/step - loss: 0.6053 - accuracy: 0.7547 - val_loss: 0.5832 - val_accuracy: 0.8261\n",
            "Epoch 46/100\n",
            "7/7 [==============================] - 0s 6ms/step - loss: 0.6013 - accuracy: 0.7594 - val_loss: 0.5793 - val_accuracy: 0.8478\n",
            "Epoch 47/100\n",
            "7/7 [==============================] - 0s 6ms/step - loss: 0.5972 - accuracy: 0.7689 - val_loss: 0.5755 - val_accuracy: 0.8478\n",
            "Epoch 48/100\n",
            "7/7 [==============================] - 0s 6ms/step - loss: 0.5932 - accuracy: 0.7736 - val_loss: 0.5719 - val_accuracy: 0.8261\n",
            "Epoch 49/100\n",
            "7/7 [==============================] - 0s 8ms/step - loss: 0.5894 - accuracy: 0.7736 - val_loss: 0.5683 - val_accuracy: 0.8261\n",
            "Epoch 50/100\n",
            "7/7 [==============================] - 0s 6ms/step - loss: 0.5858 - accuracy: 0.7736 - val_loss: 0.5648 - val_accuracy: 0.8261\n",
            "Epoch 51/100\n",
            "7/7 [==============================] - 0s 6ms/step - loss: 0.5821 - accuracy: 0.7736 - val_loss: 0.5614 - val_accuracy: 0.8261\n",
            "Epoch 52/100\n",
            "7/7 [==============================] - 0s 7ms/step - loss: 0.5785 - accuracy: 0.7736 - val_loss: 0.5581 - val_accuracy: 0.8261\n",
            "Epoch 53/100\n",
            "7/7 [==============================] - 0s 6ms/step - loss: 0.5750 - accuracy: 0.7689 - val_loss: 0.5549 - val_accuracy: 0.8261\n",
            "Epoch 54/100\n",
            "7/7 [==============================] - 0s 6ms/step - loss: 0.5717 - accuracy: 0.7830 - val_loss: 0.5517 - val_accuracy: 0.8261\n",
            "Epoch 55/100\n",
            "7/7 [==============================] - 0s 9ms/step - loss: 0.5684 - accuracy: 0.7972 - val_loss: 0.5486 - val_accuracy: 0.8478\n",
            "Epoch 56/100\n",
            "7/7 [==============================] - 0s 6ms/step - loss: 0.5651 - accuracy: 0.8019 - val_loss: 0.5455 - val_accuracy: 0.8696\n",
            "Epoch 57/100\n",
            "7/7 [==============================] - 0s 6ms/step - loss: 0.5621 - accuracy: 0.8019 - val_loss: 0.5425 - val_accuracy: 0.8696\n",
            "Epoch 58/100\n",
            "7/7 [==============================] - 0s 6ms/step - loss: 0.5588 - accuracy: 0.8113 - val_loss: 0.5396 - val_accuracy: 0.8696\n",
            "Epoch 59/100\n",
            "7/7 [==============================] - 0s 5ms/step - loss: 0.5558 - accuracy: 0.8208 - val_loss: 0.5367 - val_accuracy: 0.8913\n",
            "Epoch 60/100\n",
            "7/7 [==============================] - 0s 7ms/step - loss: 0.5528 - accuracy: 0.8208 - val_loss: 0.5339 - val_accuracy: 0.9130\n",
            "Epoch 61/100\n",
            "7/7 [==============================] - 0s 6ms/step - loss: 0.5499 - accuracy: 0.8208 - val_loss: 0.5311 - val_accuracy: 0.9348\n",
            "Epoch 62/100\n",
            "7/7 [==============================] - 0s 6ms/step - loss: 0.5471 - accuracy: 0.8302 - val_loss: 0.5284 - val_accuracy: 0.9348\n",
            "Epoch 63/100\n",
            "7/7 [==============================] - 0s 6ms/step - loss: 0.5442 - accuracy: 0.8302 - val_loss: 0.5258 - val_accuracy: 0.9348\n",
            "Epoch 64/100\n",
            "7/7 [==============================] - 0s 6ms/step - loss: 0.5415 - accuracy: 0.8396 - val_loss: 0.5232 - val_accuracy: 0.9130\n",
            "Epoch 65/100\n",
            "7/7 [==============================] - 0s 6ms/step - loss: 0.5388 - accuracy: 0.8396 - val_loss: 0.5206 - val_accuracy: 0.9130\n",
            "Epoch 66/100\n",
            "7/7 [==============================] - 0s 6ms/step - loss: 0.5361 - accuracy: 0.8443 - val_loss: 0.5182 - val_accuracy: 0.9130\n",
            "Epoch 67/100\n",
            "7/7 [==============================] - 0s 7ms/step - loss: 0.5336 - accuracy: 0.8443 - val_loss: 0.5158 - val_accuracy: 0.9130\n",
            "Epoch 68/100\n",
            "7/7 [==============================] - 0s 6ms/step - loss: 0.5311 - accuracy: 0.8491 - val_loss: 0.5133 - val_accuracy: 0.9130\n",
            "Epoch 69/100\n",
            "7/7 [==============================] - 0s 6ms/step - loss: 0.5285 - accuracy: 0.8491 - val_loss: 0.5110 - val_accuracy: 0.9130\n",
            "Epoch 70/100\n",
            "7/7 [==============================] - 0s 6ms/step - loss: 0.5261 - accuracy: 0.8491 - val_loss: 0.5087 - val_accuracy: 0.9130\n",
            "Epoch 71/100\n",
            "7/7 [==============================] - 0s 6ms/step - loss: 0.5237 - accuracy: 0.8491 - val_loss: 0.5064 - val_accuracy: 0.9130\n",
            "Epoch 72/100\n",
            "7/7 [==============================] - 0s 8ms/step - loss: 0.5214 - accuracy: 0.8491 - val_loss: 0.5042 - val_accuracy: 0.9130\n",
            "Epoch 73/100\n",
            "7/7 [==============================] - 0s 6ms/step - loss: 0.5190 - accuracy: 0.8491 - val_loss: 0.5020 - val_accuracy: 0.9130\n",
            "Epoch 74/100\n",
            "7/7 [==============================] - 0s 6ms/step - loss: 0.5168 - accuracy: 0.8538 - val_loss: 0.4999 - val_accuracy: 0.9130\n",
            "Epoch 75/100\n",
            "7/7 [==============================] - 0s 6ms/step - loss: 0.5144 - accuracy: 0.8585 - val_loss: 0.4978 - val_accuracy: 0.9130\n",
            "Epoch 76/100\n",
            "7/7 [==============================] - 0s 8ms/step - loss: 0.5123 - accuracy: 0.8585 - val_loss: 0.4958 - val_accuracy: 0.9130\n",
            "Epoch 77/100\n",
            "7/7 [==============================] - 0s 6ms/step - loss: 0.5101 - accuracy: 0.8585 - val_loss: 0.4937 - val_accuracy: 0.9130\n",
            "Epoch 78/100\n",
            "7/7 [==============================] - 0s 5ms/step - loss: 0.5081 - accuracy: 0.8585 - val_loss: 0.4917 - val_accuracy: 0.9130\n",
            "Epoch 79/100\n",
            "7/7 [==============================] - 0s 6ms/step - loss: 0.5059 - accuracy: 0.8538 - val_loss: 0.4897 - val_accuracy: 0.9130\n",
            "Epoch 80/100\n",
            "7/7 [==============================] - 0s 6ms/step - loss: 0.5038 - accuracy: 0.8538 - val_loss: 0.4878 - val_accuracy: 0.9130\n",
            "Epoch 81/100\n",
            "7/7 [==============================] - 0s 6ms/step - loss: 0.5018 - accuracy: 0.8538 - val_loss: 0.4858 - val_accuracy: 0.9130\n",
            "Epoch 82/100\n",
            "7/7 [==============================] - 0s 6ms/step - loss: 0.4998 - accuracy: 0.8538 - val_loss: 0.4840 - val_accuracy: 0.9130\n",
            "Epoch 83/100\n",
            "7/7 [==============================] - 0s 6ms/step - loss: 0.4979 - accuracy: 0.8538 - val_loss: 0.4821 - val_accuracy: 0.9130\n",
            "Epoch 84/100\n",
            "7/7 [==============================] - 0s 6ms/step - loss: 0.4959 - accuracy: 0.8538 - val_loss: 0.4803 - val_accuracy: 0.9130\n",
            "Epoch 85/100\n",
            "7/7 [==============================] - 0s 5ms/step - loss: 0.4940 - accuracy: 0.8538 - val_loss: 0.4785 - val_accuracy: 0.9130\n",
            "Epoch 86/100\n",
            "7/7 [==============================] - 0s 5ms/step - loss: 0.4921 - accuracy: 0.8538 - val_loss: 0.4767 - val_accuracy: 0.9130\n",
            "Epoch 87/100\n",
            "7/7 [==============================] - 0s 6ms/step - loss: 0.4903 - accuracy: 0.8538 - val_loss: 0.4750 - val_accuracy: 0.9130\n",
            "Epoch 88/100\n",
            "7/7 [==============================] - 0s 6ms/step - loss: 0.4884 - accuracy: 0.8538 - val_loss: 0.4732 - val_accuracy: 0.9130\n",
            "Epoch 89/100\n",
            "7/7 [==============================] - 0s 6ms/step - loss: 0.4867 - accuracy: 0.8538 - val_loss: 0.4716 - val_accuracy: 0.9130\n",
            "Epoch 90/100\n",
            "7/7 [==============================] - 0s 6ms/step - loss: 0.4849 - accuracy: 0.8538 - val_loss: 0.4699 - val_accuracy: 0.9130\n",
            "Epoch 91/100\n",
            "7/7 [==============================] - 0s 6ms/step - loss: 0.4831 - accuracy: 0.8538 - val_loss: 0.4682 - val_accuracy: 0.9130\n",
            "Epoch 92/100\n",
            "7/7 [==============================] - 0s 6ms/step - loss: 0.4814 - accuracy: 0.8585 - val_loss: 0.4667 - val_accuracy: 0.9130\n",
            "Epoch 93/100\n",
            "7/7 [==============================] - 0s 6ms/step - loss: 0.4798 - accuracy: 0.8585 - val_loss: 0.4650 - val_accuracy: 0.9130\n",
            "Epoch 94/100\n",
            "7/7 [==============================] - 0s 6ms/step - loss: 0.4781 - accuracy: 0.8585 - val_loss: 0.4634 - val_accuracy: 0.8913\n",
            "Epoch 95/100\n",
            "7/7 [==============================] - 0s 7ms/step - loss: 0.4765 - accuracy: 0.8585 - val_loss: 0.4619 - val_accuracy: 0.8913\n",
            "Epoch 96/100\n",
            "7/7 [==============================] - 0s 6ms/step - loss: 0.4748 - accuracy: 0.8585 - val_loss: 0.4603 - val_accuracy: 0.8913\n",
            "Epoch 97/100\n",
            "7/7 [==============================] - 0s 10ms/step - loss: 0.4732 - accuracy: 0.8585 - val_loss: 0.4588 - val_accuracy: 0.8913\n",
            "Epoch 98/100\n",
            "7/7 [==============================] - 0s 6ms/step - loss: 0.4716 - accuracy: 0.8585 - val_loss: 0.4573 - val_accuracy: 0.8913\n",
            "Epoch 99/100\n",
            "7/7 [==============================] - 0s 6ms/step - loss: 0.4701 - accuracy: 0.8585 - val_loss: 0.4558 - val_accuracy: 0.8913\n",
            "Epoch 100/100\n",
            "7/7 [==============================] - 0s 7ms/step - loss: 0.4686 - accuracy: 0.8538 - val_loss: 0.4543 - val_accuracy: 0.8913\n"
          ]
        },
        {
          "output_type": "display_data",
          "data": {
            "text/plain": [
              "<Figure size 432x288 with 2 Axes>"
            ],
            "image/png": "[encoded data removed]"
          },
          "metadata": {
            "needs_background": "light"
          }
        }
      ]
    },
    {
      "cell_type": "code",
      "source": [
        "allhistory = historydf.merge(historydf_scaled,right_index=True, left_index=True, suffixes=[\"\", \"_scaled\"])\n",
        "allhistory[[c for c in allhistory.columns if \"accuracy\" in c]].plot();\n",
        "allhistory[[c for c in allhistory.columns if \"loss\" in c]].plot(ylim=(0,1));"
      ],
      "metadata": {
        "colab": {
          "base_uri": "https://localhost:8080/",
          "height": 517
        },
        "id": "lz9ZLp4b7_FJ",
        "outputId": "66c5b7e4-f354-4cb3-ad67-9f84e7a3d0b8"
      },
      "execution_count": null,
      "outputs": [
        {
          "output_type": "display_data",
          "data": {
            "text/plain": [
              "<Figure size 432x288 with 1 Axes>"
            ],
            "image/png": "[encoded data removed]"
          },
          "metadata": {
            "needs_background": "light"
          }
        },
        {
          "output_type": "display_data",
          "data": {
            "text/plain": [
              "<Figure size 432x288 with 1 Axes>"
            ],
            "image/png": "[encoded data removed]"
          },
          "metadata": {
            "needs_background": "light"
          }
        }
      ]
    },
    {
      "cell_type": "markdown",
      "source": [
        "## Same model with functional API"
      ],
      "metadata": {
        "id": "37zJKKlz6a6C"
      }
    },
    {
      "cell_type": "code",
      "source": [
        "from tensorflow.keras import Input, Model"
      ],
      "metadata": {
        "id": "y0LCApVN8pB7"
      },
      "execution_count": null,
      "outputs": []
    },
    {
      "cell_type": "code",
      "source": [
        "def create_model():\n",
        "\n",
        "    tf.keras.backend.clear_session()\n",
        "\n",
        "    input_layer = Input(shape=(X.shape[1],))\n",
        "\n",
        "    layer1 = Dense(3, activation='sigmoid')(input_layer)\n",
        "\n",
        "    output_layer = Dense(1, activation=\"sigmoid\")(layer1)\n",
        "\n",
        "    model = Model(inputs=input_layer, outputs=output_layer)\n",
        "\n",
        "    model.compile(loss='binary_crossentropy', optimizer='Adam', metrics=['accuracy'])\n",
        "\n",
        "    return model"
      ],
      "metadata": {
        "id": "hd-2j1tO6k2p"
      },
      "execution_count": null,
      "outputs": []
    },
    {
      "cell_type": "code",
      "source": [
        "model, historydf = create_and_fit_model(X_train, y_train, X_val, y_val, num_epochs, num_batchsize)"
      ],
      "metadata": {
        "colab": {
          "base_uri": "https://localhost:8080/",
          "height": 1000
        },
        "id": "AiFwqfBI9W6g",
        "outputId": "78c2944a-3adf-4534-c498-c11be8f3cb0f"
      },
      "execution_count": null,
      "outputs": [
        {
          "output_type": "stream",
          "name": "stdout",
          "text": [
            "Model: \"model\"\n",
            "_________________________________________________________________\n",
            " Layer (type)                Output Shape              Param #   \n",
            "=================================================================\n",
            " input_1 (InputLayer)        [(None, 22)]              0         \n",
            "                                                                 \n",
            " dense (Dense)               (None, 3)                 69        \n",
            "                                                                 \n",
            " dense_1 (Dense)             (None, 1)                 4         \n",
            "                                                                 \n",
            "=================================================================\n",
            "Total params: 73\n",
            "Trainable params: 73\n",
            "Non-trainable params: 0\n",
            "_________________________________________________________________\n",
            "None\n",
            "Epoch 1/100\n",
            "7/7 [==============================] - 1s 30ms/step - loss: 0.8197 - accuracy: 0.2783 - val_loss: 0.8145 - val_accuracy: 0.2826\n",
            "Epoch 2/100\n",
            "7/7 [==============================] - 0s 6ms/step - loss: 0.8151 - accuracy: 0.2783 - val_loss: 0.8100 - val_accuracy: 0.2826\n",
            "Epoch 3/100\n",
            "7/7 [==============================] - 0s 7ms/step - loss: 0.8106 - accuracy: 0.2783 - val_loss: 0.8056 - val_accuracy: 0.2826\n",
            "Epoch 4/100\n",
            "7/7 [==============================] - 0s 9ms/step - loss: 0.8060 - accuracy: 0.2783 - val_loss: 0.8013 - val_accuracy: 0.2826\n",
            "Epoch 5/100\n",
            "7/7 [==============================] - 0s 6ms/step - loss: 0.8014 - accuracy: 0.2783 - val_loss: 0.7970 - val_accuracy: 0.2826\n",
            "Epoch 6/100\n",
            "7/7 [==============================] - 0s 6ms/step - loss: 0.7972 - accuracy: 0.2783 - val_loss: 0.7927 - val_accuracy: 0.2826\n",
            "Epoch 7/100\n",
            "7/7 [==============================] - 0s 6ms/step - loss: 0.7931 - accuracy: 0.2783 - val_loss: 0.7884 - val_accuracy: 0.2826\n",
            "Epoch 8/100\n",
            "7/7 [==============================] - 0s 6ms/step - loss: 0.7886 - accuracy: 0.2783 - val_loss: 0.7843 - val_accuracy: 0.2826\n",
            "Epoch 9/100\n",
            "7/7 [==============================] - 0s 8ms/step - loss: 0.7845 - accuracy: 0.2783 - val_loss: 0.7803 - val_accuracy: 0.2826\n",
            "Epoch 10/100\n",
            "7/7 [==============================] - 0s 7ms/step - loss: 0.7804 - accuracy: 0.2783 - val_loss: 0.7763 - val_accuracy: 0.2826\n",
            "Epoch 11/100\n",
            "7/7 [==============================] - 0s 6ms/step - loss: 0.7764 - accuracy: 0.2783 - val_loss: 0.7725 - val_accuracy: 0.2826\n",
            "Epoch 12/100\n",
            "7/7 [==============================] - 0s 8ms/step - loss: 0.7728 - accuracy: 0.2783 - val_loss: 0.7686 - val_accuracy: 0.2826\n",
            "Epoch 13/100\n",
            "7/7 [==============================] - 0s 6ms/step - loss: 0.7687 - accuracy: 0.2783 - val_loss: 0.7649 - val_accuracy: 0.2826\n",
            "Epoch 14/100\n",
            "7/7 [==============================] - 0s 7ms/step - loss: 0.7650 - accuracy: 0.2783 - val_loss: 0.7612 - val_accuracy: 0.2826\n",
            "Epoch 15/100\n",
            "7/7 [==============================] - 0s 6ms/step - loss: 0.7614 - accuracy: 0.2783 - val_loss: 0.7575 - val_accuracy: 0.2826\n",
            "Epoch 16/100\n",
            "7/7 [==============================] - 0s 6ms/step - loss: 0.7575 - accuracy: 0.2783 - val_loss: 0.7540 - val_accuracy: 0.2826\n",
            "Epoch 17/100\n",
            "7/7 [==============================] - 0s 6ms/step - loss: 0.7540 - accuracy: 0.2783 - val_loss: 0.7505 - val_accuracy: 0.2826\n",
            "Epoch 18/100\n",
            "7/7 [==============================] - 0s 6ms/step - loss: 0.7506 - accuracy: 0.2783 - val_loss: 0.7470 - val_accuracy: 0.2826\n",
            "Epoch 19/100\n",
            "7/7 [==============================] - 0s 6ms/step - loss: 0.7468 - accuracy: 0.2783 - val_loss: 0.7438 - val_accuracy: 0.2826\n",
            "Epoch 20/100\n",
            "7/7 [==============================] - 0s 7ms/step - loss: 0.7437 - accuracy: 0.2783 - val_loss: 0.7405 - val_accuracy: 0.2826\n",
            "Epoch 21/100\n",
            "7/7 [==============================] - 0s 6ms/step - loss: 0.7403 - accuracy: 0.2783 - val_loss: 0.7372 - val_accuracy: 0.2826\n",
            "Epoch 22/100\n",
            "7/7 [==============================] - 0s 7ms/step - loss: 0.7371 - accuracy: 0.2783 - val_loss: 0.7339 - val_accuracy: 0.2826\n",
            "Epoch 23/100\n",
            "7/7 [==============================] - 0s 7ms/step - loss: 0.7336 - accuracy: 0.2783 - val_loss: 0.7308 - val_accuracy: 0.2826\n",
            "Epoch 24/100\n",
            "7/7 [==============================] - 0s 7ms/step - loss: 0.7306 - accuracy: 0.2783 - val_loss: 0.7277 - val_accuracy: 0.2826\n",
            "Epoch 25/100\n",
            "7/7 [==============================] - 0s 7ms/step - loss: 0.7275 - accuracy: 0.2783 - val_loss: 0.7247 - val_accuracy: 0.2826\n",
            "Epoch 26/100\n",
            "7/7 [==============================] - 0s 7ms/step - loss: 0.7243 - accuracy: 0.2783 - val_loss: 0.7217 - val_accuracy: 0.2826\n",
            "Epoch 27/100\n",
            "7/7 [==============================] - 0s 6ms/step - loss: 0.7214 - accuracy: 0.2783 - val_loss: 0.7187 - val_accuracy: 0.2826\n",
            "Epoch 28/100\n",
            "7/7 [==============================] - 0s 7ms/step - loss: 0.7184 - accuracy: 0.2783 - val_loss: 0.7158 - val_accuracy: 0.2826\n",
            "Epoch 29/100\n",
            "7/7 [==============================] - 0s 7ms/step - loss: 0.7154 - accuracy: 0.2783 - val_loss: 0.7129 - val_accuracy: 0.2826\n",
            "Epoch 30/100\n",
            "7/7 [==============================] - 0s 6ms/step - loss: 0.7125 - accuracy: 0.2783 - val_loss: 0.7100 - val_accuracy: 0.2826\n",
            "Epoch 31/100\n",
            "7/7 [==============================] - 0s 6ms/step - loss: 0.7096 - accuracy: 0.2783 - val_loss: 0.7074 - val_accuracy: 0.2826\n",
            "Epoch 32/100\n",
            "7/7 [==============================] - 0s 6ms/step - loss: 0.7069 - accuracy: 0.2783 - val_loss: 0.7047 - val_accuracy: 0.2826\n",
            "Epoch 33/100\n",
            "7/7 [==============================] - 0s 6ms/step - loss: 0.7043 - accuracy: 0.2783 - val_loss: 0.7021 - val_accuracy: 0.2826\n",
            "Epoch 34/100\n",
            "7/7 [==============================] - 0s 6ms/step - loss: 0.7017 - accuracy: 0.2783 - val_loss: 0.6995 - val_accuracy: 0.3043\n",
            "Epoch 35/100\n",
            "7/7 [==============================] - 0s 7ms/step - loss: 0.6991 - accuracy: 0.2783 - val_loss: 0.6971 - val_accuracy: 0.3043\n",
            "Epoch 36/100\n",
            "7/7 [==============================] - 0s 8ms/step - loss: 0.6965 - accuracy: 0.2783 - val_loss: 0.6947 - val_accuracy: 0.3043\n",
            "Epoch 37/100\n",
            "7/7 [==============================] - 0s 7ms/step - loss: 0.6941 - accuracy: 0.3443 - val_loss: 0.6924 - val_accuracy: 0.7174\n",
            "Epoch 38/100\n",
            "7/7 [==============================] - 0s 6ms/step - loss: 0.6917 - accuracy: 0.7217 - val_loss: 0.6899 - val_accuracy: 0.7174\n",
            "Epoch 39/100\n",
            "7/7 [==============================] - 0s 7ms/step - loss: 0.6893 - accuracy: 0.7217 - val_loss: 0.6876 - val_accuracy: 0.7174\n",
            "Epoch 40/100\n",
            "7/7 [==============================] - 0s 6ms/step - loss: 0.6870 - accuracy: 0.7217 - val_loss: 0.6853 - val_accuracy: 0.7174\n",
            "Epoch 41/100\n",
            "7/7 [==============================] - 0s 7ms/step - loss: 0.6845 - accuracy: 0.7217 - val_loss: 0.6831 - val_accuracy: 0.7174\n",
            "Epoch 42/100\n",
            "7/7 [==============================] - 0s 6ms/step - loss: 0.6824 - accuracy: 0.7217 - val_loss: 0.6809 - val_accuracy: 0.7174\n",
            "Epoch 43/100\n",
            "7/7 [==============================] - 0s 6ms/step - loss: 0.6801 - accuracy: 0.7217 - val_loss: 0.6788 - val_accuracy: 0.7174\n",
            "Epoch 44/100\n",
            "7/7 [==============================] - 0s 7ms/step - loss: 0.6780 - accuracy: 0.7217 - val_loss: 0.6766 - val_accuracy: 0.7174\n",
            "Epoch 45/100\n",
            "7/7 [==============================] - 0s 7ms/step - loss: 0.6758 - accuracy: 0.7217 - val_loss: 0.6745 - val_accuracy: 0.7174\n",
            "Epoch 46/100\n",
            "7/7 [==============================] - 0s 7ms/step - loss: 0.6738 - accuracy: 0.7217 - val_loss: 0.6725 - val_accuracy: 0.7174\n",
            "Epoch 47/100\n",
            "7/7 [==============================] - 0s 6ms/step - loss: 0.6718 - accuracy: 0.7217 - val_loss: 0.6705 - val_accuracy: 0.7174\n",
            "Epoch 48/100\n",
            "7/7 [==============================] - 0s 8ms/step - loss: 0.6696 - accuracy: 0.7217 - val_loss: 0.6686 - val_accuracy: 0.7174\n",
            "Epoch 49/100\n",
            "7/7 [==============================] - 0s 7ms/step - loss: 0.6677 - accuracy: 0.7217 - val_loss: 0.6668 - val_accuracy: 0.7174\n",
            "Epoch 50/100\n",
            "7/7 [==============================] - 0s 8ms/step - loss: 0.6659 - accuracy: 0.7217 - val_loss: 0.6649 - val_accuracy: 0.7174\n",
            "Epoch 51/100\n",
            "7/7 [==============================] - 0s 6ms/step - loss: 0.6639 - accuracy: 0.7217 - val_loss: 0.6632 - val_accuracy: 0.7174\n",
            "Epoch 52/100\n",
            "7/7 [==============================] - 0s 7ms/step - loss: 0.6621 - accuracy: 0.7217 - val_loss: 0.6615 - val_accuracy: 0.7174\n",
            "Epoch 53/100\n",
            "7/7 [==============================] - 0s 6ms/step - loss: 0.6604 - accuracy: 0.7217 - val_loss: 0.6598 - val_accuracy: 0.7174\n",
            "Epoch 54/100\n",
            "7/7 [==============================] - 0s 8ms/step - loss: 0.6587 - accuracy: 0.7217 - val_loss: 0.6582 - val_accuracy: 0.7174\n",
            "Epoch 55/100\n",
            "7/7 [==============================] - 0s 6ms/step - loss: 0.6569 - accuracy: 0.7217 - val_loss: 0.6565 - val_accuracy: 0.7174\n",
            "Epoch 56/100\n",
            "7/7 [==============================] - 0s 9ms/step - loss: 0.6553 - accuracy: 0.7217 - val_loss: 0.6549 - val_accuracy: 0.7174\n",
            "Epoch 57/100\n",
            "7/7 [==============================] - 0s 6ms/step - loss: 0.6538 - accuracy: 0.7217 - val_loss: 0.6532 - val_accuracy: 0.7174\n",
            "Epoch 58/100\n",
            "7/7 [==============================] - 0s 7ms/step - loss: 0.6520 - accuracy: 0.7217 - val_loss: 0.6517 - val_accuracy: 0.7174\n",
            "Epoch 59/100\n",
            "7/7 [==============================] - 0s 7ms/step - loss: 0.6505 - accuracy: 0.7217 - val_loss: 0.6502 - val_accuracy: 0.7174\n",
            "Epoch 60/100\n",
            "7/7 [==============================] - 0s 7ms/step - loss: 0.6489 - accuracy: 0.7217 - val_loss: 0.6488 - val_accuracy: 0.7174\n",
            "Epoch 61/100\n",
            "7/7 [==============================] - 0s 7ms/step - loss: 0.6474 - accuracy: 0.7217 - val_loss: 0.6473 - val_accuracy: 0.7174\n",
            "Epoch 62/100\n",
            "7/7 [==============================] - 0s 7ms/step - loss: 0.6460 - accuracy: 0.7217 - val_loss: 0.6459 - val_accuracy: 0.7174\n",
            "Epoch 63/100\n",
            "7/7 [==============================] - 0s 6ms/step - loss: 0.6445 - accuracy: 0.7217 - val_loss: 0.6445 - val_accuracy: 0.7174\n",
            "Epoch 64/100\n",
            "7/7 [==============================] - 0s 6ms/step - loss: 0.6431 - accuracy: 0.7217 - val_loss: 0.6432 - val_accuracy: 0.7174\n",
            "Epoch 65/100\n",
            "7/7 [==============================] - 0s 6ms/step - loss: 0.6418 - accuracy: 0.7217 - val_loss: 0.6419 - val_accuracy: 0.7174\n",
            "Epoch 66/100\n",
            "7/7 [==============================] - 0s 7ms/step - loss: 0.6404 - accuracy: 0.7217 - val_loss: 0.6407 - val_accuracy: 0.7174\n",
            "Epoch 67/100\n",
            "7/7 [==============================] - 0s 7ms/step - loss: 0.6392 - accuracy: 0.7217 - val_loss: 0.6394 - val_accuracy: 0.7174\n",
            "Epoch 68/100\n",
            "7/7 [==============================] - 0s 6ms/step - loss: 0.6380 - accuracy: 0.7217 - val_loss: 0.6381 - val_accuracy: 0.7174\n",
            "Epoch 69/100\n",
            "7/7 [==============================] - 0s 6ms/step - loss: 0.6366 - accuracy: 0.7217 - val_loss: 0.6370 - val_accuracy: 0.7174\n",
            "Epoch 70/100\n",
            "7/7 [==============================] - 0s 6ms/step - loss: 0.6354 - accuracy: 0.7217 - val_loss: 0.6359 - val_accuracy: 0.7174\n",
            "Epoch 71/100\n",
            "7/7 [==============================] - 0s 6ms/step - loss: 0.6342 - accuracy: 0.7217 - val_loss: 0.6348 - val_accuracy: 0.7174\n",
            "Epoch 72/100\n",
            "7/7 [==============================] - 0s 6ms/step - loss: 0.6331 - accuracy: 0.7217 - val_loss: 0.6337 - val_accuracy: 0.7174\n",
            "Epoch 73/100\n",
            "7/7 [==============================] - 0s 6ms/step - loss: 0.6320 - accuracy: 0.7217 - val_loss: 0.6326 - val_accuracy: 0.7174\n",
            "Epoch 74/100\n",
            "7/7 [==============================] - 0s 6ms/step - loss: 0.6309 - accuracy: 0.7217 - val_loss: 0.6316 - val_accuracy: 0.7174\n",
            "Epoch 75/100\n",
            "7/7 [==============================] - 0s 6ms/step - loss: 0.6297 - accuracy: 0.7217 - val_loss: 0.6306 - val_accuracy: 0.7174\n",
            "Epoch 76/100\n",
            "7/7 [==============================] - 0s 7ms/step - loss: 0.6287 - accuracy: 0.7217 - val_loss: 0.6295 - val_accuracy: 0.7174\n",
            "Epoch 77/100\n",
            "7/7 [==============================] - 0s 7ms/step - loss: 0.6276 - accuracy: 0.7217 - val_loss: 0.6286 - val_accuracy: 0.7174\n",
            "Epoch 78/100\n",
            "7/7 [==============================] - 0s 6ms/step - loss: 0.6267 - accuracy: 0.7217 - val_loss: 0.6275 - val_accuracy: 0.7174\n",
            "Epoch 79/100\n",
            "7/7 [==============================] - 0s 7ms/step - loss: 0.6256 - accuracy: 0.7217 - val_loss: 0.6266 - val_accuracy: 0.7174\n",
            "Epoch 80/100\n",
            "7/7 [==============================] - 0s 6ms/step - loss: 0.6246 - accuracy: 0.7217 - val_loss: 0.6257 - val_accuracy: 0.7174\n",
            "Epoch 81/100\n",
            "7/7 [==============================] - 0s 6ms/step - loss: 0.6237 - accuracy: 0.7217 - val_loss: 0.6248 - val_accuracy: 0.7174\n",
            "Epoch 82/100\n",
            "7/7 [==============================] - 0s 6ms/step - loss: 0.6227 - accuracy: 0.7217 - val_loss: 0.6240 - val_accuracy: 0.7174\n",
            "Epoch 83/100\n",
            "7/7 [==============================] - 0s 7ms/step - loss: 0.6220 - accuracy: 0.7217 - val_loss: 0.6231 - val_accuracy: 0.7174\n",
            "Epoch 84/100\n",
            "7/7 [==============================] - 0s 7ms/step - loss: 0.6210 - accuracy: 0.7217 - val_loss: 0.6222 - val_accuracy: 0.7174\n",
            "Epoch 85/100\n",
            "7/7 [==============================] - 0s 6ms/step - loss: 0.6201 - accuracy: 0.7217 - val_loss: 0.6215 - val_accuracy: 0.7174\n",
            "Epoch 86/100\n",
            "7/7 [==============================] - 0s 6ms/step - loss: 0.6193 - accuracy: 0.7217 - val_loss: 0.6207 - val_accuracy: 0.7174\n",
            "Epoch 87/100\n",
            "7/7 [==============================] - 0s 8ms/step - loss: 0.6185 - accuracy: 0.7217 - val_loss: 0.6199 - val_accuracy: 0.7174\n",
            "Epoch 88/100\n",
            "7/7 [==============================] - 0s 6ms/step - loss: 0.6176 - accuracy: 0.7217 - val_loss: 0.6192 - val_accuracy: 0.7174\n",
            "Epoch 89/100\n",
            "7/7 [==============================] - 0s 9ms/step - loss: 0.6170 - accuracy: 0.7217 - val_loss: 0.6184 - val_accuracy: 0.7174\n",
            "Epoch 90/100\n",
            "7/7 [==============================] - 0s 6ms/step - loss: 0.6162 - accuracy: 0.7217 - val_loss: 0.6177 - val_accuracy: 0.7174\n",
            "Epoch 91/100\n",
            "7/7 [==============================] - 0s 7ms/step - loss: 0.6154 - accuracy: 0.7217 - val_loss: 0.6171 - val_accuracy: 0.7174\n",
            "Epoch 92/100\n",
            "7/7 [==============================] - 0s 6ms/step - loss: 0.6147 - accuracy: 0.7217 - val_loss: 0.6165 - val_accuracy: 0.7174\n",
            "Epoch 93/100\n",
            "7/7 [==============================] - 0s 6ms/step - loss: 0.6141 - accuracy: 0.7217 - val_loss: 0.6158 - val_accuracy: 0.7174\n",
            "Epoch 94/100\n",
            "7/7 [==============================] - 0s 7ms/step - loss: 0.6133 - accuracy: 0.7217 - val_loss: 0.6152 - val_accuracy: 0.7174\n",
            "Epoch 95/100\n",
            "7/7 [==============================] - 0s 7ms/step - loss: 0.6128 - accuracy: 0.7217 - val_loss: 0.6145 - val_accuracy: 0.7174\n",
            "Epoch 96/100\n",
            "7/7 [==============================] - 0s 8ms/step - loss: 0.6120 - accuracy: 0.7217 - val_loss: 0.6140 - val_accuracy: 0.7174\n",
            "Epoch 97/100\n",
            "7/7 [==============================] - 0s 6ms/step - loss: 0.6115 - accuracy: 0.7217 - val_loss: 0.6134 - val_accuracy: 0.7174\n",
            "Epoch 98/100\n",
            "7/7 [==============================] - 0s 7ms/step - loss: 0.6109 - accuracy: 0.7217 - val_loss: 0.6129 - val_accuracy: 0.7174\n",
            "Epoch 99/100\n",
            "7/7 [==============================] - 0s 8ms/step - loss: 0.6103 - accuracy: 0.7217 - val_loss: 0.6124 - val_accuracy: 0.7174\n",
            "Epoch 100/100\n",
            "7/7 [==============================] - 0s 7ms/step - loss: 0.6098 - accuracy: 0.7217 - val_loss: 0.6119 - val_accuracy: 0.7174\n"
          ]
        },
        {
          "output_type": "display_data",
          "data": {
            "text/plain": [
              "<Figure size 432x288 with 2 Axes>"
            ],
            "image/png": "[encoded data removed]"
          },
          "metadata": {
            "needs_background": "light"
          }
        }
      ]
    },
    {
      "cell_type": "markdown",
      "source": [
        "## Evaluate on test set"
      ],
      "metadata": {
        "id": "M12HQl8m-ZCg"
      }
    },
    {
      "cell_type": "code",
      "source": [
        "(model_loss, model_accuracy) = model.evaluate(X_test, y_test)\n"
      ],
      "metadata": {
        "colab": {
          "base_uri": "https://localhost:8080/"
        },
        "id": "kkmcW30u_IaO",
        "outputId": "15115e72-c3b6-45f8-b793-f901bba2988a"
      },
      "execution_count": null,
      "outputs": [
        {
          "output_type": "stream",
          "name": "stdout",
          "text": [
            "2/2 [==============================] - 0s 5ms/step - loss: 0.5912 - accuracy: 0.7556\n"
          ]
        }
      ]
    },
    {
      "cell_type": "code",
      "source": [
        "(model_scaled_loss, model_scaled_accuracy) = model_scaled.evaluate(X_test_scaled, y_test)\n"
      ],
      "metadata": {
        "colab": {
          "base_uri": "https://localhost:8080/"
        },
        "id": "lq-FIxBz_Lgc",
        "outputId": "3c7b08c9-979f-44a6-a051-0c07e09b2ba6"
      },
      "execution_count": null,
      "outputs": [
        {
          "output_type": "stream",
          "name": "stdout",
          "text": [
            "2/2 [==============================] - 0s 6ms/step - loss: 0.4830 - accuracy: 0.8222\n"
          ]
        }
      ]
    },
    {
      "cell_type": "code",
      "source": [
        "y_test_pred = model.predict(X_test)\n",
        "y_test_pred_scaled = model_scaled.predict(X_test_scaled)"
      ],
      "metadata": {
        "colab": {
          "base_uri": "https://localhost:8080/"
        },
        "id": "Xv5t2CoE9ak2",
        "outputId": "cbf86674-f457-44b7-fd72-b7099ec1d9ee"
      },
      "execution_count": null,
      "outputs": [
        {
          "output_type": "stream",
          "name": "stdout",
          "text": [
            "2/2 [==============================] - 0s 6ms/step\n",
            "2/2 [==============================] - 0s 7ms/step\n"
          ]
        }
      ]
    },
    {
      "cell_type": "code",
      "source": [
        "y_test_pred_cl = y_test_pred.round().flatten().astype(int)\n",
        "y_test_pred_cl_scaled = y_test_pred_scaled.round().flatten().astype(int)"
      ],
      "metadata": {
        "id": "xmrwfxlu-o3p"
      },
      "execution_count": null,
      "outputs": []
    },
    {
      "cell_type": "code",
      "source": [
        "from sklearn import metrics"
      ],
      "metadata": {
        "id": "X67Bzs9o_YZf"
      },
      "execution_count": null,
      "outputs": []
    },
    {
      "cell_type": "code",
      "source": [
        "print(\"Non-scaled:\")\n",
        "print(metrics.classification_report(y_test, y_test_pred_cl))\n",
        "\n",
        "print(\"\\nScaled:\")\n",
        "print(metrics.classification_report(y_test, y_test_pred_cl_scaled))"
      ],
      "metadata": {
        "colab": {
          "base_uri": "https://localhost:8080/"
        },
        "id": "P7QO207l_chG",
        "outputId": "1b24ea85-6cda-4561-d715-8eec402690be"
      },
      "execution_count": null,
      "outputs": [
        {
          "output_type": "stream",
          "name": "stdout",
          "text": [
            "Non-scaled:\n",
            "              precision    recall  f1-score   support\n",
            "\n",
            "           0       0.76      1.00      0.86        34\n",
            "           1       0.00      0.00      0.00        11\n",
            "\n",
            "    accuracy                           0.76        45\n",
            "   macro avg       0.38      0.50      0.43        45\n",
            "weighted avg       0.57      0.76      0.65        45\n",
            "\n",
            "\n",
            "Scaled:\n",
            "              precision    recall  f1-score   support\n",
            "\n",
            "           0       0.88      0.88      0.88        34\n",
            "           1       0.64      0.64      0.64        11\n",
            "\n",
            "    accuracy                           0.82        45\n",
            "   macro avg       0.76      0.76      0.76        45\n",
            "weighted avg       0.82      0.82      0.82        45\n",
            "\n"
          ]
        },
        {
          "output_type": "stream",
          "name": "stderr",
          "text": [
            "/usr/local/lib/python3.7/dist-packages/sklearn/metrics/_classification.py:1318: UndefinedMetricWarning: Precision and F-score are ill-defined and being set to 0.0 in labels with no predicted samples. Use `zero_division` parameter to control this behavior.\n",
            "  _warn_prf(average, modifier, msg_start, len(result))\n",
            "/usr/local/lib/python3.7/dist-packages/sklearn/metrics/_classification.py:1318: UndefinedMetricWarning: Precision and F-score are ill-defined and being set to 0.0 in labels with no predicted samples. Use `zero_division` parameter to control this behavior.\n",
            "  _warn_prf(average, modifier, msg_start, len(result))\n",
            "/usr/local/lib/python3.7/dist-packages/sklearn/metrics/_classification.py:1318: UndefinedMetricWarning: Precision and F-score are ill-defined and being set to 0.0 in labels with no predicted samples. Use `zero_division` parameter to control this behavior.\n",
            "  _warn_prf(average, modifier, msg_start, len(result))\n"
          ]
        }
      ]
    },
    {
      "cell_type": "code",
      "source": [],
      "metadata": {
        "id": "eUAKGenWnFAj"
      },
      "execution_count": null,
      "outputs": []
    }
  ]
}