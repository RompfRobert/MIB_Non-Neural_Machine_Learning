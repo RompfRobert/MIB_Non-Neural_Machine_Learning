{
  "nbformat": 4,
  "nbformat_minor": 0,
  "metadata": {
    "colab": {
      "provenance": [],
      "collapsed_sections": []
    },
    "kernelspec": {
      "name": "python3",
      "display_name": "Python 3"
    },
    "language_info": {
      "name": "python"
    }
  },
  "cells": [
    {
      "cell_type": "markdown",
      "metadata": {
        "id": "iDgj9NZy1BHj"
      },
      "source": [
        "# Prologue - Welcome to the course!"
      ]
    },
    {
      "cell_type": "markdown",
      "metadata": {
        "id": "KgH8OPb_1HhJ"
      },
      "source": [
        "Course name: Deep Learning"
      ]
    },
    {
      "cell_type": "markdown",
      "metadata": {
        "id": "n0TkZj1M1XeE"
      },
      "source": [
        "##Goals of the course\n",
        "\n",
        "This course aims to give an introduction to **deep learning**. The primary objective is to provide participants with a **theoretical** overview and equip them with key **intuitions** and basic **technical skills** to start their work in applied deep learning modeling.\n",
        "\n",
        "Due to time limitations, the vast size of this field and the dynamically evolving nature of our scientific understanding and of the available tools, considerable amount of **further work** is needed by the participants later on to hone their skills and understanding. The course material contains frequent pointers to further readings and information sources that can guide the students on their later journey."
      ]
    },
    {
      "cell_type": "markdown",
      "metadata": {
        "id": "ki9YtbVs5W-q"
      },
      "source": [
        "## Logistics\n",
        "\n",
        "Sessions incorporate **\"Theory + Practical implementation\"** and a **\"Task\"** type of session. The Theory + Practical implementation part serves to lay the theoretical foundations for understanding the topic, and to impart the practical knowledge for the implementation of the relevant solutions. The Task part of sessions centers on tasks relevant for the theoretical material and the course participants themselves must implement the solutions in Python (and its multitude of libraries) based on the Practical implementations presented and discussed.\n",
        "\n",
        "The course is delivered online, but is based on in-person attendance. The completion of the tasks can be either individual or cooperative. **Interaction with the instructors about the problems is always** *strongly* **encouraged** (in both the practical, as well as the theoretical parts of the sessions)."
      ]
    },
    {
      "cell_type": "markdown",
      "metadata": {
        "id": "uqD7zMiP58Vh"
      },
      "source": [
        "### Course requirements and assessment\n",
        "\n",
        "Assessment is based on course work in the form of a home assignment.\n",
        "\n",
        "### Home assignment\n",
        "\n",
        "Course participants will need to submit a home assignment in the form of an individual mini-project the end of the course. The mini-project will be based on the regular lab-like practice assignments in class, but will necessitate the incorporation of multiple solutions and considerations relating to data pipelines. The assignment will have to be prepared and submitted in a jupyter notebook, as well as a PDF version of the notebook in addition.\n",
        "\n"
      ]
    },
    {
      "cell_type": "markdown",
      "metadata": {
        "id": "CfVc4nRK-_FF"
      },
      "source": [
        "## Course structure\n",
        "\n",
        "1. \n",
        "  * History and motivation from classical learning method\n",
        "  * Perceptron, learning rule\n",
        "2. \n",
        "  * Neural Networks, Backpropagation, Gradient descent, Gradient descent variants\n",
        "  * Activation functions\n",
        "  * Initialization, regularization\n",
        "  * Hyperparameters and learning rate schedules\n",
        "3. \n",
        "  * Computer vision in general\n",
        "  * Convolution, Pooling operators, Convnet architectures\n",
        "  * Visualization, Deconvolution\n",
        "4. \n",
        "  * Neural time series basics\n",
        "  * RNN basics, LSTM, GRU, LSTM representation, Seq2seq\n",
        "5.\n",
        "  * Bahdanau attention\n",
        "  * From attention to transformers\n",
        "  * Representation learning\n",
        "  * Transfer learning\n",
        "  * Reinforcement learning\n"
      ]
    },
    {
      "cell_type": "markdown",
      "metadata": {
        "id": "FsWrimbb_b0k"
      },
      "source": [
        "## What you will need to successfully complete the course (and subsequently use what you've learned)\n",
        "\n",
        "* **attend the sessions**:\n",
        "    * you will get to know and understand the theory and see how it is applied in practice;\n",
        "    * you will get the chance to see how well you can practically implement the various solutions;\n",
        "    * you will get the chance to interact with the tutors and the other students, thereby gaining a deeper understanding of the material.\n",
        "        * You can and should take the opportunity to ask the tutors about _any_ points --- be they theoretical or practical --- about which you are unsure!\n",
        "\n",
        "* **practice**:\n",
        "    * The course is similar to a maths course inasmuch as you not only need to **understand the theory**, you must also be able to **apply it in practice**. It is one thing to **passively** understand the material, and a completely other thing to **actively** implement it!\n",
        "    * Just as in the case of maths, the practice that can fit into the sessions is just the **bare minimum** for being able to solve the kind of tasks the course is about. You are encouraged to practise relevant tasks as much as you can!\n",
        "\n",
        "* **develop the skill to independently discover solutions to your problems**\n",
        "    * checking the docstrings and/or the documentation (or even the github issues pages) of the functions and packages you use\n",
        "    * https://stackoverflow.com/ --- \"Every data scientist has a tab open to Stack Overflow\"\n",
        "    * perhaps _the_ most important skill as a data scientist you can have!"
      ]
    },
    {
      "cell_type": "markdown",
      "metadata": {
        "id": "Bd1FyHvV_n-9"
      },
      "source": [
        "## Some further notes"
      ]
    },
    {
      "cell_type": "markdown",
      "metadata": {
        "id": "36K7bu7m_sCx"
      },
      "source": [
        "### Primary channel of communication\n",
        "\n",
        "* By default, **communication is via the MS Teams team channel** --- you can post any questions you may have here, but of course you can direct message / email your tutors, too, if you feel more confident that way!\n"
      ]
    },
    {
      "cell_type": "markdown",
      "metadata": {
        "id": "-esyB8Ci_3SD"
      },
      "source": [
        "### Bug hunting\n",
        "\n",
        "* You can compete for the **\"Bug Hunter of the Week\"** title by finding any bugs, mistakes, typos in the notebooks!"
      ]
    }
  ]
}