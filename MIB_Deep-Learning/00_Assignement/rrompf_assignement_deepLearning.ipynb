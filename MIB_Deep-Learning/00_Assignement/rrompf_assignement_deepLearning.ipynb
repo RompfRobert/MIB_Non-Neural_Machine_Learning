{
 "cells": [
  {
   "cell_type": "markdown",
   "metadata": {},
   "source": [
    "# Home assignment - Deep Learning (ITLB359, MIB)\n",
    "---\n",
    "## Task description\n",
    "Challenge: Get the best results on the malaria dataset!\n",
    "\n",
    "> \"Malaria contains images from various cells. Some cells are infected with malaria, other cells are not. You can download the dataset. Each image is a different shape in 24-bit colour.\"\n",
    "\n",
    "### Your task is as follows:\n",
    "- Download the dataset from google drive like:\n",
    "```\n",
    "!wget \"https://drive.google.com/uc?id=1dl6KXbpRrUNrH5xC26MpYq3rHjOewUTF&export=download&authuser=0\" -O malaria.zip\n",
    "!unzip malaria.zip\n",
    "%cd malaria\n",
    "```\n",
    "- Convert from image dataset to NumPy array for training:\n",
    "```\n",
    "list_of_class1 = os.listdir(\"Parasitized\")\n",
    "list_of_class0 = os.listdir(\"Uninfected\")\n",
    "\n",
    "labels1 = np.ones(len(list_of_class1))\n",
    "labels0 = np.zeros(len(list_of_class0))\n",
    "labels = np.concatenate((labels1, labels0), axis=0)\n",
    "\n",
    "dataset = []\n",
    "dim = (100, 100)\n",
    "for img in list_of_class1:\n",
    "  image = cv2.imread(\"Parasitized/\" + str(img))\n",
    "  resized = cv2.resize(image, dim, interpolation = cv2.INTER_AREA)\n",
    "  dataset.append(resized)\n",
    "\n",
    "for img in list_of_class0:\n",
    "  image = cv2.imread(\"Uninfected/\" + str(img))\n",
    "  resized = cv2.resize(image, dim, interpolation = cv2.INTER_AREA)\n",
    "  dataset.append(resized)\n",
    "```\n",
    "- Split to training, validation and test sets.\n",
    "- Challenge: Get the best results on the malaria dataset!\n",
    "- The challenge of this task is to get the best results on the malaria dataset by tuning hyperparameters of a NN model and observing convergence behavior.\n",
    "- Best - for simplicity - means the highest accuracy on the validation set.\n",
    "- Reflection\n",
    "- Critically evaluate your work, including other approaches.\n",
    "- Answer in a markdown cell.\n",
    "\n",
    "Added constraint: The model with the \"best performance\" has to be saved, so it should not be just a printout happening once during training!\n",
    "\n",
    "**You may NOT manipulate the validation set (that is, you cannot pick and choose which samples belong to the validation set to make your model \"perform\" better on validation data)!**\n",
    "\n",
    "### Please observe the following:\n",
    "- You must use a single standalone Jupyter Notebook to solve the task and submit the .ipynb file.\n",
    "\n",
    "Note for those working on Google Colab: a link to your notebook will not suffice: you have to download and submit the file itself.\n",
    "Follow the principle of literate programming, and make use of the markdown cells of the notebook.\n",
    "### Deadline\n",
    "Please refer to the Moodle page of the module.\n",
    "### Assessment\n",
    "The assignment will be assessed based on the following criteria (see the grid on Moodle):\n",
    "- Specification fulfillment (50%) \n",
    "- Literate programming and markdown cells (20%) \n",
    "- Conceptual grounding (20%) \n",
    "- Clean code (10%) \n",
    "The **resit** arrangement for the assignment is the same as above; you may resubmit the same paper, with corrections, that you submitted by the original deadline. The resubmission deadline will be specified on Moodle after the grades for the original submission are published.\n",
    "\n",
    "Upload your file (.ipynb) to Moodle.\n",
    "\n",
    "### Academic conduct notice\n",
    "Where the Academic Conduct Officer has reason to suspect that a piece of work submitted by a student was wholly or in part written by someone other than the student who submitted it, and this has not been disclosed by the student, they may call for the student to defend the work in **viva or a written comprehension test**. The burden of proof in such a viva or test will be upon the student to demonstrate to the examination panel's satisfaction his/her full comprehension of the work s/he has submitted. Failure to appear without satisfactory explanation will result in immediate failure of that assessment, with consequences of academic misconduct and application of sanctions.\n",
    "___"
   ]
  },
  {
   "cell_type": "code",
   "execution_count": null,
   "metadata": {},
   "outputs": [],
   "source": [
    "# Download the dataset from google drive\n",
    "!wget \"https://drive.google.com/uc?id=1dl6KXbpRrUNrH5xC26MpYq3rHjOewUTF&export=download&authuser=0\" -O malaria.zip\n",
    "!unzip malaria.zip\n",
    "%cd malaria"
   ]
  },
  {
   "cell_type": "code",
   "execution_count": 1,
   "metadata": {},
   "outputs": [],
   "source": [
    "import os\n",
    "import numpy as np\n",
    "import pandas as pd"
   ]
  },
  {
   "cell_type": "code",
   "execution_count": null,
   "metadata": {},
   "outputs": [],
   "source": [
    "# Convert from image dataset to NumPy array for training\n",
    "list_of_class1 = os.listdir(\"Parasitized\")\n",
    "list_of_class0 = os.listdir(\"Uninfected\")\n",
    "\n",
    "labels1 = np.ones(len(list_of_class1))\n",
    "labels0 = np.zeros(len(list_of_class0))\n",
    "labels = np.concatenate((labels1, labels0), axis=0)\n",
    "\n",
    "dataset = []\n",
    "dim = (100, 100)\n",
    "for img in list_of_class1:\n",
    "  image = cv2.imread(\"Parasitized/\" + str(img))\n",
    "  resized = cv2.resize(image, dim, interpolation = cv2.INTER_AREA)\n",
    "  dataset.append(resized)\n",
    "\n",
    "for img in list_of_class0:\n",
    "  image = cv2.imread(\"Uninfected/\" + str(img))\n",
    "  resized = cv2.resize(image, dim, interpolation = cv2.INTER_AREA)\n",
    "  dataset.append(resized)"
   ]
  },
  {
   "cell_type": "code",
   "execution_count": null,
   "metadata": {},
   "outputs": [],
   "source": []
  },
  {
   "cell_type": "code",
   "execution_count": null,
   "metadata": {},
   "outputs": [],
   "source": []
  },
  {
   "cell_type": "code",
   "execution_count": null,
   "metadata": {},
   "outputs": [],
   "source": []
  }
 ],
 "metadata": {
  "kernelspec": {
   "display_name": "Python 3.10.8 ('.venv': venv)",
   "language": "python",
   "name": "python3"
  },
  "language_info": {
   "codemirror_mode": {
    "name": "ipython",
    "version": 3
   },
   "file_extension": ".py",
   "mimetype": "text/x-python",
   "name": "python",
   "nbconvert_exporter": "python",
   "pygments_lexer": "ipython3",
   "version": "3.10.8"
  },
  "orig_nbformat": 4,
  "vscode": {
   "interpreter": {
    "hash": "89791ddec1184deb491cd589ad66a73c1a01a4134e9964d91212505dde408c65"
   }
  }
 },
 "nbformat": 4,
 "nbformat_minor": 2
}
