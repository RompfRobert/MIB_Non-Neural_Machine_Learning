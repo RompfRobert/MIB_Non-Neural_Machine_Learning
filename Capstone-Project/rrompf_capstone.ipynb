{
 "cells": [
  {
   "cell_type": "markdown",
   "metadata": {
    "id": "hG4SKZcmuzSa"
   },
   "source": [
    "# Coding project\n",
    "\n",
    "> The coding project (alternatively, “dissertation” or “capstone project”) is a major piece of written work\n",
    "that concludes a graduate degree study programme. This does not mean however that you would be \n",
    "required to write a dissertation identical to the written piece of work to be submitted by students on \n",
    "the other MSc programmes. In effect, instead of a classic theory-based dissertation, the purpose of the \n",
    "Coding Project should rather be to test your ability to resolve a problem with data analysis and data \n",
    "science tools based on relevant input data, with the output of the project including the relevant codes, \n",
    "their explanation, and a reflective account on how you completed the project.\n",
    "\n",
    " ## Task description\n",
    "\n",
    " The project will be based on the regular lab-like practice assignments in MIB Data Analytics 1-2 and MIB Big Data and Machine Learning, but will necessitate the incorporation of multiple solutions and considerations relating to data pipelines. Like in real life data science project, you need to use tools, pipelines which we interiorized previous courses. From analysing through classical machine learning models until deep learning models, you need to use these tools, for analysing and prediction. \n",
    "\n",
    "\n",
    "The task is open ended, which means that, e.g., it's up to you decide which variables you use and how, of course, and how you encode them, what models to use, etc.\n",
    "\n",
    "Please make sure to at least browse through the Coding Project Handbook (on Moodle). You will see that you are required to not simply do the modelling, but reflect on the steps you take and the results you get, and ideally not just on the final performance.\n",
    "\n",
    "## Dataset\n",
    "\n",
    "\n",
    "You have the choice to work on **either the dataset and task provided** (soil moisture modelling), **or on data from and task for a company** you are working for.\n",
    "\n",
    "If you choose to work on a company project, please make sure to clarify with your company if they need a confidentiality agreement (there is a sample on the Moodle page, but you can use your company's own NDA, instead, ofcourse), and get consent to use it in your project (you can find a template for a letter of confirmation and consent in Appendix 1 of the Coding Project Handbook on Moodle).\n",
    "\n",
    "> Important: You DON'T have to upload any data to Moodle or anywhere. You only have to submit the thesis (and your .ipynb).\n",
    "\n"
   ]
  },
  {
   "cell_type": "markdown",
   "metadata": {
    "id": "RwITCj98klfk"
   },
   "source": [
    "\n",
    "### Modeling soil moisture\n",
    "\n",
    "Task: to predict **soil moisture values (variable BF10) 30 days ahead**.\n",
    "\n",
    "> Clarification: this means that you have to forecast ONE value for each sample, and that is for the day that is 30 days down the line. E.g., for 7th April, you would be making a forecast for the 7th May.\n",
    "\n",
    "\n",
    "[Soil and weather variables in the German city of Münster](https://drive.google.com/uc?export=download&id=173tvWt-qPyAqZJc1KoBiUHgoSg6nLUtT)\n",
    "\n",
    "*(Data source: [DWD](https://www.dwd.de/EN/ourservices/cdc/cdc_ueberblick-klimadaten_en.html))*\n",
    "\n",
    "* TT_TER and RF_TER variables are measured three times a day.\n",
    "* VGSL, TS05, BF10 are calculated once a day. The daily values are filled into each hour of the relevant day in the .csv datafile.\n",
    "\n",
    "Make sure to go through all the steps of a modelling process, documenting and supporting the steps you take.\n",
    "\n",
    "### Columns of the dataset:\n",
    "\n",
    "**DATUM**: The datetime column\n",
    "\n",
    "**STATIONS_ID**\tDWD weather station ID\n",
    "  * 1766 = Münster/Osnabrück\n",
    "\n",
    "**QN_4**: quality level of TT_TER and RF_TER columns\n",
    "  * 1- only formal control during decoding and import\n",
    "  * 2- controlled with individually defined criteria\n",
    "  * 3- ROUTINE control with QUALIMET and QCSY\n",
    "  * 5- historic, subjective procedures\n",
    "  * 7- ROUTINE control, not yet corrected\n",
    "  * 8- quality control outside ROUTINE\n",
    "  * 9- ROUTINE control, not all parameters corrected\n",
    "  * 10- ROUTINE control finished, respective corrections finished\n",
    "\n",
    "**TT_TER**: air temperature\n",
    "\n",
    "**RF_TER**: relative humidty\n",
    "\n",
    "**VGSL**: real evapotranspiration over gras and sandy loam (mm)\n",
    "\n",
    "**TS05**: mean daily soil temperature in 5 cm depth for uncovered typical soil (°C)\n",
    "\n",
    "**BF10**: soil moisture under\n",
    "grass and sandy loam\n",
    "between 0 and 10 cm\n",
    "depth in % plant useable\n",
    "water (%nFK)"
   ]
  },
  {
   "cell_type": "markdown",
   "metadata": {
    "id": "G2ulP8S8Q4Kw"
   },
   "source": [
    "## Formal requirements\n",
    "Formal requirements and other informations are available on Moodle in the \"Coding Project Handbook\".\n"
   ]
  },
  {
   "cell_type": "markdown",
   "metadata": {
    "id": "WkTLhAWpukGi"
   },
   "source": [
    "## Data downloading"
   ]
  },
  {
   "cell_type": "code",
   "execution_count": null,
   "metadata": {
    "id": "JDwzsZ4jkeAM"
   },
   "outputs": [],
   "source": [
    "!wget https://drive.google.com/uc?export=download&id=173tvWt-qPyAqZJc1KoBiUHgoSg6nLUtT"
   ]
  },
  {
   "cell_type": "code",
   "execution_count": 21,
   "metadata": {},
   "outputs": [],
   "source": [
    "import numpy as np\n",
    "import pandas as pd\n",
    "import matplotlib.pyplot as plt\n",
    "from tensorflow.keras.models import Sequential\n",
    "from sklearn.model_selection import train_test_split\n",
    "from tensorflow.keras.layers import Flatten, Dense, Conv2D, MaxPool2D, LSTM\n",
    "from tensorflow.keras.callbacks import EarlyStopping"
   ]
  },
  {
   "cell_type": "code",
   "execution_count": 22,
   "metadata": {},
   "outputs": [
    {
     "data": {
      "text/html": [
       "<div>\n",
       "<style scoped>\n",
       "    .dataframe tbody tr th:only-of-type {\n",
       "        vertical-align: middle;\n",
       "    }\n",
       "\n",
       "    .dataframe tbody tr th {\n",
       "        vertical-align: top;\n",
       "    }\n",
       "\n",
       "    .dataframe thead th {\n",
       "        text-align: right;\n",
       "    }\n",
       "</style>\n",
       "<table border=\"1\" class=\"dataframe\">\n",
       "  <thead>\n",
       "    <tr style=\"text-align: right;\">\n",
       "      <th></th>\n",
       "      <th>DATUM</th>\n",
       "      <th>STATIONS_ID</th>\n",
       "      <th>QN_4</th>\n",
       "      <th>TT_TER</th>\n",
       "      <th>RF_TER</th>\n",
       "      <th>VGSL</th>\n",
       "      <th>TS05</th>\n",
       "      <th>BF10</th>\n",
       "    </tr>\n",
       "  </thead>\n",
       "  <tbody>\n",
       "    <tr>\n",
       "      <th>0</th>\n",
       "      <td>1991-01-01 07:00:00</td>\n",
       "      <td>1766</td>\n",
       "      <td>10</td>\n",
       "      <td>3.0</td>\n",
       "      <td>91.0</td>\n",
       "      <td>0.3</td>\n",
       "      <td>2.9</td>\n",
       "      <td>102</td>\n",
       "    </tr>\n",
       "    <tr>\n",
       "      <th>1</th>\n",
       "      <td>1991-01-01 14:00:00</td>\n",
       "      <td>1766</td>\n",
       "      <td>10</td>\n",
       "      <td>4.8</td>\n",
       "      <td>85.0</td>\n",
       "      <td>0.3</td>\n",
       "      <td>2.9</td>\n",
       "      <td>102</td>\n",
       "    </tr>\n",
       "    <tr>\n",
       "      <th>2</th>\n",
       "      <td>1991-01-01 21:00:00</td>\n",
       "      <td>1766</td>\n",
       "      <td>10</td>\n",
       "      <td>3.9</td>\n",
       "      <td>82.0</td>\n",
       "      <td>0.3</td>\n",
       "      <td>2.9</td>\n",
       "      <td>102</td>\n",
       "    </tr>\n",
       "    <tr>\n",
       "      <th>3</th>\n",
       "      <td>1991-01-02 07:00:00</td>\n",
       "      <td>1766</td>\n",
       "      <td>10</td>\n",
       "      <td>5.6</td>\n",
       "      <td>94.0</td>\n",
       "      <td>1.4</td>\n",
       "      <td>6.3</td>\n",
       "      <td>110</td>\n",
       "    </tr>\n",
       "    <tr>\n",
       "      <th>4</th>\n",
       "      <td>1991-01-02 14:00:00</td>\n",
       "      <td>1766</td>\n",
       "      <td>10</td>\n",
       "      <td>11.0</td>\n",
       "      <td>87.0</td>\n",
       "      <td>1.4</td>\n",
       "      <td>6.3</td>\n",
       "      <td>110</td>\n",
       "    </tr>\n",
       "    <tr>\n",
       "      <th>...</th>\n",
       "      <td>...</td>\n",
       "      <td>...</td>\n",
       "      <td>...</td>\n",
       "      <td>...</td>\n",
       "      <td>...</td>\n",
       "      <td>...</td>\n",
       "      <td>...</td>\n",
       "      <td>...</td>\n",
       "    </tr>\n",
       "    <tr>\n",
       "      <th>35667</th>\n",
       "      <td>2021-12-30 00:00:00</td>\n",
       "      <td>1766</td>\n",
       "      <td>1</td>\n",
       "      <td>11.6</td>\n",
       "      <td>90.0</td>\n",
       "      <td>0.8</td>\n",
       "      <td>9.4</td>\n",
       "      <td>104</td>\n",
       "    </tr>\n",
       "    <tr>\n",
       "      <th>35668</th>\n",
       "      <td>2021-12-30 06:00:00</td>\n",
       "      <td>1766</td>\n",
       "      <td>1</td>\n",
       "      <td>11.1</td>\n",
       "      <td>98.0</td>\n",
       "      <td>0.8</td>\n",
       "      <td>9.4</td>\n",
       "      <td>104</td>\n",
       "    </tr>\n",
       "    <tr>\n",
       "      <th>35669</th>\n",
       "      <td>2021-12-30 12:00:00</td>\n",
       "      <td>1766</td>\n",
       "      <td>1</td>\n",
       "      <td>14.3</td>\n",
       "      <td>83.0</td>\n",
       "      <td>0.8</td>\n",
       "      <td>9.4</td>\n",
       "      <td>104</td>\n",
       "    </tr>\n",
       "    <tr>\n",
       "      <th>35670</th>\n",
       "      <td>2021-12-30 18:00:00</td>\n",
       "      <td>1766</td>\n",
       "      <td>1</td>\n",
       "      <td>13.5</td>\n",
       "      <td>90.0</td>\n",
       "      <td>0.8</td>\n",
       "      <td>9.4</td>\n",
       "      <td>104</td>\n",
       "    </tr>\n",
       "    <tr>\n",
       "      <th>35671</th>\n",
       "      <td>2021-12-31 00:00:00</td>\n",
       "      <td>1766</td>\n",
       "      <td>1</td>\n",
       "      <td>13.8</td>\n",
       "      <td>83.0</td>\n",
       "      <td>0.8</td>\n",
       "      <td>10.5</td>\n",
       "      <td>101</td>\n",
       "    </tr>\n",
       "  </tbody>\n",
       "</table>\n",
       "<p>35672 rows × 8 columns</p>\n",
       "</div>"
      ],
      "text/plain": [
       "                    DATUM  STATIONS_ID  QN_4  TT_TER  RF_TER  VGSL  TS05  BF10\n",
       "0     1991-01-01 07:00:00         1766    10     3.0    91.0   0.3   2.9   102\n",
       "1     1991-01-01 14:00:00         1766    10     4.8    85.0   0.3   2.9   102\n",
       "2     1991-01-01 21:00:00         1766    10     3.9    82.0   0.3   2.9   102\n",
       "3     1991-01-02 07:00:00         1766    10     5.6    94.0   1.4   6.3   110\n",
       "4     1991-01-02 14:00:00         1766    10    11.0    87.0   1.4   6.3   110\n",
       "...                   ...          ...   ...     ...     ...   ...   ...   ...\n",
       "35667 2021-12-30 00:00:00         1766     1    11.6    90.0   0.8   9.4   104\n",
       "35668 2021-12-30 06:00:00         1766     1    11.1    98.0   0.8   9.4   104\n",
       "35669 2021-12-30 12:00:00         1766     1    14.3    83.0   0.8   9.4   104\n",
       "35670 2021-12-30 18:00:00         1766     1    13.5    90.0   0.8   9.4   104\n",
       "35671 2021-12-31 00:00:00         1766     1    13.8    83.0   0.8  10.5   101\n",
       "\n",
       "[35672 rows x 8 columns]"
      ]
     },
     "execution_count": 22,
     "metadata": {},
     "output_type": "execute_result"
    }
   ],
   "source": [
    "# Generate a seed for reproductibility\n",
    "random_seed = 69420\n",
    "np.random.seed(random_seed)\n",
    "\n",
    "df = pd.read_csv('munster_hourly.csv', parse_dates=[\"DATUM\"])\n",
    "df"
   ]
  },
  {
   "cell_type": "code",
   "execution_count": 23,
   "metadata": {},
   "outputs": [
    {
     "name": "stdout",
     "output_type": "stream",
     "text": [
      "<class 'pandas.core.frame.DataFrame'>\n",
      "RangeIndex: 35672 entries, 0 to 35671\n",
      "Data columns (total 8 columns):\n",
      " #   Column       Non-Null Count  Dtype         \n",
      "---  ------       --------------  -----         \n",
      " 0   DATUM        35672 non-null  datetime64[ns]\n",
      " 1   STATIONS_ID  35672 non-null  int64         \n",
      " 2   QN_4         35672 non-null  int64         \n",
      " 3   TT_TER       35672 non-null  float64       \n",
      " 4   RF_TER       35672 non-null  float64       \n",
      " 5   VGSL         35672 non-null  float64       \n",
      " 6   TS05         35672 non-null  float64       \n",
      " 7   BF10         35672 non-null  int64         \n",
      "dtypes: datetime64[ns](1), float64(4), int64(3)\n",
      "memory usage: 2.2 MB\n"
     ]
    }
   ],
   "source": [
    "df.info()"
   ]
  },
  {
   "cell_type": "code",
   "execution_count": 25,
   "metadata": {},
   "outputs": [
    {
     "data": {
      "text/plain": [
       "<matplotlib.collections.PathCollection at 0x7f7c0ffe92d0>"
      ]
     },
     "execution_count": 25,
     "metadata": {},
     "output_type": "execute_result"
    },
    {
     "data": {
      "image/png": "[encoded data removed]",
      "text/plain": [
       "<Figure size 1200x600 with 1 Axes>"
      ]
     },
     "metadata": {},
     "output_type": "display_data"
    }
   ],
   "source": [
    "plt.figure(figsize=(12,6))\n",
    "plt.scatter(df['DATUM'][:100], df['BF10'][:100])"
   ]
  },
  {
   "cell_type": "code",
   "execution_count": null,
   "metadata": {},
   "outputs": [],
   "source": []
  },
  {
   "cell_type": "code",
   "execution_count": null,
   "metadata": {},
   "outputs": [],
   "source": []
  },
  {
   "cell_type": "code",
   "execution_count": null,
   "metadata": {},
   "outputs": [],
   "source": []
  }
 ],
 "metadata": {
  "kernelspec": {
   "display_name": "Python 3.10.6 ('.venv': venv)",
   "language": "python",
   "name": "python3"
  },
  "language_info": {
   "codemirror_mode": {
    "name": "ipython",
    "version": 3
   },
   "file_extension": ".py",
   "mimetype": "text/x-python",
   "name": "python",
   "nbconvert_exporter": "python",
   "pygments_lexer": "ipython3",
   "version": "3.10.6"
  },
  "orig_nbformat": 4,
  "vscode": {
   "interpreter": {
    "hash": "915cc5e0ebf04087e118c17142a12e385e0fdec18568c066325949ee62d9a135"
   }
  }
 },
 "nbformat": 4,
 "nbformat_minor": 2
}
