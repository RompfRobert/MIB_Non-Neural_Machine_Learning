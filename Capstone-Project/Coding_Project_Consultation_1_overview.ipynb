{
  "cells": [
    {
      "cell_type": "markdown",
      "metadata": {
        "id": "RROh2U9j1bZW"
      },
      "source": [
        "#Capstone project overview"
      ]
    },
    {
      "cell_type": "markdown",
      "metadata": {
        "id": "P3wGK5S71f1u"
      },
      "source": [
        "## The task\n",
        "\n",
        "See Moodle page, or use data and project from your company that is of a similar complexity.\n",
        "\n",
        ">If you choose to work on a company project, please make sure to clarify with your company if they need a confidentiality agreement (there is a sample on the Moodle page, but you can use your company's own NDA, instead, of course), and get consent to use it in your project (you can find a template for a letter of confirmation and consent in Appendix 1 of the Coding Project Handbook on Moodle).\n"
      ]
    },
    {
      "cell_type": "markdown",
      "metadata": {
        "id": "YsnWHqbo1zlY"
      },
      "source": [
        "## Code and text\n",
        "\n",
        "Submit **one single PDF** (it’s nice if you also submit ipynb, but it’s optional). PDF should contain BOTH **code and text**!\n",
        "* OptionA: **work exclusively in ipynb**, and use markdown cells for the sections, text, tables etc. Generate PDF from ipynb at the end (page numbers can be added then; pay attention to collapsed cells if working on Google colab, though!).\n",
        "  * PDF generation: using [nbconvert](https://nbconvert.readthedocs.io/en/latest/) or print to PDF.\n",
        "* OptionB: prepare **text in a separate document, code in ipynb and copy-and-pasted into the text document**.\n",
        "  * Relevant parts of the code **copy-and pasted into the relevant sections** and parts of the text, or…\n",
        "  * …**entire code from ipynb in an appendix**. Important: especially in this case, the _code should also be structured_!\n"
      ]
    },
    {
      "cell_type": "markdown",
      "metadata": {
        "id": "YQC7gOBn2L7h"
      },
      "source": [
        "## Format, references etc.\n",
        "\n",
        "* Pay attention to **length requirement**: if you submit significantly shorter work than specified in the module handbook (e.g., only ~10 pages), you cannot get a pass grade!\n",
        "  * **Word count includes text AND code**, so given the amount of exploration, data cleaning and preparation, modelling, evaluation and reflection needed in the project, it’s easy to reach the required length.\n",
        "  * The text and code **should NOT be irrelevant** to the project, though! (Writing 5 pages on an irrelevant topic is not the way to satisfy the word count requirement!)\n",
        "* PDF must start with a **title page and declaration**!\n",
        "  * Working in ipynb, e.g., import them as images (see below).\n",
        "  * Or simply prepend image/pdf to generated PDF. (If you like, [even in Python](https://stackoverflow.com/questions/3444645/merge-pdf-files).)\n",
        "* ALWAYS **cite other works you use** (not just academic papers; URLs are fine, too, e.g., when using code snippets from stackoverflow). Do “**in-line citation**” where you use the material + **collect ALL references at the end** of the thesis under a dedicated “References” section!\n",
        "  * Levels of using other work:\n",
        "    * For **paraphrasing** or when only using ideas, a simple reference is fine.\n",
        "    * For **short word-for-word citations** from some source, use quotation marks (plus the reference of course).\n",
        "    * For **long word-for-word citations** from some source, use indentation and/or italics and/or smaller font, etc (plus the reference of course). Warning: _do NOT use more than a paragraph or two word-for-word from other sources!!! Paraphrase!_\n",
        "  * If possible, be consistent in your referencing style.\n",
        "* **Structure your work logically**, use sections, subsections.\n"
      ]
    },
    {
      "cell_type": "markdown",
      "metadata": {
        "id": "UDj7s2SX26pF"
      },
      "source": [
        "## Submission\n",
        "\n",
        "* Submission link will ONLY be open **once you answer the 3 reflective questions under “Coding Project title and final exam”** on Moodle first. → Pay attention to the **deadline** (last day of the teaching period), do not leave submission to the last minute!!!\n",
        "  * Bear in mind that there is a **minimum word limit** to these questions, too.\n",
        "* Submission of project itself:\n",
        "  * **Submit one single PDF, containing EVERYTHING** (text, plots, code). Optionally also submit the ipynb you worked on.\n",
        "  * **10MB file size limit** → probably won’t reach this limit, at most only if you generate / include a LOT of HIGH-resolution plots / images. You can reduce figure sizes if it seems that you runinto this issue.\n"
      ]
    },
    {
      "cell_type": "markdown",
      "metadata": {
        "id": "E4SUlLQH3Jjk"
      },
      "source": [
        "## Assessment criteria\n",
        "\n",
        "You have to _reach a pass mark on ALL criteria_ to get an overall pass grade.\n",
        "\n",
        "* **Approach adopted**: including how data were handled, the rationale for various decisions, and discussion of selecting particular approach and tools.\n",
        "* **Data science methodology**: appropriate techniques, exploratory and modelling steps, validation and conclusion.\n",
        "* **Coding**: purposefulness, quality, and elegance of the codes used.\n",
        "* **Reflexivity**: clarity of linkages between actions and outcomes, depth of reflections, identification of learning points for the future.\n",
        "* **Communication and presentation**: language and grammar, clear formatting, adept use of Jupyter and citations.\n",
        "\n",
        "Assessment procedure:\n",
        "* 2 readers do a detailed evaluation based on the criteria.\n",
        "* Checked by internal and external moderator.\n",
        "* Approved by Exam Board. \n",
        "  * → this is the point after which you get the results and the feedback.\n"
      ]
    },
    {
      "cell_type": "markdown",
      "metadata": {
        "id": "nVxjAkUGk55r"
      },
      "source": [
        "### In case you are unsuccessful...\n",
        "\n",
        "* You to enroll (=> also pay) for another semester. \n",
        "\n",
        "* Two ways to be unsuccessful:\n",
        "\n",
        "  * **If you don't submit a capstone project...**\n",
        "    * In the next semester >> you have to work on the task assigned in THAT NEW SEMESTER (can't resubmit your old, reworked project).\n",
        "    * But your Capstone Project **grade can be anything between 0-100%**.\n",
        "  * **If you submit your capstone project, but get fail mark...**\n",
        "    * In the next semester >> you can SUBMIT THE SAME PROJECT you worked on (after you corrected the problems with it, of course).\n",
        "    * But your Capstone Project **grade is capped at 50%!**"
      ]
    },
    {
      "cell_type": "markdown",
      "metadata": {
        "id": "uKs55_Q142Bj"
      },
      "source": [
        "# Capstone project structure\n"
      ]
    },
    {
      "cell_type": "markdown",
      "metadata": {
        "id": "Ix-7f5nu48BW"
      },
      "source": [
        "## Preliminary material\n",
        "\n",
        "* Title page (1 page) -- see below\n",
        "* Declaration (1 page)\n",
        "* (Acknowledgements)\n",
        "* Abstract (<300 words summary)\n",
        "* Table of contents -- see below"
      ]
    },
    {
      "cell_type": "markdown",
      "metadata": {
        "id": "G8S4j0sS49dn"
      },
      "source": [
        "## Introduction\n",
        "\n",
        "* Topic and goal of the project\n",
        "* Models to be used\n",
        "* Hypotheses, expectations\n"
      ]
    },
    {
      "cell_type": "markdown",
      "metadata": {
        "id": "FDF8lbFZ4_e2"
      },
      "source": [
        "## Description of the task\n",
        "\n",
        "* Specifying the goal of the project and describing the task.\n",
        "* Supervised/unsupervised, classification, regression, domain-specific, time series, etc.\n",
        "* The aspects of data preparation (e.g., train-test split and shuffling) and modelling to pay attention to given the task.\n"
      ]
    },
    {
      "cell_type": "markdown",
      "metadata": {
        "id": "EM6XKdKr5Ccw"
      },
      "source": [
        "## Exploratory data analysis\n",
        "\n",
        "### Taking stock of independent and target variables\n",
        "* Description, initial reasoning\n",
        "* Data types (e.g., datetime)\n",
        "* Sample/time step/pixel count, data dimensionality etc.\n",
        "* Descriptive statistics\n",
        "\n",
        "### Initial visualisations\n",
        "* Data- and variable-appropriate plots\n",
        "* Domain-specific explorations\n",
        "* Eg. time series: trend, periodicity etc.\n",
        "* Explore relationship between variables\n",
        "* Pairplots\n",
        "* With target: (Lagged) correlations, autocorrelation\n"
      ]
    },
    {
      "cell_type": "markdown",
      "metadata": {
        "id": "Z2PlqHJ55GT2"
      },
      "source": [
        "## Data preparation\n",
        "\n",
        "### Missing values\n",
        "\n",
        "* Exploration, reasoning about handling it etc.\n",
        "\n",
        "### Anomaly detection and solutions for outlier handling\n",
        "\n",
        "* Boxplots, z-values, etc.\n",
        "* Clipping, etc.\n",
        "\n",
        "### Feature engineering\n",
        "\n",
        "#### Feature encoding \n",
        "\n",
        "* e.g., cyclic encoding of temporal features, one-hot-encoding of categorical features etc.\n",
        "\n",
        "#### Feature selection, possible derived features, possible additional (e.g., time-related) features\n",
        "\n",
        "##### Reason about dropping a variable!\n",
        "* categorical… -> too many unique values, e.g. 1000 samples, 800 unique values, \n",
        "  * and no simple way to reduce category count.\n",
        "* Intuitively not important, e.g. ID tag.\n",
        "* Too many NA values, e.g., 800 NA out of 1000.\n",
        "* train models with and without and see which model performs best\n",
        "* explore the feature importances in different models\n",
        "* Linear reg.: coefficients (after scaling!)\n",
        "* RF: feature importances\n",
        "* L1 regularization\n",
        "* only use some for now, rest: “future work”\n",
        "\n",
        "Refer to EDA, e.g., correlations – but be aware of limitation (e.g., linear)!\n",
        "* High absolute correlation \n",
        "  * Useful for predicting target?\n",
        "  * Not useful, because information already present in other variable? -> reducing * multicollinearity, dimensionality reduction…\n",
        "* Forecasting task -> _Lagged_ correlations relevant.\n",
        "\n",
        "### Potential data normalisation\n",
        "\n",
        "* Standard/MinMax scaling, reasoning about for which model it’s needed etc.\n",
        "\n",
        "### Potential dimensionality reduction\n",
        "* E.g., PCA or LDA for modelling or visualisation, or UMAP for visualisation?\n",
        "\n",
        "### Potential resampling\n",
        "\n",
        "### Domain-specific data prep\n",
        "* E.g., detrending, deseasonalising, rolling aggregation for smoothing if needed.\n",
        "\n",
        "### Preparation of input and target data for modelling\n",
        "\n",
        "* Maybe use a pipeline.\n",
        "* Pay attention to shape of data needed for different models.\n",
        "* Reason about whether normalisation is vital for a model (e.g., neighbourhood/distance/density sensitive approaches, neural networks).\n",
        "* Train-valid-test split (or prepare for cross-validation). Shuffle true or false? --> Has to be the same for all models.\n"
      ]
    },
    {
      "cell_type": "markdown",
      "metadata": {
        "id": "rQhR-2bg5LSS"
      },
      "source": [
        "## Modelling, predictions\n",
        "\n",
        "### Deciding on goodness of fit criteria\n",
        "\n",
        "* _Task-appropriate_ metrics and visualisation to be applied in the evaluation of _all_ predictions.\n",
        "* Don’t forget to _inverse transform_ target when evaluating, if any prior transformations done (detrending, scaling etc.).\n",
        "* Classification metrics vs. regression metrics; description of metrics used.\n",
        "* Visualisation, inspection of _true and predicted values_ to see and reasoning about where issues lie.\n",
        "* _Train vs. out-of-sample_ performance comparison for each model.\n",
        "\n",
        "### Non-ML baselines\n",
        "\n",
        "* Non-machine-learning baselines, e.g., average, rolling average, last, etc.\n",
        "* Description of the baseline and evaluation.\n",
        "\n",
        "### Baseline ML models, e.g., linear/logistic regression\n",
        "\n",
        "* Description of the relevant model type and its values and limitations.\n",
        "* (Hyperparameter tuning / motivation of hyperparam choices if applicable.)\n",
        "* Evaluation.\n",
        "\n",
        "### More advanced ML models, generic and domain-specific\n",
        "\n",
        "* Description of the relevant model type and its values and limitations.\n",
        "* Hyperparameter tuning, motivation of hyperparam choices if applicable.\n",
        "* Evaluation."
      ]
    },
    {
      "cell_type": "markdown",
      "metadata": {
        "id": "D3e3mlhk5NC5"
      },
      "source": [
        "## Evaluation, reflection\n",
        "\n",
        "* Reasoning about and reflection on the results. \n",
        "* Compare to the goals and expectations.\n"
      ]
    },
    {
      "cell_type": "markdown",
      "metadata": {
        "id": "lz2wG0vo5OVX"
      },
      "source": [
        "## Conclusions\n",
        "\n",
        "* Conclusions, recommendations based on the results.\n",
        "* Limitations and identify work for further research.\n"
      ]
    },
    {
      "cell_type": "markdown",
      "metadata": {
        "id": "T7T7ScRz1X6v"
      },
      "source": [
        "\n",
        "## References\n",
        "\n",
        "```\n",
        "LeCun & Bengio (1995) Convolutional networks for images, speech, and time-series. _The handbook of brain theory and neural networks_ 3361 (10).\n",
        "\n",
        "https://stackoverflow.com/questions/30061902/how-to-handle-citations-in-ipython-notebook\n",
        "\n",
        "...\n",
        "```\n",
        "\n",
        "\n"
      ]
    },
    {
      "cell_type": "markdown",
      "metadata": {
        "id": "lBeyDosDoV31"
      },
      "source": [
        "## Appendix\n",
        "\n",
        "* E.g., code, or large tables etc.\n",
        "\n"
      ]
    },
    {
      "cell_type": "markdown",
      "metadata": {
        "id": "XKGTZTtv4jNd"
      },
      "source": [
        "# Appendix: some sample technical solutions in ipynb"
      ]
    },
    {
      "cell_type": "markdown",
      "metadata": {
        "id": "G8nD9jZKCDAz"
      },
      "source": [
        "## A solution to title page and declaration: embed image in markdown\n",
        "\n",
        "Convert your docx (or pdf) to an image (there are countless online tools if you don't have a program to do it on your own PC).\n",
        "\n",
        "Then use the markdown syntax `![](IMAGEPATH)` to embed it in a markdown cell."
      ]
    },
    {
      "cell_type": "markdown",
      "metadata": {
        "id": "jO-ynug_ICGm"
      },
      "source": [
        "(Note, below, I include the markdown code in the example, too. Naturally, you would just use the code itself, without the code block.)"
      ]
    },
    {
      "cell_type": "markdown",
      "metadata": {
        "id": "5PhznWoYBiqa"
      },
      "source": [
        "```markdown\n",
        "![](https://drive.google.com/uc?export=download&id=1DMNHIs5BZR9g08AJhA3DbdK-R1EFS-ka)\n",
        "```\n",
        "![](https://drive.google.com/uc?export=download&id=1DMNHIs5BZR9g08AJhA3DbdK-R1EFS-ka)"
      ]
    },
    {
      "cell_type": "markdown",
      "metadata": {
        "id": "GHA6PPdw5znR"
      },
      "source": [
        "```markdown\n",
        "![](https://drive.google.com/uc?export=download&id=1_zb-oXtlNvJonMyaa4ex6PtLYuMX0a58)\n",
        "```\n",
        "\n",
        "![](https://drive.google.com/uc?export=download&id=1_zb-oXtlNvJonMyaa4ex6PtLYuMX0a58)"
      ]
    },
    {
      "cell_type": "markdown",
      "metadata": {
        "id": "l0gUdhhdD2Dj"
      },
      "source": [
        "## A solution to table of contents"
      ]
    },
    {
      "cell_type": "markdown",
      "metadata": {
        "id": "Rsl4B--VD4X7"
      },
      "source": [
        "### A solution when using Google Colab\n",
        "\n",
        "Bring up the Command palette (e.g., hit Ctrl+Shift+P), search for table, then select \"Add table of contents cell\":\n",
        "\n",
        "![](https://drive.google.com/uc?export=download&id=1v6ncWwbh2KGOdG3GVUYNTwN40jUgqJ-x)\n",
        "\n",
        "This will automatically generate a table of contents from the headings (use `#`-syntax!) of your markdown cells."
      ]
    },
    {
      "cell_type": "markdown",
      "metadata": {
        "id": "weL5tGaKCa3H"
      },
      "source": [
        "### A solution for offline jupyter usage"
      ]
    },
    {
      "cell_type": "markdown",
      "metadata": {
        "id": "KnAUuMSvG4vI"
      },
      "source": [
        "E.g., put the following markdown code where ever you want your table of contents:\n",
        "\n",
        "```markdown\n",
        "<h1 id=\"tocheading\">Table of Contents</h1>\n",
        "<div id=\"toc\"></div>\n",
        "```\n",
        "\n",
        "Then put the following into a code cell anywhere in your notebook (preferable at the end, in some appendix), which will automatically populate the Table of Contents from the headings (use `#`-syntax!) of your markdown cells:\n",
        "\n",
        "```\n",
        "%%javascript\n",
        "$.getScript('https://kmahelona.github.io/ipython_notebook_goodies/ipython_notebook_toc.js')\n",
        "```"
      ]
    }
  ],
  "metadata": {
    "colab": {
      "collapsed_sections": [],
      "provenance": [],
      "toc_visible": true
    },
    "kernelspec": {
      "display_name": "Python 3.10.6 ('.venv': venv)",
      "language": "python",
      "name": "python3"
    },
    "language_info": {
      "name": "python",
      "version": "3.10.6"
    },
    "vscode": {
      "interpreter": {
        "hash": "d25534eb59e448589a4a5aad87c49c13e3bdddce89d2db63f381969f98310c1b"
      }
    }
  },
  "nbformat": 4,
  "nbformat_minor": 0
}
