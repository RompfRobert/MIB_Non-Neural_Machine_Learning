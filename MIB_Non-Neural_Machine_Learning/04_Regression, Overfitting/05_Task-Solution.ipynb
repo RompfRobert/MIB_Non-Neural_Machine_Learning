{
  "cells": [
    {
      "cell_type": "markdown",
      "metadata": {
        "id": "5T0xCfZI4fVy"
      },
      "source": [
        "# The dataset\n",
        "\n",
        "<img src=\"https://www.cityofames.org/Home/ShowImage?id=6334&t=635943415687730000\">\n",
        "\n",
        "(Image source: [City of Ames homepage](https://www.cityofames.org/about-ames))\n",
        "\n",
        "We will use the \"Ames Housing\" dataset that describes properties in Ames (Iowa) together with their estimated value.\n",
        "The list and explanation of all features can be found [here](https://ww2.amstat.org/publications/jse/v19n3/decock/DataDocumentation.txt), but we will concentrate only on a few columns, namely\n",
        "\n",
        "- Lot Area (Continuous): Lot size in square feet\n",
        "- Gr Liv Area (Continuous): Above grade (ground) living area square feet\n",
        "- Total Bsmt SF (Continuous): Total square feet of basement area\n",
        "- Garage Cars (Discrete): Size of garage in car capacity\n",
        "- Overall Qual (Ordinal): Rates the overall material and finish of the house\n",
        "- Overall Cond (Ordinal): Rates the overall condition of the house\n",
        "- SalePrice (Continuous): Sale price"
      ]
    },
    {
      "cell_type": "code",
      "execution_count": null,
      "metadata": {
        "ExecuteTime": {
          "end_time": "2018-10-31T10:43:57.755350Z",
          "start_time": "2018-10-31T10:43:54.878924Z"
        },
        "colab": {
          "base_uri": "https://localhost:8080/"
        },
        "id": "XILSN_HD4fV1",
        "outputId": "b19996f4-7d4d-4ced-9c13-55a918f4582e"
      },
      "outputs": [
        {
          "name": "stdout",
          "output_type": "stream",
          "text": [
            "--2022-03-07 11:45:45--  https://drive.google.com/uc?export=download&id=1PZT1MrswHXYuNUiYxRcPcBZe81uVdPM9\n",
            "Resolving drive.google.com (drive.google.com)... 172.217.13.78, 2607:f8b0:4004:808::200e\n",
            "Connecting to drive.google.com (drive.google.com)|172.217.13.78|:443... connected.\n",
            "HTTP request sent, awaiting response... 303 See Other\n",
            "Location: https://doc-04-bk-docs.googleusercontent.com/docs/securesc/ha0ro937gcuc7l7deffksulhg5h7mbp1/os7qpkh5dfsv55sga66ljplnp88l3ibf/1646653500000/07111638629254909344/*/1PZT1MrswHXYuNUiYxRcPcBZe81uVdPM9?e=download [following]\n",
            "Warning: wildcards not supported in HTTP.\n",
            "--2022-03-07 11:45:46--  https://doc-04-bk-docs.googleusercontent.com/docs/securesc/ha0ro937gcuc7l7deffksulhg5h7mbp1/os7qpkh5dfsv55sga66ljplnp88l3ibf/1646653500000/07111638629254909344/*/1PZT1MrswHXYuNUiYxRcPcBZe81uVdPM9?e=download\n",
            "Resolving doc-04-bk-docs.googleusercontent.com (doc-04-bk-docs.googleusercontent.com)... 142.250.65.65, 2607:f8b0:4004:832::2001\n",
            "Connecting to doc-04-bk-docs.googleusercontent.com (doc-04-bk-docs.googleusercontent.com)|142.250.65.65|:443... connected.\n",
            "HTTP request sent, awaiting response... 200 OK\n",
            "Length: 963738 (941K) [text/csv]\n",
            "Saving to: ‘AmesHousing.csv’\n",
            "\n",
            "AmesHousing.csv     100%[===================>] 941.15K  --.-KB/s    in 0.05s   \n",
            "\n",
            "2022-03-07 11:45:46 (19.1 MB/s) - ‘AmesHousing.csv’ saved [963738/963738]\n",
            "\n"
          ]
        }
      ],
      "source": [
        "! wget \"https://drive.google.com/uc?export=download&id=1PZT1MrswHXYuNUiYxRcPcBZe81uVdPM9\" -O AmesHousing.csv"
      ]
    },
    {
      "cell_type": "code",
      "execution_count": null,
      "metadata": {
        "ExecuteTime": {
          "end_time": "2018-10-31T10:43:58.044578Z",
          "start_time": "2018-10-31T10:43:57.761485Z"
        },
        "colab": {
          "base_uri": "https://localhost:8080/",
          "height": 317
        },
        "id": "nl8y3WBD4fV3",
        "outputId": "6a6509ca-7772-41ce-c378-4c9fdd945e16"
      },
      "outputs": [
        {
          "data": {
            "text/html": [
              "\n",
              "  <div id=\"df-a216ef2f-fd0d-42d8-a3c5-5489d3903f1d\">\n",
              "    <div class=\"colab-df-container\">\n",
              "      <div>\n",
              "<style scoped>\n",
              "    .dataframe tbody tr th:only-of-type {\n",
              "        vertical-align: middle;\n",
              "    }\n",
              "\n",
              "    .dataframe tbody tr th {\n",
              "        vertical-align: top;\n",
              "    }\n",
              "\n",
              "    .dataframe thead th {\n",
              "        text-align: right;\n",
              "    }\n",
              "</style>\n",
              "<table border=\"1\" class=\"dataframe\">\n",
              "  <thead>\n",
              "    <tr style=\"text-align: right;\">\n",
              "      <th></th>\n",
              "      <th>Order</th>\n",
              "      <th>PID</th>\n",
              "      <th>MS SubClass</th>\n",
              "      <th>MS Zoning</th>\n",
              "      <th>Lot Frontage</th>\n",
              "      <th>Lot Area</th>\n",
              "      <th>Street</th>\n",
              "      <th>Alley</th>\n",
              "      <th>Lot Shape</th>\n",
              "      <th>Land Contour</th>\n",
              "      <th>...</th>\n",
              "      <th>Pool Area</th>\n",
              "      <th>Pool QC</th>\n",
              "      <th>Fence</th>\n",
              "      <th>Misc Feature</th>\n",
              "      <th>Misc Val</th>\n",
              "      <th>Mo Sold</th>\n",
              "      <th>Yr Sold</th>\n",
              "      <th>Sale Type</th>\n",
              "      <th>Sale Condition</th>\n",
              "      <th>SalePrice</th>\n",
              "    </tr>\n",
              "  </thead>\n",
              "  <tbody>\n",
              "    <tr>\n",
              "      <th>0</th>\n",
              "      <td>1</td>\n",
              "      <td>526301100</td>\n",
              "      <td>20</td>\n",
              "      <td>RL</td>\n",
              "      <td>141.0</td>\n",
              "      <td>31770</td>\n",
              "      <td>Pave</td>\n",
              "      <td>NaN</td>\n",
              "      <td>IR1</td>\n",
              "      <td>Lvl</td>\n",
              "      <td>...</td>\n",
              "      <td>0</td>\n",
              "      <td>NaN</td>\n",
              "      <td>NaN</td>\n",
              "      <td>NaN</td>\n",
              "      <td>0</td>\n",
              "      <td>5</td>\n",
              "      <td>2010</td>\n",
              "      <td>WD</td>\n",
              "      <td>Normal</td>\n",
              "      <td>215000</td>\n",
              "    </tr>\n",
              "    <tr>\n",
              "      <th>1</th>\n",
              "      <td>2</td>\n",
              "      <td>526350040</td>\n",
              "      <td>20</td>\n",
              "      <td>RH</td>\n",
              "      <td>80.0</td>\n",
              "      <td>11622</td>\n",
              "      <td>Pave</td>\n",
              "      <td>NaN</td>\n",
              "      <td>Reg</td>\n",
              "      <td>Lvl</td>\n",
              "      <td>...</td>\n",
              "      <td>0</td>\n",
              "      <td>NaN</td>\n",
              "      <td>MnPrv</td>\n",
              "      <td>NaN</td>\n",
              "      <td>0</td>\n",
              "      <td>6</td>\n",
              "      <td>2010</td>\n",
              "      <td>WD</td>\n",
              "      <td>Normal</td>\n",
              "      <td>105000</td>\n",
              "    </tr>\n",
              "    <tr>\n",
              "      <th>2</th>\n",
              "      <td>3</td>\n",
              "      <td>526351010</td>\n",
              "      <td>20</td>\n",
              "      <td>RL</td>\n",
              "      <td>81.0</td>\n",
              "      <td>14267</td>\n",
              "      <td>Pave</td>\n",
              "      <td>NaN</td>\n",
              "      <td>IR1</td>\n",
              "      <td>Lvl</td>\n",
              "      <td>...</td>\n",
              "      <td>0</td>\n",
              "      <td>NaN</td>\n",
              "      <td>NaN</td>\n",
              "      <td>Gar2</td>\n",
              "      <td>12500</td>\n",
              "      <td>6</td>\n",
              "      <td>2010</td>\n",
              "      <td>WD</td>\n",
              "      <td>Normal</td>\n",
              "      <td>172000</td>\n",
              "    </tr>\n",
              "    <tr>\n",
              "      <th>3</th>\n",
              "      <td>4</td>\n",
              "      <td>526353030</td>\n",
              "      <td>20</td>\n",
              "      <td>RL</td>\n",
              "      <td>93.0</td>\n",
              "      <td>11160</td>\n",
              "      <td>Pave</td>\n",
              "      <td>NaN</td>\n",
              "      <td>Reg</td>\n",
              "      <td>Lvl</td>\n",
              "      <td>...</td>\n",
              "      <td>0</td>\n",
              "      <td>NaN</td>\n",
              "      <td>NaN</td>\n",
              "      <td>NaN</td>\n",
              "      <td>0</td>\n",
              "      <td>4</td>\n",
              "      <td>2010</td>\n",
              "      <td>WD</td>\n",
              "      <td>Normal</td>\n",
              "      <td>244000</td>\n",
              "    </tr>\n",
              "    <tr>\n",
              "      <th>4</th>\n",
              "      <td>5</td>\n",
              "      <td>527105010</td>\n",
              "      <td>60</td>\n",
              "      <td>RL</td>\n",
              "      <td>74.0</td>\n",
              "      <td>13830</td>\n",
              "      <td>Pave</td>\n",
              "      <td>NaN</td>\n",
              "      <td>IR1</td>\n",
              "      <td>Lvl</td>\n",
              "      <td>...</td>\n",
              "      <td>0</td>\n",
              "      <td>NaN</td>\n",
              "      <td>MnPrv</td>\n",
              "      <td>NaN</td>\n",
              "      <td>0</td>\n",
              "      <td>3</td>\n",
              "      <td>2010</td>\n",
              "      <td>WD</td>\n",
              "      <td>Normal</td>\n",
              "      <td>189900</td>\n",
              "    </tr>\n",
              "  </tbody>\n",
              "</table>\n",
              "<p>5 rows × 82 columns</p>\n",
              "</div>\n",
              "      <button class=\"colab-df-convert\" onclick=\"convertToInteractive('df-a216ef2f-fd0d-42d8-a3c5-5489d3903f1d')\"\n",
              "              title=\"Convert this dataframe to an interactive table.\"\n",
              "              style=\"display:none;\">\n",
              "        \n",
              "  <svg xmlns=\"http://www.w3.org/2000/svg\" height=\"24px\"viewBox=\"0 0 24 24\"\n",
              "       width=\"24px\">\n",
              "    <path d=\"M0 0h24v24H0V0z\" fill=\"none\"/>\n",
              "    <path d=\"M18.56 5.44l.94 2.06.94-2.06 2.06-.94-2.06-.94-.94-2.06-.94 2.06-2.06.94zm-11 1L8.5 8.5l.94-2.06 2.06-.94-2.06-.94L8.5 2.5l-.94 2.06-2.06.94zm10 10l.94 2.06.94-2.06 2.06-.94-2.06-.94-.94-2.06-.94 2.06-2.06.94z\"/><path d=\"M17.41 7.96l-1.37-1.37c-.4-.4-.92-.59-1.43-.59-.52 0-1.04.2-1.43.59L10.3 9.45l-7.72 7.72c-.78.78-.78 2.05 0 2.83L4 21.41c.39.39.9.59 1.41.59.51 0 1.02-.2 1.41-.59l7.78-7.78 2.81-2.81c.8-.78.8-2.07 0-2.86zM5.41 20L4 18.59l7.72-7.72 1.47 1.35L5.41 20z\"/>\n",
              "  </svg>\n",
              "      </button>\n",
              "      \n",
              "  <style>\n",
              "    .colab-df-container {\n",
              "      display:flex;\n",
              "      flex-wrap:wrap;\n",
              "      gap: 12px;\n",
              "    }\n",
              "\n",
              "    .colab-df-convert {\n",
              "      background-color: #E8F0FE;\n",
              "      border: none;\n",
              "      border-radius: 50%;\n",
              "      cursor: pointer;\n",
              "      display: none;\n",
              "      fill: #1967D2;\n",
              "      height: 32px;\n",
              "      padding: 0 0 0 0;\n",
              "      width: 32px;\n",
              "    }\n",
              "\n",
              "    .colab-df-convert:hover {\n",
              "      background-color: #E2EBFA;\n",
              "      box-shadow: 0px 1px 2px rgba(60, 64, 67, 0.3), 0px 1px 3px 1px rgba(60, 64, 67, 0.15);\n",
              "      fill: #174EA6;\n",
              "    }\n",
              "\n",
              "    [theme=dark] .colab-df-convert {\n",
              "      background-color: #3B4455;\n",
              "      fill: #D2E3FC;\n",
              "    }\n",
              "\n",
              "    [theme=dark] .colab-df-convert:hover {\n",
              "      background-color: #434B5C;\n",
              "      box-shadow: 0px 1px 3px 1px rgba(0, 0, 0, 0.15);\n",
              "      filter: drop-shadow(0px 1px 2px rgba(0, 0, 0, 0.3));\n",
              "      fill: #FFFFFF;\n",
              "    }\n",
              "  </style>\n",
              "\n",
              "      <script>\n",
              "        const buttonEl =\n",
              "          document.querySelector('#df-a216ef2f-fd0d-42d8-a3c5-5489d3903f1d button.colab-df-convert');\n",
              "        buttonEl.style.display =\n",
              "          google.colab.kernel.accessAllowed ? 'block' : 'none';\n",
              "\n",
              "        async function convertToInteractive(key) {\n",
              "          const element = document.querySelector('#df-a216ef2f-fd0d-42d8-a3c5-5489d3903f1d');\n",
              "          const dataTable =\n",
              "            await google.colab.kernel.invokeFunction('convertToInteractive',\n",
              "                                                     [key], {});\n",
              "          if (!dataTable) return;\n",
              "\n",
              "          const docLinkHtml = 'Like what you see? Visit the ' +\n",
              "            '<a target=\"_blank\" href=https://colab.research.google.com/notebooks/data_table.ipynb>data table notebook</a>'\n",
              "            + ' to learn more about interactive tables.';\n",
              "          element.innerHTML = '';\n",
              "          dataTable['output_type'] = 'display_data';\n",
              "          await google.colab.output.renderOutput(dataTable, element);\n",
              "          const docLink = document.createElement('div');\n",
              "          docLink.innerHTML = docLinkHtml;\n",
              "          element.appendChild(docLink);\n",
              "        }\n",
              "      </script>\n",
              "    </div>\n",
              "  </div>\n",
              "  "
            ],
            "text/plain": [
              "   Order        PID  MS SubClass MS Zoning  Lot Frontage  Lot Area Street  \\\n",
              "0      1  526301100           20        RL         141.0     31770   Pave   \n",
              "1      2  526350040           20        RH          80.0     11622   Pave   \n",
              "2      3  526351010           20        RL          81.0     14267   Pave   \n",
              "3      4  526353030           20        RL          93.0     11160   Pave   \n",
              "4      5  527105010           60        RL          74.0     13830   Pave   \n",
              "\n",
              "  Alley Lot Shape Land Contour  ... Pool Area Pool QC  Fence Misc Feature  \\\n",
              "0   NaN       IR1          Lvl  ...         0     NaN    NaN          NaN   \n",
              "1   NaN       Reg          Lvl  ...         0     NaN  MnPrv          NaN   \n",
              "2   NaN       IR1          Lvl  ...         0     NaN    NaN         Gar2   \n",
              "3   NaN       Reg          Lvl  ...         0     NaN    NaN          NaN   \n",
              "4   NaN       IR1          Lvl  ...         0     NaN  MnPrv          NaN   \n",
              "\n",
              "  Misc Val Mo Sold Yr Sold Sale Type  Sale Condition  SalePrice  \n",
              "0        0       5    2010       WD           Normal     215000  \n",
              "1        0       6    2010       WD           Normal     105000  \n",
              "2    12500       6    2010       WD           Normal     172000  \n",
              "3        0       4    2010       WD           Normal     244000  \n",
              "4        0       3    2010       WD           Normal     189900  \n",
              "\n",
              "[5 rows x 82 columns]"
            ]
          },
          "execution_count": 2,
          "metadata": {},
          "output_type": "execute_result"
        }
      ],
      "source": [
        "import numpy as np\n",
        "random_seed = 111222\n",
        "np.random.seed(random_seed) #This is good practice for reproducibiity\n",
        "\n",
        "import pandas as pd\n",
        "\n",
        "df = pd.read_csv(\"AmesHousing.csv\")\n",
        "\n",
        "df.head()"
      ]
    },
    {
      "cell_type": "code",
      "execution_count": null,
      "metadata": {
        "ExecuteTime": {
          "end_time": "2018-10-31T10:43:58.049870Z",
          "start_time": "2018-10-31T10:43:58.045955Z"
        },
        "colab": {
          "base_uri": "https://localhost:8080/"
        },
        "id": "FdmGKj-U4fV4",
        "outputId": "3cada0c5-4649-4506-f0e6-33f879754315"
      },
      "outputs": [
        {
          "data": {
            "text/plain": [
              "Index(['Order', 'PID', 'MS SubClass', 'MS Zoning', 'Lot Frontage', 'Lot Area',\n",
              "       'Street', 'Alley', 'Lot Shape', 'Land Contour', 'Utilities',\n",
              "       'Lot Config', 'Land Slope', 'Neighborhood', 'Condition 1',\n",
              "       'Condition 2', 'Bldg Type', 'House Style', 'Overall Qual',\n",
              "       'Overall Cond', 'Year Built', 'Year Remod/Add', 'Roof Style',\n",
              "       'Roof Matl', 'Exterior 1st', 'Exterior 2nd', 'Mas Vnr Type',\n",
              "       'Mas Vnr Area', 'Exter Qual', 'Exter Cond', 'Foundation', 'Bsmt Qual',\n",
              "       'Bsmt Cond', 'Bsmt Exposure', 'BsmtFin Type 1', 'BsmtFin SF 1',\n",
              "       'BsmtFin Type 2', 'BsmtFin SF 2', 'Bsmt Unf SF', 'Total Bsmt SF',\n",
              "       'Heating', 'Heating QC', 'Central Air', 'Electrical', '1st Flr SF',\n",
              "       '2nd Flr SF', 'Low Qual Fin SF', 'Gr Liv Area', 'Bsmt Full Bath',\n",
              "       'Bsmt Half Bath', 'Full Bath', 'Half Bath', 'Bedroom AbvGr',\n",
              "       'Kitchen AbvGr', 'Kitchen Qual', 'TotRms AbvGrd', 'Functional',\n",
              "       'Fireplaces', 'Fireplace Qu', 'Garage Type', 'Garage Yr Blt',\n",
              "       'Garage Finish', 'Garage Cars', 'Garage Area', 'Garage Qual',\n",
              "       'Garage Cond', 'Paved Drive', 'Wood Deck SF', 'Open Porch SF',\n",
              "       'Enclosed Porch', '3Ssn Porch', 'Screen Porch', 'Pool Area', 'Pool QC',\n",
              "       'Fence', 'Misc Feature', 'Misc Val', 'Mo Sold', 'Yr Sold', 'Sale Type',\n",
              "       'Sale Condition', 'SalePrice'],\n",
              "      dtype='object')"
            ]
          },
          "execution_count": 3,
          "metadata": {},
          "output_type": "execute_result"
        }
      ],
      "source": [
        "df.columns"
      ]
    },
    {
      "cell_type": "code",
      "execution_count": null,
      "metadata": {
        "ExecuteTime": {
          "end_time": "2018-10-31T10:43:58.064448Z",
          "start_time": "2018-10-31T10:43:58.051675Z"
        },
        "colab": {
          "base_uri": "https://localhost:8080/",
          "height": 206
        },
        "id": "3bnTkX6U4fV4",
        "outputId": "2c52a70d-7c44-45e4-8ddd-71ec142d0328"
      },
      "outputs": [
        {
          "data": {
            "text/html": [
              "\n",
              "  <div id=\"df-028d4795-8207-4c27-9ed5-f64c489ade4c\">\n",
              "    <div class=\"colab-df-container\">\n",
              "      <div>\n",
              "<style scoped>\n",
              "    .dataframe tbody tr th:only-of-type {\n",
              "        vertical-align: middle;\n",
              "    }\n",
              "\n",
              "    .dataframe tbody tr th {\n",
              "        vertical-align: top;\n",
              "    }\n",
              "\n",
              "    .dataframe thead th {\n",
              "        text-align: right;\n",
              "    }\n",
              "</style>\n",
              "<table border=\"1\" class=\"dataframe\">\n",
              "  <thead>\n",
              "    <tr style=\"text-align: right;\">\n",
              "      <th></th>\n",
              "      <th>Lot Area</th>\n",
              "      <th>Gr Liv Area</th>\n",
              "      <th>Total Bsmt SF</th>\n",
              "      <th>Overall Qual</th>\n",
              "      <th>Overall Cond</th>\n",
              "      <th>Garage Cars</th>\n",
              "      <th>SalePrice</th>\n",
              "    </tr>\n",
              "  </thead>\n",
              "  <tbody>\n",
              "    <tr>\n",
              "      <th>0</th>\n",
              "      <td>31770</td>\n",
              "      <td>1656</td>\n",
              "      <td>1080.0</td>\n",
              "      <td>6</td>\n",
              "      <td>5</td>\n",
              "      <td>2.0</td>\n",
              "      <td>215000</td>\n",
              "    </tr>\n",
              "    <tr>\n",
              "      <th>1</th>\n",
              "      <td>11622</td>\n",
              "      <td>896</td>\n",
              "      <td>882.0</td>\n",
              "      <td>5</td>\n",
              "      <td>6</td>\n",
              "      <td>1.0</td>\n",
              "      <td>105000</td>\n",
              "    </tr>\n",
              "    <tr>\n",
              "      <th>2</th>\n",
              "      <td>14267</td>\n",
              "      <td>1329</td>\n",
              "      <td>1329.0</td>\n",
              "      <td>6</td>\n",
              "      <td>6</td>\n",
              "      <td>1.0</td>\n",
              "      <td>172000</td>\n",
              "    </tr>\n",
              "    <tr>\n",
              "      <th>3</th>\n",
              "      <td>11160</td>\n",
              "      <td>2110</td>\n",
              "      <td>2110.0</td>\n",
              "      <td>7</td>\n",
              "      <td>5</td>\n",
              "      <td>2.0</td>\n",
              "      <td>244000</td>\n",
              "    </tr>\n",
              "    <tr>\n",
              "      <th>4</th>\n",
              "      <td>13830</td>\n",
              "      <td>1629</td>\n",
              "      <td>928.0</td>\n",
              "      <td>5</td>\n",
              "      <td>5</td>\n",
              "      <td>2.0</td>\n",
              "      <td>189900</td>\n",
              "    </tr>\n",
              "  </tbody>\n",
              "</table>\n",
              "</div>\n",
              "      <button class=\"colab-df-convert\" onclick=\"convertToInteractive('df-028d4795-8207-4c27-9ed5-f64c489ade4c')\"\n",
              "              title=\"Convert this dataframe to an interactive table.\"\n",
              "              style=\"display:none;\">\n",
              "        \n",
              "  <svg xmlns=\"http://www.w3.org/2000/svg\" height=\"24px\"viewBox=\"0 0 24 24\"\n",
              "       width=\"24px\">\n",
              "    <path d=\"M0 0h24v24H0V0z\" fill=\"none\"/>\n",
              "    <path d=\"M18.56 5.44l.94 2.06.94-2.06 2.06-.94-2.06-.94-.94-2.06-.94 2.06-2.06.94zm-11 1L8.5 8.5l.94-2.06 2.06-.94-2.06-.94L8.5 2.5l-.94 2.06-2.06.94zm10 10l.94 2.06.94-2.06 2.06-.94-2.06-.94-.94-2.06-.94 2.06-2.06.94z\"/><path d=\"M17.41 7.96l-1.37-1.37c-.4-.4-.92-.59-1.43-.59-.52 0-1.04.2-1.43.59L10.3 9.45l-7.72 7.72c-.78.78-.78 2.05 0 2.83L4 21.41c.39.39.9.59 1.41.59.51 0 1.02-.2 1.41-.59l7.78-7.78 2.81-2.81c.8-.78.8-2.07 0-2.86zM5.41 20L4 18.59l7.72-7.72 1.47 1.35L5.41 20z\"/>\n",
              "  </svg>\n",
              "      </button>\n",
              "      \n",
              "  <style>\n",
              "    .colab-df-container {\n",
              "      display:flex;\n",
              "      flex-wrap:wrap;\n",
              "      gap: 12px;\n",
              "    }\n",
              "\n",
              "    .colab-df-convert {\n",
              "      background-color: #E8F0FE;\n",
              "      border: none;\n",
              "      border-radius: 50%;\n",
              "      cursor: pointer;\n",
              "      display: none;\n",
              "      fill: #1967D2;\n",
              "      height: 32px;\n",
              "      padding: 0 0 0 0;\n",
              "      width: 32px;\n",
              "    }\n",
              "\n",
              "    .colab-df-convert:hover {\n",
              "      background-color: #E2EBFA;\n",
              "      box-shadow: 0px 1px 2px rgba(60, 64, 67, 0.3), 0px 1px 3px 1px rgba(60, 64, 67, 0.15);\n",
              "      fill: #174EA6;\n",
              "    }\n",
              "\n",
              "    [theme=dark] .colab-df-convert {\n",
              "      background-color: #3B4455;\n",
              "      fill: #D2E3FC;\n",
              "    }\n",
              "\n",
              "    [theme=dark] .colab-df-convert:hover {\n",
              "      background-color: #434B5C;\n",
              "      box-shadow: 0px 1px 3px 1px rgba(0, 0, 0, 0.15);\n",
              "      filter: drop-shadow(0px 1px 2px rgba(0, 0, 0, 0.3));\n",
              "      fill: #FFFFFF;\n",
              "    }\n",
              "  </style>\n",
              "\n",
              "      <script>\n",
              "        const buttonEl =\n",
              "          document.querySelector('#df-028d4795-8207-4c27-9ed5-f64c489ade4c button.colab-df-convert');\n",
              "        buttonEl.style.display =\n",
              "          google.colab.kernel.accessAllowed ? 'block' : 'none';\n",
              "\n",
              "        async function convertToInteractive(key) {\n",
              "          const element = document.querySelector('#df-028d4795-8207-4c27-9ed5-f64c489ade4c');\n",
              "          const dataTable =\n",
              "            await google.colab.kernel.invokeFunction('convertToInteractive',\n",
              "                                                     [key], {});\n",
              "          if (!dataTable) return;\n",
              "\n",
              "          const docLinkHtml = 'Like what you see? Visit the ' +\n",
              "            '<a target=\"_blank\" href=https://colab.research.google.com/notebooks/data_table.ipynb>data table notebook</a>'\n",
              "            + ' to learn more about interactive tables.';\n",
              "          element.innerHTML = '';\n",
              "          dataTable['output_type'] = 'display_data';\n",
              "          await google.colab.output.renderOutput(dataTable, element);\n",
              "          const docLink = document.createElement('div');\n",
              "          docLink.innerHTML = docLinkHtml;\n",
              "          element.appendChild(docLink);\n",
              "        }\n",
              "      </script>\n",
              "    </div>\n",
              "  </div>\n",
              "  "
            ],
            "text/plain": [
              "   Lot Area  Gr Liv Area  Total Bsmt SF  Overall Qual  Overall Cond  \\\n",
              "0     31770         1656         1080.0             6             5   \n",
              "1     11622          896          882.0             5             6   \n",
              "2     14267         1329         1329.0             6             6   \n",
              "3     11160         2110         2110.0             7             5   \n",
              "4     13830         1629          928.0             5             5   \n",
              "\n",
              "   Garage Cars  SalePrice  \n",
              "0          2.0     215000  \n",
              "1          1.0     105000  \n",
              "2          1.0     172000  \n",
              "3          2.0     244000  \n",
              "4          2.0     189900  "
            ]
          },
          "execution_count": 4,
          "metadata": {},
          "output_type": "execute_result"
        }
      ],
      "source": [
        "df = df[[\"Lot Area\", \"Gr Liv Area\", \"Total Bsmt SF\", \"Overall Qual\", \"Overall Cond\", \"Garage Cars\", \"SalePrice\"]]\n",
        "df.head()"
      ]
    },
    {
      "cell_type": "code",
      "execution_count": null,
      "metadata": {
        "ExecuteTime": {
          "end_time": "2018-10-31T10:43:58.103705Z",
          "start_time": "2018-10-31T10:43:58.066082Z"
        },
        "colab": {
          "base_uri": "https://localhost:8080/",
          "height": 206
        },
        "id": "QkX1LBWO4fV5",
        "outputId": "125bcdf3-af52-455e-a136-2313aac4294c"
      },
      "outputs": [
        {
          "data": {
            "text/html": [
              "\n",
              "  <div id=\"df-4207d54d-0d39-416b-9594-d534d2e4da9a\">\n",
              "    <div class=\"colab-df-container\">\n",
              "      <div>\n",
              "<style scoped>\n",
              "    .dataframe tbody tr th:only-of-type {\n",
              "        vertical-align: middle;\n",
              "    }\n",
              "\n",
              "    .dataframe tbody tr th {\n",
              "        vertical-align: top;\n",
              "    }\n",
              "\n",
              "    .dataframe thead th {\n",
              "        text-align: right;\n",
              "    }\n",
              "</style>\n",
              "<table border=\"1\" class=\"dataframe\">\n",
              "  <thead>\n",
              "    <tr style=\"text-align: right;\">\n",
              "      <th></th>\n",
              "      <th>lot_area</th>\n",
              "      <th>gr_liv_area</th>\n",
              "      <th>total_bsmt_sf</th>\n",
              "      <th>overall_qual</th>\n",
              "      <th>overall_cond</th>\n",
              "      <th>garage_cars</th>\n",
              "      <th>saleprice</th>\n",
              "    </tr>\n",
              "  </thead>\n",
              "  <tbody>\n",
              "    <tr>\n",
              "      <th>0</th>\n",
              "      <td>31770</td>\n",
              "      <td>1656</td>\n",
              "      <td>1080.0</td>\n",
              "      <td>6</td>\n",
              "      <td>5</td>\n",
              "      <td>2.0</td>\n",
              "      <td>215000</td>\n",
              "    </tr>\n",
              "    <tr>\n",
              "      <th>1</th>\n",
              "      <td>11622</td>\n",
              "      <td>896</td>\n",
              "      <td>882.0</td>\n",
              "      <td>5</td>\n",
              "      <td>6</td>\n",
              "      <td>1.0</td>\n",
              "      <td>105000</td>\n",
              "    </tr>\n",
              "    <tr>\n",
              "      <th>2</th>\n",
              "      <td>14267</td>\n",
              "      <td>1329</td>\n",
              "      <td>1329.0</td>\n",
              "      <td>6</td>\n",
              "      <td>6</td>\n",
              "      <td>1.0</td>\n",
              "      <td>172000</td>\n",
              "    </tr>\n",
              "    <tr>\n",
              "      <th>3</th>\n",
              "      <td>11160</td>\n",
              "      <td>2110</td>\n",
              "      <td>2110.0</td>\n",
              "      <td>7</td>\n",
              "      <td>5</td>\n",
              "      <td>2.0</td>\n",
              "      <td>244000</td>\n",
              "    </tr>\n",
              "    <tr>\n",
              "      <th>4</th>\n",
              "      <td>13830</td>\n",
              "      <td>1629</td>\n",
              "      <td>928.0</td>\n",
              "      <td>5</td>\n",
              "      <td>5</td>\n",
              "      <td>2.0</td>\n",
              "      <td>189900</td>\n",
              "    </tr>\n",
              "  </tbody>\n",
              "</table>\n",
              "</div>\n",
              "      <button class=\"colab-df-convert\" onclick=\"convertToInteractive('df-4207d54d-0d39-416b-9594-d534d2e4da9a')\"\n",
              "              title=\"Convert this dataframe to an interactive table.\"\n",
              "              style=\"display:none;\">\n",
              "        \n",
              "  <svg xmlns=\"http://www.w3.org/2000/svg\" height=\"24px\"viewBox=\"0 0 24 24\"\n",
              "       width=\"24px\">\n",
              "    <path d=\"M0 0h24v24H0V0z\" fill=\"none\"/>\n",
              "    <path d=\"M18.56 5.44l.94 2.06.94-2.06 2.06-.94-2.06-.94-.94-2.06-.94 2.06-2.06.94zm-11 1L8.5 8.5l.94-2.06 2.06-.94-2.06-.94L8.5 2.5l-.94 2.06-2.06.94zm10 10l.94 2.06.94-2.06 2.06-.94-2.06-.94-.94-2.06-.94 2.06-2.06.94z\"/><path d=\"M17.41 7.96l-1.37-1.37c-.4-.4-.92-.59-1.43-.59-.52 0-1.04.2-1.43.59L10.3 9.45l-7.72 7.72c-.78.78-.78 2.05 0 2.83L4 21.41c.39.39.9.59 1.41.59.51 0 1.02-.2 1.41-.59l7.78-7.78 2.81-2.81c.8-.78.8-2.07 0-2.86zM5.41 20L4 18.59l7.72-7.72 1.47 1.35L5.41 20z\"/>\n",
              "  </svg>\n",
              "      </button>\n",
              "      \n",
              "  <style>\n",
              "    .colab-df-container {\n",
              "      display:flex;\n",
              "      flex-wrap:wrap;\n",
              "      gap: 12px;\n",
              "    }\n",
              "\n",
              "    .colab-df-convert {\n",
              "      background-color: #E8F0FE;\n",
              "      border: none;\n",
              "      border-radius: 50%;\n",
              "      cursor: pointer;\n",
              "      display: none;\n",
              "      fill: #1967D2;\n",
              "      height: 32px;\n",
              "      padding: 0 0 0 0;\n",
              "      width: 32px;\n",
              "    }\n",
              "\n",
              "    .colab-df-convert:hover {\n",
              "      background-color: #E2EBFA;\n",
              "      box-shadow: 0px 1px 2px rgba(60, 64, 67, 0.3), 0px 1px 3px 1px rgba(60, 64, 67, 0.15);\n",
              "      fill: #174EA6;\n",
              "    }\n",
              "\n",
              "    [theme=dark] .colab-df-convert {\n",
              "      background-color: #3B4455;\n",
              "      fill: #D2E3FC;\n",
              "    }\n",
              "\n",
              "    [theme=dark] .colab-df-convert:hover {\n",
              "      background-color: #434B5C;\n",
              "      box-shadow: 0px 1px 3px 1px rgba(0, 0, 0, 0.15);\n",
              "      filter: drop-shadow(0px 1px 2px rgba(0, 0, 0, 0.3));\n",
              "      fill: #FFFFFF;\n",
              "    }\n",
              "  </style>\n",
              "\n",
              "      <script>\n",
              "        const buttonEl =\n",
              "          document.querySelector('#df-4207d54d-0d39-416b-9594-d534d2e4da9a button.colab-df-convert');\n",
              "        buttonEl.style.display =\n",
              "          google.colab.kernel.accessAllowed ? 'block' : 'none';\n",
              "\n",
              "        async function convertToInteractive(key) {\n",
              "          const element = document.querySelector('#df-4207d54d-0d39-416b-9594-d534d2e4da9a');\n",
              "          const dataTable =\n",
              "            await google.colab.kernel.invokeFunction('convertToInteractive',\n",
              "                                                     [key], {});\n",
              "          if (!dataTable) return;\n",
              "\n",
              "          const docLinkHtml = 'Like what you see? Visit the ' +\n",
              "            '<a target=\"_blank\" href=https://colab.research.google.com/notebooks/data_table.ipynb>data table notebook</a>'\n",
              "            + ' to learn more about interactive tables.';\n",
              "          element.innerHTML = '';\n",
              "          dataTable['output_type'] = 'display_data';\n",
              "          await google.colab.output.renderOutput(dataTable, element);\n",
              "          const docLink = document.createElement('div');\n",
              "          docLink.innerHTML = docLinkHtml;\n",
              "          element.appendChild(docLink);\n",
              "        }\n",
              "      </script>\n",
              "    </div>\n",
              "  </div>\n",
              "  "
            ],
            "text/plain": [
              "   lot_area  gr_liv_area  total_bsmt_sf  overall_qual  overall_cond  \\\n",
              "0     31770         1656         1080.0             6             5   \n",
              "1     11622          896          882.0             5             6   \n",
              "2     14267         1329         1329.0             6             6   \n",
              "3     11160         2110         2110.0             7             5   \n",
              "4     13830         1629          928.0             5             5   \n",
              "\n",
              "   garage_cars  saleprice  \n",
              "0          2.0     215000  \n",
              "1          1.0     105000  \n",
              "2          1.0     172000  \n",
              "3          2.0     244000  \n",
              "4          2.0     189900  "
            ]
          },
          "execution_count": 5,
          "metadata": {},
          "output_type": "execute_result"
        }
      ],
      "source": [
        "def normalize_columnname(h):\n",
        "    \"\"\"Normalize a column name by downcasing and replacing spaces with '_'.\n",
        "    \"\"\"\n",
        "    h = h.split()\n",
        "    h = \"_\".join(h)\n",
        "    return h.lower()\n",
        "\n",
        "df.rename(columns=normalize_columnname, inplace=True)\n",
        "df.rename(columns=str.lower, inplace=True)\n",
        "df.head()"
      ]
    },
    {
      "cell_type": "code",
      "execution_count": null,
      "metadata": {
        "ExecuteTime": {
          "end_time": "2018-10-31T10:43:58.135206Z",
          "start_time": "2018-10-31T10:43:58.105806Z"
        },
        "colab": {
          "base_uri": "https://localhost:8080/",
          "height": 300
        },
        "id": "4sgKE2Sa4fV5",
        "outputId": "3f445f39-aa70-46a2-b49f-76b316daded8"
      },
      "outputs": [
        {
          "data": {
            "text/html": [
              "\n",
              "  <div id=\"df-a7020ae7-5f8f-4dec-8663-f22f8e8d64ea\">\n",
              "    <div class=\"colab-df-container\">\n",
              "      <div>\n",
              "<style scoped>\n",
              "    .dataframe tbody tr th:only-of-type {\n",
              "        vertical-align: middle;\n",
              "    }\n",
              "\n",
              "    .dataframe tbody tr th {\n",
              "        vertical-align: top;\n",
              "    }\n",
              "\n",
              "    .dataframe thead th {\n",
              "        text-align: right;\n",
              "    }\n",
              "</style>\n",
              "<table border=\"1\" class=\"dataframe\">\n",
              "  <thead>\n",
              "    <tr style=\"text-align: right;\">\n",
              "      <th></th>\n",
              "      <th>lot_area</th>\n",
              "      <th>gr_liv_area</th>\n",
              "      <th>total_bsmt_sf</th>\n",
              "      <th>overall_qual</th>\n",
              "      <th>overall_cond</th>\n",
              "      <th>garage_cars</th>\n",
              "      <th>saleprice</th>\n",
              "    </tr>\n",
              "  </thead>\n",
              "  <tbody>\n",
              "    <tr>\n",
              "      <th>count</th>\n",
              "      <td>2930.000000</td>\n",
              "      <td>2930.000000</td>\n",
              "      <td>2929.000000</td>\n",
              "      <td>2930.000000</td>\n",
              "      <td>2930.000000</td>\n",
              "      <td>2929.000000</td>\n",
              "      <td>2930.000000</td>\n",
              "    </tr>\n",
              "    <tr>\n",
              "      <th>mean</th>\n",
              "      <td>10147.921843</td>\n",
              "      <td>1499.690444</td>\n",
              "      <td>1051.614544</td>\n",
              "      <td>6.094881</td>\n",
              "      <td>5.563140</td>\n",
              "      <td>1.766815</td>\n",
              "      <td>180796.060068</td>\n",
              "    </tr>\n",
              "    <tr>\n",
              "      <th>std</th>\n",
              "      <td>7880.017759</td>\n",
              "      <td>505.508887</td>\n",
              "      <td>440.615067</td>\n",
              "      <td>1.411026</td>\n",
              "      <td>1.111537</td>\n",
              "      <td>0.760566</td>\n",
              "      <td>79886.692357</td>\n",
              "    </tr>\n",
              "    <tr>\n",
              "      <th>min</th>\n",
              "      <td>1300.000000</td>\n",
              "      <td>334.000000</td>\n",
              "      <td>0.000000</td>\n",
              "      <td>1.000000</td>\n",
              "      <td>1.000000</td>\n",
              "      <td>0.000000</td>\n",
              "      <td>12789.000000</td>\n",
              "    </tr>\n",
              "    <tr>\n",
              "      <th>25%</th>\n",
              "      <td>7440.250000</td>\n",
              "      <td>1126.000000</td>\n",
              "      <td>793.000000</td>\n",
              "      <td>5.000000</td>\n",
              "      <td>5.000000</td>\n",
              "      <td>1.000000</td>\n",
              "      <td>129500.000000</td>\n",
              "    </tr>\n",
              "    <tr>\n",
              "      <th>50%</th>\n",
              "      <td>9436.500000</td>\n",
              "      <td>1442.000000</td>\n",
              "      <td>990.000000</td>\n",
              "      <td>6.000000</td>\n",
              "      <td>5.000000</td>\n",
              "      <td>2.000000</td>\n",
              "      <td>160000.000000</td>\n",
              "    </tr>\n",
              "    <tr>\n",
              "      <th>75%</th>\n",
              "      <td>11555.250000</td>\n",
              "      <td>1742.750000</td>\n",
              "      <td>1302.000000</td>\n",
              "      <td>7.000000</td>\n",
              "      <td>6.000000</td>\n",
              "      <td>2.000000</td>\n",
              "      <td>213500.000000</td>\n",
              "    </tr>\n",
              "    <tr>\n",
              "      <th>max</th>\n",
              "      <td>215245.000000</td>\n",
              "      <td>5642.000000</td>\n",
              "      <td>6110.000000</td>\n",
              "      <td>10.000000</td>\n",
              "      <td>9.000000</td>\n",
              "      <td>5.000000</td>\n",
              "      <td>755000.000000</td>\n",
              "    </tr>\n",
              "  </tbody>\n",
              "</table>\n",
              "</div>\n",
              "      <button class=\"colab-df-convert\" onclick=\"convertToInteractive('df-a7020ae7-5f8f-4dec-8663-f22f8e8d64ea')\"\n",
              "              title=\"Convert this dataframe to an interactive table.\"\n",
              "              style=\"display:none;\">\n",
              "        \n",
              "  <svg xmlns=\"http://www.w3.org/2000/svg\" height=\"24px\"viewBox=\"0 0 24 24\"\n",
              "       width=\"24px\">\n",
              "    <path d=\"M0 0h24v24H0V0z\" fill=\"none\"/>\n",
              "    <path d=\"M18.56 5.44l.94 2.06.94-2.06 2.06-.94-2.06-.94-.94-2.06-.94 2.06-2.06.94zm-11 1L8.5 8.5l.94-2.06 2.06-.94-2.06-.94L8.5 2.5l-.94 2.06-2.06.94zm10 10l.94 2.06.94-2.06 2.06-.94-2.06-.94-.94-2.06-.94 2.06-2.06.94z\"/><path d=\"M17.41 7.96l-1.37-1.37c-.4-.4-.92-.59-1.43-.59-.52 0-1.04.2-1.43.59L10.3 9.45l-7.72 7.72c-.78.78-.78 2.05 0 2.83L4 21.41c.39.39.9.59 1.41.59.51 0 1.02-.2 1.41-.59l7.78-7.78 2.81-2.81c.8-.78.8-2.07 0-2.86zM5.41 20L4 18.59l7.72-7.72 1.47 1.35L5.41 20z\"/>\n",
              "  </svg>\n",
              "      </button>\n",
              "      \n",
              "  <style>\n",
              "    .colab-df-container {\n",
              "      display:flex;\n",
              "      flex-wrap:wrap;\n",
              "      gap: 12px;\n",
              "    }\n",
              "\n",
              "    .colab-df-convert {\n",
              "      background-color: #E8F0FE;\n",
              "      border: none;\n",
              "      border-radius: 50%;\n",
              "      cursor: pointer;\n",
              "      display: none;\n",
              "      fill: #1967D2;\n",
              "      height: 32px;\n",
              "      padding: 0 0 0 0;\n",
              "      width: 32px;\n",
              "    }\n",
              "\n",
              "    .colab-df-convert:hover {\n",
              "      background-color: #E2EBFA;\n",
              "      box-shadow: 0px 1px 2px rgba(60, 64, 67, 0.3), 0px 1px 3px 1px rgba(60, 64, 67, 0.15);\n",
              "      fill: #174EA6;\n",
              "    }\n",
              "\n",
              "    [theme=dark] .colab-df-convert {\n",
              "      background-color: #3B4455;\n",
              "      fill: #D2E3FC;\n",
              "    }\n",
              "\n",
              "    [theme=dark] .colab-df-convert:hover {\n",
              "      background-color: #434B5C;\n",
              "      box-shadow: 0px 1px 3px 1px rgba(0, 0, 0, 0.15);\n",
              "      filter: drop-shadow(0px 1px 2px rgba(0, 0, 0, 0.3));\n",
              "      fill: #FFFFFF;\n",
              "    }\n",
              "  </style>\n",
              "\n",
              "      <script>\n",
              "        const buttonEl =\n",
              "          document.querySelector('#df-a7020ae7-5f8f-4dec-8663-f22f8e8d64ea button.colab-df-convert');\n",
              "        buttonEl.style.display =\n",
              "          google.colab.kernel.accessAllowed ? 'block' : 'none';\n",
              "\n",
              "        async function convertToInteractive(key) {\n",
              "          const element = document.querySelector('#df-a7020ae7-5f8f-4dec-8663-f22f8e8d64ea');\n",
              "          const dataTable =\n",
              "            await google.colab.kernel.invokeFunction('convertToInteractive',\n",
              "                                                     [key], {});\n",
              "          if (!dataTable) return;\n",
              "\n",
              "          const docLinkHtml = 'Like what you see? Visit the ' +\n",
              "            '<a target=\"_blank\" href=https://colab.research.google.com/notebooks/data_table.ipynb>data table notebook</a>'\n",
              "            + ' to learn more about interactive tables.';\n",
              "          element.innerHTML = '';\n",
              "          dataTable['output_type'] = 'display_data';\n",
              "          await google.colab.output.renderOutput(dataTable, element);\n",
              "          const docLink = document.createElement('div');\n",
              "          docLink.innerHTML = docLinkHtml;\n",
              "          element.appendChild(docLink);\n",
              "        }\n",
              "      </script>\n",
              "    </div>\n",
              "  </div>\n",
              "  "
            ],
            "text/plain": [
              "            lot_area  gr_liv_area  total_bsmt_sf  overall_qual  overall_cond  \\\n",
              "count    2930.000000  2930.000000    2929.000000   2930.000000   2930.000000   \n",
              "mean    10147.921843  1499.690444    1051.614544      6.094881      5.563140   \n",
              "std      7880.017759   505.508887     440.615067      1.411026      1.111537   \n",
              "min      1300.000000   334.000000       0.000000      1.000000      1.000000   \n",
              "25%      7440.250000  1126.000000     793.000000      5.000000      5.000000   \n",
              "50%      9436.500000  1442.000000     990.000000      6.000000      5.000000   \n",
              "75%     11555.250000  1742.750000    1302.000000      7.000000      6.000000   \n",
              "max    215245.000000  5642.000000    6110.000000     10.000000      9.000000   \n",
              "\n",
              "       garage_cars      saleprice  \n",
              "count  2929.000000    2930.000000  \n",
              "mean      1.766815  180796.060068  \n",
              "std       0.760566   79886.692357  \n",
              "min       0.000000   12789.000000  \n",
              "25%       1.000000  129500.000000  \n",
              "50%       2.000000  160000.000000  \n",
              "75%       2.000000  213500.000000  \n",
              "max       5.000000  755000.000000  "
            ]
          },
          "execution_count": 6,
          "metadata": {},
          "output_type": "execute_result"
        }
      ],
      "source": [
        "df.describe()"
      ]
    },
    {
      "cell_type": "code",
      "execution_count": null,
      "metadata": {
        "ExecuteTime": {
          "end_time": "2018-10-31T10:43:58.162629Z",
          "start_time": "2018-10-31T10:43:58.136696Z"
        },
        "colab": {
          "base_uri": "https://localhost:8080/",
          "height": 300
        },
        "id": "_zshOzYk4fV6",
        "outputId": "7d0ab23e-eded-4f90-9d8e-c169dcfaa061"
      },
      "outputs": [
        {
          "data": {
            "text/html": [
              "\n",
              "  <div id=\"df-429190fc-1d9a-452b-b177-ba6cb4008f47\">\n",
              "    <div class=\"colab-df-container\">\n",
              "      <div>\n",
              "<style scoped>\n",
              "    .dataframe tbody tr th:only-of-type {\n",
              "        vertical-align: middle;\n",
              "    }\n",
              "\n",
              "    .dataframe tbody tr th {\n",
              "        vertical-align: top;\n",
              "    }\n",
              "\n",
              "    .dataframe thead th {\n",
              "        text-align: right;\n",
              "    }\n",
              "</style>\n",
              "<table border=\"1\" class=\"dataframe\">\n",
              "  <thead>\n",
              "    <tr style=\"text-align: right;\">\n",
              "      <th></th>\n",
              "      <th>lot_area</th>\n",
              "      <th>gr_liv_area</th>\n",
              "      <th>total_bsmt_sf</th>\n",
              "      <th>overall_qual</th>\n",
              "      <th>overall_cond</th>\n",
              "      <th>garage_cars</th>\n",
              "      <th>saleprice</th>\n",
              "    </tr>\n",
              "  </thead>\n",
              "  <tbody>\n",
              "    <tr>\n",
              "      <th>count</th>\n",
              "      <td>2928.000000</td>\n",
              "      <td>2928.000000</td>\n",
              "      <td>2928.000000</td>\n",
              "      <td>2928.000000</td>\n",
              "      <td>2928.00000</td>\n",
              "      <td>2928.000000</td>\n",
              "      <td>2928.000000</td>\n",
              "    </tr>\n",
              "    <tr>\n",
              "      <th>mean</th>\n",
              "      <td>10149.730533</td>\n",
              "      <td>1499.784495</td>\n",
              "      <td>1051.680328</td>\n",
              "      <td>6.095970</td>\n",
              "      <td>5.56250</td>\n",
              "      <td>1.767077</td>\n",
              "      <td>180841.033811</td>\n",
              "    </tr>\n",
              "    <tr>\n",
              "      <th>std</th>\n",
              "      <td>7882.299902</td>\n",
              "      <td>505.522007</td>\n",
              "      <td>440.675942</td>\n",
              "      <td>1.410831</td>\n",
              "      <td>1.11157</td>\n",
              "      <td>0.760564</td>\n",
              "      <td>79889.904415</td>\n",
              "    </tr>\n",
              "    <tr>\n",
              "      <th>min</th>\n",
              "      <td>1300.000000</td>\n",
              "      <td>334.000000</td>\n",
              "      <td>0.000000</td>\n",
              "      <td>1.000000</td>\n",
              "      <td>1.00000</td>\n",
              "      <td>0.000000</td>\n",
              "      <td>12789.000000</td>\n",
              "    </tr>\n",
              "    <tr>\n",
              "      <th>25%</th>\n",
              "      <td>7440.750000</td>\n",
              "      <td>1126.000000</td>\n",
              "      <td>793.000000</td>\n",
              "      <td>5.000000</td>\n",
              "      <td>5.00000</td>\n",
              "      <td>1.000000</td>\n",
              "      <td>129500.000000</td>\n",
              "    </tr>\n",
              "    <tr>\n",
              "      <th>50%</th>\n",
              "      <td>9444.500000</td>\n",
              "      <td>1442.000000</td>\n",
              "      <td>990.000000</td>\n",
              "      <td>6.000000</td>\n",
              "      <td>5.00000</td>\n",
              "      <td>2.000000</td>\n",
              "      <td>160000.000000</td>\n",
              "    </tr>\n",
              "    <tr>\n",
              "      <th>75%</th>\n",
              "      <td>11556.000000</td>\n",
              "      <td>1742.250000</td>\n",
              "      <td>1302.000000</td>\n",
              "      <td>7.000000</td>\n",
              "      <td>6.00000</td>\n",
              "      <td>2.000000</td>\n",
              "      <td>213500.000000</td>\n",
              "    </tr>\n",
              "    <tr>\n",
              "      <th>max</th>\n",
              "      <td>215245.000000</td>\n",
              "      <td>5642.000000</td>\n",
              "      <td>6110.000000</td>\n",
              "      <td>10.000000</td>\n",
              "      <td>9.00000</td>\n",
              "      <td>5.000000</td>\n",
              "      <td>755000.000000</td>\n",
              "    </tr>\n",
              "  </tbody>\n",
              "</table>\n",
              "</div>\n",
              "      <button class=\"colab-df-convert\" onclick=\"convertToInteractive('df-429190fc-1d9a-452b-b177-ba6cb4008f47')\"\n",
              "              title=\"Convert this dataframe to an interactive table.\"\n",
              "              style=\"display:none;\">\n",
              "        \n",
              "  <svg xmlns=\"http://www.w3.org/2000/svg\" height=\"24px\"viewBox=\"0 0 24 24\"\n",
              "       width=\"24px\">\n",
              "    <path d=\"M0 0h24v24H0V0z\" fill=\"none\"/>\n",
              "    <path d=\"M18.56 5.44l.94 2.06.94-2.06 2.06-.94-2.06-.94-.94-2.06-.94 2.06-2.06.94zm-11 1L8.5 8.5l.94-2.06 2.06-.94-2.06-.94L8.5 2.5l-.94 2.06-2.06.94zm10 10l.94 2.06.94-2.06 2.06-.94-2.06-.94-.94-2.06-.94 2.06-2.06.94z\"/><path d=\"M17.41 7.96l-1.37-1.37c-.4-.4-.92-.59-1.43-.59-.52 0-1.04.2-1.43.59L10.3 9.45l-7.72 7.72c-.78.78-.78 2.05 0 2.83L4 21.41c.39.39.9.59 1.41.59.51 0 1.02-.2 1.41-.59l7.78-7.78 2.81-2.81c.8-.78.8-2.07 0-2.86zM5.41 20L4 18.59l7.72-7.72 1.47 1.35L5.41 20z\"/>\n",
              "  </svg>\n",
              "      </button>\n",
              "      \n",
              "  <style>\n",
              "    .colab-df-container {\n",
              "      display:flex;\n",
              "      flex-wrap:wrap;\n",
              "      gap: 12px;\n",
              "    }\n",
              "\n",
              "    .colab-df-convert {\n",
              "      background-color: #E8F0FE;\n",
              "      border: none;\n",
              "      border-radius: 50%;\n",
              "      cursor: pointer;\n",
              "      display: none;\n",
              "      fill: #1967D2;\n",
              "      height: 32px;\n",
              "      padding: 0 0 0 0;\n",
              "      width: 32px;\n",
              "    }\n",
              "\n",
              "    .colab-df-convert:hover {\n",
              "      background-color: #E2EBFA;\n",
              "      box-shadow: 0px 1px 2px rgba(60, 64, 67, 0.3), 0px 1px 3px 1px rgba(60, 64, 67, 0.15);\n",
              "      fill: #174EA6;\n",
              "    }\n",
              "\n",
              "    [theme=dark] .colab-df-convert {\n",
              "      background-color: #3B4455;\n",
              "      fill: #D2E3FC;\n",
              "    }\n",
              "\n",
              "    [theme=dark] .colab-df-convert:hover {\n",
              "      background-color: #434B5C;\n",
              "      box-shadow: 0px 1px 3px 1px rgba(0, 0, 0, 0.15);\n",
              "      filter: drop-shadow(0px 1px 2px rgba(0, 0, 0, 0.3));\n",
              "      fill: #FFFFFF;\n",
              "    }\n",
              "  </style>\n",
              "\n",
              "      <script>\n",
              "        const buttonEl =\n",
              "          document.querySelector('#df-429190fc-1d9a-452b-b177-ba6cb4008f47 button.colab-df-convert');\n",
              "        buttonEl.style.display =\n",
              "          google.colab.kernel.accessAllowed ? 'block' : 'none';\n",
              "\n",
              "        async function convertToInteractive(key) {\n",
              "          const element = document.querySelector('#df-429190fc-1d9a-452b-b177-ba6cb4008f47');\n",
              "          const dataTable =\n",
              "            await google.colab.kernel.invokeFunction('convertToInteractive',\n",
              "                                                     [key], {});\n",
              "          if (!dataTable) return;\n",
              "\n",
              "          const docLinkHtml = 'Like what you see? Visit the ' +\n",
              "            '<a target=\"_blank\" href=https://colab.research.google.com/notebooks/data_table.ipynb>data table notebook</a>'\n",
              "            + ' to learn more about interactive tables.';\n",
              "          element.innerHTML = '';\n",
              "          dataTable['output_type'] = 'display_data';\n",
              "          await google.colab.output.renderOutput(dataTable, element);\n",
              "          const docLink = document.createElement('div');\n",
              "          docLink.innerHTML = docLinkHtml;\n",
              "          element.appendChild(docLink);\n",
              "        }\n",
              "      </script>\n",
              "    </div>\n",
              "  </div>\n",
              "  "
            ],
            "text/plain": [
              "            lot_area  gr_liv_area  total_bsmt_sf  overall_qual  overall_cond  \\\n",
              "count    2928.000000  2928.000000    2928.000000   2928.000000    2928.00000   \n",
              "mean    10149.730533  1499.784495    1051.680328      6.095970       5.56250   \n",
              "std      7882.299902   505.522007     440.675942      1.410831       1.11157   \n",
              "min      1300.000000   334.000000       0.000000      1.000000       1.00000   \n",
              "25%      7440.750000  1126.000000     793.000000      5.000000       5.00000   \n",
              "50%      9444.500000  1442.000000     990.000000      6.000000       5.00000   \n",
              "75%     11556.000000  1742.250000    1302.000000      7.000000       6.00000   \n",
              "max    215245.000000  5642.000000    6110.000000     10.000000       9.00000   \n",
              "\n",
              "       garage_cars      saleprice  \n",
              "count  2928.000000    2928.000000  \n",
              "mean      1.767077  180841.033811  \n",
              "std       0.760564   79889.904415  \n",
              "min       0.000000   12789.000000  \n",
              "25%       1.000000  129500.000000  \n",
              "50%       2.000000  160000.000000  \n",
              "75%       2.000000  213500.000000  \n",
              "max       5.000000  755000.000000  "
            ]
          },
          "execution_count": 7,
          "metadata": {},
          "output_type": "execute_result"
        }
      ],
      "source": [
        "df.dropna(inplace=True)\n",
        "\n",
        "df.describe()"
      ]
    },
    {
      "cell_type": "markdown",
      "metadata": {
        "id": "7zsOkxig4fV7"
      },
      "source": [
        "# Dividing the data"
      ]
    },
    {
      "cell_type": "code",
      "execution_count": null,
      "metadata": {
        "ExecuteTime": {
          "end_time": "2018-10-31T10:43:58.339071Z",
          "start_time": "2018-10-31T10:43:58.164341Z"
        },
        "colab": {
          "base_uri": "https://localhost:8080/"
        },
        "id": "cPcThIEN4fV7",
        "outputId": "0c7ab0d0-2b19-494f-dc5a-80d958cec173"
      },
      "outputs": [
        {
          "name": "stdout",
          "output_type": "stream",
          "text": [
            "(2342, 7)\n",
            "(293, 7)\n",
            "(293, 7)\n"
          ]
        }
      ],
      "source": [
        "from sklearn.model_selection import train_test_split\n",
        "# This is THE gold standard, use it at all times!!!!!!\n",
        "\n",
        "\n",
        "\n",
        "df_train, df_validtest = train_test_split(df, test_size=0.2, random_state=random_seed)\n",
        "# The % param should be the task\n",
        "\n",
        "df_valid, df_test = train_test_split(df_validtest, test_size=0.5, random_state=random_seed)\n",
        "\n",
        "# df_train 0.8\n",
        "# df_validtest 0.2\n",
        "\n",
        "\n",
        "\n",
        "print(df_train.shape)\n",
        "print(df_valid.shape)\n",
        "print(df_test.shape)\n",
        "\n",
        "assert df_train.shape==(2342, 7)\n",
        "assert df_valid.shape==(293, 7)\n",
        "assert df_test.shape==(293, 7)\n"
      ]
    },
    {
      "cell_type": "markdown",
      "metadata": {
        "id": "hpGp4Gap4fV8"
      },
      "source": [
        "# Fitting a linear regression model"
      ]
    },
    {
      "cell_type": "code",
      "execution_count": null,
      "metadata": {
        "ExecuteTime": {
          "end_time": "2018-10-31T10:43:58.364368Z",
          "start_time": "2018-10-31T10:43:58.340333Z"
        },
        "colab": {
          "base_uri": "https://localhost:8080/"
        },
        "id": "pPfakpSs4fV8",
        "outputId": "906cd3ad-46c2-4edf-abbb-72d131f0333a"
      },
      "outputs": [
        {
          "data": {
            "text/plain": [
              "Pipeline(steps=[('scaler', StandardScaler()), ('lr', LinearRegression())])"
            ]
          },
          "execution_count": 9,
          "metadata": {},
          "output_type": "execute_result"
        }
      ],
      "source": [
        "from sklearn.preprocessing import StandardScaler\n",
        "from sklearn.linear_model import LinearRegression\n",
        "from sklearn.pipeline import Pipeline\n",
        "\n",
        "pipe = Pipeline(steps=[(\"scaler\", StandardScaler()), (\"lr\", LinearRegression())])\n",
        "\n",
        "pipe"
      ]
    },
    {
      "cell_type": "code",
      "execution_count": null,
      "metadata": {
        "ExecuteTime": {
          "end_time": "2018-10-31T10:43:58.396245Z",
          "start_time": "2018-10-31T10:43:58.365897Z"
        },
        "colab": {
          "base_uri": "https://localhost:8080/"
        },
        "id": "JdMc67mS4fV8",
        "outputId": "8da63284-d4bf-4f60-a5bc-2032e224608c"
      },
      "outputs": [
        {
          "data": {
            "text/plain": [
              "array([ 5745.50710428, 23254.21346451, 13694.16736287, 35903.63703616,\n",
              "        2094.51751137, 12857.60167802])"
            ]
          },
          "execution_count": 10,
          "metadata": {},
          "output_type": "execute_result"
        }
      ],
      "source": [
        "train_input = df_train.drop(\"saleprice\", axis=1)\n",
        "\n",
        "pipe.fit(train_input, df_train.saleprice)\n",
        "\n",
        "coefs = pipe.named_steps[\"lr\"].coef_\n",
        "assert round(coefs[0],4) == round(5745.50710428,4)\n",
        "assert round(coefs[-1],4) == round(12857.60167802,4)\n",
        "coefs"
      ]
    },
    {
      "cell_type": "code",
      "execution_count": null,
      "metadata": {
        "ExecuteTime": {
          "end_time": "2018-10-31T10:43:58.402175Z",
          "start_time": "2018-10-31T10:43:58.397962Z"
        },
        "colab": {
          "base_uri": "https://localhost:8080/"
        },
        "id": "PN8LU0664fV9",
        "outputId": "ee368d5c-105b-4f64-e585-cb79874d3f0b"
      },
      "outputs": [
        {
          "data": {
            "text/plain": [
              "[('overall_qual', 35903.63703616176),\n",
              " ('gr_liv_area', 23254.21346451011),\n",
              " ('total_bsmt_sf', 13694.167362874134),\n",
              " ('garage_cars', 12857.601678018198),\n",
              " ('lot_area', 5745.507104276569),\n",
              " ('overall_cond', 2094.517511367364)]"
            ]
          },
          "execution_count": 11,
          "metadata": {},
          "output_type": "execute_result"
        }
      ],
      "source": [
        "names_and_coefs = [(df.columns[i], coefs[i]) for i, _ in enumerate(coefs)]\n",
        "sorted(names_and_coefs, key=lambda x: x[1], reverse=True)"
      ]
    },
    {
      "cell_type": "code",
      "execution_count": null,
      "metadata": {
        "ExecuteTime": {
          "end_time": "2018-10-31T10:43:58.410522Z",
          "start_time": "2018-10-31T10:43:58.403769Z"
        },
        "colab": {
          "base_uri": "https://localhost:8080/"
        },
        "id": "KoYKQsR54fV9",
        "outputId": "f2751c24-09ca-47ad-c907-b3c6f907e38f"
      },
      "outputs": [
        {
          "data": {
            "text/plain": [
              "181944.80401366355"
            ]
          },
          "execution_count": 12,
          "metadata": {},
          "output_type": "execute_result"
        }
      ],
      "source": [
        "pipe.named_steps[\"lr\"].intercept_"
      ]
    },
    {
      "cell_type": "code",
      "execution_count": null,
      "metadata": {
        "ExecuteTime": {
          "end_time": "2018-10-31T10:43:58.418155Z",
          "start_time": "2018-10-31T10:43:58.412318Z"
        },
        "colab": {
          "base_uri": "https://localhost:8080/"
        },
        "id": "t4lCe3rN4fV-",
        "outputId": "a49f07c5-967d-4f4b-c32e-18b3601d959f"
      },
      "outputs": [
        {
          "name": "stdout",
          "output_type": "stream",
          "text": [
            "Train mean squared error: 1463930137.8194811\n",
            "Train mean abs. error: 24962.204115048527\n"
          ]
        }
      ],
      "source": [
        "train_lr_prediction = pipe.predict(train_input)\n",
        "from sklearn.metrics import mean_absolute_error, mean_squared_error\n",
        "print(\"Train mean squared error:\", mean_squared_error(df_train.saleprice, train_lr_prediction))\n",
        "print(\"Train mean abs. error:\", mean_absolute_error(df_train.saleprice, train_lr_prediction))"
      ]
    },
    {
      "cell_type": "code",
      "execution_count": null,
      "metadata": {
        "ExecuteTime": {
          "end_time": "2018-10-31T10:43:58.424951Z",
          "start_time": "2018-10-31T10:43:58.419511Z"
        },
        "colab": {
          "base_uri": "https://localhost:8080/"
        },
        "id": "3HCDByC84fV-",
        "outputId": "94fc03d2-21de-4f8f-e91f-debf979d3ca3"
      },
      "outputs": [
        {
          "name": "stdout",
          "output_type": "stream",
          "text": [
            "Valid mean abs. error: 23264.661376560987\n"
          ]
        }
      ],
      "source": [
        "valid_input = df_valid.drop(\"saleprice\", axis=1)\n",
        "\n",
        "valid_lr_prediction = pipe.predict(valid_input)             \n",
        "\n",
        "print(\"Valid mean abs. error:\", mean_absolute_error(df_valid.saleprice, valid_lr_prediction))"
      ]
    },
    {
      "cell_type": "markdown",
      "metadata": {
        "id": "9vdvAoXATQEg"
      },
      "source": [
        "# Regularized versions\n"
      ]
    },
    {
      "cell_type": "markdown",
      "metadata": {
        "id": "t243ZIg84fV_"
      },
      "source": [
        "\n",
        "## Ridge"
      ]
    },
    {
      "cell_type": "code",
      "execution_count": null,
      "metadata": {
        "ExecuteTime": {
          "end_time": "2018-10-31T10:43:58.436349Z",
          "start_time": "2018-10-31T10:43:58.426371Z"
        },
        "colab": {
          "base_uri": "https://localhost:8080/"
        },
        "id": "tH7BcRLg4fV_",
        "outputId": "b1cb4b08-7ebd-4526-9627-358ea7c3cdde"
      },
      "outputs": [
        {
          "data": {
            "text/plain": [
              "[('overall_qual', 25772.97082363602),\n",
              " ('gr_liv_area', 19764.50615135041),\n",
              " ('garage_cars', 14265.250254074763),\n",
              " ('total_bsmt_sf', 14126.034022848253),\n",
              " ('lot_area', 5169.265709223372),\n",
              " ('overall_cond', 798.3768940545815)]"
            ]
          },
          "execution_count": 15,
          "metadata": {},
          "output_type": "execute_result"
        }
      ],
      "source": [
        "from sklearn.linear_model import Ridge\n",
        "pipe = Pipeline(steps=[(\"scaler\", StandardScaler()), (\"ridge\", Ridge(alpha=1000.))])\n",
        "pipe.fit(train_input, df_train.saleprice)\n",
        "coefs = pipe.named_steps[\"ridge\"].coef_\n",
        "names_and_coefs = [(df.columns[i], coefs[i]) for i, _ in enumerate(coefs)]\n",
        "sorted(names_and_coefs, key=lambda x: x[1], reverse=True)"
      ]
    },
    {
      "cell_type": "code",
      "execution_count": null,
      "metadata": {
        "ExecuteTime": {
          "end_time": "2018-10-31T10:43:58.443870Z",
          "start_time": "2018-10-31T10:43:58.438166Z"
        },
        "colab": {
          "base_uri": "https://localhost:8080/"
        },
        "id": "chI0emJi4fV_",
        "outputId": "07a719df-0a36-4e98-ceb3-10247b680f7f"
      },
      "outputs": [
        {
          "name": "stdout",
          "output_type": "stream",
          "text": [
            "Train mean squared error: 1595399923.3196523\n",
            "Train mean abs. error: 24827.852793278067\n",
            "Valid mean abs. error: 23062.536489821778\n"
          ]
        }
      ],
      "source": [
        "train_ridge_prediction = pipe.predict(train_input)\n",
        "print(\"Train mean squared error:\", mean_squared_error(df_train.saleprice, train_ridge_prediction))\n",
        "print(\"Train mean abs. error:\", mean_absolute_error(df_train.saleprice, train_ridge_prediction))\n",
        "valid_ridge_prediction = pipe.predict(valid_input)             \n",
        "print(\"Valid mean abs. error:\", mean_absolute_error(df_valid.saleprice, valid_ridge_prediction))"
      ]
    },
    {
      "cell_type": "markdown",
      "metadata": {
        "id": "QtjdXZXS4fWA"
      },
      "source": [
        "## Lasso"
      ]
    },
    {
      "cell_type": "code",
      "execution_count": null,
      "metadata": {
        "ExecuteTime": {
          "end_time": "2018-10-31T10:43:58.452773Z",
          "start_time": "2018-10-31T10:43:58.445298Z"
        },
        "colab": {
          "base_uri": "https://localhost:8080/"
        },
        "id": "FfQxZCyD4fWA",
        "outputId": "e557650d-7d67-41df-c2e0-4e798454d9c9"
      },
      "outputs": [
        {
          "data": {
            "text/plain": [
              "[('overall_qual', 35004.25685848138),\n",
              " ('gr_liv_area', 22527.03881289466),\n",
              " ('total_bsmt_sf', 12363.419542632972),\n",
              " ('garage_cars', 11341.026357419278),\n",
              " ('lot_area', 3582.024126333946),\n",
              " ('overall_cond', 0.0)]"
            ]
          },
          "execution_count": 17,
          "metadata": {},
          "output_type": "execute_result"
        }
      ],
      "source": [
        "from sklearn.linear_model import Lasso\n",
        "pipe = Pipeline(steps=[(\"scaler\", StandardScaler()), (\"lasso\", Lasso(alpha=3000))])\n",
        "pipe.fit(train_input, df_train.saleprice)\n",
        "coefs = pipe.named_steps[\"lasso\"].coef_\n",
        "names_and_coefs = [(df.columns[i], coefs[i]) for i, _ in enumerate(coefs)]\n",
        "sorted(names_and_coefs, key=lambda x: x[1], reverse=True)"
      ]
    },
    {
      "cell_type": "code",
      "execution_count": null,
      "metadata": {
        "ExecuteTime": {
          "end_time": "2018-10-31T10:43:58.459299Z",
          "start_time": "2018-10-31T10:43:58.454325Z"
        },
        "colab": {
          "base_uri": "https://localhost:8080/"
        },
        "id": "ED8fSbi44fWB",
        "outputId": "99f34d89-2b4f-442c-af43-f49ce9013e30"
      },
      "outputs": [
        {
          "name": "stdout",
          "output_type": "stream",
          "text": [
            "Train mean squared error: 1486618001.701819\n",
            "Train mean abs. error: 24918.258066677205\n",
            "Valid mean abs. error: 23661.16664143386\n"
          ]
        }
      ],
      "source": [
        "train_lasso_prediction = pipe.predict(train_input)\n",
        "print(\"Train mean squared error:\", mean_squared_error(df_train.saleprice, train_lasso_prediction))\n",
        "print(\"Train mean abs. error:\", mean_absolute_error(df_train.saleprice, train_lasso_prediction))\n",
        "valid_lasso_prediction = pipe.predict(valid_input)             \n",
        "print(\"Valid mean abs. error:\", mean_absolute_error(df_valid.saleprice, valid_lasso_prediction))"
      ]
    },
    {
      "cell_type": "markdown",
      "metadata": {
        "collapsed": true,
        "id": "HqXxlFm54fWB"
      },
      "source": [
        "# Look at residuals\n",
        "\n",
        "(For more sophisticated inspection, use [Yellowbricks](http://www.scikit-yb.org/en/latest/index.html))"
      ]
    },
    {
      "cell_type": "code",
      "execution_count": null,
      "metadata": {
        "ExecuteTime": {
          "end_time": "2018-10-31T10:44:02.478346Z",
          "start_time": "2018-10-31T10:44:02.372404Z"
        },
        "colab": {
          "base_uri": "https://localhost:8080/",
          "height": 265
        },
        "id": "hezh4n7A4fWC",
        "outputId": "9535bc25-1ad0-49d6-9c89-f7723e24d398"
      },
      "outputs": [
        {
          "data": {
            "image/png": "[encoded data removed]",
            "text/plain": [
              "<Figure size 432x288 with 1 Axes>"
            ]
          },
          "metadata": {
            "needs_background": "light"
          },
          "output_type": "display_data"
        }
      ],
      "source": [
        "import matplotlib.pyplot as plt\n",
        "\n",
        "lasso_resid = df_valid.saleprice.values-valid_lasso_prediction\n",
        "\n",
        "plt.scatter(df_valid.saleprice.values, lasso_resid)\n",
        "plt.show()\n"
      ]
    }
  ],
  "metadata": {
    "colab": {
      "collapsed_sections": [],
      "provenance": [],
      "toc_visible": true
    },
    "kernelspec": {
      "display_name": "Python 3.10.8 64-bit (microsoft store)",
      "language": "python",
      "name": "python3"
    },
    "language_info": {
      "codemirror_mode": {
        "name": "ipython",
        "version": 3
      },
      "file_extension": ".py",
      "mimetype": "text/x-python",
      "name": "python",
      "nbconvert_exporter": "python",
      "pygments_lexer": "ipython3",
      "version": "3.10.8"
    },
    "toc": {
      "base_numbering": 1,
      "nav_menu": {},
      "number_sections": true,
      "sideBar": true,
      "skip_h1_title": false,
      "title_cell": "Table of Contents",
      "title_sidebar": "Contents",
      "toc_cell": false,
      "toc_position": {},
      "toc_section_display": true,
      "toc_window_display": false
    },
    "varInspector": {
      "cols": {
        "lenName": 16,
        "lenType": 16,
        "lenVar": 40
      },
      "kernels_config": {
        "python": {
          "delete_cmd_postfix": "",
          "delete_cmd_prefix": "del ",
          "library": "var_list.py",
          "varRefreshCmd": "print(var_dic_list())"
        },
        "r": {
          "delete_cmd_postfix": ") ",
          "delete_cmd_prefix": "rm(",
          "library": "var_list.r",
          "varRefreshCmd": "cat(var_dic_list()) "
        }
      },
      "types_to_exclude": [
        "module",
        "function",
        "builtin_function_or_method",
        "instance",
        "_Feature"
      ],
      "window_display": false
    },
    "vscode": {
      "interpreter": {
        "hash": "cbabb6a6661170c103e1200ae5be4d0ad3a85cf2c948ad02dfb30634516f0145"
      }
    }
  },
  "nbformat": 4,
  "nbformat_minor": 0
}
